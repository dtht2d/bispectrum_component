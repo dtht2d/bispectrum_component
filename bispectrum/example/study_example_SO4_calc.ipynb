{
  "nbformat": 4,
  "nbformat_minor": 0,
  "metadata": {
    "colab": {
      "provenance": [],
      "authorship_tag": "ABX9TyNJnUDk1RtwIIDGA7ujjJrV",
      "include_colab_link": true
    },
    "kernelspec": {
      "name": "python3",
      "display_name": "Python 3"
    },
    "language_info": {
      "name": "python"
    }
  },
  "cells": [
    {
      "cell_type": "markdown",
      "metadata": {
        "id": "view-in-github",
        "colab_type": "text"
      },
      "source": [
        "<a href=\"https://colab.research.google.com/github/dtht2d/bispectrum_component/blob/main/bispectrum/example/study_example_SO4_calc.ipynb\" target=\"_parent\"><img src=\"https://colab.research.google.com/assets/colab-badge.svg\" alt=\"Open In Colab\"/></a>"
      ]
    },
    {
      "cell_type": "markdown",
      "source": [
        "#Study different cases for calculation SO4"
      ],
      "metadata": {
        "id": "x6DMByOmbeDd"
      }
    },
    {
      "cell_type": "markdown",
      "source": [
        "### Import libraries"
      ],
      "metadata": {
        "id": "L68m57F4bqcY"
      }
    },
    {
      "cell_type": "code",
      "source": [
        "!pip install biopython"
      ],
      "metadata": {
        "colab": {
          "base_uri": "https://localhost:8080/"
        },
        "id": "tIaSu49MbtN_",
        "outputId": "e4b351e8-0b88-46b2-8b93-2854bf3a1341"
      },
      "execution_count": null,
      "outputs": [
        {
          "output_type": "stream",
          "name": "stdout",
          "text": [
            "Looking in indexes: https://pypi.org/simple, https://us-python.pkg.dev/colab-wheels/public/simple/\n",
            "Collecting biopython\n",
            "  Downloading biopython-1.81-cp310-cp310-manylinux_2_17_x86_64.manylinux2014_x86_64.whl (3.1 MB)\n",
            "\u001b[2K     \u001b[90m━━━━━━━━━━━━━━━━━━━━━━━━━━━━━━━━━━━━━━━━\u001b[0m \u001b[32m3.1/3.1 MB\u001b[0m \u001b[31m28.1 MB/s\u001b[0m eta \u001b[36m0:00:00\u001b[0m\n",
            "\u001b[?25hRequirement already satisfied: numpy in /usr/local/lib/python3.10/dist-packages (from biopython) (1.22.4)\n",
            "Installing collected packages: biopython\n",
            "Successfully installed biopython-1.81\n"
          ]
        }
      ]
    },
    {
      "cell_type": "code",
      "source": [
        "!pip install ipython-autotime\n",
        "%load_ext autotime"
      ],
      "metadata": {
        "colab": {
          "base_uri": "https://localhost:8080/"
        },
        "id": "O3-JSv0AbwzL",
        "outputId": "64d04067-45f3-410c-a6c9-29be698909a0"
      },
      "execution_count": null,
      "outputs": [
        {
          "output_type": "stream",
          "name": "stdout",
          "text": [
            "Looking in indexes: https://pypi.org/simple, https://us-python.pkg.dev/colab-wheels/public/simple/\n",
            "Collecting ipython-autotime\n",
            "  Downloading ipython_autotime-0.3.1-py2.py3-none-any.whl (6.8 kB)\n",
            "Requirement already satisfied: ipython in /usr/local/lib/python3.10/dist-packages (from ipython-autotime) (7.34.0)\n",
            "Requirement already satisfied: setuptools>=18.5 in /usr/local/lib/python3.10/dist-packages (from ipython->ipython-autotime) (67.7.2)\n",
            "Collecting jedi>=0.16 (from ipython->ipython-autotime)\n",
            "  Downloading jedi-0.18.2-py2.py3-none-any.whl (1.6 MB)\n",
            "\u001b[2K     \u001b[90m━━━━━━━━━━━━━━━━━━━━━━━━━━━━━━━━━━━━━━━━\u001b[0m \u001b[32m1.6/1.6 MB\u001b[0m \u001b[31m17.3 MB/s\u001b[0m eta \u001b[36m0:00:00\u001b[0m\n",
            "\u001b[?25hRequirement already satisfied: decorator in /usr/local/lib/python3.10/dist-packages (from ipython->ipython-autotime) (4.4.2)\n",
            "Requirement already satisfied: pickleshare in /usr/local/lib/python3.10/dist-packages (from ipython->ipython-autotime) (0.7.5)\n",
            "Requirement already satisfied: traitlets>=4.2 in /usr/local/lib/python3.10/dist-packages (from ipython->ipython-autotime) (5.7.1)\n",
            "Requirement already satisfied: prompt-toolkit!=3.0.0,!=3.0.1,<3.1.0,>=2.0.0 in /usr/local/lib/python3.10/dist-packages (from ipython->ipython-autotime) (3.0.38)\n",
            "Requirement already satisfied: pygments in /usr/local/lib/python3.10/dist-packages (from ipython->ipython-autotime) (2.14.0)\n",
            "Requirement already satisfied: backcall in /usr/local/lib/python3.10/dist-packages (from ipython->ipython-autotime) (0.2.0)\n",
            "Requirement already satisfied: matplotlib-inline in /usr/local/lib/python3.10/dist-packages (from ipython->ipython-autotime) (0.1.6)\n",
            "Requirement already satisfied: pexpect>4.3 in /usr/local/lib/python3.10/dist-packages (from ipython->ipython-autotime) (4.8.0)\n",
            "Requirement already satisfied: parso<0.9.0,>=0.8.0 in /usr/local/lib/python3.10/dist-packages (from jedi>=0.16->ipython->ipython-autotime) (0.8.3)\n",
            "Requirement already satisfied: ptyprocess>=0.5 in /usr/local/lib/python3.10/dist-packages (from pexpect>4.3->ipython->ipython-autotime) (0.7.0)\n",
            "Requirement already satisfied: wcwidth in /usr/local/lib/python3.10/dist-packages (from prompt-toolkit!=3.0.0,!=3.0.1,<3.1.0,>=2.0.0->ipython->ipython-autotime) (0.2.6)\n",
            "Installing collected packages: jedi, ipython-autotime\n",
            "Successfully installed ipython-autotime-0.3.1 jedi-0.18.2\n",
            "time: 668 µs (started: 2023-06-09 19:36:03 +00:00)\n"
          ]
        }
      ]
    },
    {
      "cell_type": "code",
      "execution_count": null,
      "metadata": {
        "colab": {
          "base_uri": "https://localhost:8080/"
        },
        "id": "UUVYFVHhbSiZ",
        "outputId": "fa2bd2ff-ac3b-4121-d69a-34bc25c976bd"
      },
      "outputs": [
        {
          "output_type": "stream",
          "name": "stdout",
          "text": [
            "time: 9.56 ms (started: 2023-06-09 20:18:05 +00:00)\n"
          ]
        }
      ],
      "source": [
        "import numpy as np\n",
        "import json\n",
        "import pandas as pd\n",
        "from Bio.PDB.MMCIF2Dict import MMCIF2Dict\n",
        "from typing import Dict\n",
        "\n",
        "fact_cache = {}\n",
        "def fact(n):\n",
        "    if n < 0 or not np.isclose(n, int(n)):\n",
        "        raise ValueError(\"Invalid input parameter: n must be a non-negative integer.\")\n",
        "    if n in fact_cache:\n",
        "        return fact_cache[n]\n",
        "    result = np.math.factorial(int(n))\n",
        "    fact_cache[n] = result\n",
        "    return result\n",
        "class Bispectrum:\n",
        "    \"\"\"\n",
        "    Calculate bispectrum- S(0)4 components\n",
        "    \"\"\"\n",
        "    def __init__(self, j, j1, j2 , params: Dict[str, np.ndarray]):\n",
        "        '''\n",
        "            j: j index\n",
        "            j1: j1 index\n",
        "            j2: j2 index\n",
        "            input_data: input data dictionary with extracted values:\n",
        "            r_ik (array): dictance from center atom to n neighbor atom, dim = [n,]\n",
        "            theta_0 (array): first angle of rotation [0, pi] , dim = [n,]\n",
        "            theta (array): second angle of rotation [0, pi], dim = [n,]\n",
        "            phi (array): third angle of rotation [0, 2pi], dim = [n,]\n",
        "            w_ik (array): weight coefficient, dim = [n,]\n",
        "            delta (array): delta function, dim = [n,]\n",
        "            r_cut (array): cutoff distance, dim = [n,]\n",
        "        '''\n",
        "        self.j = j\n",
        "        self.j1 = j1\n",
        "        self.j2 = j2\n",
        "        self.params = params\n",
        "        w_ik_array = self.params['w_ik']\n",
        "        delta_array = self.params['delta']\n",
        "        r_ik_array = self.params['r_ik']\n",
        "        r_cut_array = self.params['r_cut']\n",
        "        theta_0_array = self.params['theta_0']\n",
        "        theta_array = self.params['theta']\n",
        "        phi_array = self.params['phi']\n",
        "        #Condition check\n",
        "        if not (abs(j1 - j2) <= j <= j1 + j2 and j1 + j2 - j % 1 != 0.5):\n",
        "            raise ValueError(\"Invalid input parameters: j1, j2, j must satisfy the triangle inequality.\\ \"\n",
        "                             \"j1+j2-j must not be a half-integer\")\n",
        "        J = (j1 + j2 + j)\n",
        "        if J < (int(j1 + j2 + j)) and J < 0:\n",
        "            raise ValueError(\"Invalid input parameters: j1, j2, j must not exceed a positive integer J\")\n",
        "\n",
        "    @staticmethod\n",
        "    def generate_m_values(j, j1, j2):\n",
        "        \"\"\"\n",
        "        This function generates (m1, m2, m, m1p, m2p, mp) from input set (j1,j2,j)\n",
        "        and only keeps sets that satisfy the conditions.\n",
        "        Return: a one and only unique set (m1, m2, m, m1p, m2p, mp)\n",
        "        \"\"\"\n",
        "        J = j1 + j2 + j\n",
        "        # Condition 1\n",
        "        if not ((abs(j1 - j2) <= j <= j1 + j2) or isinstance(J, int) or (J >= 0)):\n",
        "            raise ValueError(\"Condition (1) is not satisfied.\")\n",
        "        # Condition 2\n",
        "        if not ((isinstance(val, int) or val >= 0 for val in [j + j1 - j2, j - j1 + j2, j1 + j2 - j])):\n",
        "            raise ValueError(\"(𝑗+𝑗1−𝑗2) and (𝑗−𝑗1+𝑗2) and (𝑗1+𝑗2−𝑗) and is non-negative integer\")\n",
        "        # Condition 3\n",
        "        if j1 > J or j2 > J or j > J:\n",
        "            raise ValueError(\"𝑗1,𝑗2,𝑗 not exceed a positive integer 𝐽=𝑗1+𝑗2+𝑗\")\n",
        "        # Generate m values\n",
        "        m1_vals = np.linspace(-j1, j1, int(2 * j1 + 1))\n",
        "        m2_vals = np.linspace(-j2, j2, int(2 * j2 + 1))\n",
        "        m_vals = np.linspace(-j, j, int(2 * j + 1))\n",
        "        mp_vals = m_vals.copy()\n",
        "        m1p_vals = m1_vals.copy()\n",
        "        m2p_vals = m2_vals.copy()\n",
        "        m1, m2, m, m1p, m2p, mp = np.meshgrid(m1_vals, m2_vals, m_vals, m1p_vals, m2p_vals, mp_vals)\n",
        "        s = np.stack((m1.ravel(), m2.ravel(), m.ravel(), m1p.ravel(), m2p.ravel(), mp.ravel()), axis=1)\n",
        "        keep_list = []\n",
        "        full_list = []\n",
        "        for i in range(len(s)):\n",
        "            full_list.append(s[i])\n",
        "            m1_val, m2_val, m_val, m1p_val, m2p_val, mp_val = s[i]\n",
        "            # Condition 4-8: Clebsch-Gordan calc for set (𝑗1,𝑗2,𝑗,𝑚1,𝑚2,𝑚), (𝑗1,𝑗2,𝑗,𝑚1p,𝑚2p,𝑚p)\n",
        "            c4 = [isinstance(val, (int, float)) and val % 0.5 == 0 for val in\n",
        "                  [m1_val, m2_val, m_val, m1p_val, m2p_val, mp_val]]\n",
        "            c5 = [isinstance(vals, int) and vals >= 0 for vals in\n",
        "                  [j1 + m1_val, j1 - m1_val, j2 + m2_val, j2 - m2_val, j + m_val, j - m_val]]\n",
        "            c5_p = [isinstance(vals, int) and vals >= 0 for vals in\n",
        "                    [j1 + m1p_val, j1 - m1p_val, j2 + m2p_val, j2 - m2p_val, j + mp_val, j - mp_val]]\n",
        "            c6 = [m1_val + m2_val == m_val and m1p_val + m2p_val == mp_val]\n",
        "            c7 = [abs(val) <= limit for val, limit in\n",
        "                  [(m1_val, j1), (m2_val, j2), (m_val, j), (m1p_val, j1), (m2p_val, j2), (mp_val, j)]]\n",
        "            c8 = [j2 + j + m1_val >= 0 and j1 - j2 - m_val >= 0 and isinstance(j2 + j + m1_val, int) and isinstance(\n",
        "                j1 - j2 - m_val, int)]\n",
        "            c8_p = [\n",
        "                j2 + j + m1p_val >= 0 and j1 - j2 - mp_val >= 0 and isinstance(j2 + j + m1p_val, int) and isinstance(\n",
        "                    j1 - j2 - mp_val, int)]\n",
        "            # Condition 9: Wigner-D calc\n",
        "            c9 = [isinstance(vals, int) and vals >= 0 for vals in [mp_val - m_val, m1p_val - m1_val, m2p_val - m2_val]]\n",
        "        if (c4) and (c5 and c5_p) and (c6) and (c7) and (c8 and c8_p) and (c9):\n",
        "            keep_list.append(s[i])\n",
        "        else:\n",
        "            pass\n",
        "        return keep_list, full_list\n",
        "    #Clebsch-Gordan Coefficient\n",
        "    @staticmethod\n",
        "    def clebsch_gordan(j1, j2, j, m1, m2, m):\n",
        "        \"\"\"\n",
        "        Definition:\n",
        "            A Clebsch-Gordan coefficients are vector addition coefficients. They play an important role in decomposition of\n",
        "            reducible representations of rotation. Let j1 and j2 with projections on m1 and m2 on the quantization axis.\n",
        "            The coefficients represent the probability amplitude that j1 and j2 are coupled into a resultant angular momentum\n",
        "            j with projection m.\n",
        "        Args:\n",
        "            j, j1, j2 (scalar): angular momentum\n",
        "            m, m1, m2 (scalar): eigenvalue of angular momentum j, j1, j2 respectively\n",
        "            mp, mp1, mp2 (scalar): eigenvalue of j, j1, j2 along rotated axis respectively\n",
        "        Returns: Clebsch-Gordan coefficients, real number\n",
        "        ==========================Reference==================================\n",
        "        [5] Chapter 8 D.A. Varshalovich, A.N. Moskalev, V.K Khersonskii,\n",
        "                Quantum Theory of Angular Momentum (1988)\n",
        "        [12] Chapter 3 Biedenharn, L., & Louck, J.D. ,\n",
        "                Encyclopedia of Mathematics and its Applications (1981)\n",
        "        \"\"\"\n",
        "        if m1 + m2 != m:\n",
        "            return 0.0  # delta function fails\n",
        "        prefactor = np.sqrt((2 * j + 1) * fact(j + j1 - j2) * fact(j - j1 + j2) * fact(j1 + j2 - j) / fact(j + j1 + j2 + 1))\n",
        "        coefficient = np.sqrt(fact(j + m) * fact(j - m) / (fact(j1 + m1) * fact(j1 - m1) * fact(j2 + m2) * fact(j2 - m2)))\n",
        "        sum = 0.0\n",
        "        smin = max(0, int(m1 - j1), int(j2 - j1 + m))\n",
        "        smax = min(int(j2 + j + m1), int(j - j1 + j2), int(j +m))\n",
        "        for s in range(smin, smax + 1):\n",
        "            den = fact(s) * fact(j - j1 + j2 - s) * fact(j + m - s) * fact(j1 - j2 - m + s)\n",
        "            num = ((-1) ** (j2 + m2 + s)) * fact(j2 + j + m1 - s) * fact(j1 - m1 + s)\n",
        "            sum += num / den\n",
        "        cg = prefactor * coefficient * sum\n",
        "        return cg\n",
        "    #Coupling Coefficient\n",
        "    @classmethod\n",
        "    def H(cls, j1, j2, j, m1, m2, m, m1p, m2p, mp):\n",
        "        CG = cls.clebsch_gordan(j1, j2, j, m1, m2, m)\n",
        "        CGp = cls.clebsch_gordan(j1, j2, j, m1p, m2p, mp)\n",
        "        H_coeff = CG * CGp\n",
        "        return H_coeff\n",
        "    @staticmethod\n",
        "    def compute_dsmall(j, m, mp, theta):\n",
        "        \"\"\"\n",
        "        This method is used to calculate the Wigner d small- real function involving trigonometric functions\n",
        "        Returns: Wigner d - real function\n",
        "        ==========================Reference==================================\n",
        "        [5] Chapter 4.3.1-(p.76,eq.4)  D.A. Varshalovich, A.N. Moskalev, V.K Khersonskii,\n",
        "        \"\"\"\n",
        "        kmax = max(0,m - mp)\n",
        "        kmin = min(j + m, j - mp)\n",
        "        term1 = np.sqrt(fact(j + m) * fact(j - m) * fact(j + mp) * fact(j - mp))\n",
        "        sum = 0\n",
        "        for k in range(int(kmax), int(kmin) + 1):\n",
        "            numerator = (-1) ** k * (np.cos(theta / 2)) ** (2 * j - 2 * k + m - mp) * \\\n",
        "                        (np.sin(theta / 2)) ** (2 * k - m + mp)\n",
        "            denominator = fact(k) * fact(j + m - k) * fact(j - mp - k) * fact(mp - m + k)\n",
        "            sum += numerator / denominator\n",
        "        return sum*term1\n",
        "    @classmethod\n",
        "    def wigner_D(cls, j, m, mp, theta_0, theta, phi):\n",
        "        \"\"\"\n",
        "        This method is used to calculate the Wigner D matrix\n",
        "        Args:\n",
        "            theta_0 (scalar): first angle of rotation [0, pi]\n",
        "            theta (scalar): second angle of rotation [0, pi]\n",
        "            phi (scalar): third angle of rotation [0, 2*pi]\n",
        "        Returns: complex number, Wigner D function\n",
        "        ==========================Reference==================================\n",
        "        [5] Chapter 4.3-(p.76,eq.1)  D.A. Varshalovich, A.N. Moskalev, V.K Khersonskii,\n",
        "        \"\"\"\n",
        "        term1 = np.cos(m *theta_0) - 1j*(np.sin(m * theta_0))\n",
        "        term2 = cls.compute_dsmall(j, m, mp, theta)\n",
        "        term3 = np.cos(mp * phi) -1j*(np.sin(mp * phi))\n",
        "        result = term1 * term2 * term3\n",
        "        return result\n",
        "    @classmethod\n",
        "    def U_rot(cls, j, m, mp, theta_0, theta, phi):\n",
        "        \"\"\"\n",
        "        This method is used to calculate the rotation matrix U\n",
        "        Returns: complex number, Rotational matrix U function\n",
        "        ==========================Reference==================================\n",
        "        [5] Chapter 4  D.A. Varshalovich, A.N. Moskalev, V.K Khersonskii,\n",
        "                  Quantum Theory of Angular Momentum (1988)\n",
        "        \"\"\"\n",
        "        mpp_vals = np.linspace(-j, j, int(2 * j + 1))\n",
        "        U = 0\n",
        "        for mpp in mpp_vals:\n",
        "            term1 = cls.wigner_D(j, m, mpp, phi, theta, -phi)\n",
        "            term2 = np.cos(mpp * theta_0) - 1j * (np.sin(mpp * theta_0))\n",
        "            term3 = cls.wigner_D(j, mpp, mp, phi, -theta, -phi)\n",
        "            Um_mp = term1 * term2 * term3\n",
        "            U += Um_mp\n",
        "        return U\n",
        "    @classmethod\n",
        "    def u_small(cls, j, m, mp, params):\n",
        "        \"\"\"\n",
        "        Args:\n",
        "            j (scalar): angular momentum\n",
        "            m (scalar): eigenvalue of angular momentum\n",
        "            mp (scalar): eigenvalue of j along rotated axis\n",
        "            params (dict): a dictionary containing the following keys, its values:\n",
        "                - w_ik (array): the coefficients that are dimensionless weights that are chosen to distinguish atoms\n",
        "                  of different types, while the central atom is arbitrarily assigned a unit weight, dimensin (1,k)\n",
        "                - delta (array): the Dirac delta function, indicates only neighbor atom of element the same as center atom\n",
        "                  contribute to partial density,  dimension (1,k)\n",
        "                - r_ik (array): distance from center atom to neighbor atom, dimension (1,k), k is number of neighbor atoms\n",
        "                  in cutoff radius, array exclude center atom as well\n",
        "                - r_cut (array): cutoff radius\n",
        "                - theta_0: array for theta_0 angel (fist angle of rotation [0,pi])\n",
        "                  of neighbor atoms in reference frame of center atom, dimension (k+1,)\n",
        "                - theta: array for theta angel ( second angle of rotation [0,pi])\n",
        "                  of neighbor atoms in reference frame of center atom, dimension (k+1,)\n",
        "                - phi: array for phi angel (third angle of rotation [0,2pi])\n",
        "                  of neighbor atoms in reference frame of center atom, dimension (k+1,)\n",
        "        Returns: expansion coefficients density function u_jm_mp\n",
        "        \"\"\"\n",
        "        w_ik_array = params['w_ik']\n",
        "        delta_array = params['delta']\n",
        "        r_ik_array = params['r_ik']\n",
        "        r_cut_array = params['r_cut']\n",
        "        theta_0_array = params['theta_0']\n",
        "        theta_array = params['theta']\n",
        "        phi_array = params['phi']\n",
        "\n",
        "        # Calculate cutoff_function\n",
        "        f_cut_arr = (1 / 2) * (np.cos(np.pi * (np.divide(r_ik_array, r_cut_array))) + 1)\n",
        "        # Calculate rotational matrix U for all k=n neighbor atoms\n",
        "        U_ik_array = np.array([cls.U_rot(j, m, mp, theta_0, theta, phi) for theta_0, theta, phi in\n",
        "                               zip(theta_0_array, theta_array, phi_array)], dtype='complex')\n",
        "        # Compute u_jmmp\n",
        "        u_jmmp = np.dot((f_cut_arr * U_ik_array), (w_ik_array * delta_array))\n",
        "        return u_jmmp\n",
        "    @classmethod\n",
        "    def evaluate(cls, j, j1, j2, params):\n",
        "        w_ik_array = params['w_ik']\n",
        "        delta_array = params['delta']\n",
        "        r_ik_array = params['r_ik']\n",
        "        r_cut_array = params['r_cut']\n",
        "        theta_0_array = params['theta_0']\n",
        "        theta_array = params['theta']\n",
        "        phi_array = params['phi']\n",
        "        m_list, full_list = cls.generate_m_values(j,j1,j2)\n",
        "        B_total = 0\n",
        "        for i in m_list:\n",
        "            m1, m2, m, m1p, m2p, mp = i[0], i[1], i[2], i[3], i[4], i[5]\n",
        "            H_coeff = cls.H(j1, j2, j, m1, m2, m, m1p, m2p, mp)\n",
        "            u_jmmp = cls.u_small(j, m, mp, params)\n",
        "            u1_j1m1m1p = cls.u_small(j1, m1, m1p, params)\n",
        "            u2_j2m2m2p = cls.u_small(j2, m2, m2p, params)\n",
        "            B = np.conj(u_jmmp) * (H_coeff * u1_j1m1m1p * u2_j2m2m2p)\n",
        "            B_total += B\n",
        "        return B_total"
      ]
    },
    {
      "cell_type": "markdown",
      "source": [
        "### Case 1:\n",
        "A compound where the central atom has only two symmetrical neighbors of the same atom type is known as a diatomic molecule.\n",
        "Note: In diatomic molecules, the central atom is bonded to two identical atoms.\n",
        "A well-known example of a diatomic molecule is molecular oxygen (O2). In O2, the central atom is oxygen, and it is bonded to two other oxygen atoms. The molecule has a linear arrangement, with the oxygen-oxygen-oxygen bond angle being 180 degrees."
      ],
      "metadata": {
        "id": "BL7_dsQscTk6"
      }
    },
    {
      "cell_type": "code",
      "source": [
        "data = {\n",
        "    'w_ik': np.array([1.0, 1.0]),\n",
        "    'delta': np.array([1.0, 1.0]),\n",
        "    'r_ik': np.array([0.5, 0.5]),\n",
        "    'r_cut': np.array([0.6, 0.6]),\n",
        "    'theta_0': np.array([np.pi/6, np.pi/6]),\n",
        "    'theta': np.array([np.pi/3, np.pi/3]),\n",
        "    'phi': np.array([np.pi/5, np.pi/5])\n",
        "}"
      ],
      "metadata": {
        "colab": {
          "base_uri": "https://localhost:8080/"
        },
        "id": "uc9tTKGiFEvc",
        "outputId": "ee3fdce4-eefd-434c-958e-e8ff79dcb233"
      },
      "execution_count": null,
      "outputs": [
        {
          "output_type": "stream",
          "name": "stdout",
          "text": [
            "time: 1 ms (started: 2023-06-09 20:18:08 +00:00)\n"
          ]
        }
      ]
    },
    {
      "cell_type": "code",
      "source": [
        "B= Bispectrum(j=3, j1=2, j2=1, params=data)\n",
        "B1 = B.evaluate(j=3, j1=2, j2=1, params=data)\n",
        "print(B1)"
      ],
      "metadata": {
        "colab": {
          "base_uri": "https://localhost:8080/"
        },
        "id": "rwTLpnawFHoS",
        "outputId": "5bfe3806-8236-40dd-9e59-044aeb18fcc4"
      },
      "execution_count": null,
      "outputs": [
        {
          "output_type": "stream",
          "name": "stdout",
          "text": [
            "(0.0017650187391923431+3.2526065174565133e-19j)\n",
            "time: 932 ms (started: 2023-06-09 20:19:06 +00:00)\n"
          ]
        }
      ]
    },
    {
      "cell_type": "markdown",
      "source": [
        "**Interchange $j_1$ and $j_2$ values**"
      ],
      "metadata": {
        "id": "bSNPZUu1Mwn4"
      }
    },
    {
      "cell_type": "code",
      "source": [
        "B= Bispectrum(j=6, j1=1, j2=5, params=data)\n",
        "B2 = B.evaluate(j=6, j1=1, j2=5, params=data)\n",
        "print(B2)"
      ],
      "metadata": {
        "colab": {
          "base_uri": "https://localhost:8080/"
        },
        "id": "BllewtTiMwPA",
        "outputId": "2287df40-5f66-4d8b-a056-e04b27014399"
      },
      "execution_count": null,
      "outputs": [
        {
          "output_type": "stream",
          "name": "stdout",
          "text": [
            "(0.0012954816653356635+2.439454888092385e-19j)\n",
            "time: 3.38 s (started: 2023-06-09 19:41:50 +00:00)\n"
          ]
        }
      ]
    },
    {
      "cell_type": "markdown",
      "source": [
        "### Case 2:\n",
        "Center atom in the middle of a cube and has 8 neighbor atoms"
      ],
      "metadata": {
        "id": "GzmbZiDdN7d8"
      }
    },
    {
      "cell_type": "code",
      "source": [
        "import matplotlib.pyplot as plt\n",
        "from mpl_toolkits.mplot3d import Axes3D\n",
        "\n",
        "# Define the coordinates of the center atom\n",
        "center_atom = [0, 0, 0]\n",
        "# Define the coordinates of the eight neighboring atoms\n",
        "neighbors = [\n",
        "    [1, 1, 1],\n",
        "    [1, 1, -1],\n",
        "    [1, -1, 1],\n",
        "    [1, -1, -1],\n",
        "    [-1, 1, 1],\n",
        "    [-1, 1, -1],\n",
        "    [-1, -1, 1],\n",
        "    [-1, -1, -1]\n",
        "]\n",
        "# Create a figure and 3D axes\n",
        "fig = plt.figure()\n",
        "ax = fig.add_subplot(111, projection='3d')\n",
        "# Plot the center atom\n",
        "ax.scatter(center_atom[0], center_atom[1], center_atom[2], color='red', label='Center Atom')\n",
        "# Plot the neighboring atoms\n",
        "for neighbor in neighbors:\n",
        "    atom_x = center_atom[0] + neighbor[0]\n",
        "    atom_y = center_atom[1] + neighbor[1]\n",
        "    atom_z = center_atom[2] + neighbor[2]\n",
        "    ax.scatter(atom_x, atom_y, atom_z, color='blue', label='Neighbor Atom')\n",
        "\n",
        "# Set the axes labels\n",
        "ax.set_xlabel('X')\n",
        "ax.set_ylabel('Y')\n",
        "ax.set_zlabel('Z')\n",
        "# Set the aspect ratio to equal\n",
        "ax.set_box_aspect([1, 1, 1])\n",
        "# Set the plot title\n",
        "ax.set_title('Atom Structure')\n",
        "# Add a legend outside the figure\n",
        "ax.legend(bbox_to_anchor=(1.05, 1), loc='upper left')\n",
        "# Show the plot\n",
        "plt.show()"
      ],
      "metadata": {
        "colab": {
          "base_uri": "https://localhost:8080/",
          "height": 468
        },
        "id": "trE3qDe2TxOn",
        "outputId": "ff12252a-34e6-44b4-8d97-38d227b2ce91"
      },
      "execution_count": null,
      "outputs": [
        {
          "output_type": "display_data",
          "data": {
            "text/plain": [
              "<Figure size 640x480 with 1 Axes>"
            ],
            "image/png": "[encoded data removed]"
          },
          "metadata": {}
        },
        {
          "output_type": "stream",
          "name": "stdout",
          "text": [
            "time: 752 ms (started: 2023-06-09 20:04:01 +00:00)\n"
          ]
        }
      ]
    },
    {
      "cell_type": "code",
      "source": [
        "# Create NumPy arrays for x_k, y_k, z_k\n",
        "x_k = np.array([center_atom[0] + neighbor[0] for neighbor in neighbors])\n",
        "y_k = np.array([center_atom[1] + neighbor[1] for neighbor in neighbors])\n",
        "z_k = np.array([center_atom[2] + neighbor[2] for neighbor in neighbors])\n",
        "\n",
        "# Calculate r_ik\n",
        "r_ik_array = np.sqrt(x_k**2 + y_k**2 + z_k**2)\n",
        "R_cut = 2\n",
        "r_0_array = np.full((r_ik_array.shape),R_cut)\n",
        "#Calculate angels\n",
        "theta_0_array = np.pi*(np.divide(r_ik_array,r_0_array))\n",
        "z_k_abs_array = np.abs(z_k)\n",
        "theta_array = np.arccos(np.divide(z_k_abs_array,r_ik_array))\n",
        "phi_array = np.arctan(np.divide(y_k, x_k))\n",
        "#convert angle to positive value between [0,2pi]\n",
        "phi_array_convert = np.mod(phi_array, 2*np.pi)\n",
        "w_ik_array = np.full((r_ik_array.shape),1)\n",
        "delta = np.full((r_ik_array.shape),1)"
      ],
      "metadata": {
        "colab": {
          "base_uri": "https://localhost:8080/"
        },
        "id": "uPYK0wSRntAE",
        "outputId": "6f693f3c-be38-422d-b04e-fe060c6b986d"
      },
      "execution_count": null,
      "outputs": [
        {
          "output_type": "stream",
          "name": "stdout",
          "text": [
            "time: 15.7 ms (started: 2023-06-09 20:07:58 +00:00)\n"
          ]
        }
      ]
    },
    {
      "cell_type": "code",
      "source": [
        "w_ik_array = np.full((r_ik_array.shape),1)\n",
        "delta-a = np.full((r_ik_array.shape),1)"
      ],
      "metadata": {
        "colab": {
          "base_uri": "https://localhost:8080/",
          "height": 152
        },
        "id": "FCqQ7Ou3pNSK",
        "outputId": "0d75e0c6-2d82-405b-f42b-632a19fb282f"
      },
      "execution_count": null,
      "outputs": [
        {
          "output_type": "error",
          "ename": "SyntaxError",
          "evalue": "ignored",
          "traceback": [
            "\u001b[0;36m  File \u001b[0;32m\"<ipython-input-10-4fca5d9dfe5b>\"\u001b[0;36m, line \u001b[0;32m2\u001b[0m\n\u001b[0;31m    delta-a = np.full((r_ik_array.shape),1)\u001b[0m\n\u001b[0m    ^\u001b[0m\n\u001b[0;31mSyntaxError\u001b[0m\u001b[0;31m:\u001b[0m cannot assign to expression here. Maybe you meant '==' instead of '='?\n"
          ]
        },
        {
          "output_type": "stream",
          "name": "stdout",
          "text": [
            "time: 3.14 ms (started: 2023-06-09 19:36:05 +00:00)\n"
          ]
        }
      ]
    },
    {
      "cell_type": "code",
      "source": [
        "data_cube_8 = {\n",
        "    'w_ik': np.full((r_ik_array.shape),1),  #set all neighbor atoms wik = 1\n",
        "    'delta': np.full((r_ik_array.shape),1), #set delta = 1\n",
        "    'r_ik': r_ik_array,\n",
        "    'r_cut': r_0_array,\n",
        "    'theta_0': theta_0_array,\n",
        "    'theta': theta_array,\n",
        "    'phi': phi_array_convert\n",
        "}\n"
      ],
      "metadata": {
        "id": "ry5eO30IVMkw",
        "colab": {
          "base_uri": "https://localhost:8080/"
        },
        "outputId": "e59d1cf5-10f4-4ae4-8368-f858f6bef439"
      },
      "execution_count": null,
      "outputs": [
        {
          "output_type": "stream",
          "name": "stdout",
          "text": [
            "time: 853 µs (started: 2023-06-09 20:19:44 +00:00)\n"
          ]
        }
      ]
    },
    {
      "cell_type": "code",
      "source": [
        "#Test bispectrum calculation\n",
        "B= Bispectrum(j=5/2, j1=4/2, j2=1/2, params=data_cube_8)\n",
        "B1 = B.evaluate(j=5/2, j1=4/2, j2=1/2, params=data_cube_8)\n",
        "print(B1)"
      ],
      "metadata": {
        "id": "X_Qp4oRZMsbw",
        "colab": {
          "base_uri": "https://localhost:8080/"
        },
        "outputId": "3621efca-a56f-415b-d58e-80ffd07b83bd"
      },
      "execution_count": null,
      "outputs": [
        {
          "output_type": "stream",
          "name": "stdout",
          "text": [
            "(0.0002660442377184137-5.89534931288993e-19j)\n",
            "time: 113 ms (started: 2023-06-09 20:22:27 +00:00)\n"
          ]
        }
      ]
    },
    {
      "cell_type": "code",
      "source": [
        "#Test bispectrum calculation\n",
        "B2= Bispectrum(j=5/2, j1=3/2, j2=2/2, params=data_cube_8)\n",
        "B2 = B2.evaluate(j=5/2, j1=3/2, j2=2/2, params=data_cube_8)\n",
        "print(B2)"
      ],
      "metadata": {
        "colab": {
          "base_uri": "https://localhost:8080/"
        },
        "id": "-TikqZb-01ID",
        "outputId": "3413eae5-11c4-4460-e865-c75ea44985b7"
      },
      "execution_count": null,
      "outputs": [
        {
          "output_type": "stream",
          "name": "stdout",
          "text": [
            "(0.0002660442377184137-1.0977546996415732e-18j)\n",
            "time: 137 ms (started: 2023-06-09 20:25:33 +00:00)\n"
          ]
        }
      ]
    }
  ]
}