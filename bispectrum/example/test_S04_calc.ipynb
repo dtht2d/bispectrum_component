{
  "nbformat": 4,
  "nbformat_minor": 0,
  "metadata": {
    "colab": {
      "provenance": [],
      "authorship_tag": "ABX9TyPX5KPYWHsO9/RkaNSnIEY4",
      "include_colab_link": true
    },
    "kernelspec": {
      "name": "python3",
      "display_name": "Python 3"
    },
    "language_info": {
      "name": "python"
    }
  },
  "cells": [
    {
      "cell_type": "markdown",
      "metadata": {
        "id": "view-in-github",
        "colab_type": "text"
      },
      "source": [
        "<a href=\"https://colab.research.google.com/github/dtht2d/bispectrum_component/blob/main/bispectrum/example/test_S04_calc.ipynb\" target=\"_parent\"><img src=\"https://colab.research.google.com/assets/colab-badge.svg\" alt=\"Open In Colab\"/></a>"
      ]
    },
    {
      "cell_type": "markdown",
      "source": [
        "# Bispectrum - S(O)4 Class Function"
      ],
      "metadata": {
        "id": "bEHXxoNSM041"
      }
    },
    {
      "cell_type": "code",
      "source": [
        "%autosave 30"
      ],
      "metadata": {
        "colab": {
          "base_uri": "https://localhost:8080/",
          "height": 35
        },
        "id": "i9mr-BYVcS0A",
        "outputId": "fd2a4b1e-dbb1-48ba-cdc9-547ca3d21502"
      },
      "execution_count": null,
      "outputs": [
        {
          "output_type": "display_data",
          "data": {
            "application/javascript": [
              "IPython.notebook.set_autosave_interval(30000)"
            ]
          },
          "metadata": {}
        },
        {
          "output_type": "stream",
          "name": "stdout",
          "text": [
            "Autosaving every 30 seconds\n"
          ]
        }
      ]
    },
    {
      "cell_type": "code",
      "source": [
        "!pip install biopython"
      ],
      "metadata": {
        "colab": {
          "base_uri": "https://localhost:8080/"
        },
        "id": "M7IBnbnNcXLq",
        "outputId": "8eb51822-b99a-477a-b60e-900404fa3f7f"
      },
      "execution_count": null,
      "outputs": [
        {
          "output_type": "stream",
          "name": "stdout",
          "text": [
            "Looking in indexes: https://pypi.org/simple, https://us-python.pkg.dev/colab-wheels/public/simple/\n",
            "Collecting biopython\n",
            "  Downloading biopython-1.81-cp310-cp310-manylinux_2_17_x86_64.manylinux2014_x86_64.whl (3.1 MB)\n",
            "\u001b[2K     \u001b[90m━━━━━━━━━━━━━━━━━━━━━━━━━━━━━━━━━━━━━━━━\u001b[0m \u001b[32m3.1/3.1 MB\u001b[0m \u001b[31m28.5 MB/s\u001b[0m eta \u001b[36m0:00:00\u001b[0m\n",
            "\u001b[?25hRequirement already satisfied: numpy in /usr/local/lib/python3.10/dist-packages (from biopython) (1.22.4)\n",
            "Installing collected packages: biopython\n",
            "Successfully installed biopython-1.81\n"
          ]
        }
      ]
    },
    {
      "cell_type": "code",
      "source": [
        "!pip install numpy"
      ],
      "metadata": {
        "colab": {
          "base_uri": "https://localhost:8080/"
        },
        "id": "m3hrtruFcf2B",
        "outputId": "a3871172-5bc2-4406-fb69-de90741a083f"
      },
      "execution_count": null,
      "outputs": [
        {
          "output_type": "stream",
          "name": "stdout",
          "text": [
            "Looking in indexes: https://pypi.org/simple, https://us-python.pkg.dev/colab-wheels/public/simple/\n",
            "Requirement already satisfied: numpy in /usr/local/lib/python3.10/dist-packages (1.22.4)\n"
          ]
        }
      ]
    },
    {
      "cell_type": "code",
      "source": [
        "!pip install pandas"
      ],
      "metadata": {
        "colab": {
          "base_uri": "https://localhost:8080/"
        },
        "id": "MD1pERlccmbm",
        "outputId": "6dd4affe-cc51-4a07-f264-48c2eacb9547"
      },
      "execution_count": null,
      "outputs": [
        {
          "output_type": "stream",
          "name": "stdout",
          "text": [
            "Looking in indexes: https://pypi.org/simple, https://us-python.pkg.dev/colab-wheels/public/simple/\n",
            "Requirement already satisfied: pandas in /usr/local/lib/python3.10/dist-packages (1.5.3)\n",
            "Requirement already satisfied: python-dateutil>=2.8.1 in /usr/local/lib/python3.10/dist-packages (from pandas) (2.8.2)\n",
            "Requirement already satisfied: pytz>=2020.1 in /usr/local/lib/python3.10/dist-packages (from pandas) (2022.7.1)\n",
            "Requirement already satisfied: numpy>=1.21.0 in /usr/local/lib/python3.10/dist-packages (from pandas) (1.22.4)\n",
            "Requirement already satisfied: six>=1.5 in /usr/local/lib/python3.10/dist-packages (from python-dateutil>=2.8.1->pandas) (1.16.0)\n"
          ]
        }
      ]
    },
    {
      "cell_type": "code",
      "source": [
        "!pip install ipython-autotime\n",
        "%load_ext autotime"
      ],
      "metadata": {
        "colab": {
          "base_uri": "https://localhost:8080/"
        },
        "id": "o5jIdVqqctDv",
        "outputId": "9dd71917-fe6b-451b-af07-7d0e53101d37"
      },
      "execution_count": null,
      "outputs": [
        {
          "output_type": "stream",
          "name": "stdout",
          "text": [
            "Looking in indexes: https://pypi.org/simple, https://us-python.pkg.dev/colab-wheels/public/simple/\n",
            "Collecting ipython-autotime\n",
            "  Downloading ipython_autotime-0.3.1-py2.py3-none-any.whl (6.8 kB)\n",
            "Requirement already satisfied: ipython in /usr/local/lib/python3.10/dist-packages (from ipython-autotime) (7.34.0)\n",
            "Collecting jedi>=0.16\n",
            "  Downloading jedi-0.18.2-py2.py3-none-any.whl (1.6 MB)\n",
            "\u001b[2K     \u001b[90m━━━━━━━━━━━━━━━━━━━━━━━━━━━━━━━━━━━━━━━━\u001b[0m \u001b[32m1.6/1.6 MB\u001b[0m \u001b[31m18.1 MB/s\u001b[0m eta \u001b[36m0:00:00\u001b[0m\n",
            "\u001b[?25hRequirement already satisfied: matplotlib-inline in /usr/local/lib/python3.10/dist-packages (from ipython->ipython-autotime) (0.1.6)\n",
            "Requirement already satisfied: traitlets>=4.2 in /usr/local/lib/python3.10/dist-packages (from ipython->ipython-autotime) (5.7.1)\n",
            "Requirement already satisfied: setuptools>=18.5 in /usr/local/lib/python3.10/dist-packages (from ipython->ipython-autotime) (67.7.2)\n",
            "Requirement already satisfied: pickleshare in /usr/local/lib/python3.10/dist-packages (from ipython->ipython-autotime) (0.7.5)\n",
            "Requirement already satisfied: pexpect>4.3 in /usr/local/lib/python3.10/dist-packages (from ipython->ipython-autotime) (4.8.0)\n",
            "Requirement already satisfied: backcall in /usr/local/lib/python3.10/dist-packages (from ipython->ipython-autotime) (0.2.0)\n",
            "Requirement already satisfied: decorator in /usr/local/lib/python3.10/dist-packages (from ipython->ipython-autotime) (4.4.2)\n",
            "Requirement already satisfied: pygments in /usr/local/lib/python3.10/dist-packages (from ipython->ipython-autotime) (2.14.0)\n",
            "Requirement already satisfied: prompt-toolkit!=3.0.0,!=3.0.1,<3.1.0,>=2.0.0 in /usr/local/lib/python3.10/dist-packages (from ipython->ipython-autotime) (3.0.38)\n",
            "Requirement already satisfied: parso<0.9.0,>=0.8.0 in /usr/local/lib/python3.10/dist-packages (from jedi>=0.16->ipython->ipython-autotime) (0.8.3)\n",
            "Requirement already satisfied: ptyprocess>=0.5 in /usr/local/lib/python3.10/dist-packages (from pexpect>4.3->ipython->ipython-autotime) (0.7.0)\n",
            "Requirement already satisfied: wcwidth in /usr/local/lib/python3.10/dist-packages (from prompt-toolkit!=3.0.0,!=3.0.1,<3.1.0,>=2.0.0->ipython->ipython-autotime) (0.2.6)\n",
            "Installing collected packages: jedi, ipython-autotime\n",
            "Successfully installed ipython-autotime-0.3.1 jedi-0.18.2\n",
            "time: 400 µs (started: 2023-05-03 03:13:13 +00:00)\n"
          ]
        }
      ]
    },
    {
      "cell_type": "markdown",
      "source": [
        "# **Bispectrum- S04 Class Function Testing**"
      ],
      "metadata": {
        "id": "SRJ2pNIycDn1"
      }
    },
    {
      "cell_type": "markdown",
      "source": [
        "## Data preparation"
      ],
      "metadata": {
        "id": "eS46WztbdH8C"
      }
    },
    {
      "cell_type": "code",
      "execution_count": null,
      "metadata": {
        "colab": {
          "base_uri": "https://localhost:8080/"
        },
        "id": "uwhr5yi8buOv",
        "outputId": "bdcd50fb-48ca-40d4-b979-14d98e5bdae8"
      },
      "outputs": [
        {
          "output_type": "stream",
          "name": "stdout",
          "text": [
            "time: 3.64 ms (started: 2023-05-03 03:13:13 +00:00)\n"
          ]
        }
      ],
      "source": [
        "def neighbor_params(center_atom_id:int, r_mu, R_cut, input_file:str, output_dir:str, file_type:str):\n",
        "    \"\"\"\n",
        "    This function is used to get input value from cif file and define neighbor atoms parameters \n",
        "    \"\"\"\n",
        "    if file_type == \"cif\":\n",
        "        # DATA PREPARATION\n",
        "        dico = MMCIF2Dict(input_file)\n",
        "        df_cif = pd.DataFrame.from_dict(dico, orient='index')\n",
        "        x = df_cif.iloc[-3]\n",
        "        y = df_cif.iloc[-2]\n",
        "        z = df_cif.iloc[-1]\n",
        "        atom_type = df_cif.iloc[-4]\n",
        "        x_array = np.array(x[0], dtype=float)\n",
        "        y_array = np.array(y[0], dtype=float)\n",
        "        z_array = np.array(z[0], dtype=float)\n",
        "        atom_type_array = np.array(atom_type[0], dtype=str)\n",
        "        df = pd.DataFrame({\"atom_type\": atom_type_array, \"X\": x_array, \"Y\": y_array, \"Z\": z_array})\n",
        "        # Estimate list of potentially atoms in the center cell\n",
        "        id = center_atom_id\n",
        "        # id\n",
        "        x_i = df['X'].iloc[id]\n",
        "        y_i = df['Y'].iloc[id]\n",
        "        z_i = df['Z'].iloc[id]\n",
        "        # print(x_i,y_i,z_i)\n",
        "        X_array = df['X'].to_numpy()\n",
        "        Y_array = df['Y'].to_numpy()\n",
        "        Z_array = df['Z'].to_numpy()\n",
        "        X_k_array = X_array - x_i\n",
        "        Y_k_array = Y_array - y_i\n",
        "        Z_k_array = Z_array - z_i\n",
        "        r_ik = np.sqrt(np.square(X_k_array) + np.square(Y_k_array) + np.square(Z_k_array))\n",
        "        df['X_k'], df['Y_k'], df['Z_k'], df['r_ik'] = X_k_array, Y_k_array, Z_k_array, r_ik\n",
        "        # INPUT values\n",
        "        cell_length = df.iloc[4]  # index row start from 0 _cell_length_a at row 5 index [4]\n",
        "        #r_mu = 0.0779  # scale atomic radius w.r.t cell length\n",
        "        #R_cut = 0.25  # scaled value w.r.t cell length (for Si-Si case)\n",
        "        condition = (df['r_ik'] + r_mu <= R_cut) & (df['r_ik'] != 0)\n",
        "        df_ik = df.loc[condition].copy(deep=True)\n",
        "        # ANGEL CONVERSION\n",
        "        # theta_0\n",
        "        r_ik_array = df_ik['r_ik'].to_numpy()  # r_ik from selected neighbors\n",
        "        r_0_array = np.full((r_ik_array.shape), R_cut)\n",
        "        theta_0_array = np.pi * (np.divide(r_ik_array, r_0_array))\n",
        "        # theta\n",
        "        Z_k_abs_array = np.abs(df_ik['Z_k'].to_numpy())\n",
        "        theta_array = np.arccos(np.divide(Z_k_abs_array, r_ik_array))\n",
        "        # phi\n",
        "        X_k_array = df_ik['X_k'].to_numpy()\n",
        "        Y_k_array = df_ik['Y_k'].to_numpy()\n",
        "        phi_array = np.arctan(np.divide(Y_k_array, X_k_array))\n",
        "        # convert angle to positive value between [0,2pi]\n",
        "        phi_array_convert = np.mod(phi_array, 2 * np.pi)\n",
        "        for angle in phi_array_convert:\n",
        "            if (angle >= 2 * np.pi) and (angle < 0):\n",
        "                raise ValueError('phi angle in between 0 and 2pi')\n",
        "        # replace NaN with 0: (code will have error for invalid value center atom values 0/0)_\n",
        "        df_ik['theta_0'] = theta_0_array\n",
        "        df_ik['theta_0'] = df_ik['theta_0'].replace(np.nan, 0)\n",
        "        df_ik['theta'] = theta_array\n",
        "        df_ik['theta'] = df_ik['theta'].replace(np.nan, 0)\n",
        "        df_ik['phi'] = phi_array_convert\n",
        "        df_ik['phi'] = df_ik['phi'].replace(np.nan, 0)\n",
        "        # array for weight coefficient w.r.t to atom type\n",
        "        w_ik_arr = np.full((r_ik_array.shape), 1)\n",
        "        # delta function delta=1 if i and k has the same element type, if not delta =0\n",
        "        delta = np.full((r_ik_array.shape), 0)\n",
        "        delta_arr = np.where(df_ik['atom_type'] == df_ik['atom_type'].iloc[0], 1, delta)\n",
        "        df_ik['w_ik'] = w_ik_arr\n",
        "        df_ik['delta'] = delta_arr\n",
        "    # save the DataFrame as a JSON file\n",
        "        neighbor_list_path = output_dir + '-atom-' + str(center_atom_id) + '-neighbor-list.json'\n",
        "        df_ik.to_json(neighbor_list_path, orient='records')\n",
        "        \"\"\"\n",
        "        This function is to read in the neighbor list file\n",
        "        \"\"\"\n",
        "        with open(neighbor_list_path, 'r') as f:\n",
        "            json_data = json.load(f)\n",
        "\n",
        "            # create a list of dictionaries from the JSON data\n",
        "            data_list = [dict(row) for row in json_data]\n",
        "\n",
        "            # extract data from the list of dictionaries\n",
        "            r_ik_array = np.array([float(row['r_ik']) for row in data_list])\n",
        "            theta_0_array = np.array([float(row['theta_0']) for row in data_list])\n",
        "            theta_array = np.array([float(row['theta']) for row in data_list])\n",
        "            phi_array = np.array([float(row['phi']) for row in data_list])\n",
        "            w_ik_array = np.array([float(row['w_ik']) for row in data_list])\n",
        "            delta_array = np.array([float(row['delta']) for row in data_list])\n",
        "            r_cut_array = np.full((r_ik_array.shape), R_cut)\n",
        "            # return a dictionary with the extracted data\n",
        "    else:\n",
        "        raise ValueError(f\"Unsupported file type: {file_type}\")\n",
        "    return {\n",
        "            'r_ik': r_ik_array,\n",
        "            'theta_0': theta_0_array,\n",
        "            'theta': theta_array,\n",
        "            'phi': phi_array,\n",
        "            'w_ik': w_ik_array,\n",
        "            'delta': delta_array,\n",
        "            'r_cut': r_cut_array\n",
        "        }"
      ]
    },
    {
      "cell_type": "markdown",
      "source": [
        "**Example**"
      ],
      "metadata": {
        "id": "t5dxTVLVdNDg"
      }
    },
    {
      "cell_type": "code",
      "source": [
        "from google.colab import drive\n",
        "drive.mount('/content/drive')"
      ],
      "metadata": {
        "colab": {
          "base_uri": "https://localhost:8080/"
        },
        "id": "VKXs3crvdOwl",
        "outputId": "2686b5f9-1559-45cd-bcc3-155ce341219e"
      },
      "execution_count": null,
      "outputs": [
        {
          "output_type": "stream",
          "name": "stdout",
          "text": [
            "Mounted at /content/drive\n",
            "time: 1min 15s (started: 2023-05-03 03:13:13 +00:00)\n"
          ]
        }
      ]
    },
    {
      "cell_type": "code",
      "source": [
        "import numpy as np\n",
        "import pandas as pd\n",
        "from Bio.PDB.MMCIF2Dict import MMCIF2Dict\n",
        "import json\n",
        "center_atom_id = 17\n",
        "r_mu =0.0779 \n",
        "R_cut= 0.25\n",
        "input_file = \"/content/drive/MyDrive/bispectrump_components/data/avgBL-Model.cif\"\n",
        "output_dir =  \"/content/drive/MyDrive/bispectrump_components/data\"\n",
        "file_type = 'cif'\n",
        "input_data = neighbor_params(center_atom_id, r_mu, R_cut, input_file, output_dir, file_type='cif')\n",
        "\n",
        "print (input_data)\n",
        "# Convert dictionary to DataFrame\n",
        "df = pd.DataFrame(input_data)\n",
        "# Display DataFrame\n",
        "print(df)"
      ],
      "metadata": {
        "colab": {
          "base_uri": "https://localhost:8080/"
        },
        "id": "8VGf-s9LhVW9",
        "outputId": "e98c5c7f-01e5-413c-db3f-02180cbef10c"
      },
      "execution_count": null,
      "outputs": [
        {
          "output_type": "stream",
          "name": "stdout",
          "text": [
            "{'r_ik': array([0.16062009, 0.12295675, 0.12219716, 0.12619947, 0.11925231]), 'theta_0': array([2.01841164, 1.54512013, 1.53557477, 1.58586934, 1.49856872]), 'theta': array([0.69919773, 0.3820468 , 1.18488014, 1.25583529, 1.15492866]), 'phi': array([0.049713  , 1.25332279, 5.41038219, 1.13378905, 6.18181825]), 'w_ik': array([1., 1., 1., 1., 1.]), 'delta': array([1., 1., 1., 1., 1.]), 'r_cut': array([0.25, 0.25, 0.25, 0.25, 0.25])}\n",
            "       r_ik   theta_0     theta       phi  w_ik  delta  r_cut\n",
            "0  0.160620  2.018412  0.699198  0.049713   1.0    1.0   0.25\n",
            "1  0.122957  1.545120  0.382047  1.253323   1.0    1.0   0.25\n",
            "2  0.122197  1.535575  1.184880  5.410382   1.0    1.0   0.25\n",
            "3  0.126199  1.585869  1.255835  1.133789   1.0    1.0   0.25\n",
            "4  0.119252  1.498569  1.154929  6.181818   1.0    1.0   0.25\n",
            "time: 1.06 s (started: 2023-05-03 03:14:28 +00:00)\n"
          ]
        }
      ]
    },
    {
      "cell_type": "markdown",
      "source": [
        "# Methods"
      ],
      "metadata": {
        "id": "1LJB921uc2YT"
      }
    },
    {
      "cell_type": "markdown",
      "source": [
        "## **Conditions check**\n",
        "---\n",
        "\n",
        "### **Clebsch Gordan calculation condition**\n",
        "\n",
        "$$C^{jm}_{{j_1}{m_1}{j_2}{m_2}} C^{jm'}_{{j_1}{m'_1}{j_2}{m'_2}} \\equiv H^{jmm'}_{{{j_1}{m_1}{m'_1}} ,{{j_2}{m_2}{m'_2}}}$$\n",
        "\n",
        "\n",
        "Ref[12]. Ch3.12, eq(3.171)\n",
        "\n",
        "$$\n",
        "\\begin{align*} C_{j_1m_1j_2m_2}^{jm} &= \\ \\delta(m_1 +m_2,m) \\\\ & \\times \\left[\\frac{(2j+1)(j+j_1-j_2)!(j-j_1+j_2)!(j_1+j_2-j)!}{(j+j_1+j_2+1)!} \\right]^{\\frac{1}{2}} \\\\ & \\times \\left[ \\frac{(j+m)!(j-m)!}{(j_1+m_1)!(j_1-m_1)!(j_2+m_2)!(j_2-m_2)!}\\right]^{\\frac{1}{2}} \\\\ & \\times \\displaystyle\\sum_s\\frac{(-1)^{j_2+m_2+s}(j_2+j+m_1-s)!(j_1-m_1+s)!}{s!(j-j_1+j_2-s)!(j+m-s)!(j_1-j_2-m+s)!} \\end{align*}\n",
        "$$\n",
        "Note: $s$ values already taken into considerration to ensure factorial is non-negative integer in Clebsh Gordan class function calculation \n",
        "In accordance with vector addition rules $j_1+j_2=j$, unless the triangular conditions (triangular in equalities) are fulfilled\n",
        "\n",
        "**General conditions for input $(j,j_1,j_2)$**\n",
        "\n",
        "(1) $|j_1-j_2|\\ \\le j \\le j_1+j_2$ and $j_1+j_2+j$  are non-negative integer and $j_1 +j_2=j$\n",
        "\n",
        "(2) $(j+j_1-j_2)$ and $(j-j_1+j_2)$ and ($j_1+j_2-j$) and is non-negative integer\n",
        "\n",
        "(3) $j_1,j_2,j$ not exceed a positive integer  $J= j_1+j_2+j$\n",
        "\n",
        "$j= 0, \\frac{1}{2},1,...\\infty$  and $m, m' = -j,-j+1, ...,j-1,j$\n",
        "\n",
        "**Condition for set $(j_1,j_2,j,m_1,m_2,m)$**\n",
        "\n",
        "(4) $m_1,m_2,m$ are integer or half-integer (positive or negative) numbers\n",
        "\n",
        "(5) $j_1 +m_1, j_1-m_1, \\ j_2 +m_2, j_2-m_2 \\ j +m, j -m $ are non-negative integer\n",
        "\n",
        "(6)$m_1+m_2=m$ \n",
        "\n",
        "(7)$|m_1| \\le j_1, \\ |m_2| \\le j_2,\\ |m| \\le j$ \n",
        "\n",
        "(8)$j_2+j+m_1$ is positive integer and $j_1-j_2-m$ is integer\n",
        "\n",
        "**Condition for set $(j_1,j_2,j,m'_1,m'_2,m')$**\n",
        "\n",
        "(4') $m'_1,m'_2,m'$ are integer or half-integer (positive or negative) numbers\n",
        "\n",
        "(5') $j_1 +m'_1, j_1- m'_1, \\ j_2 +m'_2, j_2-m'_2 \\ j +m', \\ j - m' $ are non negative integer\n",
        "\n",
        "(6')$m'_1+m'_2=m'$\n",
        "\n",
        "(7')$|m'_1| \\le j_1, \\ |m'_2| \\le j_2,\\ |m'| \\le j$ \n",
        "\n",
        "(8')$j_2+j+m'_1$ and $j_1-j_2-m'$ is integer\n",
        "\n",
        "\n",
        "### **Wigner D calculation condition**\n",
        "\n",
        "\\begin{align*}d^j_{mm'}{(\\theta)}= [(j+m)!(j-m)!(j+m')!(j-m')!]^{\\frac{1}{2}} \\\\ \\times \\displaystyle\\sum_k(-1)^k\\frac{(cos\\frac{\\theta}{2})^{2j-2k+m-m'}(sin\\frac{\\theta}{2})^{2k-m+m'}}{k!(j+m-k)!(j-m'-k)!(m'-m+k)!)} \\end{align*}\n",
        "Note: $k$ values already taken into consideration to ensure factorial is non-negative integer\n",
        "\n",
        "**Conditions that have included in Clebsh Gordan coefficient**\n",
        "\n",
        " $|m| \\leq j, \\ |m'| \\leq j, \\ j+m, \\ j-m , \\ j+m', \\ j-m'$ are non-negative integer\n",
        "\n",
        "**Conditions need to add**\n",
        "\n",
        "(9) $m'-m \\geq 0, \\ m_1' -m_1 \\geq 0, \\ m'_2-m_2 $ non-negative integer\n",
        "\n",
        "\n",
        "\n",
        "\n",
        "\n",
        "\n"
      ],
      "metadata": {
        "id": "8QLIWlPbdYzT"
      }
    },
    {
      "cell_type": "code",
      "source": [
        "import numpy as np\n",
        "\n",
        "def generate_m_values(j, j1, j2):\n",
        "    \"\"\"\n",
        "    This function generates (m1, m2, m, m1p, m2p, mp) from input set (j1,j2,j)\n",
        "    and only keeps sets that satisfy the conditions.\n",
        "    \"\"\"\n",
        "    J=j1 + j2 + j\n",
        "    #Condition 1\n",
        "    if not ((abs(j1 - j2) <= j <= j1 + j2) or isinstance(J,int) or (J >=0) or (j1 + j2) == j):\n",
        "        raise ValueError(\"Condition (1) is not satisfied.\")\n",
        "    #Condition 2\n",
        "    if not ((isinstance(val,int) or val >=0 for val in [j + j1 - j2,j - j1 + j2,j1 + j2 - j])):\n",
        "        raise ValueError(\"(𝑗+𝑗1−𝑗2) and (𝑗−𝑗1+𝑗2) and (𝑗1+𝑗2−𝑗) and is non-negative integer\")\n",
        "    #Condition 3\n",
        "    if j1 > J or j2 > J or j > J:\n",
        "        raise ValueError(\"𝑗1,𝑗2,𝑗 not exceed a positive integer 𝐽=𝑗1+𝑗2+𝑗\")\n",
        "    # Generate m values\n",
        "    m1_vals = np.linspace(-j1, j1, int(2 * j1 + 1))\n",
        "    m2_vals = np.linspace(-j2, j2, int(2 * j2 + 1))\n",
        "    m_vals = np.linspace(-j, j, int(2 * j + 1))\n",
        "    mp_vals = m_vals.copy()\n",
        "    m1p_vals = m1_vals.copy()\n",
        "    m2p_vals = m2_vals.copy()\n",
        "    m1, m2, m, m1p, m2p, mp = np.meshgrid(m1_vals, m2_vals, m_vals, m1p_vals, m2p_vals, mp_vals)\n",
        "    s = np.stack((m1.ravel(), m2.ravel(), m.ravel(), m1p.ravel(), m2p.ravel(), mp.ravel()), axis=1)\n",
        "    full_list = s\n",
        "    keep_list = []\n",
        "    for i in range(len(s)):\n",
        "      m1_val, m2_val, m_val, m1p_val, m2p_val, mp_val = s[i]\n",
        "      #Condition 4-8: Clebsch-Gordan calc for set (𝑗1,𝑗2,𝑗,𝑚1,𝑚2,𝑚), (𝑗1,𝑗2,𝑗,𝑚1p,𝑚2p,𝑚p)\n",
        "      c4 = [isinstance(val, (int, float)) and val % 0.5 == 0 for val in [m1_val, m2_val, m_val, m1p_val, m2p_val, mp_val]]\n",
        "      c5 = [isinstance(vals, int) and vals >= 0 for vals in [j1 + m1_val, j1 - m1_val, j2 + m2_val, j2 - m2_val, j + m_val, j - m_val]]\n",
        "      c5_p = [isinstance(vals, int) and vals >= 0 for vals in [j1 + m1p_val, j1 - m1p_val, j2 + m2p_val, j2 - m2p_val, j + mp_val, j - mp_val]]\n",
        "      c6 = [m1_val+m2_val == m_val and m1p_val+m2p_val == mp_val]\n",
        "      c7 = [abs(val) <= limit for val, limit in [(m1_val, j1), (m2_val, j2), (m_val, j), (m1p_val, j1), (m2p_val, j2), (mp_val, j)]]\n",
        "      c8 = [j2 + j + m1_val >= 0 and j1 - j2 - m_val >= 0 and isinstance(j2 + j + m1_val, int) and isinstance(j1 - j2 - m_val, int)]\n",
        "      c8_p = [j2 + j + m1p_val >= 0 and j1 - j2 - mp_val >= 0 and isinstance(j2 + j + m1p_val, int) and isinstance(j1 - j2 - mp_val, int)]\n",
        "      #Condition 9: Wigner-D calc \n",
        "      c9 = [isinstance(vals, int) and vals >= 0 for vals in [mp_val-m_val, m1p_val-m1_val, m2p_val-m2_val]]\n",
        "    if (c4) and (c5 and c5_p) and (c6) and (c7) and (c8 and c8_p) and (c9):\n",
        "      keep_list.append(s[i])\n",
        "    else:\n",
        "      pass\n",
        "    return keep_list, full_list"
      ],
      "metadata": {
        "id": "EdnJk7F78ZJY"
      },
      "execution_count": 4,
      "outputs": []
    },
    {
      "cell_type": "markdown",
      "source": [
        "**Example**"
      ],
      "metadata": {
        "id": "yDduPz01lkGS"
      }
    },
    {
      "cell_type": "code",
      "source": [
        "#test set 1\n",
        "keep_list_1,s1= generate_m_values(3,1/2,5/2)\n",
        "print (\"full list from set 1\", s1.shape)\n",
        "print (\"set_1:\",keep_list_1, \"keep_list #\", np.array(keep_list_1).shape)\n",
        "\n",
        "#test set 2\n",
        "keep_list_2,s = generate_m_values(3,2,1)\n",
        "print (\"full list from set 2\", s1.shape, \"keep_list #\", np.array(keep_list_2).shape)\n",
        "print (\"set_2:\", keep_list_2)\n"
      ],
      "metadata": {
        "colab": {
          "base_uri": "https://localhost:8080/"
        },
        "id": "LhEHNYZICxh-",
        "outputId": "217bc154-8352-4afc-df1c-c42c064355d5"
      },
      "execution_count": 12,
      "outputs": [
        {
          "output_type": "stream",
          "name": "stdout",
          "text": [
            "full list from set 1 (7056, 6)\n",
            "set_1: [array([0.5, 2.5, 3. , 0.5, 2.5, 3. ])] keep_list # (1, 6)\n",
            "full list from set 2 (7056, 6) keep_list # (1, 6)\n",
            "set_2: [array([2., 1., 3., 2., 1., 3.])]\n"
          ]
        }
      ]
    },
    {
      "cell_type": "markdown",
      "source": [
        "**Comment:** the probability amplitude that 𝑗1 and 𝑗2 are coupled into a resultant angular momentum 𝑗 with projection 𝑚.\n",
        "From input $(j, j1, j2)$ and the code function shows that there one and only unique set $(m,m_1,m_2, m, m_1', m_2')$ which makes sense \n",
        "\n",
        "Because: conditions check are uses for calculate \n",
        "- Clebsch Gordan coefficient represents **the probability** amplitude that $j_1$ and $j_2$ are coupled into a resultant angular momentum $j$ with projection $m$, and $m_1', \\ m_2', \\ m':$ are Eigenvalues w.r.t $j_1, \\ j_2, \\ j$ along rotated \n",
        "- Wigner D:  describes the rotation of quantum states under the action of a rotation operator\n",
        "\n",
        "**Conclusion**: \n",
        "For a given input of $(j, j_1, j_2)$ there is only one set of magnetic quantum numbers that describe the system's angular momentum. These numbers are represented by $(m, m_1,m_2$ respectively. when we rotate the system, the magnetic quantum numbers change. We denote the new magnetic quantum numbers as $(m, m_1, m_2)$ which correspond to the rotated system. These numbers describe the new projections or orientations of the angular momentum after the rotation.\n",
        "The code result show that there is a unique set of magnetic quantum numbers (m, m_1, m_2) that describe the system's angular momentum. Under rotation, this set of magnetic quantum numbers changes to a new set $(m', m_1', m_2')$ that represents the rotated system's angular momentum projections or orientations. \n"
      ],
      "metadata": {
        "id": "DI7J-IqenRWZ"
      }
    },
    {
      "cell_type": "markdown",
      "source": [
        "# **Compute Bispectrum Function**"
      ],
      "metadata": {
        "id": "t5fO0zOaAWSp"
      }
    },
    {
      "cell_type": "code",
      "source": [
        "import numpy as np\n",
        "import json\n",
        "import pandas as pd\n",
        "from Bio.PDB.MMCIF2Dict import MMCIF2Dict\n",
        "from typing import Dict\n",
        "\n",
        "fact_cache = {}\n",
        "def fact(n):\n",
        "    if n < 0 or not np.isclose(n, int(n)):\n",
        "        raise ValueError(\"Invalid input parameter: n must be a non-negative integer.\")\n",
        "    if n in fact_cache:\n",
        "        return fact_cache[n]\n",
        "    result = np.math.factorial(int(n))\n",
        "    fact_cache[n] = result\n",
        "    return result\n",
        "class Bispectrum:\n",
        "    \"\"\"\n",
        "    Calculate bispectrum- S(0)4 components\n",
        "    \"\"\"\n",
        "    def __init__(self,j, j1, j2, params: Dict[str, np.ndarray]):\n",
        "        '''\n",
        "            j: j index\n",
        "            j1: j1 index\n",
        "            j2: j2 index\n",
        "            input_data: input data dictionary with extracted values:\n",
        "            r_ik (array): dictance from center atom to n neighbor atom, dim = [n,]\n",
        "            theta_0 (array): first angle of rotation [0, pi] , dim = [n,]\n",
        "            theta (array): second angle of rotation [0, pi], dim = [n,]\n",
        "            phi (array): third angle of rotation [0, 2pi], dim = [n,]\n",
        "            w_ik (array): weight coefficient, dim = [n,]\n",
        "            delta (array): delta function, dim = [n,]\n",
        "            r_cut (array): cutoff distance, dim = [n,]\n",
        "        '''\n",
        "        self.j=j\n",
        "        self.j1= j1\n",
        "        self.j2=j2\n",
        "        self.params = params\n",
        "        w_ik_array = self.params['w_ik']\n",
        "        delta_array = self.params['delta']\n",
        "        r_ik_array = self.params['r_ik']\n",
        "        r_cut_array = self.params['r_cut']\n",
        "        theta_0_array = self.params['theta_0']\n",
        "        theta_array = self.params['theta']\n",
        "        phi_array = self.params['phi']\n",
        "        #Condition check\n",
        "        if not (abs(j1 - j2) <= j <= j1 + j2 and j1 + j2 - j % 1 != 0.5):\n",
        "            raise ValueError(\"Invalid input parameters: j1, j2, j must satisfy the triangle inequality.\\ \"\n",
        "                             \"j1+j2-j must not be a half-integer\")\n",
        "        J = (j1 + j2 + j)\n",
        "        if J < (int(j1 + j2 + j)) and J < 0:\n",
        "            raise ValueError(\"Invalid input parameters: j1, j2, j must not exceed a positive integer J\")\n",
        "\n",
        "    @staticmethod\n",
        "    def generate_m_values(j, j1, j2):\n",
        "        \"\"\"\n",
        "        This function generates (m1, m2, m, m1p, m2p, mp) from input set (j1,j2,j)\n",
        "        and only keeps sets that satisfy the conditions.\n",
        "        Return: a one and only unique set (m1, m2, m, m1p, m2p, mp)\n",
        "        \"\"\"\n",
        "        J = j1 + j2 + j\n",
        "        # Condition 1\n",
        "        if not ((abs(j1 - j2) <= j <= j1 + j2) or isinstance(J, int) or (J >= 0) or (j1 + j2) == j):\n",
        "            raise ValueError(\"Condition (1) is not satisfied.\")\n",
        "        # Condition 2\n",
        "        if not ((isinstance(val, int) or val >= 0 for val in [j + j1 - j2, j - j1 + j2, j1 + j2 - j])):\n",
        "            raise ValueError(\"(𝑗+𝑗1−𝑗2) and (𝑗−𝑗1+𝑗2) and (𝑗1+𝑗2−𝑗) and is non-negative integer\")\n",
        "        # Condition 3\n",
        "        if j1 > J or j2 > J or j > J:\n",
        "            raise ValueError(\"𝑗1,𝑗2,𝑗 not exceed a positive integer 𝐽=𝑗1+𝑗2+𝑗\")\n",
        "        # Generate m values\n",
        "        m1_vals = np.linspace(-j1, j1, int(2 * j1 + 1))\n",
        "        m2_vals = np.linspace(-j2, j2, int(2 * j2 + 1))\n",
        "        m_vals = np.linspace(-j, j, int(2 * j + 1))\n",
        "        mp_vals = m_vals.copy()\n",
        "        m1p_vals = m1_vals.copy()\n",
        "        m2p_vals = m2_vals.copy()\n",
        "        m1, m2, m, m1p, m2p, mp = np.meshgrid(m1_vals, m2_vals, m_vals, m1p_vals, m2p_vals, mp_vals)\n",
        "        s = np.stack((m1.ravel(), m2.ravel(), m.ravel(), m1p.ravel(), m2p.ravel(), mp.ravel()), axis=1)\n",
        "        keep_list = []\n",
        "        full_list = []\n",
        "        for i in range(len(s)):\n",
        "            full_list.append(s[i])\n",
        "            m1_val, m2_val, m_val, m1p_val, m2p_val, mp_val = s[i]\n",
        "            # Condition 4-8: Clebsch-Gordan calc for set (𝑗1,𝑗2,𝑗,𝑚1,𝑚2,𝑚), (𝑗1,𝑗2,𝑗,𝑚1p,𝑚2p,𝑚p)\n",
        "            c4 = [isinstance(val, (int, float)) and val % 0.5 == 0 for val in\n",
        "                  [m1_val, m2_val, m_val, m1p_val, m2p_val, mp_val]]\n",
        "            c5 = [isinstance(vals, int) and vals >= 0 for vals in\n",
        "                  [j1 + m1_val, j1 - m1_val, j2 + m2_val, j2 - m2_val, j + m_val, j - m_val]]\n",
        "            c5_p = [isinstance(vals, int) and vals >= 0 for vals in\n",
        "                    [j1 + m1p_val, j1 - m1p_val, j2 + m2p_val, j2 - m2p_val, j + mp_val, j - mp_val]]\n",
        "            c6 = [m1_val + m2_val == m_val and m1p_val + m2p_val == mp_val]\n",
        "            c7 = [abs(val) <= limit for val, limit in\n",
        "                  [(m1_val, j1), (m2_val, j2), (m_val, j), (m1p_val, j1), (m2p_val, j2), (mp_val, j)]]\n",
        "            c8 = [j2 + j + m1_val >= 0 and j1 - j2 - m_val >= 0 and isinstance(j2 + j + m1_val, int) and isinstance(\n",
        "                j1 - j2 - m_val, int)]\n",
        "            c8_p = [\n",
        "                j2 + j + m1p_val >= 0 and j1 - j2 - mp_val >= 0 and isinstance(j2 + j + m1p_val, int) and isinstance(\n",
        "                    j1 - j2 - mp_val, int)]\n",
        "            # Condition 9: Wigner-D calc\n",
        "            c9 = [isinstance(vals, int) and vals >= 0 for vals in [mp_val - m_val, m1p_val - m1_val, m2p_val - m2_val]]\n",
        "        if (c4) and (c5 and c5_p) and (c6) and (c7) and (c8 and c8_p) and (c9):\n",
        "            keep_list.append(s[i])\n",
        "        else:\n",
        "            pass\n",
        "        return keep_list, full_list\n",
        "    #Clebsch-Gordan Coefficient\n",
        "    @staticmethod\n",
        "    def clebsch_gordan(j1, j2, j, m1, m2, m):\n",
        "        \"\"\"\n",
        "        Definition:\n",
        "            A Clebsch-Gordan coefficients are vector addition coefficients. They play an important role in decomposition of\n",
        "            reducible representations of rotation. Let j1 and j2 with projections on m1 and m2 on the quantization axis.\n",
        "            The coefficients represent the probability amplitude that j1 and j2 are coupled into a resultant angular momentum\n",
        "            j with projection m.\n",
        "        Args:\n",
        "            j, j1, j2 (scalar): angular momentum\n",
        "            m, m1, m2 (scalar): eigenvalue of angular momentum j, j1, j2 respectively\n",
        "            mp, mp1, mp2 (scalar): eigenvalue of j, j1, j2 along rotated axis respectively\n",
        "        Returns: Clebsch-Gordan coefficients, real number\n",
        "        ==========================Reference==================================\n",
        "        [5] Chapter 8 D.A. Varshalovich, A.N. Moskalev, V.K Khersonskii,\n",
        "                Quantum Theory of Angular Momentum (1988)\n",
        "        [12] Chapter 3 Biedenharn, L., & Louck, J.D. ,\n",
        "                Encyclopedia of Mathematics and its Applications (1981)\n",
        "        \"\"\"\n",
        "        if m1 + m2 != m:\n",
        "            return 0.0  # delta function fails\n",
        "        prefactor = np.sqrt((2 * j + 1) * fact(j + j1 - j2) * fact(j - j1 + j2) * fact(j1 + j2 - j) / fact(j + j1 + j2 + 1))\n",
        "        coefficient = np.sqrt(fact(j + m) * fact(j - m) / (fact(j1 + m1) * fact(j1 - m1) * fact(j2 + m2) * fact(j2 - m2)))\n",
        "        sum = 0.0\n",
        "        smin = max(0, int(m1 - j1), int(j2 - j1 + m))\n",
        "        smax = min(int(j2 + j + m1), int(j - j1 + j2), int(j +m))\n",
        "        for s in range(smin, smax + 1):\n",
        "            den = fact(s) * fact(j - j1 + j2 - s) * fact(j + m - s) * fact(j1 - j2 - m + s)\n",
        "            num = ((-1) ** (j2 + m2 + s)) * fact(j2 + j + m1 - s) * fact(j1 - m1 + s)\n",
        "            sum += num / den\n",
        "        cg = prefactor * coefficient * sum\n",
        "        return cg\n",
        "    #Coupling Coefficient\n",
        "    @classmethod\n",
        "    def H(cls, j1, j2, j, m1, m2, m, m1p, m2p, mp):\n",
        "        CG = cls.clebsch_gordan(j1, j2, j, m1, m2, m)\n",
        "        CGp = cls.clebsch_gordan(j1, j2, j, m1p, m2p, mp)\n",
        "        H_coeff = CG * CGp\n",
        "        return H_coeff\n",
        "    @staticmethod\n",
        "    def compute_dsmall(j, m, mp, theta):\n",
        "        \"\"\"\n",
        "        This method is used to calculate the Wigner d small- real function involving trigonometric functions\n",
        "        Returns: Wigner d - real function\n",
        "        ==========================Reference==================================\n",
        "        [5] Chapter 4.3.1-(p.76,eq.4)  D.A. Varshalovich, A.N. Moskalev, V.K Khersonskii,\n",
        "        \"\"\"\n",
        "        kmax = max(0,m - mp)\n",
        "        kmin = min(j + m, j - mp)\n",
        "        term1 = np.sqrt(fact(j + m) * fact(j - m) * fact(j + mp) * fact(j - mp))\n",
        "        sum = 0\n",
        "        for k in range(int(kmax), int(kmin) + 1):\n",
        "            numerator = (-1) ** k * (np.cos(theta / 2)) ** (2 * j - 2 * k + m - mp) * \\\n",
        "                        (np.sin(theta / 2)) ** (2 * k - m + mp)\n",
        "            denominator = fact(k) * fact(j + m - k) * fact(j - mp - k) * fact(mp - m + k)\n",
        "            sum += numerator / denominator\n",
        "        return sum*term1\n",
        "    @classmethod\n",
        "    def wigner_D(cls, j, m, mp, theta_0, theta, phi):\n",
        "        \"\"\"\n",
        "        This method is used to calculate the Wigner D matrix\n",
        "        Args:\n",
        "            theta_0 (scalar): first angle of rotation [0, pi]\n",
        "            theta (scalar): second angle of rotation [0, pi]\n",
        "            phi (scalar): third angle of rotation [0, 2*pi]\n",
        "        Returns: complex number, Wigner D function\n",
        "        ==========================Reference==================================\n",
        "        [5] Chapter 4.3-(p.76,eq.1)  D.A. Varshalovich, A.N. Moskalev, V.K Khersonskii,\n",
        "        \"\"\"\n",
        "        term1 = np.cos(m *theta_0) - 1j*(np.sin(m * theta_0))\n",
        "        term2 = cls.compute_dsmall(j, m, mp, theta)\n",
        "        term3 = np.cos(mp * phi) -1j*(np.sin(mp * phi))\n",
        "        result = term1 * term2 * term3\n",
        "        return result\n",
        "    @classmethod\n",
        "    def U_rot(cls, j, m, mp, theta_0, theta, phi):\n",
        "        \"\"\"\n",
        "        This method is used to calculate the rotation matrix U\n",
        "        Returns: complex number, Rotational matrix U function\n",
        "        ==========================Reference==================================\n",
        "        [5] Chapter 4  D.A. Varshalovich, A.N. Moskalev, V.K Khersonskii,\n",
        "                  Quantum Theory of Angular Momentum (1988)\n",
        "        \"\"\"\n",
        "        mpp_vals = np.linspace(-j, j, int(2 * j + 1))\n",
        "        U = 0\n",
        "        for mpp in mpp_vals:\n",
        "            term1 = cls.wigner_D(j, m, mpp, phi, theta, -phi)\n",
        "            term2 = np.cos(mpp * theta_0) - 1j * (np.sin(mpp * theta_0))\n",
        "            term3 = cls.wigner_D(j, mpp, mp, phi, -theta, -phi)\n",
        "            Um_mp = term1 * term2 * term3\n",
        "            U += Um_mp\n",
        "        return U\n",
        "    @classmethod\n",
        "    def u_small(cls, j, m, mp, params):\n",
        "        \"\"\"\n",
        "        Args:\n",
        "            j (scalar): angular momentum\n",
        "            m (scalar): eigenvalue of angular momentum\n",
        "            mp (scalar): eigenvalue of j along rotated axis\n",
        "            params (dict): a dictionary containing the following keys, its values:\n",
        "                - w_ik (array): the coefficients that are dimensionless weights that are chosen to distinguish atoms\n",
        "                  of different types, while the central atom is arbitrarily assigned a unit weight, dimensin (1,k)\n",
        "                - delta (array): the Dirac delta function, indicates only neighbor atom of element the same as center atom\n",
        "                  contribute to partial density,  dimension (1,k)\n",
        "                - r_ik (array): distance from center atom to neighbor atom, dimension (1,k), k is number of neighbor atoms\n",
        "                  in cutoff radius, array exclude center atom as well\n",
        "                - r_cut (array): cutoff radius\n",
        "                - theta_0: array for theta_0 angel (fist angle of rotation [0,pi])\n",
        "                  of neighbor atoms in reference frame of center atom, dimension (k+1,)\n",
        "                - theta: array for theta angel ( second angle of rotation [0,pi])\n",
        "                  of neighbor atoms in reference frame of center atom, dimension (k+1,)\n",
        "                - phi: array for phi angel (third angle of rotation [0,2pi])\n",
        "                  of neighbor atoms in reference frame of center atom, dimension (k+1,)\n",
        "        Returns: expansion coefficients density function u_jm_mp\n",
        "        \"\"\"\n",
        "        w_ik_array = params['w_ik']\n",
        "        delta_array = params['delta']\n",
        "        r_ik_array = params['r_ik']\n",
        "        r_cut_array = params['r_cut']\n",
        "        theta_0_array = params['theta_0']\n",
        "        theta_array = params['theta']\n",
        "        phi_array = params['phi']\n",
        "\n",
        "        # Calculate cutoff_function\n",
        "        f_cut_arr = (1 / 2) * (np.cos(np.pi * (np.divide(r_ik_array, r_cut_array))) + 1)\n",
        "        # Calculate rotational matrix U for all k=n neighbor atoms\n",
        "        U_ik_array = np.array([cls.U_rot(j, m, mp, theta_0, theta, phi) for theta_0, theta, phi in\n",
        "                               zip(theta_0_array, theta_array, phi_array)], dtype='complex')\n",
        "        # Compute u_jmmp\n",
        "        u_jmmp = np.dot((f_cut_arr * U_ik_array), (w_ik_array * delta_array))\n",
        "        return u_jmmp\n",
        "    @classmethod\n",
        "    def evaluate(cls, j, j1, j2, params):\n",
        "        m_list, full_list = cls.generate_m_values(j,j1,j2)\n",
        "        B_total = 0\n",
        "        for i in m_list:\n",
        "          m1, m2, m, m1p, m2p, mp = i[0], i[1], i[2], i[3], i[4], i[5]\n",
        "          H_coeff = cls.H(j1, j2, j, m1, m2, m, m1p, m2p, mp)\n",
        "          u_jmmp = cls.u_small(j, m, mp, params)\n",
        "          u1_j1m1m1p = cls.u_small(j1, m1, m1p, params)\n",
        "          u2_j2m2m2p = cls.u_small(j2, m2, m2p, params)\n",
        "          B = np.conj(u_jmmp) * (H_coeff * u1_j1m1m1p * u2_j2m2m2p)\n",
        "          B_total += B\n",
        "        return B_total\n"
      ],
      "metadata": {
        "colab": {
          "base_uri": "https://localhost:8080/"
        },
        "id": "nLf_hBvTAy-D",
        "outputId": "330d73a2-c6e6-436c-ca8f-99ed782ced29"
      },
      "execution_count": null,
      "outputs": [
        {
          "output_type": "stream",
          "name": "stdout",
          "text": [
            "time: 5.39 ms (started: 2023-05-03 03:34:53 +00:00)\n"
          ]
        }
      ]
    },
    {
      "cell_type": "markdown",
      "source": [
        "Example"
      ],
      "metadata": {
        "id": "VQJAaaSgBX9P"
      }
    },
    {
      "cell_type": "code",
      "source": [
        "from sympy import *\n",
        "import timeit\n",
        "from sympy.physics.quantum.cg import CG\n",
        "#INPUT\n",
        "center_atom_id = 17\n",
        "r_mu =0.0779 \n",
        "R_cut= 0.25\n",
        "input_file = \"/content/drive/MyDrive/bispectrump_components/data/avgBL-Model.cif\"\n",
        "output_dir =  \"/content/drive/MyDrive/bispectrump_components/data\"\n",
        "file_type = 'cif'\n",
        "input_data = neighbor_params(center_atom_id, r_mu, R_cut, input_file, output_dir, file_type='cif')"
      ],
      "metadata": {
        "colab": {
          "base_uri": "https://localhost:8080/"
        },
        "id": "ROe1BXj7BZsb",
        "outputId": "365e7ba8-ca22-460f-8940-455eafde55e8"
      },
      "execution_count": null,
      "outputs": [
        {
          "output_type": "stream",
          "name": "stdout",
          "text": [
            "time: 27.5 ms (started: 2023-05-03 03:34:57 +00:00)\n"
          ]
        }
      ]
    },
    {
      "cell_type": "markdown",
      "source": [
        "## Test functions inside Bispectrum class"
      ],
      "metadata": {
        "id": "o-8504IWHy4T"
      }
    },
    {
      "cell_type": "code",
      "source": [
        "#possible list of m values\n",
        "B = Bispectrum(j=2, j1=1/2, j2=3/2, params=input_data)"
      ],
      "metadata": {
        "colab": {
          "base_uri": "https://localhost:8080/"
        },
        "id": "l_KPO-7Rfqsf",
        "outputId": "624501bd-92ba-4650-d0a4-401ef7646149"
      },
      "execution_count": null,
      "outputs": [
        {
          "output_type": "stream",
          "name": "stdout",
          "text": [
            "time: 608 µs (started: 2023-05-03 03:34:59 +00:00)\n"
          ]
        }
      ]
    },
    {
      "cell_type": "code",
      "source": [
        "#test Clebsch Gordan Coefficient calculation\n",
        "CG_coeff = B.clebsch_gordan(j1, j2, j, m1, m2, m)\n",
        "print(CG_coeff)\n",
        "#Compare sympy\n",
        "cg = CG(j1,m1,j2,m2,j,m)\n",
        "cg = cg.doit()\n",
        "\n",
        "#test Coupling coefficient calculation\n",
        "H_coeff = B.H(j1, j2, j, m1, m2, m, m1p, m2p, mp)\n",
        "print(H_coeff)\n",
        "\n",
        "#Test Wigner D\n",
        "j, m, mp, theta_0, theta,phi= 1, -1, 0, np.pi, np.pi/2, 0\n",
        "WD = B.wigner_D(j, m, mp, theta_0, theta,phi)\n",
        "#Test U_rot\n",
        "U = B.U_rot(j, m, mp, theta_0, theta,phi)\n",
        "print (WD)\n",
        "print(U)\n",
        "#Test u-small\n",
        "u = B.u_small(j, m, mp, params=input_data)"
      ],
      "metadata": {
        "colab": {
          "base_uri": "https://localhost:8080/"
        },
        "id": "zvIO0MlMHws_",
        "outputId": "c21a3023-ae9d-4804-a1be-10c73376499b"
      },
      "execution_count": null,
      "outputs": [
        {
          "output_type": "stream",
          "name": "stdout",
          "text": [
            "1.0000000000000002\n",
            "1.0000000000000004\n",
            "(-0.7071067811865476+8.659560562354934e-17j)\n",
            "(2.7755575615628914e-16-8.659560562354933e-17j)\n",
            "time: 26.2 ms (started: 2023-05-03 03:35:01 +00:00)\n"
          ]
        }
      ]
    },
    {
      "cell_type": "markdown",
      "source": [
        "### Rotational matrix $U^j_{mm'}$\n",
        "Ref[1], p.30, eq.(A.4), the 4D hysperspherical harmonics satisfy the following symmetry sign-inversion relation\n",
        "$$\n",
        "U^j_{mm'}=(-1)^{m'-m}(U^j_{-m,-m'})^*\n",
        "$$"
      ],
      "metadata": {
        "id": "zErlb0cwsf_O"
      }
    },
    {
      "cell_type": "code",
      "source": [
        "#Test U_rot\n",
        "j, m, mp, theta_0, theta,phi= 1, -1, 0, np.pi, np.pi/2, 0\n",
        "U = B.U_rot(j, m, mp, theta_0, theta,phi)\n",
        "U_p = B.U_rot(j, -m, -mp, theta_0, theta,phi)\n",
        "U_test =(-1)**(mp-m)*np.conj(U_p)\n",
        "print(U_test)\n",
        "print (U)"
      ],
      "metadata": {
        "colab": {
          "base_uri": "https://localhost:8080/"
        },
        "id": "GhbcZtEbttjz",
        "outputId": "c923eb5a-e9a6-4abe-93ab-258078d5716e"
      },
      "execution_count": 54,
      "outputs": [
        {
          "output_type": "stream",
          "name": "stdout",
          "text": [
            "(2.7755575615628914e-16-8.659560562354933e-17j)\n",
            "(2.7755575615628914e-16-8.659560562354933e-17j)\n",
            "time: 5.49 ms (started: 2023-05-03 03:50:02 +00:00)\n"
          ]
        }
      ]
    },
    {
      "cell_type": "markdown",
      "source": [
        "Test B calculation:\n",
        " "
      ],
      "metadata": {
        "id": "3PzBfCPKgxW_"
      }
    },
    {
      "cell_type": "code",
      "source": [
        "#Test bispectrum calculation\n",
        "#possible list of m values\n",
        "B_1 = Bispectrum(j=2, j1=1/2, j2=3/2, params=input_data)\n",
        "B1 = B_1.evaluate(j=2, j1=1/2, j2=3/2, params=input_data)\n",
        "\n",
        "B_2 = Bispectrum(j=2, j1=3/2, j2=1/2, params=input_data)\n",
        "B2 = B_2.evaluate(j=2, j1=3/2, j2=1/2, params=input_data)\n",
        "print(B1)\n",
        "print(B2)\n"
      ],
      "metadata": {
        "colab": {
          "base_uri": "https://localhost:8080/"
        },
        "id": "SbhCHeGcg2ES",
        "outputId": "01a81ec7-4ce5-4e22-cccd-dc52fb7947f5"
      },
      "execution_count": null,
      "outputs": [
        {
          "output_type": "stream",
          "name": "stdout",
          "text": [
            "(1.3631640353765455+0.17853639602096893j)\n",
            "(1.3631640353765455+0.17853639602096893j)\n",
            "time: 195 ms (started: 2023-05-03 03:36:10 +00:00)\n"
          ]
        }
      ]
    },
    {
      "cell_type": "markdown",
      "source": [
        "Comment: When interchange $j_1, and j_2$ B are the same"
      ],
      "metadata": {
        "id": "RIOhp0sJrsPg"
      }
    }
  ]
}