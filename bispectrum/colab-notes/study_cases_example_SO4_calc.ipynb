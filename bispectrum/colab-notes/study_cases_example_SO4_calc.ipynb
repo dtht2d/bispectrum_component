{
  "nbformat": 4,
  "nbformat_minor": 0,
  "metadata": {
    "colab": {
      "provenance": [],
      "authorship_tag": "ABX9TyOBMGQh6dqavASqDb5EqrLq",
      "include_colab_link": true
    },
    "kernelspec": {
      "name": "python3",
      "display_name": "Python 3"
    },
    "language_info": {
      "name": "python"
    }
  },
  "cells": [
    {
      "cell_type": "markdown",
      "metadata": {
        "id": "view-in-github",
        "colab_type": "text"
      },
      "source": [
        "<a href=\"https://colab.research.google.com/github/dtht2d/bispectrum_component/blob/main/bispectrum/colab-notes/study_cases_example_SO4_calc.ipynb\" target=\"_parent\"><img src=\"https://colab.research.google.com/assets/colab-badge.svg\" alt=\"Open In Colab\"/></a>"
      ]
    },
    {
      "cell_type": "markdown",
      "source": [
        "#Study different cases for calculation SO4"
      ],
      "metadata": {
        "id": "x6DMByOmbeDd"
      }
    },
    {
      "cell_type": "markdown",
      "source": [
        "### Import libraries"
      ],
      "metadata": {
        "id": "L68m57F4bqcY"
      }
    },
    {
      "cell_type": "code",
      "source": [
        "!pip install biopython"
      ],
      "metadata": {
        "colab": {
          "base_uri": "https://localhost:8080/"
        },
        "id": "tIaSu49MbtN_",
        "outputId": "d465bbf5-b153-4eaf-d26b-035359946595"
      },
      "execution_count": 3,
      "outputs": [
        {
          "output_type": "stream",
          "name": "stdout",
          "text": [
            "Collecting biopython\n",
            "  Downloading biopython-1.81-cp310-cp310-manylinux_2_17_x86_64.manylinux2014_x86_64.whl (3.1 MB)\n",
            "\u001b[?25l     \u001b[90m━━━━━━━━━━━━━━━━━━━━━━━━━━━━━━━━━━━━━━━━\u001b[0m \u001b[32m0.0/3.1 MB\u001b[0m \u001b[31m?\u001b[0m eta \u001b[36m-:--:--\u001b[0m\r\u001b[2K     \u001b[91m━━━\u001b[0m\u001b[91m╸\u001b[0m\u001b[90m━━━━━━━━━━━━━━━━━━━━━━━━━━━━━━━━━━━━\u001b[0m \u001b[32m0.3/3.1 MB\u001b[0m \u001b[31m8.3 MB/s\u001b[0m eta \u001b[36m0:00:01\u001b[0m\r\u001b[2K     \u001b[91m━━━━━━━━━━━━━━━━━━━━━━━━━━━\u001b[0m\u001b[91m╸\u001b[0m\u001b[90m━━━━━━━━━━━━\u001b[0m \u001b[32m2.1/3.1 MB\u001b[0m \u001b[31m30.2 MB/s\u001b[0m eta \u001b[36m0:00:01\u001b[0m\r\u001b[2K     \u001b[90m━━━━━━━━━━━━━━━━━━━━━━━━━━━━━━━━━━━━━━━━\u001b[0m \u001b[32m3.1/3.1 MB\u001b[0m \u001b[31m29.9 MB/s\u001b[0m eta \u001b[36m0:00:00\u001b[0m\n",
            "\u001b[?25hRequirement already satisfied: numpy in /usr/local/lib/python3.10/dist-packages (from biopython) (1.22.4)\n",
            "Installing collected packages: biopython\n",
            "Successfully installed biopython-1.81\n"
          ]
        }
      ]
    },
    {
      "cell_type": "code",
      "source": [
        "!pip install ipython-autotime\n",
        "%load_ext autotime"
      ],
      "metadata": {
        "colab": {
          "base_uri": "https://localhost:8080/"
        },
        "id": "O3-JSv0AbwzL",
        "outputId": "19b3ccd6-fbb0-49c2-d901-df8741299a18"
      },
      "execution_count": 4,
      "outputs": [
        {
          "output_type": "stream",
          "name": "stdout",
          "text": [
            "Collecting ipython-autotime\n",
            "  Downloading ipython_autotime-0.3.1-py2.py3-none-any.whl (6.8 kB)\n",
            "Requirement already satisfied: ipython in /usr/local/lib/python3.10/dist-packages (from ipython-autotime) (7.34.0)\n",
            "Requirement already satisfied: setuptools>=18.5 in /usr/local/lib/python3.10/dist-packages (from ipython->ipython-autotime) (67.7.2)\n",
            "Collecting jedi>=0.16 (from ipython->ipython-autotime)\n",
            "  Downloading jedi-0.18.2-py2.py3-none-any.whl (1.6 MB)\n",
            "\u001b[2K     \u001b[90m━━━━━━━━━━━━━━━━━━━━━━━━━━━━━━━━━━━━━━━━\u001b[0m \u001b[32m1.6/1.6 MB\u001b[0m \u001b[31m16.3 MB/s\u001b[0m eta \u001b[36m0:00:00\u001b[0m\n",
            "\u001b[?25hRequirement already satisfied: decorator in /usr/local/lib/python3.10/dist-packages (from ipython->ipython-autotime) (4.4.2)\n",
            "Requirement already satisfied: pickleshare in /usr/local/lib/python3.10/dist-packages (from ipython->ipython-autotime) (0.7.5)\n",
            "Requirement already satisfied: traitlets>=4.2 in /usr/local/lib/python3.10/dist-packages (from ipython->ipython-autotime) (5.7.1)\n",
            "Requirement already satisfied: prompt-toolkit!=3.0.0,!=3.0.1,<3.1.0,>=2.0.0 in /usr/local/lib/python3.10/dist-packages (from ipython->ipython-autotime) (3.0.38)\n",
            "Requirement already satisfied: pygments in /usr/local/lib/python3.10/dist-packages (from ipython->ipython-autotime) (2.14.0)\n",
            "Requirement already satisfied: backcall in /usr/local/lib/python3.10/dist-packages (from ipython->ipython-autotime) (0.2.0)\n",
            "Requirement already satisfied: matplotlib-inline in /usr/local/lib/python3.10/dist-packages (from ipython->ipython-autotime) (0.1.6)\n",
            "Requirement already satisfied: pexpect>4.3 in /usr/local/lib/python3.10/dist-packages (from ipython->ipython-autotime) (4.8.0)\n",
            "Requirement already satisfied: parso<0.9.0,>=0.8.0 in /usr/local/lib/python3.10/dist-packages (from jedi>=0.16->ipython->ipython-autotime) (0.8.3)\n",
            "Requirement already satisfied: ptyprocess>=0.5 in /usr/local/lib/python3.10/dist-packages (from pexpect>4.3->ipython->ipython-autotime) (0.7.0)\n",
            "Requirement already satisfied: wcwidth in /usr/local/lib/python3.10/dist-packages (from prompt-toolkit!=3.0.0,!=3.0.1,<3.1.0,>=2.0.0->ipython->ipython-autotime) (0.2.6)\n",
            "Installing collected packages: jedi, ipython-autotime\n",
            "Successfully installed ipython-autotime-0.3.1 jedi-0.18.2\n",
            "time: 398 µs (started: 2023-07-06 00:16:41 +00:00)\n"
          ]
        }
      ]
    },
    {
      "cell_type": "code",
      "execution_count": 5,
      "metadata": {
        "colab": {
          "base_uri": "https://localhost:8080/"
        },
        "id": "UUVYFVHhbSiZ",
        "outputId": "1d1b5c48-7e03-432c-8fcd-b949fd968334"
      },
      "outputs": [
        {
          "output_type": "stream",
          "name": "stdout",
          "text": [
            "time: 1.05 s (started: 2023-07-06 00:16:41 +00:00)\n"
          ]
        }
      ],
      "source": [
        "import numpy as np\n",
        "import json\n",
        "import pandas as pd\n",
        "from Bio.PDB.MMCIF2Dict import MMCIF2Dict\n",
        "from typing import Dict\n",
        "\n",
        "fact_cache = {}\n",
        "def fact(n):\n",
        "    if n < 0 or not np.isclose(n, int(n)):\n",
        "        raise ValueError(\"Invalid input parameter: n must be a non-negative integer.\")\n",
        "    if n in fact_cache:\n",
        "        return fact_cache[n]\n",
        "    result = np.math.factorial(int(n))\n",
        "    fact_cache[n] = result\n",
        "    return result\n",
        "class Bispectrum:\n",
        "    \"\"\"\n",
        "    Calculate bispectrum- S(0)4 components\n",
        "    \"\"\"\n",
        "    def __init__(self, j, j1, j2 , params: Dict[str, np.ndarray]):\n",
        "        '''\n",
        "            j: j index\n",
        "            j1: j1 index\n",
        "            j2: j2 index\n",
        "            input_data: input data dictionary with extracted values:\n",
        "            r_ik (array): dictance from center atom to n neighbor atom, dim = [n,]\n",
        "            theta_0 (array): first angle of rotation [0, pi] , dim = [n,]\n",
        "            theta (array): second angle of rotation [0, pi], dim = [n,]\n",
        "            phi (array): third angle of rotation [0, 2pi], dim = [n,]\n",
        "            w_ik (array): weight coefficient, dim = [n,]\n",
        "            delta (array): delta function, dim = [n,]\n",
        "            r_cut (array): cutoff distance, dim = [n,]\n",
        "        '''\n",
        "        self.j = j\n",
        "        self.j1 = j1\n",
        "        self.j2 = j2\n",
        "        self.params = params\n",
        "        w_ik_array = self.params['w_ik']\n",
        "        delta_array = self.params['delta']\n",
        "        r_ik_array = self.params['r_ik']\n",
        "        r_cut_array = self.params['r_cut']\n",
        "        theta_0_array = self.params['theta_0']\n",
        "        theta_array = self.params['theta']\n",
        "        phi_array = self.params['phi']\n",
        "        #Condition check\n",
        "        if not (abs(j1 - j2) <= j <= j1 + j2 and j1 + j2 - j % 1 != 0.5):\n",
        "            raise ValueError(\"Invalid input parameters: j1, j2, j must satisfy the triangle inequality.\\ \"\n",
        "                             \"j1+j2-j must not be a half-integer\")\n",
        "        J = (j1 + j2 + j)\n",
        "        if J < (int(j1 + j2 + j)) and J < 0:\n",
        "            raise ValueError(\"Invalid input parameters: j1, j2, j must not exceed a positive integer J\")\n",
        "\n",
        "    @staticmethod\n",
        "    def generate_m_values(j, j1, j2):\n",
        "        \"\"\"\n",
        "        This function generates (m1, m2, m, m1p, m2p, mp) from input set (j1,j2,j)\n",
        "        and only keeps sets that satisfy the conditions.\n",
        "        Return: a one and only unique set (m1, m2, m, m1p, m2p, mp)\n",
        "        \"\"\"\n",
        "        J = j1 + j2 + j\n",
        "        # Condition 1\n",
        "        if not ((abs(j1 - j2) <= j <= j1 + j2) or isinstance(J, int) or (J >= 0)):\n",
        "            raise ValueError(\"Condition (1) is not satisfied.\")\n",
        "        # Condition 2\n",
        "        if not ((isinstance(val, int) or val >= 0 for val in [j + j1 - j2, j - j1 + j2, j1 + j2 - j])):\n",
        "            raise ValueError(\"(𝑗+𝑗1−𝑗2) and (𝑗−𝑗1+𝑗2) and (𝑗1+𝑗2−𝑗) and is non-negative integer\")\n",
        "        # Condition 3\n",
        "        if j1 > J or j2 > J or j > J:\n",
        "            raise ValueError(\"𝑗1,𝑗2,𝑗 not exceed a positive integer 𝐽=𝑗1+𝑗2+𝑗\")\n",
        "        # Generate m values\n",
        "        m1_vals = np.linspace(-j1, j1, int(2 * j1 + 1))\n",
        "        m2_vals = np.linspace(-j2, j2, int(2 * j2 + 1))\n",
        "        m_vals = np.linspace(-j, j, int(2 * j + 1))\n",
        "        mp_vals = m_vals.copy()\n",
        "        m1p_vals = m1_vals.copy()\n",
        "        m2p_vals = m2_vals.copy()\n",
        "        m1, m2, m, m1p, m2p, mp = np.meshgrid(m1_vals, m2_vals, m_vals, m1p_vals, m2p_vals, mp_vals)\n",
        "        s = np.stack((m1.ravel(), m2.ravel(), m.ravel(), m1p.ravel(), m2p.ravel(), mp.ravel()), axis=1)\n",
        "        keep_list = []\n",
        "        full_list = []\n",
        "        for i in range(len(s)):\n",
        "            full_list.append(s[i])\n",
        "            m1_val, m2_val, m_val, m1p_val, m2p_val, mp_val = s[i]\n",
        "            # Condition 4-8: Clebsch-Gordan calc for set (𝑗1,𝑗2,𝑗,𝑚1,𝑚2,𝑚), (𝑗1,𝑗2,𝑗,𝑚1p,𝑚2p,𝑚p)\n",
        "            c4 = [isinstance(val, (int, float)) and val % 0.5 == 0 for val in\n",
        "                  [m1_val, m2_val, m_val, m1p_val, m2p_val, mp_val]]\n",
        "            c5 = [isinstance(vals, int) and vals >= 0 for vals in\n",
        "                  [j1 + m1_val, j1 - m1_val, j2 + m2_val, j2 - m2_val, j + m_val, j - m_val]]\n",
        "            c5_p = [isinstance(vals, int) and vals >= 0 for vals in\n",
        "                    [j1 + m1p_val, j1 - m1p_val, j2 + m2p_val, j2 - m2p_val, j + mp_val, j - mp_val]]\n",
        "            c6 = [m1_val + m2_val == m_val and m1p_val + m2p_val == mp_val]\n",
        "            c7 = [abs(val) <= limit for val, limit in\n",
        "                  [(m1_val, j1), (m2_val, j2), (m_val, j), (m1p_val, j1), (m2p_val, j2), (mp_val, j)]]\n",
        "            # Condition 9: Wigner-D calc\n",
        "            c9 = [isinstance(vals, int) and vals >= 0 for vals in [mp_val - m_val, m1p_val - m1_val, m2p_val - m2_val]]\n",
        "        if (c4) and (c5 and c5_p) and (c6) and (c7) and (c9):\n",
        "            keep_list.append(s[i])\n",
        "        else:\n",
        "            pass\n",
        "        return keep_list, full_list\n",
        "    #Clebsch-Gordan Coefficient\n",
        "    @staticmethod\n",
        "    def clebsch_gordan(j1, j2, j, m1, m2, m):\n",
        "        \"\"\"\n",
        "        Definition:\n",
        "            A Clebsch-Gordan coefficients are vector addition coefficients. They play an important role in decomposition of\n",
        "            reducible representations of rotation. Let j1 and j2 with projections on m1 and m2 on the quantization axis.\n",
        "            The coefficients represent the probability amplitude that j1 and j2 are coupled into a resultant angular momentum\n",
        "            j with projection m.\n",
        "        Args:\n",
        "            j, j1, j2 (scalar): angular momentum\n",
        "            m, m1, m2 (scalar): eigenvalue of angular momentum j, j1, j2 respectively\n",
        "            mp, mp1, mp2 (scalar): eigenvalue of j, j1, j2 along rotated axis respectively\n",
        "        Returns: Clebsch-Gordan coefficients, real number\n",
        "        ==========================Reference==================================\n",
        "        [5] Chapter 8 D.A. Varshalovich, A.N. Moskalev, V.K Khersonskii,\n",
        "                Quantum Theory of Angular Momentum (1988)\n",
        "        [12] Chapter 3 Biedenharn, L., & Louck, J.D. ,\n",
        "                Encyclopedia of Mathematics and its Applications (1981)\n",
        "        \"\"\"\n",
        "        if m1 + m2 != m:\n",
        "            return 0.0  # delta function fails\n",
        "        prefactor = np.sqrt((2 * j + 1) * fact(j + j1 - j2) * fact(j - j1 + j2) * fact(j1 + j2 - j) / fact(j + j1 + j2 + 1))\n",
        "        coefficient = np.sqrt(fact(j + m) * fact(j - m) / (fact(j1 + m1) * fact(j1 - m1) * fact(j2 + m2) * fact(j2 - m2)))\n",
        "        sum = 0.0\n",
        "        smin = max(0, int(m1 - j1), int(j2 - j1 + m))\n",
        "        smax = min(int(j2 + j + m1), int(j - j1 + j2), int(j +m))\n",
        "        for s in range(smin, smax + 1):\n",
        "            den = fact(s) * fact(j - j1 + j2 - s) * fact(j + m - s) * fact(j1 - j2 - m + s)\n",
        "            num = ((-1) ** (j2 + m2 + s)) * fact(j2 + j + m1 - s) * fact(j1 - m1 + s)\n",
        "            sum += num / den\n",
        "        cg = prefactor * coefficient * sum\n",
        "        return cg\n",
        "    #Coupling Coefficient\n",
        "    @classmethod\n",
        "    def H(cls, j1, j2, j, m1, m2, m, m1p, m2p, mp):\n",
        "        CG = cls.clebsch_gordan(j1, j2, j, m1, m2, m)\n",
        "        CGp = cls.clebsch_gordan(j1, j2, j, m1p, m2p, mp)\n",
        "        H_coeff = CG * CGp\n",
        "        return H_coeff\n",
        "    @staticmethod\n",
        "    def compute_dsmall(j, m, mp, theta):\n",
        "        \"\"\"\n",
        "        This method is used to calculate the Wigner d small- real function involving trigonometric functions\n",
        "        Returns: Wigner d - real function\n",
        "        ==========================Reference==================================\n",
        "        [5] Chapter 4.3.1-(p.76,eq.4)  D.A. Varshalovich, A.N. Moskalev, V.K Khersonskii,\n",
        "        \"\"\"\n",
        "        kmax = max(0,m - mp)\n",
        "        kmin = min(j + m, j - mp)\n",
        "        term1 = np.sqrt(fact(j + m) * fact(j - m) * fact(j + mp) * fact(j - mp))\n",
        "        sum = 0\n",
        "        for k in range(int(kmax), int(kmin) + 1):\n",
        "            numerator = (-1) ** k * (np.cos(theta / 2)) ** (2 * j - 2 * k + m - mp) * \\\n",
        "                        (np.sin(theta / 2)) ** (2 * k - m + mp)\n",
        "            denominator = fact(k) * fact(j + m - k) * fact(j - mp - k) * fact(mp - m + k)\n",
        "            sum += numerator / denominator\n",
        "        return sum*term1\n",
        "    @classmethod\n",
        "    def wigner_D(cls, j, m, mp, theta_0, theta, phi):\n",
        "        \"\"\"\n",
        "        This method is used to calculate the Wigner D matrix\n",
        "        Args:\n",
        "            theta_0 (scalar): first angle of rotation [0, pi]\n",
        "            theta (scalar): second angle of rotation [0, pi]\n",
        "            phi (scalar): third angle of rotation [0, 2*pi]\n",
        "        Returns: complex number, Wigner D function\n",
        "        ==========================Reference==================================\n",
        "        [5] Chapter 4.3-(p.76,eq.1)  D.A. Varshalovich, A.N. Moskalev, V.K Khersonskii,\n",
        "        \"\"\"\n",
        "        term1 = np.cos(m *theta_0) - 1j*(np.sin(m * theta_0))\n",
        "        term2 = cls.compute_dsmall(j, m, mp, theta)\n",
        "        term3 = np.cos(mp * phi) -1j*(np.sin(mp * phi))\n",
        "        result = term1 * term2 * term3\n",
        "        return result\n",
        "    @classmethod\n",
        "    def U_rot(cls, j, m, mp, theta_0, theta, phi):\n",
        "        \"\"\"\n",
        "        This method is used to calculate the rotation matrix U\n",
        "        Returns: complex number, Rotational matrix U function\n",
        "        ==========================Reference==================================\n",
        "        [5] Chapter 4  D.A. Varshalovich, A.N. Moskalev, V.K Khersonskii,\n",
        "                  Quantum Theory of Angular Momentum (1988)\n",
        "        \"\"\"\n",
        "        mpp_vals = np.linspace(-j, j, int(2 * j + 1))\n",
        "        U = 0\n",
        "        for mpp in mpp_vals:\n",
        "            term1 = cls.wigner_D(j, m, mpp, phi, theta, -phi)\n",
        "            term2 = np.cos(mpp * theta_0) - 1j * (np.sin(mpp * theta_0))\n",
        "            term3 = cls.wigner_D(j, mpp, mp, phi, -theta, -phi)\n",
        "            Um_mp = term1 * term2 * term3\n",
        "            U += Um_mp\n",
        "        return U\n",
        "    @classmethod\n",
        "    def u_small(cls, j, m, mp, params):\n",
        "        \"\"\"\n",
        "        Args:\n",
        "            j (scalar): angular momentum\n",
        "            m (scalar): eigenvalue of angular momentum\n",
        "            mp (scalar): eigenvalue of j along rotated axis\n",
        "            params (dict): a dictionary containing the following keys, its values:\n",
        "                - w_ik (array): the coefficients that are dimensionless weights that are chosen to distinguish atoms\n",
        "                  of different types, while the central atom is arbitrarily assigned a unit weight, dimensin (1,k)\n",
        "                - delta (array): the Dirac delta function, indicates only neighbor atom of element the same as center atom\n",
        "                  contribute to partial density,  dimension (1,k)\n",
        "                - r_ik (array): distance from center atom to neighbor atom, dimension (1,k), k is number of neighbor atoms\n",
        "                  in cutoff radius, array exclude center atom as well\n",
        "                - r_cut (array): cutoff radius\n",
        "                - theta_0: array for theta_0 angel (fist angle of rotation [0,pi])\n",
        "                  of neighbor atoms in reference frame of center atom, dimension (k+1,)\n",
        "                - theta: array for theta angel ( second angle of rotation [0,pi])\n",
        "                  of neighbor atoms in reference frame of center atom, dimension (k+1,)\n",
        "                - phi: array for phi angel (third angle of rotation [0,2pi])\n",
        "                  of neighbor atoms in reference frame of center atom, dimension (k+1,)\n",
        "        Returns: expansion coefficients density function u_jm_mp\n",
        "        \"\"\"\n",
        "        w_ik_array = params['w_ik']\n",
        "        delta_array = params['delta']\n",
        "        r_ik_array = params['r_ik']\n",
        "        r_cut_array = params['r_cut']\n",
        "        theta_0_array = params['theta_0']\n",
        "        theta_array = params['theta']\n",
        "        phi_array = params['phi']\n",
        "\n",
        "        # Calculate cutoff_function\n",
        "        f_cut_arr = (1 / 2) * (np.cos(np.pi * (np.divide(r_ik_array, r_cut_array))) + 1)\n",
        "        # Calculate rotational matrix U for all k=n neighbor atoms\n",
        "        U_ik_array = np.array([cls.U_rot(j, m, mp, theta_0, theta, phi) for theta_0, theta, phi in\n",
        "                               zip(theta_0_array, theta_array, phi_array)], dtype='complex')\n",
        "        # Compute u_jmmp\n",
        "        u_jmmp = np.dot((f_cut_arr * U_ik_array), (w_ik_array * delta_array))\n",
        "        return u_jmmp\n",
        "    @classmethod\n",
        "    def evaluate(cls, j, j1, j2, params):\n",
        "        w_ik_array = params['w_ik']\n",
        "        delta_array = params['delta']\n",
        "        r_ik_array = params['r_ik']\n",
        "        r_cut_array = params['r_cut']\n",
        "        theta_0_array = params['theta_0']\n",
        "        theta_array = params['theta']\n",
        "        phi_array = params['phi']\n",
        "        m_list, full_list = cls.generate_m_values(j,j1,j2)\n",
        "        B_total = 0\n",
        "        for i in m_list:\n",
        "            m1, m2, m, m1p, m2p, mp = i[0], i[1], i[2], i[3], i[4], i[5]\n",
        "            H_coeff = cls.H(j1, j2, j, m1, m2, m, m1p, m2p, mp)\n",
        "            u_jmmp = cls.u_small(j, m, mp, params)\n",
        "            u1_j1m1m1p = cls.u_small(j1, m1, m1p, params)\n",
        "            u2_j2m2m2p = cls.u_small(j2, m2, m2p, params)\n",
        "            B = np.conj(u_jmmp) * (H_coeff * u1_j1m1m1p * u2_j2m2m2p)\n",
        "            B_total += B\n",
        "        return B_total"
      ]
    },
    {
      "cell_type": "markdown",
      "source": [
        "### Case 1:\n",
        "A compound where the central atom has only two symmetrical neighbors of the same atom type is known as a diatomic molecule.\n",
        "Note: In diatomic molecules, the central atom is bonded to two identical atoms.  \n",
        "A well-known example of a diatomic molecule is molecular oxygen (O2). In O2, the central atom is oxygen, and it is bonded to two other oxygen atoms. The molecule has a linear arrangement, with the oxygen-oxygen-oxygen bond angle being 180 degrees."
      ],
      "metadata": {
        "id": "BL7_dsQscTk6"
      }
    },
    {
      "cell_type": "code",
      "source": [
        "data = {\n",
        "    'w_ik': np.array([1.0, 1.0]),\n",
        "    'delta': np.array([1.0, 1.0]),\n",
        "    'r_ik': np.array([0.5, 0.5]),\n",
        "    'r_cut': np.array([0.6, 0.6]),\n",
        "    'theta_0': np.array([np.pi/6, np.pi/6]),\n",
        "    'theta': np.array([np.pi/3, np.pi/3]),\n",
        "    'phi': np.array([np.pi/5, np.pi/5])\n",
        "}"
      ],
      "metadata": {
        "colab": {
          "base_uri": "https://localhost:8080/"
        },
        "id": "uc9tTKGiFEvc",
        "outputId": "0496bf98-c8f3-4181-e3b3-bad67787f521"
      },
      "execution_count": 6,
      "outputs": [
        {
          "output_type": "stream",
          "name": "stdout",
          "text": [
            "time: 832 µs (started: 2023-07-06 00:16:42 +00:00)\n"
          ]
        }
      ]
    },
    {
      "cell_type": "code",
      "source": [
        "B= Bispectrum(j=3, j1=2, j2=1, params=data)\n",
        "B1 = B.evaluate(j=3, j1=2, j2=1, params=data)\n",
        "\n",
        "print(B1)"
      ],
      "metadata": {
        "colab": {
          "base_uri": "https://localhost:8080/"
        },
        "id": "rwTLpnawFHoS",
        "outputId": "0943f66f-8cef-46da-a882-0cf8828cc3f2"
      },
      "execution_count": 7,
      "outputs": [
        {
          "output_type": "stream",
          "name": "stdout",
          "text": [
            "(0.0017650187391923431+3.2526065174565133e-19j)\n",
            "time: 176 ms (started: 2023-07-06 00:16:42 +00:00)\n"
          ]
        }
      ]
    },
    {
      "cell_type": "markdown",
      "source": [
        "**Interchange $j_1$ and $j_2$ values**"
      ],
      "metadata": {
        "id": "bSNPZUu1Mwn4"
      }
    },
    {
      "cell_type": "code",
      "source": [
        "B= Bispectrum(j=6, j1=1, j2=5, params=data)\n",
        "B2 = B.evaluate(j=6, j1=1, j2=5, params=data)\n",
        "print(B2)"
      ],
      "metadata": {
        "colab": {
          "base_uri": "https://localhost:8080/"
        },
        "id": "BllewtTiMwPA",
        "outputId": "6db4fac6-5907-41ba-c3a9-096b67ba93f4"
      },
      "execution_count": 8,
      "outputs": [
        {
          "output_type": "stream",
          "name": "stdout",
          "text": [
            "(0.0012954816653356635+2.439454888092385e-19j)\n",
            "time: 2.9 s (started: 2023-07-06 00:16:42 +00:00)\n"
          ]
        }
      ]
    },
    {
      "cell_type": "markdown",
      "source": [
        "## Example:\n",
        "---\n",
        "These value stay constant through out cases test:\n",
        "- Cell length = 20 Å→ cell_ratio = 1\n",
        "- Center atom coordinate $(x,y,z)= (0.5, 0.5, 0.5)$\n",
        "- Radius cutoff = 4 Å → $R_{cut}=\\frac{4}{20}=0.2$\n"
      ],
      "metadata": {
        "id": "jklJrJpzCl-t"
      }
    },
    {
      "cell_type": "markdown",
      "source": [
        "## Neighbor atoms parameter function"
      ],
      "metadata": {
        "id": "6Vccq2_Mi82F"
      }
    },
    {
      "cell_type": "code",
      "source": [
        "import numpy as np\n",
        "\n",
        "def test_neighbor(center_atom, neighbor_atoms, R_cut):\n",
        "    if neighbor_atoms is None:\n",
        "        neighbor_atoms = [center_atom]\n",
        "\n",
        "    if len(neighbor_atoms) == 1:\n",
        "        x_k = np.array([neighbor_atoms[0][0] - center_atom[0]])\n",
        "        y_k = np.array([neighbor_atoms[0][1] - center_atom[1]])\n",
        "        z_k = np.array([neighbor_atoms[0][2] - center_atom[2]])\n",
        "    else:\n",
        "        x_k = np.array([neighbor[0] - center_atom[0] for neighbor in neighbor_atoms])\n",
        "        y_k = np.array([neighbor[1] - center_atom[1] for neighbor in neighbor_atoms])\n",
        "        z_k = np.array([neighbor[2] - center_atom[2] for neighbor in neighbor_atoms])\n",
        "    # Calculate r_ik\n",
        "    r_ik_array = np.sqrt(x_k**2 + y_k**2 + z_k**2)\n",
        "    r_0_array = np.full(r_ik_array.shape, R_cut)\n",
        "    # Calculate angles\n",
        "    theta_0_array = np.pi * (r_ik_array / r_0_array)\n",
        "    z_k_abs_array = np.abs(z_k)\n",
        "    theta_array = np.arccos(z_k_abs_array / r_ik_array)\n",
        "    phi_array = np.arctan2(y_k, x_k)\n",
        "    phi_array_convert = np.mod(phi_array, 2 * np.pi)\n",
        "    # Convert NaN values to zero\n",
        "    theta_0_array = np.nan_to_num(theta_0_array, nan=0.0)\n",
        "    theta_array = np.nan_to_num(theta_array, nan=0.0)\n",
        "    phi_array = np.nan_to_num(phi_array, nan=0.0)\n",
        "    phi_array_convert = np.nan_to_num(phi_array_convert, nan=0.0)\n",
        "    # Create dictionary data\n",
        "    params = {\n",
        "        'w_ik': np.full(r_ik_array.shape, 1),\n",
        "        'delta': np.full(r_ik_array.shape, 1),\n",
        "        'r_ik': r_ik_array,\n",
        "        'r_cut': np.full(r_ik_array.shape, R_cut),\n",
        "        'theta_0': theta_0_array,\n",
        "        'theta': theta_array,\n",
        "        'phi': phi_array_convert\n",
        "    }\n",
        "    return params"
      ],
      "metadata": {
        "colab": {
          "base_uri": "https://localhost:8080/"
        },
        "id": "TkcY01JQi_Ms",
        "outputId": "edcc65af-ef8a-43d2-bae8-d9290dbc7c74"
      },
      "execution_count": 63,
      "outputs": [
        {
          "output_type": "stream",
          "name": "stdout",
          "text": [
            "time: 2.91 ms (started: 2023-07-06 00:51:32 +00:00)\n"
          ]
        }
      ]
    },
    {
      "cell_type": "markdown",
      "source": [
        "## Plot functions"
      ],
      "metadata": {
        "id": "cG5fN4v9i6Sx"
      }
    },
    {
      "cell_type": "code",
      "source": [
        "import matplotlib.pyplot as plt\n",
        "\n",
        "def plot_atoms(center_atom, neighbor_atoms, R_cut, cell_length, B):\n",
        "    # Plot\n",
        "    fig, ax = plt.subplots()\n",
        "    ax.set_xlim([0, cell_length])\n",
        "    ax.set_ylim([0, cell_length])\n",
        "    ax.set_aspect('equal')\n",
        "\n",
        "    ax.scatter(center_atom[0], center_atom[1], color='red', label='Center Atom')\n",
        "\n",
        "    if neighbor_atoms is not None:\n",
        "        for neighbor_atom in neighbor_atoms:\n",
        "            ax.scatter(neighbor_atom[0], neighbor_atom[1], color='green', label='Neighbor Atom')\n",
        "\n",
        "    circle = plt.Circle((center_atom[0], center_atom[1]), R_cut, fill=False, color='blue')\n",
        "    ax.add_artist(circle)\n",
        "\n",
        "    ax.annotate(r'$R_{\\mathrm{cut}}$', xy=(center_atom[0] + R_cut, center_atom[1]), xytext=(center_atom[0] + R_cut, center_atom[1] + 0.1),\n",
        "                 arrowprops=dict(facecolor='blue', arrowstyle='->'))\n",
        "    ax.set_title(\"{0} = {1}\".format(r'$B_{\\mathrm{j_1,j_2,j}}$', \"{:.2e}\".format(B.real)))\n",
        "    plt.show()\n"
      ],
      "metadata": {
        "colab": {
          "base_uri": "https://localhost:8080/"
        },
        "id": "-KEr0nnQlq_2",
        "outputId": "0de866de-3e81-4e60-fad5-3ec4996f61dd"
      },
      "execution_count": 64,
      "outputs": [
        {
          "output_type": "stream",
          "name": "stdout",
          "text": [
            "time: 1.32 ms (started: 2023-07-06 00:51:35 +00:00)\n"
          ]
        }
      ]
    },
    {
      "cell_type": "markdown",
      "source": [
        "### Case (1) - Special Case\n",
        "1 atom at 10,10,10 in a large (20 ang.) otherwise empty cubic cell.\n",
        "- Define the origin at center atom coordinate\n",
        "- Cell length = 20 Å→ cell_ratio = 1\n",
        "- Center atom coordinate $(x,y,z)= (0.5, 0.5, 0.5)$\n",
        "- Radius cutoff = 4 Å → $R_{cut}=\\frac{4}{20}=0.2$"
      ],
      "metadata": {
        "id": "Vqmdz5hrThDh"
      }
    },
    {
      "cell_type": "markdown",
      "source": [
        "Test: $j=\\frac{5}{2}, j_1=\\frac{3}{2}, j_2=1$"
      ],
      "metadata": {
        "id": "WlpIQ-ZwQAoo"
      }
    },
    {
      "cell_type": "code",
      "source": [
        "center_atom = [0.5, 0.5, 0.5]\n",
        "cell_length = 1.0\n",
        "R_cut = 0.2\n",
        "j,j1,j2= 5/2, 3/2, 1\n",
        "data_1 = {\n",
        "        'w_ik': np.array([1]),\n",
        "        'delta': np.array([0]),\n",
        "        'r_ik': np.array([0]),\n",
        "        'r_cut': np.array([0.2]),\n",
        "        'theta_0': np.array([0]),\n",
        "        'theta': np.array([0]),\n",
        "        'phi': np.array([0])\n",
        "    }\n",
        "#bispectrum calculation\n",
        "B_1= Bispectrum(j=5/2, j1=3/2, j2=2/2, params=data_1)\n",
        "B_data_1 = B_1.evaluate(j=5/2, j1=3/2, j2=2/2, params=data_1)\n",
        "print(B_data_1)"
      ],
      "metadata": {
        "colab": {
          "base_uri": "https://localhost:8080/"
        },
        "id": "kbqeJ3afjSnl",
        "outputId": "d7176d77-63e2-4b76-a5f5-ff89c042be28"
      },
      "execution_count": 65,
      "outputs": [
        {
          "output_type": "stream",
          "name": "stdout",
          "text": [
            "0j\n",
            "time: 77 ms (started: 2023-07-06 00:51:37 +00:00)\n"
          ]
        }
      ]
    },
    {
      "cell_type": "code",
      "source": [
        "plot_atoms(center_atom, neighbor_atoms, R_cut, cell_length, B=B_data_1)"
      ],
      "metadata": {
        "colab": {
          "base_uri": "https://localhost:8080/",
          "height": 471
        },
        "id": "mBwz4nfKhO5c",
        "outputId": "fc686c29-3d1b-4a8a-8832-60aa00236cd0"
      },
      "execution_count": 49,
      "outputs": [
        {
          "output_type": "display_data",
          "data": {
            "text/plain": [
              "<Figure size 640x480 with 1 Axes>"
            ],
            "image/png": "[encoded data removed]"
          },
          "metadata": {}
        },
        {
          "output_type": "stream",
          "name": "stdout",
          "text": [
            "time: 271 ms (started: 2023-07-06 00:41:43 +00:00)\n"
          ]
        }
      ]
    },
    {
      "cell_type": "markdown",
      "source": [
        "**Comment**: this make sense\n",
        "since we simplify\n",
        "$$u^j\n",
        "_{mm'} =  \\displaystyle\\sum_{r_{ik}<R_{cut}} f_c(r_{ik};R_{cut}^)w_{{\\mu}_{ik}}U_{m,m'}^{j}(\\theta_{0},\\theta, \\phi) \\delta_{ik}$$\n",
        "\n",
        "where $ U_{j,m,m'}(0,0,0) = 0, \\ \\delta_{ik} =0$, we ignore self contribution $w_{\\mu_i\\mu}^{self}$  therefore the bispectrum coeeficient must be zero"
      ],
      "metadata": {
        "id": "BLjJDXx0QZzj"
      }
    },
    {
      "cell_type": "markdown",
      "source": [
        "### Case (2)"
      ],
      "metadata": {
        "id": "maAEbw0FR1dn"
      }
    },
    {
      "cell_type": "markdown",
      "source": [
        "[Same cell at (1)] with: center atom at 10,10,10 and 1 neighbor atom at (12,10,10). We change coordinates to ratio of cell length\n",
        "- Neighbor coordinate ratio = $(\\frac{12}{20}, \\frac{10}{20},\\frac{10}{20})$"
      ],
      "metadata": {
        "id": "Fe7mEjX0R55O"
      }
    },
    {
      "cell_type": "markdown",
      "source": [
        "Recall: $\\begin{bmatrix}x_k\\\\y_k\\\\z_k \\end{bmatrix} =\\begin{bmatrix}x -x_i\\\\y-y_i\\\\z-z_i \\end{bmatrix} $\n",
        "\n",
        "where central atom  $i$  has its coordinate $(x_i,y_i,z_i)$ in the center of a single cell (reference coordinate frame, origin point $O(0,0,0)$ and orthogonal axes ($X,Y,Z$). Re-calculate coordinate for the neighbor atom in the cell by shift origin to $(x_i,y_i,z_i)$."
      ],
      "metadata": {
        "id": "bqatdMl6WlOK"
      }
    },
    {
      "cell_type": "code",
      "source": [
        "cell_length = 1 #unit ratio\n",
        "R_cut = 0.2\n",
        "center_atom = [0.5, 0.5, 0.5]\n",
        "neighbor_atoms_2 = [(0.6, 0.5, 0.5)]\n",
        "data_2 = test_neighbor(center_atom, neighbor_atoms_2, R_cut)\n",
        "#Test bispectrum calculation\n",
        "B_2= Bispectrum(j=5/2, j1=3/2, j2=2/2, params=data_2)\n",
        "B_data_2 = B_2.evaluate(j=5/2, j1=3/2, j2=2/2, params=data_2)\n",
        "print(B_data_2)"
      ],
      "metadata": {
        "colab": {
          "base_uri": "https://localhost:8080/"
        },
        "id": "mwgHJTefnJ5_",
        "outputId": "7151c68a-04f6-49e7-ffc7-bfd58729b7d3"
      },
      "execution_count": 66,
      "outputs": [
        {
          "output_type": "stream",
          "name": "stdout",
          "text": [
            "(0.003906250000000017-1.3514001218059705e-18j)\n",
            "time: 75.5 ms (started: 2023-07-06 00:51:41 +00:00)\n"
          ]
        }
      ]
    },
    {
      "cell_type": "code",
      "source": [
        "plot_atoms(center_atom, neighbor_atoms, R_cut, cell_length, B= B_data_2)"
      ],
      "metadata": {
        "colab": {
          "base_uri": "https://localhost:8080/",
          "height": 471
        },
        "id": "25TrSVx5SASF",
        "outputId": "dd7defaa-f466-4ac7-b4bc-07fe5124ade2"
      },
      "execution_count": 59,
      "outputs": [
        {
          "output_type": "display_data",
          "data": {
            "text/plain": [
              "<Figure size 640x480 with 1 Axes>"
            ],
            "image/png": "[encoded data removed]"
          },
          "metadata": {}
        },
        {
          "output_type": "stream",
          "name": "stdout",
          "text": [
            "time: 281 ms (started: 2023-07-06 00:43:11 +00:00)\n"
          ]
        }
      ]
    },
    {
      "cell_type": "markdown",
      "source": [
        "### Case (3)\n",
        "[Same cell at (1)] With: center atom at 10,10,10 and neighbor atom at (10,8,10)\n",
        "- Neighbor coordinate ratio = $(\\frac{10}{20}, \\frac{8}{20},\\frac{10}{20})$\n",
        "\n"
      ],
      "metadata": {
        "id": "nwA5A7h5fsvO"
      }
    },
    {
      "cell_type": "code",
      "source": [
        "cell_length = 1 #unit ratio\n",
        "R_cut = 0.2\n",
        "center_atom = [0.5, 0.5, 0.5]\n",
        "neighbor_atoms_3 = [(0.5,0.4,0.5)]\n",
        "data_3 = test_neighbor(center_atom, neighbor_atoms_3, R_cut)\n",
        "#Test bispectrum calculation\n",
        "B_3= Bispectrum(j=5/2, j1=3/2, j2=2/2, params=data_3)\n",
        "B_data_3 = B_3.evaluate(j=5/2, j1=3/2, j2=2/2, params=data_3)\n",
        "print(B_data_3)"
      ],
      "metadata": {
        "colab": {
          "base_uri": "https://localhost:8080/"
        },
        "id": "KgBFQ0AmnpIr",
        "outputId": "08e0a52d-113e-4c26-ea8f-542d8bbefa2a"
      },
      "execution_count": 69,
      "outputs": [
        {
          "output_type": "stream",
          "name": "stdout",
          "text": [
            "(0.003906250000000017+7.952106615507598e-19j)\n",
            "time: 166 ms (started: 2023-07-06 00:52:09 +00:00)\n"
          ]
        }
      ]
    },
    {
      "cell_type": "code",
      "source": [
        "plot_atoms(center_atom, neighbor_atoms_3, R_cut, cell_length, B= B_data_3)"
      ],
      "metadata": {
        "colab": {
          "base_uri": "https://localhost:8080/",
          "height": 471
        },
        "id": "k9oIu665ffr0",
        "outputId": "9e3ff51a-34bc-4b1d-9bd3-da4db6b8d150"
      },
      "execution_count": 71,
      "outputs": [
        {
          "output_type": "display_data",
          "data": {
            "text/plain": [
              "<Figure size 640x480 with 1 Axes>"
            ],
            "image/png": "[encoded data removed]"
          },
          "metadata": {}
        },
        {
          "output_type": "stream",
          "name": "stdout",
          "text": [
            "time: 926 ms (started: 2023-07-06 00:52:17 +00:00)\n"
          ]
        }
      ]
    },
    {
      "cell_type": "markdown",
      "source": [
        "## Case (4)\n",
        "[Same cell at (1)] With: center atom at 10,10,10 and neighbor atom at (8,10,10)\n",
        "- Neighbor coordinate ratio = $(\\frac{8}{20}, \\frac{10}{20},\\frac{10}{20})$"
      ],
      "metadata": {
        "id": "w5YZQgsb75em"
      }
    },
    {
      "cell_type": "code",
      "source": [
        "cell_length = 1 #unit ratio\n",
        "R_cut = 0.2\n",
        "center_atom = [0.5, 0.5, 0.5]\n",
        "neighbor_atoms_4 = [(0.4,0.5,0.5)]\n",
        "data_4 = params(center_atom, neighbor_atoms_4, R_cut)\n",
        "#Test bispectrum calculation\n",
        "B_4= Bispectrum(j=5/2, j1=3/2, j2=2/2, params=data_4)\n",
        "B_data_4 = B_4.evaluate(j=5/2, j1=3/2, j2=2/2, params=data_4)\n",
        "print(B_data_4)"
      ],
      "metadata": {
        "colab": {
          "base_uri": "https://localhost:8080/"
        },
        "id": "Z9uqxKUH74zc",
        "outputId": "278d6867-d3fc-46e8-d226-ee0d67b81dae"
      },
      "execution_count": 72,
      "outputs": [
        {
          "output_type": "stream",
          "name": "stdout",
          "text": [
            "(0.003906250000000017-4.3142407179594324e-19j)\n",
            "time: 133 ms (started: 2023-07-06 00:52:42 +00:00)\n"
          ]
        }
      ]
    },
    {
      "cell_type": "code",
      "source": [
        "plot_atoms(center_atom, neighbor_atoms_4, R_cut, cell_length, B= B_data_4)"
      ],
      "metadata": {
        "colab": {
          "base_uri": "https://localhost:8080/",
          "height": 471
        },
        "id": "mtVzUR3c8P8r",
        "outputId": "d5b57994-c6fa-4441-acf6-4faec4353ca4"
      },
      "execution_count": 74,
      "outputs": [
        {
          "output_type": "display_data",
          "data": {
            "text/plain": [
              "<Figure size 640x480 with 1 Axes>"
            ],
            "image/png": "[encoded data removed]"
          },
          "metadata": {}
        },
        {
          "output_type": "stream",
          "name": "stdout",
          "text": [
            "time: 712 ms (started: 2023-07-06 00:52:56 +00:00)\n"
          ]
        }
      ]
    },
    {
      "cell_type": "markdown",
      "source": [],
      "metadata": {
        "id": "ERs8tI1gK9OR"
      }
    },
    {
      "cell_type": "markdown",
      "source": [
        "(1) 1 atom at 10,10,10 in a large (20 ang.) otherwise empty cubic cell.\n",
        "\n",
        "(2) [Same cell at (1)] With: 1 atom at 10,10,10 and 1 atom at 12,10,10\n",
        "\n",
        "(3) [Same cell at (1)] With: 1 atom at 10,10,10 and 1 atom at 10,8,10\n",
        "\n",
        "(4) [Same cell at (1)] With: 1 atom at 10,10,10 and 1 atom at 10,10,12\n",
        "\n",
        "(5) [Same cell at (1)] With: 1 atom at 10,10,10 and 1 atom at 12,12,12\n",
        "\n",
        "(6) [Same cell at (1)] With: 1 atom at 10,10,10 and 1 atom at 11,10,10\n",
        "\n",
        "(7) [Same cell at (1)] With: 1 atom at 10,10,10 and 1 atom at 13,10,10"
      ],
      "metadata": {
        "id": "4G7yuwCXCgEU"
      }
    }
  ]
}