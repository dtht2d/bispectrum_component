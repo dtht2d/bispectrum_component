{
  "nbformat": 4,
  "nbformat_minor": 0,
  "metadata": {
    "colab": {
      "provenance": [],
      "authorship_tag": "ABX9TyOw5cuQxd2PX/Sn5jLZNkwG",
      "include_colab_link": true
    },
    "kernelspec": {
      "name": "python3",
      "display_name": "Python 3"
    },
    "language_info": {
      "name": "python"
    }
  },
  "cells": [
    {
      "cell_type": "markdown",
      "metadata": {
        "id": "view-in-github",
        "colab_type": "text"
      },
      "source": [
        "<a href=\"https://colab.research.google.com/github/dtht2d/bispectrum_component/blob/main/bispectrum/colab-notes/study_cases_example_SO4_calc.ipynb\" target=\"_parent\"><img src=\"https://colab.research.google.com/assets/colab-badge.svg\" alt=\"Open In Colab\"/></a>"
      ]
    },
    {
      "cell_type": "markdown",
      "source": [
        "#Study different cases for calculation SO4"
      ],
      "metadata": {
        "id": "x6DMByOmbeDd"
      }
    },
    {
      "cell_type": "markdown",
      "source": [
        "### Import libraries"
      ],
      "metadata": {
        "id": "L68m57F4bqcY"
      }
    },
    {
      "cell_type": "code",
      "source": [
        "!pip install biopython"
      ],
      "metadata": {
        "colab": {
          "base_uri": "https://localhost:8080/"
        },
        "id": "tIaSu49MbtN_",
        "outputId": "d606e258-c5dd-4129-f4c7-4fea734e4b9e"
      },
      "execution_count": 100,
      "outputs": [
        {
          "output_type": "stream",
          "name": "stdout",
          "text": [
            "Requirement already satisfied: biopython in /usr/local/lib/python3.10/dist-packages (1.81)\n",
            "Requirement already satisfied: numpy in /usr/local/lib/python3.10/dist-packages (from biopython) (1.22.4)\n",
            "time: 8.4 s (started: 2023-07-17 03:42:12 +00:00)\n"
          ]
        }
      ]
    },
    {
      "cell_type": "code",
      "source": [
        "!pip install ipython-autotime\n",
        "%load_ext autotime"
      ],
      "metadata": {
        "colab": {
          "base_uri": "https://localhost:8080/"
        },
        "id": "O3-JSv0AbwzL",
        "outputId": "3e7327dc-d5d6-403c-a16d-cf6923fb90cc"
      },
      "execution_count": 101,
      "outputs": [
        {
          "output_type": "stream",
          "name": "stdout",
          "text": [
            "Requirement already satisfied: ipython-autotime in /usr/local/lib/python3.10/dist-packages (0.3.1)\n",
            "Requirement already satisfied: ipython in /usr/local/lib/python3.10/dist-packages (from ipython-autotime) (7.34.0)\n",
            "Requirement already satisfied: setuptools>=18.5 in /usr/local/lib/python3.10/dist-packages (from ipython->ipython-autotime) (67.7.2)\n",
            "Requirement already satisfied: jedi>=0.16 in /usr/local/lib/python3.10/dist-packages (from ipython->ipython-autotime) (0.18.2)\n",
            "Requirement already satisfied: decorator in /usr/local/lib/python3.10/dist-packages (from ipython->ipython-autotime) (4.4.2)\n",
            "Requirement already satisfied: pickleshare in /usr/local/lib/python3.10/dist-packages (from ipython->ipython-autotime) (0.7.5)\n",
            "Requirement already satisfied: traitlets>=4.2 in /usr/local/lib/python3.10/dist-packages (from ipython->ipython-autotime) (5.7.1)\n",
            "Requirement already satisfied: prompt-toolkit!=3.0.0,!=3.0.1,<3.1.0,>=2.0.0 in /usr/local/lib/python3.10/dist-packages (from ipython->ipython-autotime) (3.0.39)\n",
            "Requirement already satisfied: pygments in /usr/local/lib/python3.10/dist-packages (from ipython->ipython-autotime) (2.14.0)\n",
            "Requirement already satisfied: backcall in /usr/local/lib/python3.10/dist-packages (from ipython->ipython-autotime) (0.2.0)\n",
            "Requirement already satisfied: matplotlib-inline in /usr/local/lib/python3.10/dist-packages (from ipython->ipython-autotime) (0.1.6)\n",
            "Requirement already satisfied: pexpect>4.3 in /usr/local/lib/python3.10/dist-packages (from ipython->ipython-autotime) (4.8.0)\n",
            "Requirement already satisfied: parso<0.9.0,>=0.8.0 in /usr/local/lib/python3.10/dist-packages (from jedi>=0.16->ipython->ipython-autotime) (0.8.3)\n",
            "Requirement already satisfied: ptyprocess>=0.5 in /usr/local/lib/python3.10/dist-packages (from pexpect>4.3->ipython->ipython-autotime) (0.7.0)\n",
            "Requirement already satisfied: wcwidth in /usr/local/lib/python3.10/dist-packages (from prompt-toolkit!=3.0.0,!=3.0.1,<3.1.0,>=2.0.0->ipython->ipython-autotime) (0.2.6)\n",
            "The autotime extension is already loaded. To reload it, use:\n",
            "  %reload_ext autotime\n",
            "time: 7.66 s (started: 2023-07-17 03:42:20 +00:00)\n"
          ]
        }
      ]
    },
    {
      "cell_type": "code",
      "execution_count": 102,
      "metadata": {
        "colab": {
          "base_uri": "https://localhost:8080/"
        },
        "id": "UUVYFVHhbSiZ",
        "outputId": "f2bd7cfb-3468-4915-c640-06fcc1e4f1ae"
      },
      "outputs": [
        {
          "output_type": "stream",
          "name": "stdout",
          "text": [
            "time: 27.1 ms (started: 2023-07-17 03:42:28 +00:00)\n"
          ]
        }
      ],
      "source": [
        "import numpy as np\n",
        "import json\n",
        "import pandas as pd\n",
        "from Bio.PDB.MMCIF2Dict import MMCIF2Dict\n",
        "from typing import Dict\n",
        "\n",
        "fact_cache = {}\n",
        "def fact(n):\n",
        "    if n < 0 or not np.isclose(n, int(n)):\n",
        "        raise ValueError(\"Invalid input parameter: n must be a non-negative integer.\")\n",
        "    if n in fact_cache:\n",
        "        return fact_cache[n]\n",
        "    result = np.math.factorial(int(n))\n",
        "    fact_cache[n] = result\n",
        "    return result\n",
        "class Bispectrum:\n",
        "    \"\"\"\n",
        "    Calculate bispectrum- S(0)4 components\n",
        "    \"\"\"\n",
        "    def __init__(self, j, j1, j2 , params: Dict[str, np.ndarray]):\n",
        "        '''\n",
        "            j: j index\n",
        "            j1: j1 index\n",
        "            j2: j2 index\n",
        "            input_data: input data dictionary with extracted values:\n",
        "            r_ik (array): dictance from center atom to n neighbor atom, dim = [n,]\n",
        "            theta_0 (array): first angle of rotation [0, pi] , dim = [n,]\n",
        "            theta (array): second angle of rotation [0, pi], dim = [n,]\n",
        "            phi (array): third angle of rotation [0, 2pi], dim = [n,]\n",
        "            w_ik (array): weight coefficient, dim = [n,]\n",
        "            delta (array): delta function, dim = [n,]\n",
        "            r_cut (array): cutoff distance, dim = [n,]\n",
        "        '''\n",
        "        self.j = j\n",
        "        self.j1 = j1\n",
        "        self.j2 = j2\n",
        "        self.params = params\n",
        "        w_ik_array = self.params['w_ik']\n",
        "        delta_array = self.params['delta']\n",
        "        r_ik_array = self.params['r_ik']\n",
        "        r_cut_array = self.params['r_cut']\n",
        "        theta_0_array = self.params['theta_0']\n",
        "        theta_array = self.params['theta']\n",
        "        phi_array = self.params['phi']\n",
        "        #Condition check\n",
        "        if not (abs(j1 - j2) <= j <= j1 + j2 and j1 + j2 - j % 1 != 0.5):\n",
        "            raise ValueError(\"Invalid input parameters: j1, j2, j must satisfy the triangle inequality.\\ \"\n",
        "                             \"j1+j2-j must not be a half-integer\")\n",
        "        J = (j1 + j2 + j)\n",
        "        if J < (int(j1 + j2 + j)) and J < 0:\n",
        "            raise ValueError(\"Invalid input parameters: j1, j2, j must not exceed a positive integer J\")\n",
        "\n",
        "    @staticmethod\n",
        "    def generate_m_values(j, j1, j2):\n",
        "        \"\"\"\n",
        "        This function generates (m1, m2, m, m1p, m2p, mp) from input set (j1,j2,j)\n",
        "        and only keeps sets that satisfy the conditions.\n",
        "        Return: a one and only unique set (m1, m2, m, m1p, m2p, mp)\n",
        "        \"\"\"\n",
        "        J = j1 + j2 + j\n",
        "        # Condition 1\n",
        "        if not ((abs(j1 - j2) <= j <= j1 + j2) or isinstance(J, int) or (J >= 0)):\n",
        "            raise ValueError(\"Condition (1) is not satisfied.\")\n",
        "        # Condition 2\n",
        "        if not ((isinstance(val, int) or val >= 0 for val in [j + j1 - j2, j - j1 + j2, j1 + j2 - j])):\n",
        "            raise ValueError(\"(𝑗+𝑗1−𝑗2) and (𝑗−𝑗1+𝑗2) and (𝑗1+𝑗2−𝑗) and is non-negative integer\")\n",
        "        # Condition 3\n",
        "        if j1 > J or j2 > J or j > J:\n",
        "            raise ValueError(\"𝑗1,𝑗2,𝑗 not exceed a positive integer 𝐽=𝑗1+𝑗2+𝑗\")\n",
        "        # Generate m values\n",
        "        m1_vals = np.linspace(-j1, j1, int(2 * j1 + 1))\n",
        "        m2_vals = np.linspace(-j2, j2, int(2 * j2 + 1))\n",
        "        m_vals = np.linspace(-j, j, int(2 * j + 1))\n",
        "        mp_vals = m_vals.copy()\n",
        "        m1p_vals = m1_vals.copy()\n",
        "        m2p_vals = m2_vals.copy()\n",
        "        m1, m2, m, m1p, m2p, mp = np.meshgrid(m1_vals, m2_vals, m_vals, m1p_vals, m2p_vals, mp_vals)\n",
        "        s = np.stack((m1.ravel(), m2.ravel(), m.ravel(), m1p.ravel(), m2p.ravel(), mp.ravel()), axis=1)\n",
        "        keep_list = []\n",
        "        full_list = []\n",
        "        for i in range(len(s)):\n",
        "          full_list.append(s[i])\n",
        "          m1_val, m2_val, m_val, m1p_val, m2p_val, mp_val = s[i]\n",
        "          # Condition 4-8: Clebsch-Gordan calc for set (𝑗1,𝑗2,𝑗,𝑚1,𝑚2,𝑚), (𝑗1,𝑗2,𝑗,𝑚1p,𝑚2p,𝑚p)\n",
        "          c4 = [isinstance(val, (int, float)) and val % 0.5 == 0 for val in [m1_val, m2_val, m_val, m1p_val, m2p_val, mp_val]]\n",
        "          c5 = [isinstance(vals, (int, float)) and vals >= 0 for vals in [j1 + m1_val, j1 - m1_val, j2 + m2_val, j2 - m2_val, j + m_val, j - m_val]]\n",
        "          c5_p = [isinstance(vals, (int, float)) and vals >= 0 for vals in [j1 + m1p_val, j1 - m1p_val, j2 + m2p_val, j2 - m2p_val, j + mp_val, j - mp_val]]\n",
        "          c6 = [m1_val + m2_val == m_val and m1p_val + m2p_val == mp_val]\n",
        "          c7 = [abs(val) <= limit for val, limit in [(m1_val, j1), (m2_val, j2), (m_val, j), (m1p_val, j1), (m2p_val, j2), (mp_val, j)]]\n",
        "          # Condition 9: Wigner-D calc\n",
        "          c9 = [isinstance(vals, (int, float)) and vals >= 0 for vals in [mp_val - m_val, m1p_val - m1_val, m2p_val - m2_val]]\n",
        "          if all(c4) and all(c5) and all(c5_p) and all(c6) and all(c7) and all(c9):\n",
        "            keep_list.append(s[i])\n",
        "          else:\n",
        "            pass\n",
        "        return keep_list, full_list\n",
        "    #Clebsch-Gordan Coefficient\n",
        "    @staticmethod\n",
        "    def clebsch_gordan(j1, j2, j, m1, m2, m):\n",
        "        \"\"\"\n",
        "        Definition:\n",
        "            A Clebsch-Gordan coefficients are vector addition coefficients. They play an important role in decomposition of\n",
        "            reducible representations of rotation. Let j1 and j2 with projections on m1 and m2 on the quantization axis.\n",
        "            The coefficients represent the probability amplitude that j1 and j2 are coupled into a resultant angular momentum\n",
        "            j with projection m.\n",
        "        Args:\n",
        "            j, j1, j2 (scalar): angular momentum\n",
        "            m, m1, m2 (scalar): eigenvalue of angular momentum j, j1, j2 respectively\n",
        "            mp, mp1, mp2 (scalar): eigenvalue of j, j1, j2 along rotated axis respectively\n",
        "        Returns: Clebsch-Gordan coefficients, real number\n",
        "        ==========================Reference==================================\n",
        "        [5] Chapter 8 D.A. Varshalovich, A.N. Moskalev, V.K Khersonskii,\n",
        "                Quantum Theory of Angular Momentum (1988)\n",
        "        [12] Chapter 3 Biedenharn, L., & Louck, J.D. ,\n",
        "                Encyclopedia of Mathematics and its Applications (1981)\n",
        "        \"\"\"\n",
        "        if m1 + m2 != m:\n",
        "            return 0.0  # delta function fails\n",
        "        prefactor = np.sqrt((2 * j + 1) * fact(j + j1 - j2) * fact(j - j1 + j2) * fact(j1 + j2 - j) / fact(j + j1 + j2 + 1))\n",
        "        coefficient = np.sqrt(fact(j + m) * fact(j - m) / (fact(j1 + m1) * fact(j1 - m1) * fact(j2 + m2) * fact(j2 - m2)))\n",
        "        sum = 0.0\n",
        "        smin = max(0, int(m1 - j1), int(j2 - j1 + m))\n",
        "        smax = min(int(j2 + j + m1), int(j - j1 + j2), int(j +m))\n",
        "        for s in range(smin, smax + 1):\n",
        "            den = fact(s) * fact(j - j1 + j2 - s) * fact(j + m - s) * fact(j1 - j2 - m + s)\n",
        "            num = ((-1) ** (j2 + m2 + s)) * fact(j2 + j + m1 - s) * fact(j1 - m1 + s)\n",
        "            sum += num / den\n",
        "        cg = prefactor * coefficient * sum\n",
        "        return cg\n",
        "    #Coupling Coefficient\n",
        "    @classmethod\n",
        "    def H(cls, j1, j2, j, m1, m2, m, m1p, m2p, mp):\n",
        "        CG = cls.clebsch_gordan(j1, j2, j, m1, m2, m)\n",
        "        CGp = cls.clebsch_gordan(j1, j2, j, m1p, m2p, mp)\n",
        "        H_coeff = CG * CGp\n",
        "        return H_coeff\n",
        "    @staticmethod\n",
        "    def compute_dsmall(j, m, mp, theta):\n",
        "        \"\"\"\n",
        "        This method is used to calculate the Wigner d small- real function involving trigonometric functions\n",
        "        Returns: Wigner d - real function\n",
        "        ==========================Reference==================================\n",
        "        [5] Chapter 4.3.1-(p.76,eq.4)  D.A. Varshalovich, A.N. Moskalev, V.K Khersonskii,\n",
        "        \"\"\"\n",
        "        kmax = max(0,m - mp)\n",
        "        kmin = min(j + m, j - mp)\n",
        "        term1 = np.sqrt(fact(j + m) * fact(j - m) * fact(j + mp) * fact(j - mp))\n",
        "        sum = 0\n",
        "        for k in range(int(kmax), int(kmin) + 1):\n",
        "            numerator = (-1) ** k * (np.cos(theta / 2)) ** (2 * j - 2 * k + m - mp) * \\\n",
        "                        (np.sin(theta / 2)) ** (2 * k - m + mp)\n",
        "            denominator = fact(k) * fact(j + m - k) * fact(j - mp - k) * fact(mp - m + k)\n",
        "            sum += numerator / denominator\n",
        "        return sum*term1\n",
        "    @classmethod\n",
        "    def wigner_D(cls, j, m, mp, theta_0, theta, phi):\n",
        "        \"\"\"\n",
        "        This method is used to calculate the Wigner D matrix\n",
        "        Args:\n",
        "            theta_0 (scalar): first angle of rotation [0, pi]\n",
        "            theta (scalar): second angle of rotation [0, pi]\n",
        "            phi (scalar): third angle of rotation [0, 2*pi]\n",
        "        Returns: complex number, Wigner D function\n",
        "        ==========================Reference==================================\n",
        "        [5] Chapter 4.3-(p.76,eq.1)  D.A. Varshalovich, A.N. Moskalev, V.K Khersonskii,\n",
        "        \"\"\"\n",
        "        term1 = np.cos(m *theta_0) - 1j*(np.sin(m * theta_0))\n",
        "        term2 = cls.compute_dsmall(j, m, mp, theta)\n",
        "        term3 = np.cos(mp * phi) -1j*(np.sin(mp * phi))\n",
        "        result = term1 * term2 * term3\n",
        "        return result\n",
        "    @classmethod\n",
        "    def U_rot(cls, j, m, mp, theta_0, theta, phi):\n",
        "        \"\"\"\n",
        "        This method is used to calculate the rotation matrix U\n",
        "        Returns: complex number, Rotational matrix U function\n",
        "        ==========================Reference==================================\n",
        "        [5] Chapter 4  D.A. Varshalovich, A.N. Moskalev, V.K Khersonskii,\n",
        "                  Quantum Theory of Angular Momentum (1988)\n",
        "        \"\"\"\n",
        "        mpp_vals = np.linspace(-j, j, int(2 * j + 1))\n",
        "        U = 0\n",
        "        for mpp in mpp_vals:\n",
        "            term1 = cls.wigner_D(j, m, mpp, phi, theta, -phi)\n",
        "            term2 = np.cos(mpp * theta_0) - 1j * (np.sin(mpp * theta_0))\n",
        "            term3 = cls.wigner_D(j, mpp, mp, phi, -theta, -phi)\n",
        "            Um_mp = term1 * term2 * term3\n",
        "            U += Um_mp\n",
        "        return U\n",
        "    @classmethod\n",
        "    def u_small(cls, j, m, mp, params):\n",
        "        \"\"\"\n",
        "        Args:\n",
        "            j (scalar): angular momentum\n",
        "            m (scalar): eigenvalue of angular momentum\n",
        "            mp (scalar): eigenvalue of j along rotated axis\n",
        "            params (dict): a dictionary containing the following keys, its values:\n",
        "                - w_ik (array): the coefficients that are dimensionless weights that are chosen to distinguish atoms\n",
        "                  of different types, while the central atom is arbitrarily assigned a unit weight, dimensin (1,k)\n",
        "                - delta (array): the Dirac delta function, indicates only neighbor atom of element the same as center atom\n",
        "                  contribute to partial density,  dimension (1,k)\n",
        "                - r_ik (array): distance from center atom to neighbor atom, dimension (1,k), k is number of neighbor atoms\n",
        "                  in cutoff radius, array exclude center atom as well\n",
        "                - r_cut (array): cutoff radius\n",
        "                - theta_0: array for theta_0 angel (fist angle of rotation [0,pi])\n",
        "                  of neighbor atoms in reference frame of center atom, dimension (k+1,)\n",
        "                - theta: array for theta angel ( second angle of rotation [0,pi])\n",
        "                  of neighbor atoms in reference frame of center atom, dimension (k+1,)\n",
        "                - phi: array for phi angel (third angle of rotation [0,2pi])\n",
        "                  of neighbor atoms in reference frame of center atom, dimension (k+1,)\n",
        "        Returns: expansion coefficients density function u_jm_mp\n",
        "        \"\"\"\n",
        "        w_ik_array = params['w_ik']\n",
        "        delta_array = params['delta']\n",
        "        r_ik_array = params['r_ik']\n",
        "        r_cut_array = params['r_cut']\n",
        "        theta_0_array = params['theta_0']\n",
        "        theta_array = params['theta']\n",
        "        phi_array = params['phi']\n",
        "\n",
        "        # Calculate cutoff_function\n",
        "        f_cut_arr = (1 / 2) * (np.cos(np.pi * (np.divide(r_ik_array, r_cut_array))) + 1)\n",
        "        # Calculate rotational matrix U for all k=n neighbor atoms\n",
        "        U_ik_array = np.array([cls.U_rot(j, m, mp, theta_0, theta, phi) for theta_0, theta, phi in\n",
        "                               zip(theta_0_array, theta_array, phi_array)], dtype='complex')\n",
        "        # Compute u_jmmp\n",
        "        u_jmmp = np.dot((f_cut_arr * U_ik_array), (w_ik_array * delta_array))\n",
        "        return u_jmmp\n",
        "    @classmethod\n",
        "    def evaluate(cls, j, j1, j2, params):\n",
        "        w_ik_array = params['w_ik']\n",
        "        delta_array = params['delta']\n",
        "        r_ik_array = params['r_ik']\n",
        "        r_cut_array = params['r_cut']\n",
        "        theta_0_array = params['theta_0']\n",
        "        theta_array = params['theta']\n",
        "        phi_array = params['phi']\n",
        "        m_list, full_list = cls.generate_m_values(j,j1,j2)\n",
        "        B_total = 0\n",
        "        for i in m_list:\n",
        "            m1, m2, m, m1p, m2p, mp = i[0], i[1], i[2], i[3], i[4], i[5]\n",
        "            H_coeff = cls.H(j1, j2, j, m1, m2, m, m1p, m2p, mp)\n",
        "            u_jmmp = cls.u_small(j, m, mp, params)\n",
        "            u1_j1m1m1p = cls.u_small(j1, m1, m1p, params)\n",
        "            u2_j2m2m2p = cls.u_small(j2, m2, m2p, params)\n",
        "            B = np.conj(u_jmmp) * (H_coeff * u1_j1m1m1p * u2_j2m2m2p)\n",
        "            B_total += B\n",
        "        return B_total"
      ]
    },
    {
      "cell_type": "markdown",
      "source": [
        "## Example:\n",
        "---\n",
        "These value stay constant through out cases test:\n",
        "- Cell length = 20 Å→ cell_ratio = 1\n",
        "- Center atom coordinate $(x,y,z)= (0.5, 0.5, 0.5)$\n",
        "- Radius cutoff = 4 Å → $R_{cut}=\\frac{4}{20}=0.2$\n"
      ],
      "metadata": {
        "id": "jklJrJpzCl-t"
      }
    },
    {
      "cell_type": "markdown",
      "source": [
        "## Neighbor atoms parameter function"
      ],
      "metadata": {
        "id": "6Vccq2_Mi82F"
      }
    },
    {
      "cell_type": "code",
      "source": [
        "import numpy as np\n",
        "\n",
        "def test_neighbor(center_atom, neighbor_atoms, R_cut):\n",
        "    if neighbor_atoms is None:\n",
        "        neighbor_atoms = [center_atom]\n",
        "\n",
        "    if len(neighbor_atoms) == 1:\n",
        "        x_k = np.array([neighbor_atoms[0][0] - center_atom[0]])\n",
        "        y_k = np.array([neighbor_atoms[0][1] - center_atom[1]])\n",
        "        z_k = np.array([neighbor_atoms[0][2] - center_atom[2]])\n",
        "    else:\n",
        "        x_k = np.array([neighbor[0] - center_atom[0] for neighbor in neighbor_atoms])\n",
        "        y_k = np.array([neighbor[1] - center_atom[1] for neighbor in neighbor_atoms])\n",
        "        z_k = np.array([neighbor[2] - center_atom[2] for neighbor in neighbor_atoms])\n",
        "    # Calculate r_ik\n",
        "    r_ik_array = np.sqrt(x_k**2 + y_k**2 + z_k**2)\n",
        "    r_0_array = np.full(r_ik_array.shape, R_cut)\n",
        "    # Calculate angles\n",
        "    theta_0_array = np.pi * (r_ik_array / r_0_array)\n",
        "    z_k_abs_array = np.abs(z_k)\n",
        "    theta_array = np.arccos(z_k_abs_array / r_ik_array)\n",
        "    phi_array = np.arctan2(y_k, x_k)\n",
        "    phi_array_convert = np.mod(phi_array, 2 * np.pi)\n",
        "    # Convert NaN values to zero\n",
        "    theta_0_array = np.nan_to_num(theta_0_array, nan=0.0)\n",
        "    theta_array = np.nan_to_num(theta_array, nan=0.0)\n",
        "    phi_array = np.nan_to_num(phi_array, nan=0.0)\n",
        "    phi_array_convert = np.nan_to_num(phi_array_convert, nan=0.0)\n",
        "    # Create dictionary data\n",
        "    params = {\n",
        "        'w_ik': np.full(r_ik_array.shape, 1),\n",
        "        'delta': np.full(r_ik_array.shape, 1),\n",
        "        'r_ik': r_ik_array,\n",
        "        'r_cut': np.full(r_ik_array.shape, R_cut),\n",
        "        'theta_0': theta_0_array,\n",
        "        'theta': theta_array,\n",
        "        'phi': phi_array_convert\n",
        "    }\n",
        "    return params"
      ],
      "metadata": {
        "colab": {
          "base_uri": "https://localhost:8080/"
        },
        "id": "TkcY01JQi_Ms",
        "outputId": "b3817c28-76cd-46de-a21d-58dd7ab5ca74"
      },
      "execution_count": 103,
      "outputs": [
        {
          "output_type": "stream",
          "name": "stdout",
          "text": [
            "time: 2.27 ms (started: 2023-07-17 03:42:28 +00:00)\n"
          ]
        }
      ]
    },
    {
      "cell_type": "markdown",
      "source": [
        "## Plot functions"
      ],
      "metadata": {
        "id": "cG5fN4v9i6Sx"
      }
    },
    {
      "cell_type": "code",
      "source": [
        "import matplotlib.pyplot as plt\n",
        "\n",
        "def plot_atoms(center_atom, neighbor_atoms, R_cut, cell_length, B):\n",
        "    # Plot\n",
        "    fig, ax = plt.subplots()\n",
        "    ax.set_xlim([0, cell_length])\n",
        "    ax.set_ylim([0, cell_length])\n",
        "    ax.set_aspect('equal')\n",
        "\n",
        "    ax.scatter(center_atom[0], center_atom[1], color='red', label='Center Atom')\n",
        "\n",
        "    if neighbor_atoms is not None:\n",
        "        for neighbor_atom in neighbor_atoms:\n",
        "            ax.scatter(neighbor_atom[0], neighbor_atom[1], color='green', label='Neighbor Atom')\n",
        "\n",
        "    circle = plt.Circle((center_atom[0], center_atom[1]), R_cut, fill=False, color='blue')\n",
        "    ax.add_artist(circle)\n",
        "\n",
        "    ax.annotate(r'$R_{\\mathrm{cut}}$', xy=(center_atom[0] + R_cut, center_atom[1]), xytext=(center_atom[0] + R_cut, center_atom[1] + 0.1),\n",
        "                 arrowprops=dict(facecolor='blue', arrowstyle='->'))\n",
        "    ax.set_title(\"{0} = {1}\".format(r'$B_{\\mathrm{j_1,j_2,j}}$', \"{:.2e}\".format(B.real)))\n",
        "    plt.show()\n"
      ],
      "metadata": {
        "colab": {
          "base_uri": "https://localhost:8080/"
        },
        "id": "-KEr0nnQlq_2",
        "outputId": "98f9e56f-953e-4099-bac4-4260de8ce413"
      },
      "execution_count": 104,
      "outputs": [
        {
          "output_type": "stream",
          "name": "stdout",
          "text": [
            "time: 1.82 ms (started: 2023-07-17 03:42:28 +00:00)\n"
          ]
        }
      ]
    },
    {
      "cell_type": "markdown",
      "source": [
        "### Case (1) - Special Case\n",
        "1 atom at 10,10,10 in a large (20 ang.) otherwise empty cubic cell.\n",
        "- Define the origin at center atom coordinate\n",
        "- Cell length = 20 Å→ cell_ratio = 1\n",
        "- Center atom coordinate $(x,y,z)= (0.5, 0.5, 0.5)$\n",
        "- Radius cutoff = 4 Å → $R_{cut}=\\frac{4}{20}=0.2$"
      ],
      "metadata": {
        "id": "Vqmdz5hrThDh"
      }
    },
    {
      "cell_type": "markdown",
      "source": [
        "Test: $j=\\frac{5}{2}, j_1=2, j_2=\\frac{1}{2}$"
      ],
      "metadata": {
        "id": "WlpIQ-ZwQAoo"
      }
    },
    {
      "cell_type": "code",
      "source": [
        "center_atom = [0.5, 0.5, 0.5]\n",
        "cell_length = 1.0\n",
        "R_cut = 0.2\n",
        "j,j1,j2= 5/2, 3/2, 1\n",
        "data_1 = {\n",
        "        'w_ik': np.array([1]),\n",
        "        'delta': np.array([0]),\n",
        "        'r_ik': np.array([0]),\n",
        "        'r_cut': np.array([0.2]),\n",
        "        'theta_0': np.array([0]),\n",
        "        'theta': np.array([0]),\n",
        "        'phi': np.array([0])\n",
        "    }\n",
        "#bispectrum calculation\n",
        "B_1= Bispectrum(j=5/2, j1=2, j2=1/2, params=data_1)\n",
        "B_data_1 = B_1.evaluate(j=5/2, j1=2, j2=1/2, params=data_1)\n",
        "print(B_data_1)"
      ],
      "metadata": {
        "colab": {
          "base_uri": "https://localhost:8080/"
        },
        "id": "kbqeJ3afjSnl",
        "outputId": "c80a40db-e44c-46f0-f421-5c0a2bdb5b5f"
      },
      "execution_count": 105,
      "outputs": [
        {
          "output_type": "stream",
          "name": "stdout",
          "text": [
            "0j\n",
            "time: 1.33 s (started: 2023-07-17 03:42:28 +00:00)\n"
          ]
        }
      ]
    },
    {
      "cell_type": "markdown",
      "source": [
        "### Test `generate_m_values(j, j1, j2)` function"
      ],
      "metadata": {
        "id": "PRvnhRsQpjz7"
      }
    },
    {
      "cell_type": "code",
      "source": [
        "keep_set,full_set= B_1.generate_m_values(j=5/2, j1=2, j2=1/2)\n",
        "print(keep_set)\n",
        "# Convert list to DataFrame\n",
        "df = pd.DataFrame(keep_set, columns=[\"m1\", \"m2\", \"m\", \"m1p\", \"m2p\", \"mp\"])\n",
        "print (df)\n",
        "## Get the unique combinations of (m, m1, m2)\n",
        "unique_combinations = df[[\"m1\", \"m2\", \"m\"]].drop_duplicates()\n",
        "# Print the unique combinations\n",
        "print(unique_combinations)"
      ],
      "metadata": {
        "colab": {
          "base_uri": "https://localhost:8080/"
        },
        "id": "hU41eKsLptcb",
        "outputId": "1715b1bf-7831-4df0-b138-d574b264b54f"
      },
      "execution_count": 106,
      "outputs": [
        {
          "output_type": "stream",
          "name": "stdout",
          "text": [
            "[array([-2. , -0.5, -2.5, -2. , -0.5, -2.5]), array([-2. , -0.5, -2.5, -2. ,  0.5, -1.5]), array([-2. , -0.5, -2.5, -1. , -0.5, -1.5]), array([-2. , -0.5, -2.5, -1. ,  0.5, -0.5]), array([-2. , -0.5, -2.5,  0. , -0.5, -0.5]), array([-2. , -0.5, -2.5,  0. ,  0.5,  0.5]), array([-2. , -0.5, -2.5,  1. , -0.5,  0.5]), array([-2. , -0.5, -2.5,  1. ,  0.5,  1.5]), array([-2. , -0.5, -2.5,  2. , -0.5,  1.5]), array([-2. , -0.5, -2.5,  2. ,  0.5,  2.5]), array([-1. , -0.5, -1.5, -1. , -0.5, -1.5]), array([-1. , -0.5, -1.5, -1. ,  0.5, -0.5]), array([-1. , -0.5, -1.5,  0. , -0.5, -0.5]), array([-1. , -0.5, -1.5,  0. ,  0.5,  0.5]), array([-1. , -0.5, -1.5,  1. , -0.5,  0.5]), array([-1. , -0.5, -1.5,  1. ,  0.5,  1.5]), array([-1. , -0.5, -1.5,  2. , -0.5,  1.5]), array([-1. , -0.5, -1.5,  2. ,  0.5,  2.5]), array([ 0. , -0.5, -0.5,  0. , -0.5, -0.5]), array([ 0. , -0.5, -0.5,  0. ,  0.5,  0.5]), array([ 0. , -0.5, -0.5,  1. , -0.5,  0.5]), array([ 0. , -0.5, -0.5,  1. ,  0.5,  1.5]), array([ 0. , -0.5, -0.5,  2. , -0.5,  1.5]), array([ 0. , -0.5, -0.5,  2. ,  0.5,  2.5]), array([ 1. , -0.5,  0.5,  1. , -0.5,  0.5]), array([ 1. , -0.5,  0.5,  1. ,  0.5,  1.5]), array([ 1. , -0.5,  0.5,  2. , -0.5,  1.5]), array([ 1. , -0.5,  0.5,  2. ,  0.5,  2.5]), array([ 2. , -0.5,  1.5,  2. , -0.5,  1.5]), array([ 2. , -0.5,  1.5,  2. ,  0.5,  2.5]), array([-2. ,  0.5, -1.5, -2. ,  0.5, -1.5]), array([-2. ,  0.5, -1.5, -1. ,  0.5, -0.5]), array([-2. ,  0.5, -1.5,  0. ,  0.5,  0.5]), array([-2. ,  0.5, -1.5,  1. ,  0.5,  1.5]), array([-2. ,  0.5, -1.5,  2. ,  0.5,  2.5]), array([-1. ,  0.5, -0.5, -1. ,  0.5, -0.5]), array([-1. ,  0.5, -0.5,  0. ,  0.5,  0.5]), array([-1. ,  0.5, -0.5,  1. ,  0.5,  1.5]), array([-1. ,  0.5, -0.5,  2. ,  0.5,  2.5]), array([0. , 0.5, 0.5, 0. , 0.5, 0.5]), array([0. , 0.5, 0.5, 1. , 0.5, 1.5]), array([0. , 0.5, 0.5, 2. , 0.5, 2.5]), array([1. , 0.5, 1.5, 1. , 0.5, 1.5]), array([1. , 0.5, 1.5, 2. , 0.5, 2.5]), array([2. , 0.5, 2.5, 2. , 0.5, 2.5])]\n",
            "     m1   m2    m  m1p  m2p   mp\n",
            "0  -2.0 -0.5 -2.5 -2.0 -0.5 -2.5\n",
            "1  -2.0 -0.5 -2.5 -2.0  0.5 -1.5\n",
            "2  -2.0 -0.5 -2.5 -1.0 -0.5 -1.5\n",
            "3  -2.0 -0.5 -2.5 -1.0  0.5 -0.5\n",
            "4  -2.0 -0.5 -2.5  0.0 -0.5 -0.5\n",
            "5  -2.0 -0.5 -2.5  0.0  0.5  0.5\n",
            "6  -2.0 -0.5 -2.5  1.0 -0.5  0.5\n",
            "7  -2.0 -0.5 -2.5  1.0  0.5  1.5\n",
            "8  -2.0 -0.5 -2.5  2.0 -0.5  1.5\n",
            "9  -2.0 -0.5 -2.5  2.0  0.5  2.5\n",
            "10 -1.0 -0.5 -1.5 -1.0 -0.5 -1.5\n",
            "11 -1.0 -0.5 -1.5 -1.0  0.5 -0.5\n",
            "12 -1.0 -0.5 -1.5  0.0 -0.5 -0.5\n",
            "13 -1.0 -0.5 -1.5  0.0  0.5  0.5\n",
            "14 -1.0 -0.5 -1.5  1.0 -0.5  0.5\n",
            "15 -1.0 -0.5 -1.5  1.0  0.5  1.5\n",
            "16 -1.0 -0.5 -1.5  2.0 -0.5  1.5\n",
            "17 -1.0 -0.5 -1.5  2.0  0.5  2.5\n",
            "18  0.0 -0.5 -0.5  0.0 -0.5 -0.5\n",
            "19  0.0 -0.5 -0.5  0.0  0.5  0.5\n",
            "20  0.0 -0.5 -0.5  1.0 -0.5  0.5\n",
            "21  0.0 -0.5 -0.5  1.0  0.5  1.5\n",
            "22  0.0 -0.5 -0.5  2.0 -0.5  1.5\n",
            "23  0.0 -0.5 -0.5  2.0  0.5  2.5\n",
            "24  1.0 -0.5  0.5  1.0 -0.5  0.5\n",
            "25  1.0 -0.5  0.5  1.0  0.5  1.5\n",
            "26  1.0 -0.5  0.5  2.0 -0.5  1.5\n",
            "27  1.0 -0.5  0.5  2.0  0.5  2.5\n",
            "28  2.0 -0.5  1.5  2.0 -0.5  1.5\n",
            "29  2.0 -0.5  1.5  2.0  0.5  2.5\n",
            "30 -2.0  0.5 -1.5 -2.0  0.5 -1.5\n",
            "31 -2.0  0.5 -1.5 -1.0  0.5 -0.5\n",
            "32 -2.0  0.5 -1.5  0.0  0.5  0.5\n",
            "33 -2.0  0.5 -1.5  1.0  0.5  1.5\n",
            "34 -2.0  0.5 -1.5  2.0  0.5  2.5\n",
            "35 -1.0  0.5 -0.5 -1.0  0.5 -0.5\n",
            "36 -1.0  0.5 -0.5  0.0  0.5  0.5\n",
            "37 -1.0  0.5 -0.5  1.0  0.5  1.5\n",
            "38 -1.0  0.5 -0.5  2.0  0.5  2.5\n",
            "39  0.0  0.5  0.5  0.0  0.5  0.5\n",
            "40  0.0  0.5  0.5  1.0  0.5  1.5\n",
            "41  0.0  0.5  0.5  2.0  0.5  2.5\n",
            "42  1.0  0.5  1.5  1.0  0.5  1.5\n",
            "43  1.0  0.5  1.5  2.0  0.5  2.5\n",
            "44  2.0  0.5  2.5  2.0  0.5  2.5\n",
            "     m1   m2    m\n",
            "0  -2.0 -0.5 -2.5\n",
            "10 -1.0 -0.5 -1.5\n",
            "18  0.0 -0.5 -0.5\n",
            "24  1.0 -0.5  0.5\n",
            "28  2.0 -0.5  1.5\n",
            "30 -2.0  0.5 -1.5\n",
            "35 -1.0  0.5 -0.5\n",
            "39  0.0  0.5  0.5\n",
            "42  1.0  0.5  1.5\n",
            "44  2.0  0.5  2.5\n",
            "time: 191 ms (started: 2023-07-17 03:42:29 +00:00)\n"
          ]
        }
      ]
    },
    {
      "cell_type": "markdown",
      "source": [
        "We have 10 unique $(m_1,m_2,m)$ sets"
      ],
      "metadata": {
        "id": "oBE2D1fKvSuc"
      }
    },
    {
      "cell_type": "markdown",
      "source": [
        "Compare with Clebsch Gordan table to see if the unique set $(m_1,m_2,m)$ matching ![Screenshot 2023-07-16 at 9.40.14 PM.png](data:image/png;base64,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)"
      ],
      "metadata": {
        "id": "idxMVODctjgM"
      }
    },
    {
      "cell_type": "markdown",
      "source": [
        "From table when $j_1=2, j_2=1/2, j=5/2$\n",
        "we have set:\n",
        "1. $m_1=2, m_2=1/2,  m=5/2, C_{j_1m_1j_2m_2}^{jm}=1$     matched unique set ID 44\n",
        "2. $m_1=2, m_2=-1/2, m=3/2, C_{j_1m_1j_2m_2}^{jm}=1/5$   matched unique set ID 28\n",
        "3. $m_1=1, m_2=1/2,  m=3/2, C_{j_1m_1j_2m_2}^{jm}=4/5$   matched unique set ID 42\n",
        "4. $m_1=1, m_2=-1/2, m=1/2, C_{j_1m_1j_2m_2}^{jm}=2/5$   matched unique set ID 24\n",
        "5. $m_1=0, m_2=1/2,  m=1/2, C_{j_1m_1j_2m_2}^{jm}=3/5$   matched unique set ID 39\n",
        "6. $m_1=0, m_2=-1/2, m=-1/2, C_{j_1m_1j_2m_2}^{jm}=3/5$   matched unique set ID 18\n",
        "7. $m_1=-1, m_2=1/2, m=-1/2, C_{j_1m_1j_2m_2}^{jm}=2/5$   matched unique set ID 35\n",
        "8. $m_1=-1, m_2=-1/2, m=-3/2, C_{j_1m_1j_2m_2}^{jm}=4/5$   matched unique set ID 10\n",
        "9. $m_1=-2, m_2=1/2, m=-3/2, C_{j_1m_1j_2m_2}^{jm}=1/5$   matched unique set ID 30\n",
        "10. $m_1=-2, m_2=-1/2, m=-5/2, C_{j_1m_1j_2m_2}^{jm}=1$   matched unique set ID 0"
      ],
      "metadata": {
        "id": "tQDov08TuR2H"
      }
    },
    {
      "cell_type": "code",
      "source": [
        "plot_atoms(center_atom, neighbor_atoms, R_cut, cell_length, B=B_data_1)"
      ],
      "metadata": {
        "colab": {
          "base_uri": "https://localhost:8080/",
          "height": 471
        },
        "id": "mBwz4nfKhO5c",
        "outputId": "4e4aa3b9-a415-4786-c7c8-b5c012d2de5c"
      },
      "execution_count": 107,
      "outputs": [
        {
          "output_type": "display_data",
          "data": {
            "text/plain": [
              "<Figure size 640x480 with 1 Axes>"
            ],
            "image/png": "[encoded data removed]"
          },
          "metadata": {}
        },
        {
          "output_type": "stream",
          "name": "stdout",
          "text": [
            "time: 600 ms (started: 2023-07-17 03:42:29 +00:00)\n"
          ]
        }
      ]
    },
    {
      "cell_type": "markdown",
      "source": [
        "**Comment**: this make sense\n",
        "since we simplify\n",
        "$$u^j\n",
        "_{mm'} =  \\displaystyle\\sum_{r_{ik}<R_{cut}} f_c(r_{ik};R_{cut}^)w_{{\\mu}_{ik}}U_{m,m'}^{j}(\\theta_{0},\\theta, \\phi) \\delta_{ik}$$\n",
        "\n",
        "where $ U_{j,m,m'}(0,0,0) = 0, \\ \\delta_{ik} =0$, we ignore self contribution $w_{\\mu_i\\mu}^{self}$  therefore the bispectrum coeeficient must be zero"
      ],
      "metadata": {
        "id": "BLjJDXx0QZzj"
      }
    },
    {
      "cell_type": "markdown",
      "source": [
        "### Case (2)"
      ],
      "metadata": {
        "id": "maAEbw0FR1dn"
      }
    },
    {
      "cell_type": "markdown",
      "source": [
        "[Same cell at (1)] with: center atom at 10,10,10 and 1 neighbor atom at (12,10,10). We change coordinates to ratio of cell length\n",
        "- Neighbor coordinate ratio = $(\\frac{12}{20}, \\frac{10}{20},\\frac{10}{20})$"
      ],
      "metadata": {
        "id": "Fe7mEjX0R55O"
      }
    },
    {
      "cell_type": "markdown",
      "source": [
        "Recall: $\\begin{bmatrix}x_k\\\\y_k\\\\z_k \\end{bmatrix} =\\begin{bmatrix}x -x_i\\\\y-y_i\\\\z-z_i \\end{bmatrix} $\n",
        "\n",
        "where central atom  $i$  has its coordinate $(x_i,y_i,z_i)$ in the center of a single cell (reference coordinate frame, origin point $O(0,0,0)$ and orthogonal axes ($X,Y,Z$). Re-calculate coordinate for the neighbor atom in the cell by shift origin to $(x_i,y_i,z_i)$."
      ],
      "metadata": {
        "id": "bqatdMl6WlOK"
      }
    },
    {
      "cell_type": "code",
      "source": [
        "cell_length = 1 #unit ratio\n",
        "R_cut = 0.2\n",
        "center_atom = [0.5, 0.5, 0.5]\n",
        "neighbor_atoms_2 = [(0.6, 0.5, 0.5)]\n",
        "data_2 = test_neighbor(center_atom, neighbor_atoms_2, R_cut)\n",
        "#Test bispectrum calculation\n",
        "B_2= Bispectrum(j=5/2, j1=3/2, j2=2/2, params=data_2)\n",
        "B_data_2 = B_2.evaluate(j=5/2, j1=3/2, j2=2/2, params=data_2)\n",
        "print(B_data_2)"
      ],
      "metadata": {
        "colab": {
          "base_uri": "https://localhost:8080/"
        },
        "id": "mwgHJTefnJ5_",
        "outputId": "8c558f68-c16d-4d7a-8002-96bcc37acb0e"
      },
      "execution_count": 108,
      "outputs": [
        {
          "output_type": "stream",
          "name": "stdout",
          "text": [
            "(0.3234375000000003-2.0467966677136696e-19j)\n",
            "time: 1.46 s (started: 2023-07-17 03:42:30 +00:00)\n"
          ]
        }
      ]
    },
    {
      "cell_type": "code",
      "source": [
        "plot_atoms(center_atom, neighbor_atoms, R_cut, cell_length, B= B_data_2)"
      ],
      "metadata": {
        "id": "25TrSVx5SASF",
        "colab": {
          "base_uri": "https://localhost:8080/",
          "height": 471
        },
        "outputId": "11e996d3-c20f-4710-cb5c-668b4fa03c6b"
      },
      "execution_count": 109,
      "outputs": [
        {
          "output_type": "display_data",
          "data": {
            "text/plain": [
              "<Figure size 640x480 with 1 Axes>"
            ],
            "image/png": "[encoded data removed]"
          },
          "metadata": {}
        },
        {
          "output_type": "stream",
          "name": "stdout",
          "text": [
            "time: 341 ms (started: 2023-07-17 03:42:32 +00:00)\n"
          ]
        }
      ]
    },
    {
      "cell_type": "markdown",
      "source": [
        "### Case (3)\n",
        "[Same cell at (1)] With: center atom at 10,10,10 and neighbor atom at (10,8,10)\n",
        "- Neighbor coordinate ratio = $(\\frac{10}{20}, \\frac{8}{20},\\frac{10}{20})$\n",
        "\n"
      ],
      "metadata": {
        "id": "nwA5A7h5fsvO"
      }
    },
    {
      "cell_type": "code",
      "source": [
        "cell_length = 1 #unit ratio\n",
        "R_cut = 0.2\n",
        "center_atom = [0.5, 0.5, 0.5]\n",
        "neighbor_atoms_3 = [(0.5,0.4,0.5)]\n",
        "data_3 = test_neighbor(center_atom, neighbor_atoms_3, R_cut)\n",
        "#Test bispectrum calculation\n",
        "B_3= Bispectrum(j=5/2, j1=3/2, j2=2/2, params=data_3)\n",
        "B_data_3 = B_3.evaluate(j=5/2, j1=3/2, j2=2/2, params=data_3)\n",
        "print(B_data_3)"
      ],
      "metadata": {
        "id": "KgBFQ0AmnpIr",
        "colab": {
          "base_uri": "https://localhost:8080/"
        },
        "outputId": "98bd4226-a909-42cc-8125-104e531ce932"
      },
      "execution_count": 110,
      "outputs": [
        {
          "output_type": "stream",
          "name": "stdout",
          "text": [
            "(0.3234375000000003+2.292515428344787e-16j)\n",
            "time: 1.21 s (started: 2023-07-17 03:42:32 +00:00)\n"
          ]
        }
      ]
    },
    {
      "cell_type": "code",
      "source": [
        "plot_atoms(center_atom, neighbor_atoms_3, R_cut, cell_length, B= B_data_3)"
      ],
      "metadata": {
        "id": "k9oIu665ffr0",
        "colab": {
          "base_uri": "https://localhost:8080/",
          "height": 471
        },
        "outputId": "6800c0c7-a3d7-40db-819d-972774ffed05"
      },
      "execution_count": 111,
      "outputs": [
        {
          "output_type": "display_data",
          "data": {
            "text/plain": [
              "<Figure size 640x480 with 1 Axes>"
            ],
            "image/png": "[encoded data removed]"
          },
          "metadata": {}
        },
        {
          "output_type": "stream",
          "name": "stdout",
          "text": [
            "time: 561 ms (started: 2023-07-17 03:42:33 +00:00)\n"
          ]
        }
      ]
    },
    {
      "cell_type": "markdown",
      "source": [
        "## Case (4)\n",
        "[Same cell at (1)] With: center atom at 10,10,10 and neighbor atom at (8,10,10)\n",
        "- Neighbor coordinate ratio = $(\\frac{8}{20}, \\frac{10}{20},\\frac{10}{20})$"
      ],
      "metadata": {
        "id": "w5YZQgsb75em"
      }
    },
    {
      "cell_type": "code",
      "source": [
        "cell_length = 1 #unit ratio\n",
        "R_cut = 0.2\n",
        "center_atom = [0.5, 0.5, 0.5]\n",
        "neighbor_atoms_4 = [(0.4,0.5,0.5)]\n",
        "data_4 = test_neighbor(center_atom, neighbor_atoms_4, R_cut)\n",
        "#Test bispectrum calculation\n",
        "B_4= Bispectrum(j=5/2, j1=3/2, j2=2/2, params=data_4)\n",
        "B_data_4 = B_4.evaluate(j=5/2, j1=3/2, j2=2/2, params=data_4)\n",
        "print(B_data_4)"
      ],
      "metadata": {
        "id": "Z9uqxKUH74zc",
        "colab": {
          "base_uri": "https://localhost:8080/"
        },
        "outputId": "ee292884-d196-4800-9fad-c9f6a25bfa47"
      },
      "execution_count": 114,
      "outputs": [
        {
          "output_type": "stream",
          "name": "stdout",
          "text": [
            "(0.3234375000000003+1.6543177002456821e-18j)\n",
            "time: 898 ms (started: 2023-07-17 03:53:00 +00:00)\n"
          ]
        }
      ]
    },
    {
      "cell_type": "code",
      "source": [
        "plot_atoms(center_atom, neighbor_atoms_4, R_cut, cell_length, B= B_data_4)"
      ],
      "metadata": {
        "id": "mtVzUR3c8P8r",
        "colab": {
          "base_uri": "https://localhost:8080/",
          "height": 471
        },
        "outputId": "ebdfc690-f80d-45d1-f5e9-cdc12196c6c6"
      },
      "execution_count": 115,
      "outputs": [
        {
          "output_type": "display_data",
          "data": {
            "text/plain": [
              "<Figure size 640x480 with 1 Axes>"
            ],
            "image/png": "[encoded data removed]"
          },
          "metadata": {}
        },
        {
          "output_type": "stream",
          "name": "stdout",
          "text": [
            "time: 325 ms (started: 2023-07-17 03:53:05 +00:00)\n"
          ]
        }
      ]
    },
    {
      "cell_type": "markdown",
      "source": [
        "## A central atom in amorphous silicion cell\n",
        "[data](https://github.com/dtht2d/bispectrum_component/blob/main/data/avgBL-Model.cif)\n",
        "\n"
      ],
      "metadata": {
        "id": "1cB_C_AS-1n-"
      }
    },
    {
      "cell_type": "code",
      "source": [
        "def neighbor_params(center_atom_id:int, r_mu, R_cut, input_file:str, output_dir:str, file_type:str):\n",
        "    \"\"\"\n",
        "    This function is used to get input value from cif file and define neighbor atoms parameters\n",
        "    \"\"\"\n",
        "    if file_type == \"cif\":\n",
        "        # DATA PREPARATION\n",
        "        dico = MMCIF2Dict(input_file)\n",
        "        df_cif = pd.DataFrame.from_dict(dico, orient='index')\n",
        "        x = df_cif.iloc[-3]\n",
        "        y = df_cif.iloc[-2]\n",
        "        z = df_cif.iloc[-1]\n",
        "        atom_type = df_cif.iloc[-4]\n",
        "        x_array = np.array(x[0], dtype=float)\n",
        "        y_array = np.array(y[0], dtype=float)\n",
        "        z_array = np.array(z[0], dtype=float)\n",
        "        atom_type_array = np.array(atom_type[0], dtype=str)\n",
        "        df = pd.DataFrame({\"atom_type\": atom_type_array, \"X\": x_array, \"Y\": y_array, \"Z\": z_array})\n",
        "        # Estimate list of potentially atoms in the center cell\n",
        "        id = center_atom_id\n",
        "        # id\n",
        "        x_i = df['X'].iloc[id]\n",
        "        y_i = df['Y'].iloc[id]\n",
        "        z_i = df['Z'].iloc[id]\n",
        "        # print(x_i,y_i,z_i)\n",
        "        X_array = df['X'].to_numpy()\n",
        "        Y_array = df['Y'].to_numpy()\n",
        "        Z_array = df['Z'].to_numpy()\n",
        "        X_k_array = X_array - x_i\n",
        "        Y_k_array = Y_array - y_i\n",
        "        Z_k_array = Z_array - z_i\n",
        "        r_ik = np.sqrt(np.square(X_k_array) + np.square(Y_k_array) + np.square(Z_k_array))\n",
        "        df['X_k'], df['Y_k'], df['Z_k'], df['r_ik'] = X_k_array, Y_k_array, Z_k_array, r_ik\n",
        "        # INPUT values\n",
        "        cell_length = df.iloc[4]  # index row start from 0 _cell_length_a at row 5 index [4]\n",
        "        #r_mu = 0.0779  # scale atomic radius w.r.t cell length\n",
        "        #R_cut = 0.25  # scaled value w.r.t cell length (for Si-Si case)\n",
        "        condition = (df['r_ik'] + r_mu <= R_cut) & (df['r_ik'] != 0)\n",
        "        df_ik = df.loc[condition].copy(deep=True)\n",
        "        # ANGEL CONVERSION\n",
        "        # theta_0\n",
        "        r_ik_array = df_ik['r_ik'].to_numpy()  # r_ik from selected neighbors\n",
        "        r_0_array = np.full((r_ik_array.shape), R_cut)\n",
        "        theta_0_array = np.pi * (np.divide(r_ik_array, r_0_array))\n",
        "        # theta\n",
        "        Z_k_abs_array = np.abs(df_ik['Z_k'].to_numpy())\n",
        "        theta_array = np.arccos(np.divide(Z_k_abs_array, r_ik_array))\n",
        "        # phi\n",
        "        X_k_array = df_ik['X_k'].to_numpy()\n",
        "        Y_k_array = df_ik['Y_k'].to_numpy()\n",
        "        phi_array = np.arctan(np.divide(Y_k_array, X_k_array))\n",
        "        # convert angle to positive value between [0,2pi]\n",
        "        phi_array_convert = np.mod(phi_array, 2 * np.pi)\n",
        "        for angle in phi_array_convert:\n",
        "            if (angle >= 2 * np.pi) and (angle < 0):\n",
        "                raise ValueError('phi angle in between 0 and 2pi')\n",
        "        # replace NaN with 0: (code will have error for invalid value center atom values 0/0)_\n",
        "        df_ik['theta_0'] = theta_0_array\n",
        "        df_ik['theta_0'] = df_ik['theta_0'].replace(np.nan, 0)\n",
        "        df_ik['theta'] = theta_array\n",
        "        df_ik['theta'] = df_ik['theta'].replace(np.nan, 0)\n",
        "        df_ik['phi'] = phi_array_convert\n",
        "        df_ik['phi'] = df_ik['phi'].replace(np.nan, 0)\n",
        "        # array for weight coefficient w.r.t to atom type\n",
        "        w_ik_arr = np.full((r_ik_array.shape), 1)\n",
        "        # delta function delta=1 if i and k has the same element type, if not delta =0\n",
        "        delta = np.full((r_ik_array.shape), 0)\n",
        "        delta_arr = np.where(df_ik['atom_type'] == df_ik['atom_type'].iloc[0], 1, delta)\n",
        "        df_ik['w_ik'] = w_ik_arr\n",
        "        df_ik['delta'] = delta_arr\n",
        "    # save the DataFrame as a JSON file\n",
        "        neighbor_list_path = output_dir + '-atom-' + str(center_atom_id) + '-neighbor-list.json'\n",
        "        df_ik.to_json(neighbor_list_path, orient='records')\n",
        "        \"\"\"\n",
        "        This function is to read in the neighbor list file\n",
        "        \"\"\"\n",
        "        with open(neighbor_list_path, 'r') as f:\n",
        "            json_data = json.load(f)\n",
        "\n",
        "            # create a list of dictionaries from the JSON data\n",
        "            data_list = [dict(row) for row in json_data]\n",
        "\n",
        "            # extract data from the list of dictionaries\n",
        "            r_ik_array = np.array([float(row['r_ik']) for row in data_list])\n",
        "            theta_0_array = np.array([float(row['theta_0']) for row in data_list])\n",
        "            theta_array = np.array([float(row['theta']) for row in data_list])\n",
        "            phi_array = np.array([float(row['phi']) for row in data_list])\n",
        "            w_ik_array = np.array([float(row['w_ik']) for row in data_list])\n",
        "            delta_array = np.array([float(row['delta']) for row in data_list])\n",
        "            r_cut_array = np.full((r_ik_array.shape), R_cut)\n",
        "            # return a dictionary with the extracted data\n",
        "    else:\n",
        "        raise ValueError(f\"Unsupported file type: {file_type}\")\n",
        "    return {\n",
        "            'r_ik': r_ik_array,\n",
        "            'theta_0': theta_0_array,\n",
        "            'theta': theta_array,\n",
        "            'phi': phi_array,\n",
        "            'w_ik': w_ik_array,\n",
        "            'delta': delta_array,\n",
        "            'r_cut': r_cut_array\n",
        "        }"
      ],
      "metadata": {
        "colab": {
          "base_uri": "https://localhost:8080/"
        },
        "id": "zJxMbmci_U-k",
        "outputId": "0ea06668-8cd3-4886-a70a-3322c95fd944"
      },
      "execution_count": 117,
      "outputs": [
        {
          "output_type": "stream",
          "name": "stdout",
          "text": [
            "time: 4.21 ms (started: 2023-07-17 03:55:41 +00:00)\n"
          ]
        }
      ]
    },
    {
      "cell_type": "code",
      "source": [
        "from google.colab import drive\n",
        "drive.mount('/content/drive')"
      ],
      "metadata": {
        "colab": {
          "base_uri": "https://localhost:8080/"
        },
        "id": "DfBe6hnP_oyt",
        "outputId": "f9810e1b-69d9-4a0b-ad3c-a06573c00bf6"
      },
      "execution_count": 119,
      "outputs": [
        {
          "output_type": "stream",
          "name": "stdout",
          "text": [
            "Mounted at /content/drive\n",
            "time: 15 s (started: 2023-07-17 03:57:04 +00:00)\n"
          ]
        }
      ]
    },
    {
      "cell_type": "code",
      "source": [
        "from sympy import *\n",
        "import timeit\n",
        "from sympy.physics.quantum.cg import CG\n",
        "#INPUT\n",
        "center_atom_id = 17\n",
        "r_mu =0.0779\n",
        "R_cut= 0.25\n",
        "input_file = \"/content/drive/MyDrive/bispectrump_components/data/avgBL-Model.cif\"\n",
        "output_dir =  \"/content/drive/MyDrive/bispectrump_components/data\"\n",
        "file_type = 'cif'\n",
        "input_data = neighbor_params(center_atom_id, r_mu, R_cut, input_file, output_dir, file_type='cif')\n",
        "print(input_data)\n",
        "# Convert dictionary to DataFrame\n",
        "df = pd.DataFrame(input_data)\n",
        "# Display DataFrame\n",
        "print(df)\n",
        "#Test bispectrum calculation\n",
        "#possible list of m values\n",
        "B= Bispectrum(j=5/2, j1=2, j2=1/2, params=input_data)\n",
        "B1 = B.evaluate(j=5/2, j1=2, j2=1/2, params=input_data)\n",
        "print(B1)"
      ],
      "metadata": {
        "colab": {
          "base_uri": "https://localhost:8080/"
        },
        "id": "doNTbWQH_JYL",
        "outputId": "1a8e364a-3d30-4f52-b13c-02db3d0f4848"
      },
      "execution_count": 123,
      "outputs": [
        {
          "output_type": "stream",
          "name": "stdout",
          "text": [
            "{'r_ik': array([0.16062009, 0.12295675, 0.12219716, 0.12619947, 0.11925231]), 'theta_0': array([2.01841164, 1.54512013, 1.53557477, 1.58586934, 1.49856872]), 'theta': array([0.69919773, 0.3820468 , 1.18488014, 1.25583529, 1.15492866]), 'phi': array([0.049713  , 1.25332279, 5.41038219, 1.13378905, 6.18181825]), 'w_ik': array([1., 1., 1., 1., 1.]), 'delta': array([1., 1., 1., 1., 1.]), 'r_cut': array([0.25, 0.25, 0.25, 0.25, 0.25])}\n",
            "       r_ik   theta_0     theta       phi  w_ik  delta  r_cut\n",
            "0  0.160620  2.018412  0.699198  0.049713   1.0    1.0   0.25\n",
            "1  0.122957  1.545120  0.382047  1.253323   1.0    1.0   0.25\n",
            "2  0.122197  1.535575  1.184880  5.410382   1.0    1.0   0.25\n",
            "3  0.126199  1.585869  1.255835  1.133789   1.0    1.0   0.25\n",
            "4  0.119252  1.498569  1.154929  6.181818   1.0    1.0   0.25\n",
            "(5.459494544921386-0.20880963030900074j)\n",
            "time: 3.92 s (started: 2023-07-17 03:58:28 +00:00)\n"
          ]
        }
      ]
    }
  ]
}