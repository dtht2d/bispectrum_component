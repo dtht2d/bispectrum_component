{
  "nbformat": 4,
  "nbformat_minor": 0,
  "metadata": {
    "colab": {
      "provenance": [],
      "authorship_tag": "ABX9TyO+rtd9ZzYACsARVxe/m9lJ",
      "include_colab_link": true
    },
    "kernelspec": {
      "name": "python3",
      "display_name": "Python 3"
    },
    "language_info": {
      "name": "python"
    }
  },
  "cells": [
    {
      "cell_type": "markdown",
      "metadata": {
        "id": "view-in-github",
        "colab_type": "text"
      },
      "source": [
        "<a href=\"https://colab.research.google.com/github/dtht2d/bispectrum_component/blob/main/bispectrum/optimization/test_functions_calc.ipynb\" target=\"_parent\"><img src=\"https://colab.research.google.com/assets/colab-badge.svg\" alt=\"Open In Colab\"/></a>"
      ]
    },
    {
      "cell_type": "code",
      "source": [
        "%autosave 30"
      ],
      "metadata": {
        "colab": {
          "base_uri": "https://localhost:8080/",
          "height": 35
        },
        "id": "I9n2S-rfLHSh",
        "outputId": "63bd205c-cb0e-4fc7-e41c-f5bfd3faaaab"
      },
      "execution_count": null,
      "outputs": [
        {
          "output_type": "display_data",
          "data": {
            "application/javascript": [
              "IPython.notebook.set_autosave_interval(30000)"
            ]
          },
          "metadata": {}
        },
        {
          "output_type": "stream",
          "name": "stdout",
          "text": [
            "Autosaving every 30 seconds\n"
          ]
        }
      ]
    },
    {
      "cell_type": "markdown",
      "source": [
        "# **Code optimization:**  Compile function used in computing bispectrum components with/without Numba\n",
        "\n",
        "**Numba**\n",
        "- An open source JIT compiler that translates a subset of Python and NumPy code into fast machine code.\n",
        "- Designed to be used with NumPy arrays and functions. Numba generates specialized code for different array data types and layouts to optimize performance.\n"
      ],
      "metadata": {
        "id": "mmmBfI1hnSLz"
      }
    },
    {
      "cell_type": "code",
      "source": [
        "pip install sympy"
      ],
      "metadata": {
        "colab": {
          "base_uri": "https://localhost:8080/"
        },
        "id": "ypnD2_8ZaqFc",
        "outputId": "b5c7cc9b-3415-4d7d-8dec-4100cef9d60e"
      },
      "execution_count": null,
      "outputs": [
        {
          "output_type": "stream",
          "name": "stdout",
          "text": [
            "Looking in indexes: https://pypi.org/simple, https://us-python.pkg.dev/colab-wheels/public/simple/\n",
            "Requirement already satisfied: sympy in /usr/local/lib/python3.8/dist-packages (1.7.1)\n",
            "Requirement already satisfied: mpmath>=0.19 in /usr/local/lib/python3.8/dist-packages (from sympy) (1.2.1)\n"
          ]
        }
      ]
    },
    {
      "cell_type": "code",
      "source": [
        "!pip install numpy"
      ],
      "metadata": {
        "colab": {
          "base_uri": "https://localhost:8080/"
        },
        "id": "bcRht3Fhn05r",
        "outputId": "baf7cc37-ef9f-4441-f198-3c481494fd45"
      },
      "execution_count": null,
      "outputs": [
        {
          "output_type": "stream",
          "name": "stdout",
          "text": [
            "Looking in indexes: https://pypi.org/simple, https://us-python.pkg.dev/colab-wheels/public/simple/\n",
            "Requirement already satisfied: numpy in /usr/local/lib/python3.8/dist-packages (1.22.4)\n"
          ]
        }
      ]
    },
    {
      "cell_type": "code",
      "source": [
        "!pip install numba"
      ],
      "metadata": {
        "colab": {
          "base_uri": "https://localhost:8080/"
        },
        "id": "JkAbpQUPn4Zw",
        "outputId": "3f3c864a-e4a8-464b-dd8f-23e4ce810753"
      },
      "execution_count": null,
      "outputs": [
        {
          "output_type": "stream",
          "name": "stdout",
          "text": [
            "Looking in indexes: https://pypi.org/simple, https://us-python.pkg.dev/colab-wheels/public/simple/\n",
            "Requirement already satisfied: numba in /usr/local/lib/python3.8/dist-packages (0.56.4)\n",
            "Requirement already satisfied: numpy<1.24,>=1.18 in /usr/local/lib/python3.8/dist-packages (from numba) (1.22.4)\n",
            "Requirement already satisfied: setuptools in /usr/local/lib/python3.8/dist-packages (from numba) (57.4.0)\n",
            "Requirement already satisfied: llvmlite<0.40,>=0.39.0dev0 in /usr/local/lib/python3.8/dist-packages (from numba) (0.39.1)\n",
            "Requirement already satisfied: importlib-metadata in /usr/local/lib/python3.8/dist-packages (from numba) (6.0.0)\n",
            "Requirement already satisfied: zipp>=0.5 in /usr/local/lib/python3.8/dist-packages (from importlib-metadata->numba) (3.15.0)\n"
          ]
        }
      ]
    },
    {
      "cell_type": "code",
      "source": [
        "!pip install ipython-autotime\n",
        "%load_ext autotime"
      ],
      "metadata": {
        "colab": {
          "base_uri": "https://localhost:8080/"
        },
        "id": "san3vLB3oEB5",
        "outputId": "52c3463f-c6dd-48a2-b632-e9a06ea4c922"
      },
      "execution_count": null,
      "outputs": [
        {
          "output_type": "stream",
          "name": "stdout",
          "text": [
            "Looking in indexes: https://pypi.org/simple, https://us-python.pkg.dev/colab-wheels/public/simple/\n",
            "Collecting ipython-autotime\n",
            "  Downloading ipython_autotime-0.3.1-py2.py3-none-any.whl (6.8 kB)\n",
            "Requirement already satisfied: ipython in /usr/local/lib/python3.8/dist-packages (from ipython-autotime) (7.9.0)\n",
            "Requirement already satisfied: pickleshare in /usr/local/lib/python3.8/dist-packages (from ipython->ipython-autotime) (0.7.5)\n",
            "Requirement already satisfied: traitlets>=4.2 in /usr/local/lib/python3.8/dist-packages (from ipython->ipython-autotime) (5.7.1)\n",
            "Requirement already satisfied: backcall in /usr/local/lib/python3.8/dist-packages (from ipython->ipython-autotime) (0.2.0)\n",
            "Requirement already satisfied: pygments in /usr/local/lib/python3.8/dist-packages (from ipython->ipython-autotime) (2.6.1)\n",
            "Requirement already satisfied: pexpect in /usr/local/lib/python3.8/dist-packages (from ipython->ipython-autotime) (4.8.0)\n",
            "Requirement already satisfied: prompt-toolkit<2.1.0,>=2.0.0 in /usr/local/lib/python3.8/dist-packages (from ipython->ipython-autotime) (2.0.10)\n",
            "Requirement already satisfied: decorator in /usr/local/lib/python3.8/dist-packages (from ipython->ipython-autotime) (4.4.2)\n",
            "Collecting jedi>=0.10\n",
            "  Downloading jedi-0.18.2-py2.py3-none-any.whl (1.6 MB)\n",
            "\u001b[2K     \u001b[90m━━━━━━━━━━━━━━━━━━━━━━━━━━━━━━━━━━━━━━━━\u001b[0m \u001b[32m1.6/1.6 MB\u001b[0m \u001b[31m17.1 MB/s\u001b[0m eta \u001b[36m0:00:00\u001b[0m\n",
            "\u001b[?25hRequirement already satisfied: setuptools>=18.5 in /usr/local/lib/python3.8/dist-packages (from ipython->ipython-autotime) (57.4.0)\n",
            "Requirement already satisfied: parso<0.9.0,>=0.8.0 in /usr/local/lib/python3.8/dist-packages (from jedi>=0.10->ipython->ipython-autotime) (0.8.3)\n",
            "Requirement already satisfied: wcwidth in /usr/local/lib/python3.8/dist-packages (from prompt-toolkit<2.1.0,>=2.0.0->ipython->ipython-autotime) (0.2.6)\n",
            "Requirement already satisfied: six>=1.9.0 in /usr/local/lib/python3.8/dist-packages (from prompt-toolkit<2.1.0,>=2.0.0->ipython->ipython-autotime) (1.15.0)\n",
            "Requirement already satisfied: ptyprocess>=0.5 in /usr/local/lib/python3.8/dist-packages (from pexpect->ipython->ipython-autotime) (0.7.0)\n",
            "Installing collected packages: jedi, ipython-autotime\n",
            "Successfully installed ipython-autotime-0.3.1 jedi-0.18.2\n",
            "time: 750 µs (started: 2023-03-01 17:22:56 +00:00)\n"
          ]
        }
      ]
    },
    {
      "cell_type": "markdown",
      "source": [
        "## **a. Wigner D function**\n",
        "Ref.[5], chapter 4.3-eq.1\n",
        "\n",
        "$$\n",
        "D^{j}_{mm'}(\\theta_0,\\theta,\\phi)=e^{-im\\theta_0}d^{j}_{mm'}(\\theta)e^{-im'\\phi}\n",
        "$$\n",
        "Choose 4.3.1 eq(4) to compute $d^{j}_{mm'}(\\theta)$\n",
        "\n",
        "\\begin{align*}d^j_{mm'}{(\\theta)}= [(j+m)!(j-m)!(j+m')!(j-m')!]^{\\frac{1}{2}} \\\\ \\times \\displaystyle\\sum_k(-1)^k\\frac{(cos\\frac{\\theta}{2})^{2j-2k+m-m'}(sin\\frac{\\theta}{2})^{2k-m+m'}}{k!(j+m-k)!(j-m'-k)!(m'-m+k))} \\end{align*}\n",
        "**Note:** $k$ runs over all integer values for which factorial arguments are non-negative. The sums contain $(N+1)$  terms where N is the minimum of $j+m, j-m, j+m'$ and $j-m'$. \n",
        "\n",
        "**Finding** $k_{max}, k_{min}:$\n",
        "\n",
        "\\begin{align*} j+m-k &\\geq 0 &\\\\ k &\\leq j-m \\leq j+m \\\\ j-m'-k &\\geq 0 &\\\\ k &\\leq j-m'  \\\\ k_{min}&= [\\text{int}(\\ j+m \\ ), \\text{int}(\\ j-m' \\ \n",
        ")] \\\\ m-m'+k&\\geq 0 \\\\ k &\\geq m'-m &\\\\ k_{max}&=\\text{int}[0,m'-m] \\end{align*} \n"
      ],
      "metadata": {
        "id": "poynABn2YtZ-"
      }
    },
    {
      "cell_type": "markdown",
      "source": [
        "### **Compute class function without Numba**"
      ],
      "metadata": {
        "id": "WBQ94kJLbGMb"
      }
    },
    {
      "cell_type": "code",
      "source": [
        "import numpy as np\n",
        "import cmath\n",
        "\n",
        "def fact(n):\n",
        "    \"\"\"\n",
        "    This function is used to calculate factorial of a number by using\n",
        "    an iterative approach instead of recursive approach\n",
        "    \"\"\"\n",
        "    result = 1\n",
        "    for i in range(1, n + 1):\n",
        "        result *= i\n",
        "    return result\n",
        "\n",
        "\n",
        "class Wigner_D:\n",
        "    \"\"\"\n",
        "    Args:\n",
        "        j (scalar): angular momentum\n",
        "        m (scalar): eigenvalue of angular momentum\n",
        "        mp (scalar): eigenvalue of j along rotated axis\n",
        "        theta_0 (scalar): first angle of rotation [0, pi]\n",
        "        theta (scalar): second angle of rotation [0, pi]\n",
        "        phi (scalar): third angle of rotation [0, 2*pi]\n",
        "    Returns: complex number, Wigner D function\n",
        "    ==========================Reference==================================\n",
        "    [5] Chapter 4.3-(p.76,eq.1)  D.A. Varshalovich, A.N. Moskalev, V.K Khersonskii,\n",
        "        Quantum Theory of Angular Momentum (1988)\n",
        "    \"\"\"\n",
        "    def __init__(self, j, m, mp, theta_0, theta, phi):\n",
        "        if j < 0 or not np.isclose(j, int(j)) or (j % 1 == 0.5 and (m % 1 != 0 or mp % 1 != 0)):\n",
        "            raise ValueError(\"Invalid input parameters: j must be a non-negative integer or half-integer, \"\n",
        "                             \"m and mp must be between -j and j.\")\n",
        "        if theta_0 < 0 or theta_0 > np.pi or theta < 0 or theta > np.pi or phi < 0 or phi > 2 * np.pi:\n",
        "            raise ValueError(\n",
        "                \"Invalid input parameters: theta_0, theta, and phi must be within [0, pi] and [0, 2pi], respectively.\")\n",
        "        self.j = j\n",
        "        self.m = m\n",
        "        self.mp = mp\n",
        "        self.theta_0 = theta_0\n",
        "        self.theta = theta\n",
        "        self.phi = phi\n",
        "    def compute_dsmall(self):\n",
        "        \"\"\"\n",
        "        This method is used to calculate the Wigner d small- real function involving trigonometric functions\n",
        "        ==========================Reference==================================\n",
        "        [5] Chapter 4.3.1-(p.76,eq.4)  D.A. Varshalovich, A.N. Moskalev, V.K Khersonskii,\n",
        "        Returns: Wigner d - real function\n",
        "        \"\"\"\n",
        "        kmax = max(0, self.m - self.mp)\n",
        "        kmin = min(self.j + self.m, self.j - self.mp)\n",
        "        term1 = np.sqrt(fact(self.j + self.m) * fact(self.j - self.m) * fact(self.j + self.mp) * fact(self.j - self.mp))\n",
        "        sum = 0\n",
        "        for k in range(kmax, kmin + 1):\n",
        "            numerator = (-1) ** k * (cmath.cos(self.theta / 2)) ** (2 * self.j - 2 * k + self.m - self.mp) * \\\n",
        "                        (cmath.sin(self.theta / 2)) ** (2 * k - self.m + self.mp)\n",
        "            denominator = fact(k) * fact(self.j + self.m - k) * fact(self.j - self.mp - k) * fact(self.mp - self.m + k)\n",
        "            sum += numerator / denominator\n",
        "        return sum*term1\n",
        "\n",
        "    def wigner_D(self):\n",
        "        term1 = np.exp(-1j * self.m * self.theta_0)\n",
        "        term2 = self.compute_dsmall()\n",
        "        term3 = np.exp(-1j * self.mp * self.phi)\n",
        "        result = term1 * term2 * term3\n",
        "        return result\n",
        "\n"
      ],
      "metadata": {
        "id": "qGZ4B_6yoQbm",
        "colab": {
          "base_uri": "https://localhost:8080/"
        },
        "outputId": "9ac8f928-fea8-4a29-e1af-2e4ae90e89a6"
      },
      "execution_count": null,
      "outputs": [
        {
          "output_type": "stream",
          "name": "stdout",
          "text": [
            "time: 6.1 ms (started: 2023-03-01 17:22:56 +00:00)\n"
          ]
        }
      ]
    },
    {
      "cell_type": "markdown",
      "source": [
        "**Example**"
      ],
      "metadata": {
        "id": "eU77rfCGqvyn"
      }
    },
    {
      "cell_type": "code",
      "source": [
        "import numpy as np\n",
        "j, m, mp, theta_0, theta,phi= 1, 1, 0, np.pi, np.pi/2, 0\n",
        "# Calculate the Wigner D function using our function\n",
        "WD = Wigner_D(j, m, mp, theta_0, theta,phi)\n",
        "wd = WD.wigner_D()\n",
        "print(wd)"
      ],
      "metadata": {
        "id": "cczu8YPFquZ5",
        "colab": {
          "base_uri": "https://localhost:8080/"
        },
        "outputId": "b0dd6f22-7df5-460c-9f0f-15494a117e77"
      },
      "execution_count": null,
      "outputs": [
        {
          "output_type": "stream",
          "name": "stdout",
          "text": [
            "(0.7071067811865476+8.659560562354934e-17j)\n",
            "time: 8.23 ms (started: 2023-03-01 17:22:56 +00:00)\n"
          ]
        }
      ]
    },
    {
      "cell_type": "code",
      "source": [
        "from sympy import *\n",
        "from sympy.physics.quantum.spin import Rotation\n",
        "#Calculate the Wigner D matrix with Sympy\n",
        "rot1 = Rotation.D(j, m, mp, theta_0, theta,phi)\n",
        "wignerD_sympy = rot1.doit()\n",
        "print(N(wignerD_sympy))"
      ],
      "metadata": {
        "colab": {
          "base_uri": "https://localhost:8080/"
        },
        "id": "y5zOc5b1MhWM",
        "outputId": "2d9e816d-eed3-4728-9b0e-00d5bbfce9cf"
      },
      "execution_count": null,
      "outputs": [
        {
          "output_type": "stream",
          "name": "stdout",
          "text": [
            "0.707106781186548 + 8.65956056235493e-17*I\n",
            "time: 1.52 s (started: 2023-03-01 17:23:27 +00:00)\n"
          ]
        }
      ]
    },
    {
      "cell_type": "markdown",
      "source": [
        "**Comment:** Our function run faster than Sympy function"
      ],
      "metadata": {
        "id": "eP9ui7J4M3d_"
      }
    },
    {
      "cell_type": "markdown",
      "source": [
        "### **b. Compute Coupling Coefficients $H^{jmm'}_{{{j_1}{m_1}{m'_1}} ,{{j_2}{m_2}{m'_2}}}$analogous to Clebsch -Gordan coeffcients**\n",
        "\n",
        "**Clebsch- Gordan coefficient**\n",
        "\n",
        "Ref.[3], Eq.(5) and Ref.[1], Eq.(5)\n",
        "\n",
        "$$\n",
        "C^{jm}_{{j_1}{m_1}{j_2}{m_2}} C^{jm'}_{{j_1}{m'_1}{j_2}{m'_2}} \\equiv H^{jmm'}_{{{j_1}{m_1}{m'_1}} ,{{j_2}{m_2}{m'_2}}} \n",
        "$$\n",
        "\n",
        "**Definition**\n",
        "\n",
        "Ref.[5] p.235\n",
        "\n",
        "A Clebsch-Gordan coefficients are vector addition coefficients. They play an important role in decomposition of reducible representations of rotational….Let angular momentum $j_1$ and $j_2$ with projections on $m_1$  and $m_2$ on the quantization axis. represents **the probability amplitude that $j_1$ and $j_2$ are coupled into a resultant angular momentum $j$ with projection $m$.**\n",
        "\n",
        "\n",
        "$$\n",
        "(j_1,m_1)\\otimes(j_2,m_2) \\to (jm) \n",
        "$$\n",
        "\n",
        "$$\n",
        "C\\equiv\\langle{j_1m_1j_2m_2\\vert jm}⟩\n",
        "$$\n",
        "\n",
        "$$\n",
        "\\langle{j_1j_2m_2\\vert jm}⟩=(-1)^{j_1-j_2+m}\\sqrt{2j+1}\\begin{pmatrix}j_1&j_2&j \\\\ m_1&m_2&{-m}\\end{pmatrix} \n",
        "$$\n",
        "\n",
        "The $3jm$ symbols are related to Clebsch-Gordan coefficients. The inverse relation:\n",
        "\n",
        "Ref[5]. Ch8.1.2, eq.(12)\n",
        "\n",
        "$$\n",
        "C^{jm}_{j_1m_1j_2m_2}=(-1)^{j_1-j_2+m}\\sqrt{2j+1}\\begin{pmatrix}j_1&j_2&j \\\\ m_1&m_2&{-m}\\end{pmatrix} \n",
        "$$\n",
        "\n",
        "Ref[12]. Ch3.12, eq(3.171)\n",
        "\n",
        "$$\n",
        "\\begin{align*} C_{j_1m_1j_2m_2}^{jm} &= \\ \\delta(m_1 +m_2,m) \\\\ & \\times \\left[\\frac{(2j+1)(j+j_1-j_2)!(j-j_1+j_2)!(j_1+j_2-j)!}{(j+j_1+j_2+1)!} \\right]^{\\frac{1}{2}} \\\\ & \\times \\left[ \\frac{(j+m)!(j-m)!}{(j_1+m_1)!(j_1-m_1)!(j_2+m_2)!(j_2-m_2)!}\\right]^{\\frac{1}{2}} \\\\ & \\times \\displaystyle\\sum_s\\frac{(-1)^{j_2+m_2+s}(j_2+j+m_1-s)!(j_1-m_1+s)!}{s!(j-j_1+j_2-s)!(j+m-s)!(j_1-j_2-m+s)!} \\end{align*}\n",
        "$$\n",
        "\n",
        "**Condition for $j_1,j_2,j,m_1,m_2,m$**\n",
        "\n",
        "In accordance with vector addition rules $j_1+j_2=j$, unless the triangular conditions (triangular in equalities) are fulfilled\n",
        "\n",
        "(1)$|j_1-j_2|\\ \\le j \\le j_1+j_2$ \n",
        "\n",
        "$j= 0, \\frac{1}{2},1,...\\infty$  and $m, m' = -j,-j+1, ...,j-1,j$\n",
        "\n",
        "(2)$m_1+m_2=m \\ \\text{and} \\ j_1 +j_2=j$\n",
        "\n",
        "(3)$|m_1| \\le j_1, \\ |m_2| \\le j_2,\\ |m| \\le j$ \n",
        "\n",
        "(4) $j_1,j_2,j$ not exceed a positive integer $J \\ \\text{is}$\n",
        "\n",
        "(5) $j_1+j_2-j$ not half integer\n",
        "\n",
        "(6) $m_1,m_2,m$ are integer or half-integer (positive or negative) numbers\n",
        "\n",
        "(7) $j_1,j_2,j$ are integer or half integer non negative numbers \n",
        "\n",
        "(8) $j_1 +m_1, \\ j_2 +m_2, \\ j +m, \\ j_1+j_2+j$  are integer non-negative numbers\n",
        "**Condition for $s$ :** such that nowhere does a factorial of negative number appear\n",
        "\n",
        "$$\n",
        "\\begin{align*} j_2+j+m_1-s  &\\geq 0 \\rightarrow \\ s \\leq j_1+j+m_1 \\\\ j_1-m_1+s &\\geq 0 \\rightarrow \\ s \\geq m_1-j_1 \\\\ j-j_1+j_2-s &\\geq 0 \\rightarrow \\ s \\leq j-j_1+j_2 \\\\ j+m-s &\\geq 0 \\rightarrow \\ s \\leq j+m \\\\ j_1-j_2-m+s &\\geq 0 \\rightarrow \\ s \\geq -j_1+j_2+m\\end{align*}\n",
        "$$\n",
        "\n",
        "$s_{min}=max(0,m_1-j_1,-j_1+j_2+m)$\n",
        "\n",
        "$s_{max} = min(j_1+j+m_1, j-j_1+j_2,j+m)$\n",
        "\n",
        "$$\n",
        "s_{range}=[s_{min},s_{max}+1]\n",
        "$$\n",
        "\n",
        "**Note:** add `+1` to `smax`since the `range()`function does not include the endpoint, and we want to include it in the loop\n",
        "\n",
        "**Parameter:**\n",
        "\n",
        "$j_1, j_2$ : Angular momenta of states 1 and 2\n",
        "\n",
        "$j,m\\ :$  Total angular momentum of $(j_1+j_2)$\n",
        "\n",
        "$m_1, \\ m_2, \\ m:$  Eigenvalues w.r.t to anglar momentum $j_1, \\ j_2, \\ j$\n",
        "\n",
        "$m_1', \\ m_2', \\ m':$ Eigenvalues w.r.t $j_1, \\ j_2, \\ j$ along rotated axis"
      ],
      "metadata": {
        "id": "KKFECX2kNCkW"
      }
    },
    {
      "cell_type": "markdown",
      "source": [
        "\n",
        "### **Compute $C_{j_1m_1j_2m_2}^{jm}, \\ C_{j_1m_1j_2m_2}^{jm'}$**"
      ],
      "metadata": {
        "id": "i1Qrdh5ROSM3"
      }
    },
    {
      "cell_type": "code",
      "source": [
        "import numpy as np\n",
        "import cmath\n",
        "def fact(n):\n",
        "    \"\"\"\n",
        "    This function is used to calculate factorial of a number by using\n",
        "    an iterative approach instead of recursive approach\n",
        "    \"\"\"\n",
        "    return np.prod(np.arange(1, n + 1))\n",
        "class Clebsch_Gordan:\n",
        "    \"\"\"\n",
        "    Definition:\n",
        "    A Clebsch-Gordan coefficients are vector addition coefficients. They play an important role in decomposition of\n",
        "    reducible representations of rotation. Let j1 and j2 with projections on m1 and m2 on the quantization axis.\n",
        "    The coefficients represent the probability amplitude that j1 and j2 are coupled into a resultant angular momentum\n",
        "    j with projection m.\n",
        "    Args:\n",
        "        j1 (scalar): angular momentum\n",
        "        j2 (scalar): angular momentum\n",
        "        j (scalar): angular momentum\n",
        "        m1 (scalar): eigenvalue of angular momentum\n",
        "        m2 (scalar): eigenvalue of angular momentum\n",
        "        m (scalar): eigenvalue of angular momentum\n",
        "    Returns: complex number, Clebsh Gordan function\n",
        "    ==========================Reference==================================\n",
        "    [5] Chapter 8 D.A. Varshalovich, A.N. Moskalev, V.K Khersonskii,\n",
        "        Quantum Theory of Angular Momentum (1988)\n",
        "    [12] Chapter 3 Biedenharn, L., & Louck, J.D. ,\n",
        "        Encyclopedia of Mathematics and its Applications (1981)\n",
        "    \"\"\"\n",
        "    def __init__(self, j1, j2, j, m1, m2, m):\n",
        "        self.j1 = j1\n",
        "        self.j2 = j2\n",
        "        self.j = j\n",
        "        self.m1 = m1\n",
        "        self.m2 = m2\n",
        "        self.m = m\n",
        "        self.J = j1 + j2 + j\n",
        "        #Condition 1 & 2 & 5\n",
        "        if not (abs(j1 - j2) <= j <= j1 + j2 and m1 + m2 == m and j1 + j2 - j % 1 != 0.5):\n",
        "            raise ValueError(\"Invalid input parameters: j1, j2, j, m1, m2, and m must satisfy the triangle inequality.\\ \"\n",
        "                             \"j1+j2-j must not be a half-integer\")\n",
        "        #Condition 3 & 6\n",
        "        if not all(abs(x) <= y and (x % 0.5 == 0 or x % 1 == 0) for x, y in zip([m1, m2, m], [j1, j2, j])):\n",
        "            raise ValueError(\"Invalid input parameters: |m1| <= j1, |m_2| <= j2, |m| <= j\\ \"\n",
        "                             \"m1, m2, m must be integer or half-integer (positive or negative) numbers\")\n",
        "        # Condition 4\n",
        "        J =(j1+j2+j)\n",
        "        if J < (int(j1+j2+j)) and J <0:\n",
        "            raise ValueError(\"Invalid input parameters: j1, j2, j must not exceed a positive integer J\")\n",
        "        # Condition 7\n",
        "        if not all(\n",
        "                isinstance(x, (int, float, np.integer, np.floating)) and x >= 0 and (x % 0.5 == 0 or x % 1 == 0) for x\n",
        "                in [j1, j2, j]):\n",
        "            raise ValueError(\n",
        "                \"Invalid input parameters: j1, j2, j must be integer or half-integer non-negative numbers\")\n",
        "        # Condition 8\n",
        "        if not all(isinstance(x, (int, float, np.integer, np.floating)) and x >= 0 and x % 1 == 0 for x in\n",
        "                   [j1 + m1, j2 + m2, j + m, j1 + j2 + j]):\n",
        "            raise ValueError(\"Invalid input parameters: j1+m1,j2+m2,j+m,j1+j2+j must be integer non-negative numbers\")\n",
        "    def cb(self):\n",
        "        if self.m1 + self.m2 != self.m:\n",
        "            return 0.0  # delta function fails\n",
        "        prefactor = cmath.sqrt((2 * self.j + 1) * fact(self.j + self.j1 - self.j2) * fact(self.j-self.j1 + self.j2) \\\n",
        "                               * fact(self.j1 + self.j2 - self.j) / fact(self.j + self.j1 + self.j2 + 1))\n",
        "        coefficient = cmath.sqrt(fact(self.j + self.m) * fact(self.j - self.m) / (fact(self.j1 + self.m1) \\\n",
        "                               * fact(self.j1 - self.m1) * fact(self.j2 + self.m2) * fact(self.j2 - self.m2)))\n",
        "        sum = 0.0\n",
        "        smin= max(0, int(self.m1-self.j1),int(self.j2-self.j1+self.m))\n",
        "        smax= min(int(self.j2+self.j+self.m1),int(self.j-self.j1+self.j2),\\\n",
        "                   int(self.j+self.m))\n",
        "\n",
        "        for s in range(smin,smax+1):\n",
        "            den = fact(s) * fact(self.j - self.j1 + self.j2 - s) * fact(self.j + self.m - s) \\\n",
        "                  * fact(self.j1 - self.j2 - self.m + s)\n",
        "            num = ((-1) ** (self.j2 + self.m2 + s))* fact(self.j2 + self.j + self.m1 - s) * fact(self.j1 - self.m1 + s)\n",
        "            sum += num / den\n",
        "        cb = prefactor * coefficient * sum\n",
        "        return cb"
      ],
      "metadata": {
        "id": "aljPFHNTON_C"
      },
      "execution_count": 7,
      "outputs": []
    },
    {
      "cell_type": "code",
      "source": [
        "j1,m1,j2,m2,j,m=1,1,3/2,1/2,5/2,3/2\n",
        "CG_calc = Clebsch_Gordan(j1,j2,j,m1,m2,m)\n",
        "cb_calc = CG_calc.cb()\n",
        "print(cb_calc)"
      ],
      "metadata": {
        "colab": {
          "base_uri": "https://localhost:8080/"
        },
        "id": "Mg-GqD0ITtHR",
        "outputId": "81707cdc-d2ee-4816-a856-12a91afeebda"
      },
      "execution_count": 8,
      "outputs": [
        {
          "output_type": "stream",
          "name": "stdout",
          "text": [
            "(0.7745966692414833+0j)\n"
          ]
        }
      ]
    },
    {
      "cell_type": "code",
      "source": [
        "from sympy.physics.quantum.cg import CG\n",
        "from sympy import *\n",
        "cg = CG(j1,m1,j2,m2,j,m)\n",
        "cg = cg.doit()\n",
        "print (N(cg))"
      ],
      "metadata": {
        "id": "bc18kuwUUgLG",
        "outputId": "224ce5c3-8ea3-436b-9483-d796667392ec",
        "colab": {
          "base_uri": "https://localhost:8080/"
        }
      },
      "execution_count": 9,
      "outputs": [
        {
          "output_type": "stream",
          "name": "stdout",
          "text": [
            "0.774596669241483\n"
          ]
        }
      ]
    },
    {
      "cell_type": "markdown",
      "source": [
        "**Comment:** our function to calculate Clebsch Gordan Coefficient run faster"
      ],
      "metadata": {
        "id": "Lf0lR3bhXEey"
      }
    },
    {
      "cell_type": "markdown",
      "source": [
        "### **Compute Coupling Coefficients $H^{jmm'}_{{{j_1}{m_1}{m'_1}} ,{{j_2}{m_2}{m'_2}}}$**\n",
        "\n"
      ],
      "metadata": {
        "id": "Ohk_Rz__Wl_D"
      }
    },
    {
      "cell_type": "markdown",
      "source": [
        "$$\n",
        "C^{jm}_{{j_1}{m_1}{j_2}{m_2}} C^{jm'}_{{j_1}{m'_1}{j_2}{m'_2}} \\equiv H^{jmm'}_{{{j_1}{m_1}{m'_1}} ,{{j_2}{m_2}{m'_2}}}   \n",
        "$$"
      ],
      "metadata": {
        "id": "2Z_Qh4bKXAbp"
      }
    },
    {
      "cell_type": "code",
      "source": [],
      "metadata": {
        "id": "gUKcPWPfXB46"
      },
      "execution_count": null,
      "outputs": []
    }
  ]
}