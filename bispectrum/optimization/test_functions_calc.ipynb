{
  "nbformat": 4,
  "nbformat_minor": 0,
  "metadata": {
    "colab": {
      "provenance": [],
      "authorship_tag": "ABX9TyPo1LwMzgcMtmI+nNvzprng",
      "include_colab_link": true
    },
    "kernelspec": {
      "name": "python3",
      "display_name": "Python 3"
    },
    "language_info": {
      "name": "python"
    }
  },
  "cells": [
    {
      "cell_type": "markdown",
      "metadata": {
        "id": "view-in-github",
        "colab_type": "text"
      },
      "source": [
        "<a href=\"https://colab.research.google.com/github/dtht2d/bispectrum_component/blob/main/bispectrum/optimization/test_functions_calc.ipynb\" target=\"_parent\"><img src=\"https://colab.research.google.com/assets/colab-badge.svg\" alt=\"Open In Colab\"/></a>"
      ]
    },
    {
      "cell_type": "code",
      "source": [
        "%autosave 30"
      ],
      "metadata": {
        "id": "I9n2S-rfLHSh",
        "outputId": "63bd205c-cb0e-4fc7-e41c-f5bfd3faaaab",
        "colab": {
          "base_uri": "https://localhost:8080/",
          "height": 35
        }
      },
      "execution_count": 1,
      "outputs": [
        {
          "output_type": "display_data",
          "data": {
            "application/javascript": [
              "IPython.notebook.set_autosave_interval(30000)"
            ]
          },
          "metadata": {}
        },
        {
          "output_type": "stream",
          "name": "stdout",
          "text": [
            "Autosaving every 30 seconds\n"
          ]
        }
      ]
    },
    {
      "cell_type": "markdown",
      "source": [
        "# **Code optimization:**  Compile function used in computing bispectrum components with/without Numba\n",
        "\n",
        "**Numba**\n",
        "- An open source JIT compiler that translates a subset of Python and NumPy code into fast machine code.\n",
        "- Designed to be used with NumPy arrays and functions. Numba generates specialized code for different array data types and layouts to optimize performance.\n"
      ],
      "metadata": {
        "id": "mmmBfI1hnSLz"
      }
    },
    {
      "cell_type": "code",
      "source": [
        "pip install sympy"
      ],
      "metadata": {
        "colab": {
          "base_uri": "https://localhost:8080/"
        },
        "id": "ypnD2_8ZaqFc",
        "outputId": "b5c7cc9b-3415-4d7d-8dec-4100cef9d60e"
      },
      "execution_count": 2,
      "outputs": [
        {
          "output_type": "stream",
          "name": "stdout",
          "text": [
            "Looking in indexes: https://pypi.org/simple, https://us-python.pkg.dev/colab-wheels/public/simple/\n",
            "Requirement already satisfied: sympy in /usr/local/lib/python3.8/dist-packages (1.7.1)\n",
            "Requirement already satisfied: mpmath>=0.19 in /usr/local/lib/python3.8/dist-packages (from sympy) (1.2.1)\n"
          ]
        }
      ]
    },
    {
      "cell_type": "code",
      "source": [
        "!pip install numpy"
      ],
      "metadata": {
        "colab": {
          "base_uri": "https://localhost:8080/"
        },
        "id": "bcRht3Fhn05r",
        "outputId": "dcb4d6a2-d60f-4371-ed10-33a01ea4c00a"
      },
      "execution_count": null,
      "outputs": [
        {
          "output_type": "stream",
          "name": "stdout",
          "text": [
            "Looking in indexes: https://pypi.org/simple, https://us-python.pkg.dev/colab-wheels/public/simple/\n",
            "Requirement already satisfied: numpy in /usr/local/lib/python3.8/dist-packages (1.22.4)\n"
          ]
        }
      ]
    },
    {
      "cell_type": "code",
      "source": [
        "!pip install numba"
      ],
      "metadata": {
        "colab": {
          "base_uri": "https://localhost:8080/"
        },
        "id": "JkAbpQUPn4Zw",
        "outputId": "2e5f13ff-6a24-4da3-a026-c4578d535ca3"
      },
      "execution_count": null,
      "outputs": [
        {
          "output_type": "stream",
          "name": "stdout",
          "text": [
            "Looking in indexes: https://pypi.org/simple, https://us-python.pkg.dev/colab-wheels/public/simple/\n",
            "Requirement already satisfied: numba in /usr/local/lib/python3.8/dist-packages (0.56.4)\n",
            "Requirement already satisfied: importlib-metadata in /usr/local/lib/python3.8/dist-packages (from numba) (6.0.0)\n",
            "Requirement already satisfied: llvmlite<0.40,>=0.39.0dev0 in /usr/local/lib/python3.8/dist-packages (from numba) (0.39.1)\n",
            "Requirement already satisfied: setuptools in /usr/local/lib/python3.8/dist-packages (from numba) (57.4.0)\n",
            "Requirement already satisfied: numpy<1.24,>=1.18 in /usr/local/lib/python3.8/dist-packages (from numba) (1.22.4)\n",
            "Requirement already satisfied: zipp>=0.5 in /usr/local/lib/python3.8/dist-packages (from importlib-metadata->numba) (3.15.0)\n",
            "time: 4.25 s (started: 2023-02-28 19:07:20 +00:00)\n"
          ]
        }
      ]
    },
    {
      "cell_type": "code",
      "source": [
        "!pip install ipython-autotime\n",
        "%load_ext autotime"
      ],
      "metadata": {
        "colab": {
          "base_uri": "https://localhost:8080/"
        },
        "id": "san3vLB3oEB5",
        "outputId": "e595b695-cf1e-4708-e015-e0df9715a236"
      },
      "execution_count": null,
      "outputs": [
        {
          "output_type": "stream",
          "name": "stdout",
          "text": [
            "Looking in indexes: https://pypi.org/simple, https://us-python.pkg.dev/colab-wheels/public/simple/\n",
            "Collecting ipython-autotime\n",
            "  Downloading ipython_autotime-0.3.1-py2.py3-none-any.whl (6.8 kB)\n",
            "Requirement already satisfied: ipython in /usr/local/lib/python3.8/dist-packages (from ipython-autotime) (7.9.0)\n",
            "Requirement already satisfied: pexpect in /usr/local/lib/python3.8/dist-packages (from ipython->ipython-autotime) (4.8.0)\n",
            "Requirement already satisfied: traitlets>=4.2 in /usr/local/lib/python3.8/dist-packages (from ipython->ipython-autotime) (5.7.1)\n",
            "Requirement already satisfied: pygments in /usr/local/lib/python3.8/dist-packages (from ipython->ipython-autotime) (2.6.1)\n",
            "Requirement already satisfied: decorator in /usr/local/lib/python3.8/dist-packages (from ipython->ipython-autotime) (4.4.2)\n",
            "Requirement already satisfied: prompt-toolkit<2.1.0,>=2.0.0 in /usr/local/lib/python3.8/dist-packages (from ipython->ipython-autotime) (2.0.10)\n",
            "Requirement already satisfied: pickleshare in /usr/local/lib/python3.8/dist-packages (from ipython->ipython-autotime) (0.7.5)\n",
            "Requirement already satisfied: setuptools>=18.5 in /usr/local/lib/python3.8/dist-packages (from ipython->ipython-autotime) (57.4.0)\n",
            "Collecting jedi>=0.10\n",
            "  Downloading jedi-0.18.2-py2.py3-none-any.whl (1.6 MB)\n",
            "\u001b[2K     \u001b[90m━━━━━━━━━━━━━━━━━━━━━━━━━━━━━━━━━━━━━━━━\u001b[0m \u001b[32m1.6/1.6 MB\u001b[0m \u001b[31m54.2 MB/s\u001b[0m eta \u001b[36m0:00:00\u001b[0m\n",
            "\u001b[?25hRequirement already satisfied: backcall in /usr/local/lib/python3.8/dist-packages (from ipython->ipython-autotime) (0.2.0)\n",
            "Requirement already satisfied: parso<0.9.0,>=0.8.0 in /usr/local/lib/python3.8/dist-packages (from jedi>=0.10->ipython->ipython-autotime) (0.8.3)\n",
            "Requirement already satisfied: wcwidth in /usr/local/lib/python3.8/dist-packages (from prompt-toolkit<2.1.0,>=2.0.0->ipython->ipython-autotime) (0.2.6)\n",
            "Requirement already satisfied: six>=1.9.0 in /usr/local/lib/python3.8/dist-packages (from prompt-toolkit<2.1.0,>=2.0.0->ipython->ipython-autotime) (1.15.0)\n",
            "Requirement already satisfied: ptyprocess>=0.5 in /usr/local/lib/python3.8/dist-packages (from pexpect->ipython->ipython-autotime) (0.7.0)\n",
            "Installing collected packages: jedi, ipython-autotime\n",
            "Successfully installed ipython-autotime-0.3.1 jedi-0.18.2\n",
            "time: 624 µs (started: 2023-02-28 19:07:20 +00:00)\n"
          ]
        }
      ]
    },
    {
      "cell_type": "markdown",
      "source": [
        "## **a. Wigner D function**\n",
        "Ref.[5], chapter 4.3-eq.1\n",
        "\n",
        "$$\n",
        "D^{j}_{mm'}(\\theta_0,\\theta,\\phi)=e^{-im\\theta_0}d^{j}_{mm'}(\\theta)e^{-im'\\phi}\n",
        "$$\n",
        "Choose 4.3.1 eq(4) to compute $d^{j}_{mm'}(\\theta)$\n",
        "\n",
        "\\begin{align*}d^j_{mm'}{(\\theta)}= [(j+m)!(j-m)!(j+m')!(j-m')!]^{\\frac{1}{2}} \\\\ \\times \\displaystyle\\sum_k(-1)^k\\frac{(cos\\frac{\\theta}{2})^{2j-2k+m-m'}(sin\\frac{\\theta}{2})^{2k-m+m'}}{k!(j+m-k)!(j-m'-k)!(m'-m+k))} \\end{align*}\n",
        "**Note:** $k$ runs over all integer values for which factorial arguments are non-negative. The sums contain $(N+1)$  terms where N is the minimum of $j+m, j-m, j+m'$ and $j-m'$. \n",
        "\n",
        "**Finding** $k_{max}, k_{min}:$\n",
        "\n",
        "\\begin{align*} j+m-k &\\geq 0 &\\\\ k &\\leq j-m \\leq j+m \\\\ j-m'-k &\\geq 0 &\\\\ k &\\leq j-m'  \\\\ k_{min}&= [\\text{int}(\\ j+m \\ ), \\text{int}(\\ j-m' \\ \n",
        ")] \\\\ m-m'+k&\\geq 0 \\\\ k &\\geq m'-m &\\\\ k_{max}&=\\text{int}[0,m'-m] \\end{align*} \n"
      ],
      "metadata": {
        "id": "poynABn2YtZ-"
      }
    },
    {
      "cell_type": "markdown",
      "source": [
        "### **Compute class function without Numba**"
      ],
      "metadata": {
        "id": "WBQ94kJLbGMb"
      }
    },
    {
      "cell_type": "code",
      "source": [
        "import numpy as np\n",
        "import cmath\n",
        "\n",
        "def fact(n):\n",
        "    \"\"\"\n",
        "    This function is used to calculate factorial of a number by using\n",
        "    an iterative approach instead of recursive approach\n",
        "    \"\"\"\n",
        "    result = 1\n",
        "    for i in range(1, n + 1):\n",
        "        result *= i\n",
        "    return result\n",
        "\n",
        "\n",
        "class Wigner_D:\n",
        "    \"\"\"\n",
        "    Args:\n",
        "        j (scalar): angular momentum\n",
        "        m (scalar): eigenvalue of angular momentum\n",
        "        mp (scalar): eigenvalue of j along rotated axis\n",
        "        theta_0 (scalar): first angle of rotation [0, pi]\n",
        "        theta (scalar): second angle of rotation [0, pi]\n",
        "        phi (scalar): third angle of rotation [0, 2*pi]\n",
        "    Returns: complex number, Wigner D function\n",
        "    ==========================Reference==================================\n",
        "    [5] Chapter 4.3-(p.76,eq.1)  D.A. Varshalovich, A.N. Moskalev, V.K Khersonskii,\n",
        "        Quantum Theory of Angular Momentum (1988)\n",
        "    \"\"\"\n",
        "    def __init__(self, j, m, mp, theta_0, theta, phi):\n",
        "        if j < 0 or not np.isclose(j, int(j)) or (j % 1 == 0.5 and (m % 1 != 0 or mp % 1 != 0)):\n",
        "            raise ValueError(\"Invalid input parameters: j must be a non-negative integer or half-integer, \"\n",
        "                             \"m and mp must be between -j and j.\")\n",
        "        if theta_0 < 0 or theta_0 > np.pi or theta < 0 or theta > np.pi or phi < 0 or phi > 2 * np.pi:\n",
        "            raise ValueError(\n",
        "                \"Invalid input parameters: theta_0, theta, and phi must be within [0, pi] and [0, 2pi], respectively.\")\n",
        "        self.j = j\n",
        "        self.m = m\n",
        "        self.mp = mp\n",
        "        self.theta_0 = theta_0\n",
        "        self.theta = theta\n",
        "        self.phi = phi\n",
        "    def compute_dsmall(self):\n",
        "        \"\"\"\n",
        "        This method is used to calculate the Wigner d small- real function involving trigonometric functions\n",
        "        ==========================Reference==================================\n",
        "        [5] Chapter 4.3.1-(p.76,eq.4)  D.A. Varshalovich, A.N. Moskalev, V.K Khersonskii,\n",
        "        Returns: Wigner d - real function\n",
        "        \"\"\"\n",
        "        kmax = max(0, self.m - self.mp)\n",
        "        kmin = min(self.j + self.m, self.j - self.mp)\n",
        "        term1 = np.sqrt(fact(self.j + self.m) * fact(self.j - self.m) * fact(self.j + self.mp) * fact(self.j - self.mp))\n",
        "        sum = 0\n",
        "        for k in range(kmax, kmin + 1):\n",
        "            numerator = (-1) ** k * (cmath.cos(self.theta / 2)) ** (2 * self.j - 2 * k + self.m - self.mp) * \\\n",
        "                        (cmath.sin(self.theta / 2)) ** (2 * k - self.m + self.mp)\n",
        "            denominator = fact(k) * fact(self.j + self.m - k) * fact(self.j - self.mp - k) * fact(self.mp - self.m + k)\n",
        "            sum += numerator / denominator\n",
        "        return sum*term1\n",
        "\n",
        "    def wigner_D(self):\n",
        "        term1 = np.exp(-1j * self.m * self.theta_0)\n",
        "        term2 = self.compute_dsmall()\n",
        "        term3 = np.exp(-1j * self.mp * self.phi)\n",
        "        result = term1 * term2 * term3\n",
        "        return result\n",
        "\n"
      ],
      "metadata": {
        "id": "qGZ4B_6yoQbm"
      },
      "execution_count": null,
      "outputs": []
    },
    {
      "cell_type": "markdown",
      "source": [
        "**Example**"
      ],
      "metadata": {
        "id": "eU77rfCGqvyn"
      }
    },
    {
      "cell_type": "code",
      "source": [
        "import numpy as np\n",
        "j, m, mp, theta_0, theta,phi= 1, 1, 0, np.pi, np.pi/2, 0\n",
        "# Calculate the Wigner D function using our function\n",
        "WD = Wigner_D(j, m, mp, theta_0, theta,phi)\n",
        "wd = WD.wigner_D()\n",
        "print(wd)"
      ],
      "metadata": {
        "id": "cczu8YPFquZ5",
        "colab": {
          "base_uri": "https://localhost:8080/"
        },
        "outputId": "cdeea658-5cb8-4b6c-b647-e9e02a346961"
      },
      "execution_count": null,
      "outputs": [
        {
          "output_type": "stream",
          "name": "stdout",
          "text": [
            "(0.7071067811865476+8.659560562354934e-17j)\n",
            "time: 16.6 ms (started: 2023-02-28 19:07:27 +00:00)\n"
          ]
        }
      ]
    }
  ]
}