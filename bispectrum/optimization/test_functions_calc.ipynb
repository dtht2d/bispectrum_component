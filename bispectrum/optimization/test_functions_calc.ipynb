{
  "nbformat": 4,
  "nbformat_minor": 0,
  "metadata": {
    "colab": {
      "provenance": [],
      "toc_visible": true,
      "authorship_tag": "ABX9TyMJ6O1dqIPah+T8z7/xYaHd",
      "include_colab_link": true
    },
    "kernelspec": {
      "name": "python3",
      "display_name": "Python 3"
    },
    "language_info": {
      "name": "python"
    }
  },
  "cells": [
    {
      "cell_type": "markdown",
      "metadata": {
        "id": "view-in-github",
        "colab_type": "text"
      },
      "source": [
        "<a href=\"https://colab.research.google.com/github/dtht2d/bispectrum_component/blob/main/bispectrum/optimization/test_functions_calc.ipynb\" target=\"_parent\"><img src=\"https://colab.research.google.com/assets/colab-badge.svg\" alt=\"Open In Colab\"/></a>"
      ]
    },
    {
      "cell_type": "code",
      "source": [
        "%autosave 30"
      ],
      "metadata": {
        "colab": {
          "base_uri": "https://localhost:8080/",
          "height": 35
        },
        "id": "I9n2S-rfLHSh",
        "outputId": "8eb69a96-7f19-4133-eacc-084312aef5f0"
      },
      "execution_count": 8,
      "outputs": [
        {
          "output_type": "display_data",
          "data": {
            "application/javascript": [
              "IPython.notebook.set_autosave_interval(30000)"
            ]
          },
          "metadata": {}
        },
        {
          "output_type": "stream",
          "name": "stdout",
          "text": [
            "Autosaving every 30 seconds\n"
          ]
        }
      ]
    },
    {
      "cell_type": "markdown",
      "source": [
        "# **Code optimization:**  Compile function used in computing bispectrum components with/without Numba\n",
        "\n",
        "**Numba**\n",
        "- An open source JIT compiler that translates a subset of Python and NumPy code into fast machine code.\n",
        "- Designed to be used with NumPy arrays and functions. Numba generates specialized code for different array data types and layouts to optimize performance.\n"
      ],
      "metadata": {
        "id": "mmmBfI1hnSLz"
      }
    },
    {
      "cell_type": "code",
      "source": [
        "pip install sympy"
      ],
      "metadata": {
        "colab": {
          "base_uri": "https://localhost:8080/"
        },
        "id": "ypnD2_8ZaqFc",
        "outputId": "cdb10167-f41c-44cc-8283-b52a7de0f48b"
      },
      "execution_count": 9,
      "outputs": [
        {
          "output_type": "stream",
          "name": "stdout",
          "text": [
            "Looking in indexes: https://pypi.org/simple, https://us-python.pkg.dev/colab-wheels/public/simple/\n",
            "Requirement already satisfied: sympy in /usr/local/lib/python3.9/dist-packages (1.7.1)\n",
            "Requirement already satisfied: mpmath>=0.19 in /usr/local/lib/python3.9/dist-packages (from sympy) (1.3.0)\n"
          ]
        }
      ]
    },
    {
      "cell_type": "code",
      "source": [
        "!pip install numpy"
      ],
      "metadata": {
        "colab": {
          "base_uri": "https://localhost:8080/"
        },
        "id": "bcRht3Fhn05r",
        "outputId": "fe32f00d-820b-45f3-88f7-370ded7f2bc7"
      },
      "execution_count": 10,
      "outputs": [
        {
          "output_type": "stream",
          "name": "stdout",
          "text": [
            "Looking in indexes: https://pypi.org/simple, https://us-python.pkg.dev/colab-wheels/public/simple/\n",
            "Requirement already satisfied: numpy in /usr/local/lib/python3.9/dist-packages (1.22.4)\n"
          ]
        }
      ]
    },
    {
      "cell_type": "code",
      "source": [
        "!pip install numba"
      ],
      "metadata": {
        "colab": {
          "base_uri": "https://localhost:8080/"
        },
        "id": "JkAbpQUPn4Zw",
        "outputId": "de76f541-f9a3-4414-dc0f-339a7f4526fe"
      },
      "execution_count": 11,
      "outputs": [
        {
          "output_type": "stream",
          "name": "stdout",
          "text": [
            "Looking in indexes: https://pypi.org/simple, https://us-python.pkg.dev/colab-wheels/public/simple/\n",
            "Requirement already satisfied: numba in /usr/local/lib/python3.9/dist-packages (0.56.4)\n",
            "Requirement already satisfied: setuptools in /usr/local/lib/python3.9/dist-packages (from numba) (63.4.3)\n",
            "Requirement already satisfied: llvmlite<0.40,>=0.39.0dev0 in /usr/local/lib/python3.9/dist-packages (from numba) (0.39.1)\n",
            "Requirement already satisfied: numpy<1.24,>=1.18 in /usr/local/lib/python3.9/dist-packages (from numba) (1.22.4)\n"
          ]
        }
      ]
    },
    {
      "cell_type": "code",
      "source": [
        "!pip install ipython-autotime\n",
        "%load_ext autotime"
      ],
      "metadata": {
        "colab": {
          "base_uri": "https://localhost:8080/"
        },
        "id": "san3vLB3oEB5",
        "outputId": "2c5944eb-d8a9-41ea-b873-cabf192fa7f1"
      },
      "execution_count": 12,
      "outputs": [
        {
          "output_type": "stream",
          "name": "stdout",
          "text": [
            "Looking in indexes: https://pypi.org/simple, https://us-python.pkg.dev/colab-wheels/public/simple/\n",
            "Collecting ipython-autotime\n",
            "  Downloading ipython_autotime-0.3.1-py2.py3-none-any.whl (6.8 kB)\n",
            "Requirement already satisfied: ipython in /usr/local/lib/python3.9/dist-packages (from ipython-autotime) (7.9.0)\n",
            "Requirement already satisfied: traitlets>=4.2 in /usr/local/lib/python3.9/dist-packages (from ipython->ipython-autotime) (5.7.1)\n",
            "Requirement already satisfied: backcall in /usr/local/lib/python3.9/dist-packages (from ipython->ipython-autotime) (0.2.0)\n",
            "Requirement already satisfied: pygments in /usr/local/lib/python3.9/dist-packages (from ipython->ipython-autotime) (2.6.1)\n",
            "Requirement already satisfied: pexpect in /usr/local/lib/python3.9/dist-packages (from ipython->ipython-autotime) (4.8.0)\n",
            "Requirement already satisfied: setuptools>=18.5 in /usr/local/lib/python3.9/dist-packages (from ipython->ipython-autotime) (63.4.3)\n",
            "Requirement already satisfied: decorator in /usr/local/lib/python3.9/dist-packages (from ipython->ipython-autotime) (4.4.2)\n",
            "Requirement already satisfied: pickleshare in /usr/local/lib/python3.9/dist-packages (from ipython->ipython-autotime) (0.7.5)\n",
            "Requirement already satisfied: prompt-toolkit<2.1.0,>=2.0.0 in /usr/local/lib/python3.9/dist-packages (from ipython->ipython-autotime) (2.0.10)\n",
            "Collecting jedi>=0.10\n",
            "  Downloading jedi-0.18.2-py2.py3-none-any.whl (1.6 MB)\n",
            "\u001b[2K     \u001b[90m━━━━━━━━━━━━━━━━━━━━━━━━━━━━━━━━━━━━━━━━\u001b[0m \u001b[32m1.6/1.6 MB\u001b[0m \u001b[31m42.7 MB/s\u001b[0m eta \u001b[36m0:00:00\u001b[0m\n",
            "\u001b[?25hRequirement already satisfied: parso<0.9.0,>=0.8.0 in /usr/local/lib/python3.9/dist-packages (from jedi>=0.10->ipython->ipython-autotime) (0.8.3)\n",
            "Requirement already satisfied: wcwidth in /usr/local/lib/python3.9/dist-packages (from prompt-toolkit<2.1.0,>=2.0.0->ipython->ipython-autotime) (0.2.6)\n",
            "Requirement already satisfied: six>=1.9.0 in /usr/local/lib/python3.9/dist-packages (from prompt-toolkit<2.1.0,>=2.0.0->ipython->ipython-autotime) (1.15.0)\n",
            "Requirement already satisfied: ptyprocess>=0.5 in /usr/local/lib/python3.9/dist-packages (from pexpect->ipython->ipython-autotime) (0.7.0)\n",
            "Installing collected packages: jedi, ipython-autotime\n",
            "Successfully installed ipython-autotime-0.3.1 jedi-0.18.2\n",
            "time: 381 µs (started: 2023-03-15 19:17:36 +00:00)\n"
          ]
        }
      ]
    },
    {
      "cell_type": "code",
      "source": [
        "!pip install pandas "
      ],
      "metadata": {
        "id": "KKu8HXFR2TjS",
        "outputId": "bb81c936-9faf-421d-fb1e-6f9437898ddd",
        "colab": {
          "base_uri": "https://localhost:8080/"
        }
      },
      "execution_count": 13,
      "outputs": [
        {
          "output_type": "stream",
          "name": "stdout",
          "text": [
            "Looking in indexes: https://pypi.org/simple, https://us-python.pkg.dev/colab-wheels/public/simple/\n",
            "Requirement already satisfied: pandas in /usr/local/lib/python3.9/dist-packages (1.4.4)\n",
            "Requirement already satisfied: numpy>=1.18.5 in /usr/local/lib/python3.9/dist-packages (from pandas) (1.22.4)\n",
            "Requirement already satisfied: pytz>=2020.1 in /usr/local/lib/python3.9/dist-packages (from pandas) (2022.7.1)\n",
            "Requirement already satisfied: python-dateutil>=2.8.1 in /usr/local/lib/python3.9/dist-packages (from pandas) (2.8.2)\n",
            "Requirement already satisfied: six>=1.5 in /usr/local/lib/python3.9/dist-packages (from python-dateutil>=2.8.1->pandas) (1.15.0)\n",
            "time: 4.24 s (started: 2023-03-15 19:17:36 +00:00)\n"
          ]
        }
      ]
    },
    {
      "cell_type": "code",
      "source": [
        "!pip install sympy"
      ],
      "metadata": {
        "id": "s5SZTXGwtLOS",
        "outputId": "e8378548-f8ae-43c7-d7ae-3f2618f0c5bb",
        "colab": {
          "base_uri": "https://localhost:8080/"
        }
      },
      "execution_count": 14,
      "outputs": [
        {
          "output_type": "stream",
          "name": "stdout",
          "text": [
            "Looking in indexes: https://pypi.org/simple, https://us-python.pkg.dev/colab-wheels/public/simple/\n",
            "Requirement already satisfied: sympy in /usr/local/lib/python3.9/dist-packages (1.7.1)\n",
            "Requirement already satisfied: mpmath>=0.19 in /usr/local/lib/python3.9/dist-packages (from sympy) (1.3.0)\n",
            "time: 4.13 s (started: 2023-03-15 19:17:42 +00:00)\n"
          ]
        }
      ]
    },
    {
      "cell_type": "markdown",
      "source": [
        "## **a. Wigner D function**\n",
        "Ref.[5], chapter 4.3-eq.1\n",
        "\n",
        "$$\n",
        "D^{j}_{mm'}(\\theta_0,\\theta,\\phi)=e^{-im\\theta_0}d^{j}_{mm'}(\\theta)e^{-im'\\phi}\n",
        "$$\n",
        "Choose 4.3.1 eq(4) to compute $d^{j}_{mm'}(\\theta)$\n",
        "\n",
        "\\begin{align*}d^j_{mm'}{(\\theta)}= [(j+m)!(j-m)!(j+m')!(j-m')!]^{\\frac{1}{2}} \\\\ \\times \\displaystyle\\sum_k(-1)^k\\frac{(cos\\frac{\\theta}{2})^{2j-2k+m-m'}(sin\\frac{\\theta}{2})^{2k-m+m'}}{k!(j+m-k)!(j-m'-k)!(m'-m+k))} \\end{align*}\n",
        "**Note:** $k$ runs over all integer values for which factorial arguments are non-negative. The sums contain $(N+1)$  terms where N is the minimum of $j+m, j-m, j+m'$ and $j-m'$. \n",
        "\n",
        "**Finding** $k_{max}, k_{min}:$\n",
        "\n",
        "\\begin{align*} j+m-k &\\geq 0 &\\\\ k &\\leq j-m \\leq j+m \\\\ j-m'-k &\\geq 0 &\\\\ k &\\leq j-m'  \\\\ k_{min}&= [\\text{int}(\\ j+m \\ ), \\text{int}(\\ j-m' \\ \n",
        ")] \\\\ m-m'+k&\\geq 0 \\\\ k &\\geq m'-m &\\\\ k_{max}&=\\text{int}[0,m'-m] \\end{align*} \n"
      ],
      "metadata": {
        "id": "poynABn2YtZ-"
      }
    },
    {
      "cell_type": "markdown",
      "source": [
        "### **Compute class function without Numba**"
      ],
      "metadata": {
        "id": "WBQ94kJLbGMb"
      }
    },
    {
      "cell_type": "code",
      "source": [
        "import numpy as np\n",
        "import cmath\n",
        "\n",
        "def fact(n):\n",
        "    \"\"\"\n",
        "    This function is used to calculate factorial of a number by using\n",
        "    an iterative approach instead of recursive approach\n",
        "    \"\"\"\n",
        "    result = 1\n",
        "    for i in range(1, n + 1):\n",
        "        result *= i\n",
        "    return result\n",
        "\n",
        "\n",
        "class Wigner_D:\n",
        "    \"\"\"\n",
        "    Args:\n",
        "        j (scalar): angular momentum\n",
        "        m (scalar): eigenvalue of angular momentum\n",
        "        mp (scalar): eigenvalue of j along rotated axis\n",
        "        theta_0 (scalar): first angle of rotation [0, pi]\n",
        "        theta (scalar): second angle of rotation [0, pi]\n",
        "        phi (scalar): third angle of rotation [0, 2*pi]\n",
        "    Returns: complex number, Wigner D function\n",
        "    ==========================Reference==================================\n",
        "    [5] Chapter 4.3-(p.76,eq.1)  D.A. Varshalovich, A.N. Moskalev, V.K Khersonskii,\n",
        "        Quantum Theory of Angular Momentum (1988)\n",
        "    \"\"\"\n",
        "    def __init__(self, j, m, mp, theta_0, theta, phi):\n",
        "        if j < 0 or not np.isclose(j, int(j)) or (j % 1 == 0.5 and (m % 1 != 0 or mp % 1 != 0)):\n",
        "            raise ValueError(\"Invalid input parameters: j must be a non-negative integer or half-integer, \"\n",
        "                             \"m and mp must be between -j and j.\")\n",
        "        if theta_0 < 0 or theta_0 > np.pi or theta < 0 or theta > np.pi or phi < 0 or phi > 2 * np.pi:\n",
        "            raise ValueError(\n",
        "                \"Invalid input parameters: theta_0, theta, and phi must be within [0, pi] and [0, 2pi], respectively.\")\n",
        "        self.j = j\n",
        "        self.m = m\n",
        "        self.mp = mp\n",
        "        self.theta_0 = theta_0\n",
        "        self.theta = theta\n",
        "        self.phi = phi\n",
        "    def compute_dsmall(self):\n",
        "        \"\"\"\n",
        "        This method is used to calculate the Wigner d small- real function involving trigonometric functions\n",
        "        ==========================Reference==================================\n",
        "        [5] Chapter 4.3.1-(p.76,eq.4)  D.A. Varshalovich, A.N. Moskalev, V.K Khersonskii,\n",
        "        Returns: Wigner d - real function\n",
        "        \"\"\"\n",
        "        kmax = max(0, self.m - self.mp)\n",
        "        kmin = min(self.j + self.m, self.j - self.mp)\n",
        "        term1 = np.sqrt(fact(self.j + self.m) * fact(self.j - self.m) * fact(self.j + self.mp) * fact(self.j - self.mp))\n",
        "        sum = 0\n",
        "        for k in range(kmax, kmin + 1):\n",
        "            numerator = (-1) ** k * (cmath.cos(self.theta / 2)) ** (2 * self.j - 2 * k + self.m - self.mp) * \\\n",
        "                        (cmath.sin(self.theta / 2)) ** (2 * k - self.m + self.mp)\n",
        "            denominator = fact(k) * fact(self.j + self.m - k) * fact(self.j - self.mp - k) * fact(self.mp - self.m + k)\n",
        "            sum += numerator / denominator\n",
        "        return sum*term1\n",
        "\n",
        "    def wigner_D(self):\n",
        "        term1 = np.exp(-1j * self.m * self.theta_0)\n",
        "        term2 = self.compute_dsmall()\n",
        "        term3 = np.exp(-1j * self.mp * self.phi)\n",
        "        result = term1 * term2 * term3\n",
        "        return result\n",
        "\n"
      ],
      "metadata": {
        "id": "qGZ4B_6yoQbm",
        "colab": {
          "base_uri": "https://localhost:8080/"
        },
        "outputId": "fdfee0d7-1b00-4a33-e937-aebf55258e8c"
      },
      "execution_count": 15,
      "outputs": [
        {
          "output_type": "stream",
          "name": "stdout",
          "text": [
            "time: 66.2 ms (started: 2023-03-15 19:17:46 +00:00)\n"
          ]
        }
      ]
    },
    {
      "cell_type": "markdown",
      "source": [
        "**Example**"
      ],
      "metadata": {
        "id": "eU77rfCGqvyn"
      }
    },
    {
      "cell_type": "code",
      "source": [
        "import numpy as np\n",
        "j, m, mp, theta_0, theta,phi= 1, 1, 0, np.pi, np.pi/2, 0\n",
        "# Calculate the Wigner D function using our function\n",
        "WD = Wigner_D(j, m, mp, theta_0, theta,phi)\n",
        "wd = WD.wigner_D()\n",
        "print(wd)"
      ],
      "metadata": {
        "id": "cczu8YPFquZ5",
        "colab": {
          "base_uri": "https://localhost:8080/"
        },
        "outputId": "29dfa1c7-4200-4421-c540-de31252c5658"
      },
      "execution_count": 16,
      "outputs": [
        {
          "output_type": "stream",
          "name": "stdout",
          "text": [
            "(0.7071067811865476+8.659560562354934e-17j)\n",
            "time: 2.2 ms (started: 2023-03-15 19:17:48 +00:00)\n"
          ]
        }
      ]
    },
    {
      "cell_type": "code",
      "source": [
        "from sympy import *\n",
        "from sympy.physics.quantum.spin import Rotation\n",
        "#Calculate the Wigner D matrix with Sympy\n",
        "rot1 = Rotation.D(j, m, mp, theta_0, theta,phi)\n",
        "wignerD_sympy = rot1.doit()\n",
        "print(N(wignerD_sympy))"
      ],
      "metadata": {
        "colab": {
          "base_uri": "https://localhost:8080/"
        },
        "id": "y5zOc5b1MhWM",
        "outputId": "11571c1b-5fc3-43cc-cfed-74e7d6302a4d"
      },
      "execution_count": 17,
      "outputs": [
        {
          "output_type": "stream",
          "name": "stdout",
          "text": [
            "0.707106781186548 + 8.65956056235493e-17*I\n",
            "time: 1.08 s (started: 2023-03-15 19:17:49 +00:00)\n"
          ]
        }
      ]
    },
    {
      "cell_type": "markdown",
      "source": [
        "**Comment:** Our function run faster than Sympy function"
      ],
      "metadata": {
        "id": "eP9ui7J4M3d_"
      }
    },
    {
      "cell_type": "markdown",
      "source": [
        "## **b. Compute Coupling Coefficients $H^{jmm'}_{{{j_1}{m_1}{m'_1}} ,{{j_2}{m_2}{m'_2}}}$analogous to Clebsch -Gordan coeffcients**\n",
        "\n",
        "**Clebsch- Gordan coefficient**\n",
        "\n",
        "Ref.[3], Eq.(5) and Ref.[1], Eq.(5)\n",
        "\n",
        "$$\n",
        "C^{jm}_{{j_1}{m_1}{j_2}{m_2}} C^{jm'}_{{j_1}{m'_1}{j_2}{m'_2}} \\equiv H^{jmm'}_{{{j_1}{m_1}{m'_1}} ,{{j_2}{m_2}{m'_2}}} \n",
        "$$\n",
        "\n",
        "**Definition**\n",
        "\n",
        "Ref.[5] p.235\n",
        "\n",
        "A Clebsch-Gordan coefficients are vector addition coefficients. They play an important role in decomposition of reducible representations of rotational….Let angular momentum $j_1$ and $j_2$ with projections on $m_1$  and $m_2$ on the quantization axis. represents **the probability amplitude that $j_1$ and $j_2$ are coupled into a resultant angular momentum $j$ with projection $m$.**\n",
        "\n",
        "\n",
        "$$\n",
        "(j_1,m_1)\\otimes(j_2,m_2) \\to (jm) \n",
        "$$\n",
        "\n",
        "$$\n",
        "C\\equiv\\langle{j_1m_1j_2m_2\\vert jm}⟩\n",
        "$$\n",
        "\n",
        "$$\n",
        "\\langle{j_1j_2m_2\\vert jm}⟩=(-1)^{j_1-j_2+m}\\sqrt{2j+1}\\begin{pmatrix}j_1&j_2&j \\\\ m_1&m_2&{-m}\\end{pmatrix} \n",
        "$$\n",
        "\n",
        "The $3jm$ symbols are related to Clebsch-Gordan coefficients. The inverse relation:\n",
        "\n",
        "Ref[5]. Ch8.1.2, eq.(12)\n",
        "\n",
        "$$\n",
        "C^{jm}_{j_1m_1j_2m_2}=(-1)^{j_1-j_2+m}\\sqrt{2j+1}\\begin{pmatrix}j_1&j_2&j \\\\ m_1&m_2&{-m}\\end{pmatrix} \n",
        "$$\n",
        "\n",
        "Ref[12]. Ch3.12, eq(3.171)\n",
        "\n",
        "$$\n",
        "\\begin{align*} C_{j_1m_1j_2m_2}^{jm} &= \\ \\delta(m_1 +m_2,m) \\\\ & \\times \\left[\\frac{(2j+1)(j+j_1-j_2)!(j-j_1+j_2)!(j_1+j_2-j)!}{(j+j_1+j_2+1)!} \\right]^{\\frac{1}{2}} \\\\ & \\times \\left[ \\frac{(j+m)!(j-m)!}{(j_1+m_1)!(j_1-m_1)!(j_2+m_2)!(j_2-m_2)!}\\right]^{\\frac{1}{2}} \\\\ & \\times \\displaystyle\\sum_s\\frac{(-1)^{j_2+m_2+s}(j_2+j+m_1-s)!(j_1-m_1+s)!}{s!(j-j_1+j_2-s)!(j+m-s)!(j_1-j_2-m+s)!} \\end{align*}\n",
        "$$\n",
        "\n",
        "**Condition for $j_1,j_2,j,m_1,m_2,m$**\n",
        "\n",
        "In accordance with vector addition rules $j_1+j_2=j$, unless the triangular conditions (triangular in equalities) are fulfilled\n",
        "\n",
        "(1)$|j_1-j_2|\\ \\le j \\le j_1+j_2$ \n",
        "\n",
        "$j= 0, \\frac{1}{2},1,...\\infty$  and $m, m' = -j,-j+1, ...,j-1,j$\n",
        "\n",
        "(2)$m_1+m_2=m \\ \\text{and} \\ j_1 +j_2=j$\n",
        "\n",
        "(3)$|m_1| \\le j_1, \\ |m_2| \\le j_2,\\ |m| \\le j$ \n",
        "\n",
        "(4) $j_1,j_2,j$ not exceed a positive integer $J \\ \\text{is}$\n",
        "\n",
        "(5) $j_1+j_2-j$ not half integer\n",
        "\n",
        "(6) $m_1,m_2,m$ are integer or half-integer (positive or negative) numbers\n",
        "\n",
        "(7) $j_1,j_2,j$ are integer or half integer non negative numbers \n",
        "\n",
        "(8) $j_1 +m_1, \\ j_2 +m_2, \\ j +m, \\ j_1+j_2+j$  are integer non-negative numbers\n",
        "**Condition for $s$ :** such that nowhere does a factorial of negative number appear\n",
        "\n",
        "$$\n",
        "\\begin{align*} j_2+j+m_1-s  &\\geq 0 \\rightarrow \\ s \\leq j_1+j+m_1 \\\\ j_1-m_1+s &\\geq 0 \\rightarrow \\ s \\geq m_1-j_1 \\\\ j-j_1+j_2-s &\\geq 0 \\rightarrow \\ s \\leq j-j_1+j_2 \\\\ j+m-s &\\geq 0 \\rightarrow \\ s \\leq j+m \\\\ j_1-j_2-m+s &\\geq 0 \\rightarrow \\ s \\geq -j_1+j_2+m\\end{align*}\n",
        "$$\n",
        "\n",
        "$s_{min}=max(0,m_1-j_1,-j_1+j_2+m)$\n",
        "\n",
        "$s_{max} = min(j_1+j+m_1, j-j_1+j_2,j+m)$\n",
        "\n",
        "$$\n",
        "s_{range}=[s_{min},s_{max}+1]\n",
        "$$\n",
        "\n",
        "**Note:** add `+1` to `smax`since the `range()`function does not include the endpoint, and we want to include it in the loop\n",
        "\n",
        "**Parameter:**\n",
        "\n",
        "$j_1, j_2$ : Angular momenta of states 1 and 2\n",
        "\n",
        "$j,m\\ :$  Total angular momentum of $(j_1+j_2)$\n",
        "\n",
        "$m_1, \\ m_2, \\ m:$  Eigenvalues w.r.t to anglar momentum $j_1, \\ j_2, \\ j$\n",
        "\n",
        "$m_1', \\ m_2', \\ m':$ Eigenvalues w.r.t $j_1, \\ j_2, \\ j$ along rotated axis"
      ],
      "metadata": {
        "id": "KKFECX2kNCkW"
      }
    },
    {
      "cell_type": "markdown",
      "source": [
        "\n",
        "### **Compute $C_{j_1m_1j_2m_2}^{jm}, \\ C_{j_1m_1j_2m_2}^{jm'}$**"
      ],
      "metadata": {
        "id": "i1Qrdh5ROSM3"
      }
    },
    {
      "cell_type": "code",
      "source": [
        "import numpy as np\n",
        "import cmath\n",
        "def fact(n):\n",
        "    \"\"\"\n",
        "    This function is used to calculate factorial of a number by using\n",
        "    an iterative approach instead of recursive approach\n",
        "    \"\"\"\n",
        "    return np.prod(np.arange(1, n + 1))\n",
        "class Clebsch_Gordan:\n",
        "    \"\"\"\n",
        "    Definition:\n",
        "    A Clebsch-Gordan coefficients are vector addition coefficients. They play an important role in decomposition of\n",
        "    reducible representations of rotation. Let j1 and j2 with projections on m1 and m2 on the quantization axis.\n",
        "    The coefficients represent the probability amplitude that j1 and j2 are coupled into a resultant angular momentum\n",
        "    j with projection m.\n",
        "    Args:\n",
        "        j1 (scalar): angular momentum\n",
        "        j2 (scalar): angular momentum\n",
        "        j (scalar): angular momentum\n",
        "        m1 (scalar): eigenvalue of angular momentum\n",
        "        m2 (scalar): eigenvalue of angular momentum\n",
        "        m (scalar): eigenvalue of angular momentum\n",
        "    Returns: complex number, Clebsh Gordan function\n",
        "    ==========================Reference==================================\n",
        "    [5] Chapter 8 D.A. Varshalovich, A.N. Moskalev, V.K Khersonskii,\n",
        "        Quantum Theory of Angular Momentum (1988)\n",
        "    [12] Chapter 3 Biedenharn, L., & Louck, J.D. ,\n",
        "        Encyclopedia of Mathematics and its Applications (1981)\n",
        "    \"\"\"\n",
        "    def __init__(self, j1, j2, j, m1, m2, m):\n",
        "        self.j1 = j1\n",
        "        self.j2 = j2\n",
        "        self.j = j\n",
        "        self.m1 = m1\n",
        "        self.m2 = m2\n",
        "        self.m = m\n",
        "        self.J = j1 + j2 + j\n",
        "        #Condition 1 & 2 & 5\n",
        "        if not (abs(j1 - j2) <= j <= j1 + j2 and m1 + m2 == m and j1 + j2 - j % 1 != 0.5):\n",
        "            raise ValueError(\"Invalid input parameters: j1, j2, j, m1, m2, and m must satisfy the triangle inequality.\\ \"\n",
        "                             \"j1+j2-j must not be a half-integer\")\n",
        "        #Condition 3 & 6\n",
        "        if not all(abs(x) <= y and (x % 0.5 == 0 or x % 1 == 0) for x, y in zip([m1, m2, m], [j1, j2, j])):\n",
        "            raise ValueError(\"Invalid input parameters: |m1| <= j1, |m_2| <= j2, |m| <= j\\ \"\n",
        "                             \"m1, m2, m must be integer or half-integer (positive or negative) numbers\")\n",
        "        # Condition 4\n",
        "        J =(j1+j2+j)\n",
        "        if J < (int(j1+j2+j)) and J <0:\n",
        "            raise ValueError(\"Invalid input parameters: j1, j2, j must not exceed a positive integer J\")\n",
        "        # Condition 7\n",
        "        if not all(\n",
        "                isinstance(x, (int, float, np.integer, np.floating)) and x >= 0 and (x % 0.5 == 0 or x % 1 == 0) for x\n",
        "                in [j1, j2, j]):\n",
        "            raise ValueError(\n",
        "                \"Invalid input parameters: j1, j2, j must be integer or half-integer non-negative numbers\")\n",
        "        # Condition 8\n",
        "        if not all(isinstance(x, (int, float, np.integer, np.floating)) and x >= 0 and x % 1 == 0 for x in\n",
        "                   [j1 + m1, j2 + m2, j + m, j1 + j2 + j]):\n",
        "            raise ValueError(\"Invalid input parameters: j1+m1,j2+m2,j+m,j1+j2+j must be integer non-negative numbers\")\n",
        "    def cg(self):\n",
        "        if self.m1 + self.m2 != self.m:\n",
        "            return 0.0  # delta function fails\n",
        "        prefactor = cmath.sqrt((2 * self.j + 1) * fact(self.j + self.j1 - self.j2) * fact(self.j-self.j1 + self.j2) \\\n",
        "                               * fact(self.j1 + self.j2 - self.j) / fact(self.j + self.j1 + self.j2 + 1))\n",
        "        coefficient = cmath.sqrt(fact(self.j + self.m) * fact(self.j - self.m) / (fact(self.j1 + self.m1) \\\n",
        "                               * fact(self.j1 - self.m1) * fact(self.j2 + self.m2) * fact(self.j2 - self.m2)))\n",
        "        sum = 0.0\n",
        "        smin= max(0, int(self.m1-self.j1),int(self.j2-self.j1+self.m))\n",
        "        smax= min(int(self.j2+self.j+self.m1),int(self.j-self.j1+self.j2),\\\n",
        "                   int(self.j+self.m))\n",
        "\n",
        "        for s in range(smin,smax+1):\n",
        "            den = fact(s) * fact(self.j - self.j1 + self.j2 - s) * fact(self.j + self.m - s) \\\n",
        "                  * fact(self.j1 - self.j2 - self.m + s)\n",
        "            num = ((-1) ** (self.j2 + self.m2 + s))* fact(self.j2 + self.j + self.m1 - s) * fact(self.j1 - self.m1 + s)\n",
        "            sum += num / den\n",
        "        cb = prefactor * coefficient * sum\n",
        "        return cb"
      ],
      "metadata": {
        "id": "aljPFHNTON_C",
        "outputId": "05d34b10-6aa1-4b78-8438-60b5f52ef6b2",
        "colab": {
          "base_uri": "https://localhost:8080/"
        }
      },
      "execution_count": 18,
      "outputs": [
        {
          "output_type": "stream",
          "name": "stdout",
          "text": [
            "time: 14.8 ms (started: 2023-03-15 19:17:54 +00:00)\n"
          ]
        }
      ]
    },
    {
      "cell_type": "code",
      "source": [
        "j1,m1,j2,m2,j,m=1,1,3/2,1/2,5/2,3/2\n",
        "CG_calc = Clebsch_Gordan(j1,j2,j,m1,m2,m)\n",
        "cg_calc = CG_calc.cg()\n",
        "print(cg_calc)"
      ],
      "metadata": {
        "colab": {
          "base_uri": "https://localhost:8080/"
        },
        "id": "Mg-GqD0ITtHR",
        "outputId": "76f66c44-df46-4842-bc61-463a4ef0056a"
      },
      "execution_count": 19,
      "outputs": [
        {
          "output_type": "stream",
          "name": "stdout",
          "text": [
            "(0.7745966692414833+0j)\n",
            "time: 3.71 ms (started: 2023-03-15 19:17:58 +00:00)\n"
          ]
        }
      ]
    },
    {
      "cell_type": "code",
      "source": [
        "from sympy.physics.quantum.cg import CG\n",
        "from sympy import *\n",
        "cg = CG(j1,m1,j2,m2,j,m)\n",
        "cg = cg.doit()\n",
        "print (N(cg))"
      ],
      "metadata": {
        "id": "bc18kuwUUgLG",
        "outputId": "50376e34-5f96-4f95-d769-e74ebc357ca6",
        "colab": {
          "base_uri": "https://localhost:8080/"
        }
      },
      "execution_count": 20,
      "outputs": [
        {
          "output_type": "stream",
          "name": "stdout",
          "text": [
            "0.774596669241483\n",
            "time: 8.53 ms (started: 2023-03-15 19:18:00 +00:00)\n"
          ]
        }
      ]
    },
    {
      "cell_type": "markdown",
      "source": [
        "**Comment:** our function to calculate Clebsch Gordan Coefficient run faster"
      ],
      "metadata": {
        "id": "Lf0lR3bhXEey"
      }
    },
    {
      "cell_type": "markdown",
      "source": [
        "### **Compute Coupling Coefficients $H^{jmm'}_{{{j_1}{m_1}{m'_1}} ,{{j_2}{m_2}{m'_2}}}$**\n",
        "\n"
      ],
      "metadata": {
        "id": "Ohk_Rz__Wl_D"
      }
    },
    {
      "cell_type": "markdown",
      "source": [
        "$$\n",
        "C^{jm}_{{j_1}{m_1}{j_2}{m_2}} C^{jm'}_{{j_1}{m'_1}{j_2}{m'_2}} \\equiv H^{jmm'}_{{{j_1}{m_1}{m'_1}} ,{{j_2}{m_2}{m'_2}}}   \n",
        "$$"
      ],
      "metadata": {
        "id": "2Z_Qh4bKXAbp"
      }
    },
    {
      "cell_type": "markdown",
      "source": [
        "Compute function generate $m_1,m_2,m,m_1'm_2',m'$ that satisfies conditions check to calculate coupling coefficient $H_{j_1m_1m_1',j_2m_2m_2'}^{jmm'}$ via Clebsch Gordan coefficient"
      ],
      "metadata": {
        "id": "KHFOgSDQkHiN"
      }
    },
    {
      "cell_type": "code",
      "source": [
        "def H_coeff(j1,j2,j,m1,m2,m,m1p,m2p,mp):\n",
        "  '''\n",
        "  This function calculate coupling coefficient H via computing\n",
        "  the Clebsch-Gordan coefficient for cg(j1,m1,j2,m2,j,m)\n",
        "  and cg(j1,m1p,j2,m2p,j,mp)\n",
        "  Parameters:\n",
        "        j1: angular momentum 1\n",
        "        j2: angular momentum 2\n",
        "        j: total angular momentum (j1+j2)\n",
        "        m1: eigenvalue of angular momentum j1\n",
        "        m2: eigenvalue of angular momentum j2\n",
        "        m: eigenvalue of angular momentum j\n",
        "        m1p: eigenvalue of j1 along rotated axis\n",
        "        m2p: eigenvalue of j2 along rotated axis\n",
        "        mp: eigenvalue of j along rotated axis\n",
        "  Returns: Coupling coefficient H(j1,j2,j,m1,m2,m.m1p,m2p,mp)\n",
        "  ======================Reference=========================\n",
        "    [1] Thompson, Swiler, Trott, Foiles, Tucker,\n",
        "        Spectral neighbor analysis method for automated generation of quantum-accurate interatomic potentials (2015)\n",
        "    [5] Chapter 8  D.A. Varshalovich, A.N. Moskalev, V.K Khersonskii,\n",
        "        Quantum Theory of Angular Momentum (1988)\n",
        "  '''\n",
        "  CG = Clebsch_Gordan(j1,j2,j,m1,m2,m)\n",
        "  cg = CG_calc.cg()\n",
        "  CGp = Clebsch_Gordan(j1,j2,j,m1p,m2p,mp)\n",
        "  cg_p = CGp.cg()\n",
        "  H = (cg)*(cg_p)\n",
        "  return H, cg, cg_p"
      ],
      "metadata": {
        "id": "gUKcPWPfXB46",
        "outputId": "6f4b3374-5960-44c2-d222-109822023b49",
        "colab": {
          "base_uri": "https://localhost:8080/"
        }
      },
      "execution_count": 26,
      "outputs": [
        {
          "output_type": "stream",
          "name": "stdout",
          "text": [
            "time: 1.23 ms (started: 2023-03-15 19:19:57 +00:00)\n"
          ]
        }
      ]
    },
    {
      "cell_type": "markdown",
      "source": [
        "**Example** \n",
        "$(j_1,j_2,j,m_1,m_2,m,m_1',m_2',m') = (1,1.5,2.5,1.0, 0.5, 1.5, -1.0, -0.5, -1.5)$"
      ],
      "metadata": {
        "id": "3AlSmxiWsAsT"
      }
    },
    {
      "cell_type": "markdown",
      "source": [
        "**Compare our function to function computed using SymPy**"
      ],
      "metadata": {
        "id": "mXNpdZvbtyW5"
      }
    },
    {
      "cell_type": "code",
      "source": [
        "j1,j2,j,m1,m2,m,m1p,m2p,mp = (1,1.5,2.5,1.0, 0.5, 1.5, -1.0, -0.5, -1.5)"
      ],
      "metadata": {
        "id": "-DwY29iwxZbf"
      },
      "execution_count": null,
      "outputs": []
    },
    {
      "cell_type": "code",
      "source": [
        "from sympy.physics.quantum.cg import CG\n",
        "def H_sympy (j1,j2,j,m1,m2,m,m1p,m2p,mp):\n",
        "  cg = CG(j1,m1,j2,m2,j,m)\n",
        "  cg_sym = cg.doit()\n",
        "  cg_p = CG(j1,m1p,j2,m2p,j,mp)\n",
        "  cg_p_sym = cg_p.doit()\n",
        "  H_coeff = (cg_sym)*(cg_p_sym)\n",
        "  return H_coeff, cg_sym, cg_p_sym"
      ],
      "metadata": {
        "id": "Lpn1gITquVrA",
        "outputId": "a78223d4-cf73-4fb5-d891-71b0e7688ec2",
        "colab": {
          "base_uri": "https://localhost:8080/"
        }
      },
      "execution_count": 41,
      "outputs": [
        {
          "output_type": "stream",
          "name": "stdout",
          "text": [
            "time: 1.43 ms (started: 2023-03-15 19:31:52 +00:00)\n"
          ]
        }
      ]
    },
    {
      "cell_type": "code",
      "source": [
        "H_sym, cg_sym, cg_p_sym = H_sympy (1,1.5,2.5,1.0, 0.5, 1.5, -1.0, -0.5, -1.5)\n",
        "print (\"Function computed using SymPy\",H_sym, N(cg_sym), N(cg_p_sym))"
      ],
      "metadata": {
        "id": "RAIrtCwrvbhD",
        "outputId": "f5a67c6c-a56c-4b24-ce95-87bb319650ad",
        "colab": {
          "base_uri": "https://localhost:8080/"
        }
      },
      "execution_count": 44,
      "outputs": [
        {
          "output_type": "stream",
          "name": "stdout",
          "text": [
            "Function computed using SymPy 0.600000000000000 0.774596669241483 0.774596669241483\n",
            "time: 4.21 ms (started: 2023-03-15 19:35:38 +00:00)\n"
          ]
        }
      ]
    },
    {
      "cell_type": "code",
      "source": [
        "H, cg, cg_p = H_coeff(1,1.5,2.5,1.0, 0.5, 1.5, -1.0, -0.5, -1.5)\n",
        "print (\"Out function\", H, cg, cg_p)"
      ],
      "metadata": {
        "id": "inkiISeir5pB",
        "outputId": "4fabe47f-3d38-4611-ec8f-48086cabf792",
        "colab": {
          "base_uri": "https://localhost:8080/"
        }
      },
      "execution_count": 45,
      "outputs": [
        {
          "output_type": "stream",
          "name": "stdout",
          "text": [
            "Out function (0.5999999999999999+0j) (0.7745966692414833+0j) (0.7745966692414833+0j)\n",
            "time: 1.37 ms (started: 2023-03-15 19:36:19 +00:00)\n"
          ]
        }
      ]
    },
    {
      "cell_type": "markdown",
      "source": [
        "Comment: Our function calculate $H^{jmm'}_{{{j_1}{m_1}{m'_1}} ,{{j_2}{m_2}{m'_2}}}$ faster than using SymPy via Clebsch Gordan Coefficients calculation"
      ],
      "metadata": {
        "id": "HDj6S488xm31"
      }
    },
    {
      "cell_type": "markdown",
      "source": [
        "# **c. Compute expansion coefficients density function $u^j_{m,m'}, \\ u^{j_1}_{m_1,m_2}, \\ u^{j_2}_{m_1,m_2}$**\n",
        "**Definition: Expansion coefficient for the partial density of neighbors of element $\\mu$**\n",
        "\n",
        "\n",
        "$$\n",
        " u^j_{m,m'} = \\langle U^j_{m'm} | \\rho\\rangle\n",
        "$$\n",
        "\n",
        "$$\n",
        "u_{j,m,m'}^{\\mu} = w^{self}_{\\mu_i \\mu} U_{j,m,m'}(0,0,0) + \\displaystyle\\sum_{r_{ik}<R_{cut}^{\\mu_i\\mu_k}} f_c(r_{ik};R_{cut}^{\\mu_i\\mu_k})w_{{\\mu}_k}U_{m,m'}^{j}(\\theta_{0},\\theta, \\phi) \\delta_{\\mu\\mu_k}\n",
        "$$\n",
        "- $U_{m,m'}^{j}(\\theta_{0},\\theta, \\phi)$ rotaional matrix function\n",
        "- $f_c(r_{ik};R_{cut})$ is the cutoff function to ensure smooth decay for the neighbor atomic density to zero cutoff radius $R_{cut}^{\\mu_i\\mu_k}$ Ref[2]\n",
        "- $\\mu$ is chemical element\n",
        "- $w_{\\mu_i\\mu}^{self}$ is self contribution ( either 1 or 0) but we can ignore this since $U^j_{mm'}(0,0,0) = 0$\n",
        "- $\\omega_{\\mu_k}$ are the coefficients that are dimensionless weights that are chosen to distinguish atoms of different types, while the central atom is arbitrarily assigned a unit weight. Ref.[1]\n",
        "- $\\delta_{\\mu \\mu_k}$ is the Dirac delta function, indicates only neighbor atom of element $\\mu$ contribute to partial density $\\rho^{\\mu}$ by requiring that the partial densities sum to the total density used in Req.(7)\n",
        "\n",
        "    \n"
      ],
      "metadata": {
        "id": "SmjP6zjLx4AA"
      }
    },
    {
      "cell_type": "markdown",
      "source": [
        "### **Compute $U_{m,m'}^{j}(\\theta_{0},\\theta, \\phi)$**\n",
        "    "
      ],
      "metadata": {
        "id": "mDrs3euGyySY"
      }
    },
    {
      "cell_type": "markdown",
      "source": [
        "Ref[5] Varshalovich, D A, Quantum Theory of Angular Momentum. 1988,  session 4.5 p.80\n",
        "$$\n",
        "    U^j_{mm'}(\\theta_0,\\theta,\\phi)=\\displaystyle\\sum_{m''=-j} ^{j} D^j_{mm''}(\\phi,\\theta,-\\phi) e^{-im''\\theta_0}D_{m''m'}(\\phi, -\\theta,- \\phi) \n",
        "$$\n",
        "    **Condition: $\\text{rotation angel}\\ \\omega \\equiv \\theta_0 \\text{about some axis} \\ n(\\Theta \\equiv \\theta, \\Phi \\equiv \\phi)$**  \n",
        "    (1) $0 \\leq \\theta_0 \\leq \\pi$\n",
        "    (2) $0\\leq \\theta \\leq \\pi$\n",
        "    (3) $0 \\leq \\phi \\leq 2\\pi$  \n",
        "    **Explicit forms of the Wigner D-functions**\n",
        "    Ref.[5] Varshalovich Eq. (1), Session 4.3. page 76\n",
        "    $D^j_{mm'}(\\alpha,\\beta, \\gamma)$  represents as a product of three functions each of which depends on one arguement $\\alpha, \\beta$ or $\\gamma$,\n",
        "    $$\n",
        "    D^j_{mm'}(\\alpha, \\beta,\\gamma)= \\ e ^{-im\\alpha}d^j_{mm'}(\\beta)e^{-im'\\gamma} \n",
        "    $$\n",
        "    which we can evaluate the Wigner D matrix elements of a rotation $D^j_{mm'}(\\phi,\\theta,-\\theta)$  and  using sympy package\n",
        "    $$D^j_{mm''}(\\phi,\\theta,-\\phi) e^{-im''\\theta_0}D_{m''m'}(\\phi, -\\theta,- \\phi) \n",
        "    $$"
      ],
      "metadata": {
        "id": "T5SF1mx3y3pL"
      }
    },
    {
      "cell_type": "code",
      "source": [
        "def Rot_Matrix_U(j,m,mp,mpp,theta_0,theta,phi):\n",
        "  '''\n",
        "  Parameters:\n",
        "    j: integer/half integer number\n",
        "       angular momentum\n",
        "    m: integer/half integer number\n",
        "    Eigenvalue of angular momentum along rotated axis\n",
        "    mp: eigenvalue of j along rotated axis\n",
        "    mpp:\n",
        "    theta_0: fist angle of rotation [0,pi]\n",
        "    theta: second angle of rotation [0,pi]\n",
        "    phi: third angle of rotation [0,2pi]\n",
        "         rotational od a coordinate system through an angle theta_0\n",
        "        about an axis n(theta,phi)\n",
        "    Returns: Rotational matrix U\n",
        "    ==========================Reference==================================\n",
        "    [5] Chapter 4  D.A. Varshalovich, A.N. Moskalev, V.K Khersonskii,\n",
        "            Quantum Theory of Angular Momentum (1988)\n",
        "  '''\n",
        "  mpp_list = np.linspace(-j, j, int(2 * j + 1))\n",
        "  U = 0\n",
        "  for mpp in mpp_list:\n",
        "    wd_1 = Wigner_D(j, m, mpp, phi, theta, - phi)\n",
        "    wd_1 = WD.wigner_D()\n",
        "    wd_2 = Wigner_D(j, mpp, mp, phi, -theta, -phi)\n",
        "    wd_2 = WD.wigner_D()\n",
        "    Um_mp = wd_1 * (exp(-I * mpp * theta_0)) * wd_2\n",
        "    U += Um_mp\n",
        "  return U"
      ],
      "metadata": {
        "id": "QwpVQ734yptw",
        "outputId": "6c10e70f-5e57-493f-b8c4-0e9478527c86",
        "colab": {
          "base_uri": "https://localhost:8080/"
        }
      },
      "execution_count": 47,
      "outputs": [
        {
          "output_type": "stream",
          "name": "stdout",
          "text": [
            "time: 1.65 ms (started: 2023-03-15 19:47:23 +00:00)\n"
          ]
        }
      ]
    },
    {
      "cell_type": "code",
      "source": [],
      "metadata": {
        "id": "S2sCvOQF0Cod"
      },
      "execution_count": null,
      "outputs": []
    },
    {
      "cell_type": "markdown",
      "source": [
        "## Draft"
      ],
      "metadata": {
        "id": "X8QCbGTfym7R"
      }
    },
    {
      "cell_type": "code",
      "source": [
        "import numpy as np\n",
        "j = 3\n",
        "j1 = 1\n",
        "j2 = 2\n",
        "m = np.linspace(-j, j, int(2 * j + 1))\n",
        "mp = np.linspace(-j, j, int(2 * j + 1))\n",
        "m1 = np.linspace(-j1, j1, int(2 * j1 + 1))\n",
        "m1p = np.linspace(-j1, j1, int(2 * j1 + 1))\n",
        "m2 = np.linspace(-j2, j2, int(2 * j2 + 1))\n",
        "m2p = np.linspace(-j2, j2, int(2 * j2 + 1))\n",
        "print(m1, m2, m, m1p, m2p, mp)"
      ],
      "metadata": {
        "id": "jFruJkyRjBU5",
        "outputId": "80e8c621-b4b3-4cd1-c295-0c99fa76b9f0",
        "colab": {
          "base_uri": "https://localhost:8080/"
        }
      },
      "execution_count": null,
      "outputs": [
        {
          "output_type": "stream",
          "name": "stdout",
          "text": [
            "[-1.  0.  1.] [-2. -1.  0.  1.  2.] [-3. -2. -1.  0.  1.  2.  3.] [-1.  0.  1.] [-2. -1.  0.  1.  2.] [-3. -2. -1.  0.  1.  2.  3.]\n",
            "time: 8.45 ms (started: 2023-03-15 04:34:20 +00:00)\n"
          ]
        }
      ]
    },
    {
      "cell_type": "code",
      "source": [
        "from itertools import product\n",
        "import numpy as np\n",
        "def generate_m_val(j1, j2, j):\n",
        "    \"\"\"\n",
        "    This function generates (m1, m2, m, m1p, m2p, mp) from input set (j1,j2,j)\n",
        "    and only keep set that satisfy the condition \n",
        "    \"\"\"\n",
        "    # Generate m values\n",
        "    m  = np.linspace(-j, j, int(2 * j + 1))\n",
        "    mp = m.copy()\n",
        "    m1 = np.linspace(-j1, j1, int(2* j1 +1))\n",
        "    m1p = m1.copy()\n",
        "    m2 = np.linspace(-j2,j2, int(2 * j2 +1))\n",
        "    m2p = m2.copy()\n",
        "    s = product(m1, m2, m, m1p, m2p, mp)\n",
        "    keep_list = []\n",
        "    for i in s:\n",
        "        m1, m2, m, m1p, m2p, mp = i[0], i[1], i[2], i[3], i[4], i[5]\n",
        "        # Check input parameter conditions\n",
        "        # Condition 1 & 2 & 5\n",
        "        if not (abs(j1 - j2) <= j <= j1 + j2 and m1 + m2 == m \n",
        "                and j1 + j2 - j % 1 != 0.5):\n",
        "          pass\n",
        "        if not (abs(j1 - j2) <= j <= j1 + j2 and m1p + m2p == mp \n",
        "                and j1 + j2 - j % 1 != 0.5):\n",
        "          pass\n",
        "        # Condition 3 & 6\n",
        "        if not all(abs(x) <= y and (x % 0.5 == 0 or x % 1 == 0) for x, y in \n",
        "                     zip([m1, m2, m], [j1, j2, j])):\n",
        "          pass\n",
        "        if not all(abs(x) <= y and (x % 0.5 == 0 or x % 1 == 0) for x, y in \n",
        "                     zip([m1p, m2p, mp], [j1, j2, j])):\n",
        "          pass\n",
        "        # Condition 4\n",
        "        J = (j1+j2+j)\n",
        "        if J < (int(j1+j2+j)) and J <0:\n",
        "          raise ValueError(\"Invalid input parameters: j1, j2, j \\\n",
        "                              must not exceed a positive integer J\")\n",
        "        # Condition 7\n",
        "        if not all(isinstance(x, (int, float, np.integer, np.floating)) and x >= 0\n",
        "                     and (x % 0.5 == 0 or x % 1 == 0) for x in [j1, j2, j]):\n",
        "            raise ValueError(\"Invalid input parameters: j1, j2, j must be integer \\\n",
        "                             or half-integer non-negative numbers\")\n",
        "        # Condition 8\n",
        "        if not all(isinstance(x, (int, float, np.integer, np.floating)) and x >= 0\n",
        "                     and x % 1 == 0 for x in [j1 + m1, j2 + m2, j + m, j1 + j2 + j]):\n",
        "          pass\n",
        "        if not all(isinstance(x, (int, float, np.integer, np.floating)) and x >= 0 \n",
        "                     and x % 1 == 0 for x in [j1 + m1p, j2 + m2p, j + mp, j1 + j2 + j]):\n",
        "          pass\n",
        "        else:\n",
        "          keep_list.append(i)\n",
        "    return keep_list\n"
      ],
      "metadata": {
        "id": "pSTN1-N-s1zD"
      },
      "execution_count": 3,
      "outputs": []
    },
    {
      "cell_type": "code",
      "source": [
        "import pandas as pd\n",
        "value_set= generate_m_val(1,3/2,5/2)\n",
        "print (value_set)\n",
        "print (len(value_set))\n",
        "list_columns = ['m1', 'm2', 'm', 'm1p', 'm2', 'mp' ]\n",
        "df =pd.DataFrame(value_set, columns=list_columns)\n",
        "print(df) "
      ],
      "metadata": {
        "id": "A3Q4l05JpSCy",
        "outputId": "2047d428-c86a-41f5-a60e-99458eae1ab6",
        "colab": {
          "base_uri": "https://localhost:8080/"
        }
      },
      "execution_count": 4,
      "outputs": [
        {
          "output_type": "stream",
          "name": "stdout",
          "text": [
            "[(-1.0, -1.5, -2.5, -1.0, -1.5, -2.5), (-1.0, -1.5, -2.5, -1.0, -1.5, -1.5), (-1.0, -1.5, -2.5, -1.0, -1.5, -0.5), (-1.0, -1.5, -2.5, -1.0, -1.5, 0.5), (-1.0, -1.5, -2.5, -1.0, -1.5, 1.5), (-1.0, -1.5, -2.5, -1.0, -1.5, 2.5), (-1.0, -1.5, -2.5, -1.0, -0.5, -2.5), (-1.0, -1.5, -2.5, -1.0, -0.5, -1.5), (-1.0, -1.5, -2.5, -1.0, -0.5, -0.5), (-1.0, -1.5, -2.5, -1.0, -0.5, 0.5), (-1.0, -1.5, -2.5, -1.0, -0.5, 1.5), (-1.0, -1.5, -2.5, -1.0, -0.5, 2.5), (-1.0, -1.5, -2.5, -1.0, 0.5, -2.5), (-1.0, -1.5, -2.5, -1.0, 0.5, -1.5), (-1.0, -1.5, -2.5, -1.0, 0.5, -0.5), (-1.0, -1.5, -2.5, -1.0, 0.5, 0.5), (-1.0, -1.5, -2.5, -1.0, 0.5, 1.5), (-1.0, -1.5, -2.5, -1.0, 0.5, 2.5), (-1.0, -1.5, -2.5, -1.0, 1.5, -2.5), (-1.0, -1.5, -2.5, -1.0, 1.5, -1.5), (-1.0, -1.5, -2.5, -1.0, 1.5, -0.5), (-1.0, -1.5, -2.5, -1.0, 1.5, 0.5), (-1.0, -1.5, -2.5, -1.0, 1.5, 1.5), (-1.0, -1.5, -2.5, -1.0, 1.5, 2.5), (-1.0, -1.5, -2.5, 0.0, -1.5, -2.5), (-1.0, -1.5, -2.5, 0.0, -1.5, -1.5), (-1.0, -1.5, -2.5, 0.0, -1.5, -0.5), (-1.0, -1.5, -2.5, 0.0, -1.5, 0.5), (-1.0, -1.5, -2.5, 0.0, -1.5, 1.5), (-1.0, -1.5, -2.5, 0.0, -1.5, 2.5), (-1.0, -1.5, -2.5, 0.0, -0.5, -2.5), (-1.0, -1.5, -2.5, 0.0, -0.5, -1.5), (-1.0, -1.5, -2.5, 0.0, -0.5, -0.5), (-1.0, -1.5, -2.5, 0.0, -0.5, 0.5), (-1.0, -1.5, -2.5, 0.0, -0.5, 1.5), (-1.0, -1.5, -2.5, 0.0, -0.5, 2.5), (-1.0, -1.5, -2.5, 0.0, 0.5, -2.5), (-1.0, -1.5, -2.5, 0.0, 0.5, -1.5), (-1.0, -1.5, -2.5, 0.0, 0.5, -0.5), (-1.0, -1.5, -2.5, 0.0, 0.5, 0.5), (-1.0, -1.5, -2.5, 0.0, 0.5, 1.5), (-1.0, -1.5, -2.5, 0.0, 0.5, 2.5), (-1.0, -1.5, -2.5, 0.0, 1.5, -2.5), (-1.0, -1.5, -2.5, 0.0, 1.5, -1.5), (-1.0, -1.5, -2.5, 0.0, 1.5, -0.5), (-1.0, -1.5, -2.5, 0.0, 1.5, 0.5), (-1.0, -1.5, -2.5, 0.0, 1.5, 1.5), (-1.0, -1.5, -2.5, 0.0, 1.5, 2.5), (-1.0, -1.5, -2.5, 1.0, -1.5, -2.5), (-1.0, -1.5, -2.5, 1.0, -1.5, -1.5), (-1.0, -1.5, -2.5, 1.0, -1.5, -0.5), (-1.0, -1.5, -2.5, 1.0, -1.5, 0.5), (-1.0, -1.5, -2.5, 1.0, -1.5, 1.5), (-1.0, -1.5, -2.5, 1.0, -1.5, 2.5), (-1.0, -1.5, -2.5, 1.0, -0.5, -2.5), (-1.0, -1.5, -2.5, 1.0, -0.5, -1.5), (-1.0, -1.5, -2.5, 1.0, -0.5, -0.5), (-1.0, -1.5, -2.5, 1.0, -0.5, 0.5), (-1.0, -1.5, -2.5, 1.0, -0.5, 1.5), (-1.0, -1.5, -2.5, 1.0, -0.5, 2.5), (-1.0, -1.5, -2.5, 1.0, 0.5, -2.5), (-1.0, -1.5, -2.5, 1.0, 0.5, -1.5), (-1.0, -1.5, -2.5, 1.0, 0.5, -0.5), (-1.0, -1.5, -2.5, 1.0, 0.5, 0.5), (-1.0, -1.5, -2.5, 1.0, 0.5, 1.5), (-1.0, -1.5, -2.5, 1.0, 0.5, 2.5), (-1.0, -1.5, -2.5, 1.0, 1.5, -2.5), (-1.0, -1.5, -2.5, 1.0, 1.5, -1.5), (-1.0, -1.5, -2.5, 1.0, 1.5, -0.5), (-1.0, -1.5, -2.5, 1.0, 1.5, 0.5), (-1.0, -1.5, -2.5, 1.0, 1.5, 1.5), (-1.0, -1.5, -2.5, 1.0, 1.5, 2.5), (-1.0, -1.5, -1.5, -1.0, -1.5, -2.5), (-1.0, -1.5, -1.5, -1.0, -1.5, -1.5), (-1.0, -1.5, -1.5, -1.0, -1.5, -0.5), (-1.0, -1.5, -1.5, -1.0, -1.5, 0.5), (-1.0, -1.5, -1.5, -1.0, -1.5, 1.5), (-1.0, -1.5, -1.5, -1.0, -1.5, 2.5), (-1.0, -1.5, -1.5, -1.0, -0.5, -2.5), (-1.0, -1.5, -1.5, -1.0, -0.5, -1.5), (-1.0, -1.5, -1.5, -1.0, -0.5, -0.5), (-1.0, -1.5, -1.5, -1.0, -0.5, 0.5), (-1.0, -1.5, -1.5, -1.0, -0.5, 1.5), (-1.0, -1.5, -1.5, -1.0, -0.5, 2.5), (-1.0, -1.5, -1.5, -1.0, 0.5, -2.5), (-1.0, -1.5, -1.5, -1.0, 0.5, -1.5), (-1.0, -1.5, -1.5, -1.0, 0.5, -0.5), (-1.0, -1.5, -1.5, -1.0, 0.5, 0.5), (-1.0, -1.5, -1.5, -1.0, 0.5, 1.5), (-1.0, -1.5, -1.5, -1.0, 0.5, 2.5), (-1.0, -1.5, -1.5, -1.0, 1.5, -2.5), (-1.0, -1.5, -1.5, -1.0, 1.5, -1.5), (-1.0, -1.5, -1.5, -1.0, 1.5, -0.5), (-1.0, -1.5, -1.5, -1.0, 1.5, 0.5), (-1.0, -1.5, -1.5, -1.0, 1.5, 1.5), (-1.0, -1.5, -1.5, -1.0, 1.5, 2.5), (-1.0, -1.5, -1.5, 0.0, -1.5, -2.5), (-1.0, -1.5, -1.5, 0.0, -1.5, -1.5), (-1.0, -1.5, -1.5, 0.0, -1.5, -0.5), (-1.0, -1.5, -1.5, 0.0, -1.5, 0.5), (-1.0, -1.5, -1.5, 0.0, -1.5, 1.5), (-1.0, -1.5, -1.5, 0.0, -1.5, 2.5), (-1.0, -1.5, -1.5, 0.0, -0.5, -2.5), (-1.0, -1.5, -1.5, 0.0, -0.5, -1.5), (-1.0, -1.5, -1.5, 0.0, -0.5, -0.5), (-1.0, -1.5, -1.5, 0.0, -0.5, 0.5), (-1.0, -1.5, -1.5, 0.0, -0.5, 1.5), (-1.0, -1.5, -1.5, 0.0, -0.5, 2.5), (-1.0, -1.5, -1.5, 0.0, 0.5, -2.5), (-1.0, -1.5, -1.5, 0.0, 0.5, -1.5), (-1.0, -1.5, -1.5, 0.0, 0.5, -0.5), (-1.0, -1.5, -1.5, 0.0, 0.5, 0.5), (-1.0, -1.5, -1.5, 0.0, 0.5, 1.5), (-1.0, -1.5, -1.5, 0.0, 0.5, 2.5), (-1.0, -1.5, -1.5, 0.0, 1.5, -2.5), (-1.0, -1.5, -1.5, 0.0, 1.5, -1.5), (-1.0, -1.5, -1.5, 0.0, 1.5, -0.5), (-1.0, -1.5, -1.5, 0.0, 1.5, 0.5), (-1.0, -1.5, -1.5, 0.0, 1.5, 1.5), (-1.0, -1.5, -1.5, 0.0, 1.5, 2.5), (-1.0, -1.5, -1.5, 1.0, -1.5, -2.5), (-1.0, -1.5, -1.5, 1.0, -1.5, -1.5), (-1.0, -1.5, -1.5, 1.0, -1.5, -0.5), (-1.0, -1.5, -1.5, 1.0, -1.5, 0.5), (-1.0, -1.5, -1.5, 1.0, -1.5, 1.5), (-1.0, -1.5, -1.5, 1.0, -1.5, 2.5), (-1.0, -1.5, -1.5, 1.0, -0.5, -2.5), (-1.0, -1.5, -1.5, 1.0, -0.5, -1.5), (-1.0, -1.5, -1.5, 1.0, -0.5, -0.5), (-1.0, -1.5, -1.5, 1.0, -0.5, 0.5), (-1.0, -1.5, -1.5, 1.0, -0.5, 1.5), (-1.0, -1.5, -1.5, 1.0, -0.5, 2.5), (-1.0, -1.5, -1.5, 1.0, 0.5, -2.5), (-1.0, -1.5, -1.5, 1.0, 0.5, -1.5), (-1.0, -1.5, -1.5, 1.0, 0.5, -0.5), (-1.0, -1.5, -1.5, 1.0, 0.5, 0.5), (-1.0, -1.5, -1.5, 1.0, 0.5, 1.5), (-1.0, -1.5, -1.5, 1.0, 0.5, 2.5), (-1.0, -1.5, -1.5, 1.0, 1.5, -2.5), (-1.0, -1.5, -1.5, 1.0, 1.5, -1.5), (-1.0, -1.5, -1.5, 1.0, 1.5, -0.5), (-1.0, -1.5, -1.5, 1.0, 1.5, 0.5), (-1.0, -1.5, -1.5, 1.0, 1.5, 1.5), (-1.0, -1.5, -1.5, 1.0, 1.5, 2.5), (-1.0, -1.5, -0.5, -1.0, -1.5, -2.5), (-1.0, -1.5, -0.5, -1.0, -1.5, -1.5), (-1.0, -1.5, -0.5, -1.0, -1.5, -0.5), (-1.0, -1.5, -0.5, -1.0, -1.5, 0.5), (-1.0, -1.5, -0.5, -1.0, -1.5, 1.5), (-1.0, -1.5, -0.5, -1.0, -1.5, 2.5), (-1.0, -1.5, -0.5, -1.0, -0.5, -2.5), (-1.0, -1.5, -0.5, -1.0, -0.5, -1.5), (-1.0, -1.5, -0.5, -1.0, -0.5, -0.5), (-1.0, -1.5, -0.5, -1.0, -0.5, 0.5), (-1.0, -1.5, -0.5, -1.0, -0.5, 1.5), (-1.0, -1.5, -0.5, -1.0, -0.5, 2.5), (-1.0, -1.5, -0.5, -1.0, 0.5, -2.5), (-1.0, -1.5, -0.5, -1.0, 0.5, -1.5), (-1.0, -1.5, -0.5, -1.0, 0.5, -0.5), (-1.0, -1.5, -0.5, -1.0, 0.5, 0.5), (-1.0, -1.5, -0.5, -1.0, 0.5, 1.5), (-1.0, -1.5, -0.5, -1.0, 0.5, 2.5), (-1.0, -1.5, -0.5, -1.0, 1.5, -2.5), (-1.0, -1.5, -0.5, -1.0, 1.5, -1.5), (-1.0, -1.5, -0.5, -1.0, 1.5, -0.5), (-1.0, -1.5, -0.5, -1.0, 1.5, 0.5), (-1.0, -1.5, -0.5, -1.0, 1.5, 1.5), (-1.0, -1.5, -0.5, -1.0, 1.5, 2.5), (-1.0, -1.5, -0.5, 0.0, -1.5, -2.5), (-1.0, -1.5, -0.5, 0.0, -1.5, -1.5), (-1.0, -1.5, -0.5, 0.0, -1.5, -0.5), (-1.0, -1.5, -0.5, 0.0, -1.5, 0.5), (-1.0, -1.5, -0.5, 0.0, -1.5, 1.5), (-1.0, -1.5, -0.5, 0.0, -1.5, 2.5), (-1.0, -1.5, -0.5, 0.0, -0.5, -2.5), (-1.0, -1.5, -0.5, 0.0, -0.5, -1.5), (-1.0, -1.5, -0.5, 0.0, -0.5, -0.5), (-1.0, -1.5, -0.5, 0.0, -0.5, 0.5), (-1.0, -1.5, -0.5, 0.0, -0.5, 1.5), (-1.0, -1.5, -0.5, 0.0, -0.5, 2.5), (-1.0, -1.5, -0.5, 0.0, 0.5, -2.5), (-1.0, -1.5, -0.5, 0.0, 0.5, -1.5), (-1.0, -1.5, -0.5, 0.0, 0.5, -0.5), (-1.0, -1.5, -0.5, 0.0, 0.5, 0.5), (-1.0, -1.5, -0.5, 0.0, 0.5, 1.5), (-1.0, -1.5, -0.5, 0.0, 0.5, 2.5), (-1.0, -1.5, -0.5, 0.0, 1.5, -2.5), (-1.0, -1.5, -0.5, 0.0, 1.5, -1.5), (-1.0, -1.5, -0.5, 0.0, 1.5, -0.5), (-1.0, -1.5, -0.5, 0.0, 1.5, 0.5), (-1.0, -1.5, -0.5, 0.0, 1.5, 1.5), (-1.0, -1.5, -0.5, 0.0, 1.5, 2.5), (-1.0, -1.5, -0.5, 1.0, -1.5, -2.5), (-1.0, -1.5, -0.5, 1.0, -1.5, -1.5), (-1.0, -1.5, -0.5, 1.0, -1.5, -0.5), (-1.0, -1.5, -0.5, 1.0, -1.5, 0.5), (-1.0, -1.5, -0.5, 1.0, -1.5, 1.5), (-1.0, -1.5, -0.5, 1.0, -1.5, 2.5), (-1.0, -1.5, -0.5, 1.0, -0.5, -2.5), (-1.0, -1.5, -0.5, 1.0, -0.5, -1.5), (-1.0, -1.5, -0.5, 1.0, -0.5, -0.5), (-1.0, -1.5, -0.5, 1.0, -0.5, 0.5), (-1.0, -1.5, -0.5, 1.0, -0.5, 1.5), (-1.0, -1.5, -0.5, 1.0, -0.5, 2.5), (-1.0, -1.5, -0.5, 1.0, 0.5, -2.5), (-1.0, -1.5, -0.5, 1.0, 0.5, -1.5), (-1.0, -1.5, -0.5, 1.0, 0.5, -0.5), (-1.0, -1.5, -0.5, 1.0, 0.5, 0.5), (-1.0, -1.5, -0.5, 1.0, 0.5, 1.5), (-1.0, -1.5, -0.5, 1.0, 0.5, 2.5), (-1.0, -1.5, -0.5, 1.0, 1.5, -2.5), (-1.0, -1.5, -0.5, 1.0, 1.5, -1.5), (-1.0, -1.5, -0.5, 1.0, 1.5, -0.5), (-1.0, -1.5, -0.5, 1.0, 1.5, 0.5), (-1.0, -1.5, -0.5, 1.0, 1.5, 1.5), (-1.0, -1.5, -0.5, 1.0, 1.5, 2.5), (-1.0, -1.5, 0.5, -1.0, -1.5, -2.5), (-1.0, -1.5, 0.5, -1.0, -1.5, -1.5), (-1.0, -1.5, 0.5, -1.0, -1.5, -0.5), (-1.0, -1.5, 0.5, -1.0, -1.5, 0.5), (-1.0, -1.5, 0.5, -1.0, -1.5, 1.5), (-1.0, -1.5, 0.5, -1.0, -1.5, 2.5), (-1.0, -1.5, 0.5, -1.0, -0.5, -2.5), (-1.0, -1.5, 0.5, -1.0, -0.5, -1.5), (-1.0, -1.5, 0.5, -1.0, -0.5, -0.5), (-1.0, -1.5, 0.5, -1.0, -0.5, 0.5), (-1.0, -1.5, 0.5, -1.0, -0.5, 1.5), (-1.0, -1.5, 0.5, -1.0, -0.5, 2.5), (-1.0, -1.5, 0.5, -1.0, 0.5, -2.5), (-1.0, -1.5, 0.5, -1.0, 0.5, -1.5), (-1.0, -1.5, 0.5, -1.0, 0.5, -0.5), (-1.0, -1.5, 0.5, -1.0, 0.5, 0.5), (-1.0, -1.5, 0.5, -1.0, 0.5, 1.5), (-1.0, -1.5, 0.5, -1.0, 0.5, 2.5), (-1.0, -1.5, 0.5, -1.0, 1.5, -2.5), (-1.0, -1.5, 0.5, -1.0, 1.5, -1.5), (-1.0, -1.5, 0.5, -1.0, 1.5, -0.5), (-1.0, -1.5, 0.5, -1.0, 1.5, 0.5), (-1.0, -1.5, 0.5, -1.0, 1.5, 1.5), (-1.0, -1.5, 0.5, -1.0, 1.5, 2.5), (-1.0, -1.5, 0.5, 0.0, -1.5, -2.5), (-1.0, -1.5, 0.5, 0.0, -1.5, -1.5), (-1.0, -1.5, 0.5, 0.0, -1.5, -0.5), (-1.0, -1.5, 0.5, 0.0, -1.5, 0.5), (-1.0, -1.5, 0.5, 0.0, -1.5, 1.5), (-1.0, -1.5, 0.5, 0.0, -1.5, 2.5), (-1.0, -1.5, 0.5, 0.0, -0.5, -2.5), (-1.0, -1.5, 0.5, 0.0, -0.5, -1.5), (-1.0, -1.5, 0.5, 0.0, -0.5, -0.5), (-1.0, -1.5, 0.5, 0.0, -0.5, 0.5), (-1.0, -1.5, 0.5, 0.0, -0.5, 1.5), (-1.0, -1.5, 0.5, 0.0, -0.5, 2.5), (-1.0, -1.5, 0.5, 0.0, 0.5, -2.5), (-1.0, -1.5, 0.5, 0.0, 0.5, -1.5), (-1.0, -1.5, 0.5, 0.0, 0.5, -0.5), (-1.0, -1.5, 0.5, 0.0, 0.5, 0.5), (-1.0, -1.5, 0.5, 0.0, 0.5, 1.5), (-1.0, -1.5, 0.5, 0.0, 0.5, 2.5), (-1.0, -1.5, 0.5, 0.0, 1.5, -2.5), (-1.0, -1.5, 0.5, 0.0, 1.5, -1.5), (-1.0, -1.5, 0.5, 0.0, 1.5, -0.5), (-1.0, -1.5, 0.5, 0.0, 1.5, 0.5), (-1.0, -1.5, 0.5, 0.0, 1.5, 1.5), (-1.0, -1.5, 0.5, 0.0, 1.5, 2.5), (-1.0, -1.5, 0.5, 1.0, -1.5, -2.5), (-1.0, -1.5, 0.5, 1.0, -1.5, -1.5), (-1.0, -1.5, 0.5, 1.0, -1.5, -0.5), (-1.0, -1.5, 0.5, 1.0, -1.5, 0.5), (-1.0, -1.5, 0.5, 1.0, -1.5, 1.5), (-1.0, -1.5, 0.5, 1.0, -1.5, 2.5), (-1.0, -1.5, 0.5, 1.0, -0.5, -2.5), (-1.0, -1.5, 0.5, 1.0, -0.5, -1.5), (-1.0, -1.5, 0.5, 1.0, -0.5, -0.5), (-1.0, -1.5, 0.5, 1.0, -0.5, 0.5), (-1.0, -1.5, 0.5, 1.0, -0.5, 1.5), (-1.0, -1.5, 0.5, 1.0, -0.5, 2.5), (-1.0, -1.5, 0.5, 1.0, 0.5, -2.5), (-1.0, -1.5, 0.5, 1.0, 0.5, -1.5), (-1.0, -1.5, 0.5, 1.0, 0.5, -0.5), (-1.0, -1.5, 0.5, 1.0, 0.5, 0.5), (-1.0, -1.5, 0.5, 1.0, 0.5, 1.5), (-1.0, -1.5, 0.5, 1.0, 0.5, 2.5), (-1.0, -1.5, 0.5, 1.0, 1.5, -2.5), (-1.0, -1.5, 0.5, 1.0, 1.5, -1.5), (-1.0, -1.5, 0.5, 1.0, 1.5, -0.5), (-1.0, -1.5, 0.5, 1.0, 1.5, 0.5), (-1.0, -1.5, 0.5, 1.0, 1.5, 1.5), (-1.0, -1.5, 0.5, 1.0, 1.5, 2.5), (-1.0, -1.5, 1.5, -1.0, -1.5, -2.5), (-1.0, -1.5, 1.5, -1.0, -1.5, -1.5), (-1.0, -1.5, 1.5, -1.0, -1.5, -0.5), (-1.0, -1.5, 1.5, -1.0, -1.5, 0.5), (-1.0, -1.5, 1.5, -1.0, -1.5, 1.5), (-1.0, -1.5, 1.5, -1.0, -1.5, 2.5), (-1.0, -1.5, 1.5, -1.0, -0.5, -2.5), (-1.0, -1.5, 1.5, -1.0, -0.5, -1.5), (-1.0, -1.5, 1.5, -1.0, -0.5, -0.5), (-1.0, -1.5, 1.5, -1.0, -0.5, 0.5), (-1.0, -1.5, 1.5, -1.0, -0.5, 1.5), (-1.0, -1.5, 1.5, -1.0, -0.5, 2.5), (-1.0, -1.5, 1.5, -1.0, 0.5, -2.5), (-1.0, -1.5, 1.5, -1.0, 0.5, -1.5), (-1.0, -1.5, 1.5, -1.0, 0.5, -0.5), (-1.0, -1.5, 1.5, -1.0, 0.5, 0.5), (-1.0, -1.5, 1.5, -1.0, 0.5, 1.5), (-1.0, -1.5, 1.5, -1.0, 0.5, 2.5), (-1.0, -1.5, 1.5, -1.0, 1.5, -2.5), (-1.0, -1.5, 1.5, -1.0, 1.5, -1.5), (-1.0, -1.5, 1.5, -1.0, 1.5, -0.5), (-1.0, -1.5, 1.5, -1.0, 1.5, 0.5), (-1.0, -1.5, 1.5, -1.0, 1.5, 1.5), (-1.0, -1.5, 1.5, -1.0, 1.5, 2.5), (-1.0, -1.5, 1.5, 0.0, -1.5, -2.5), (-1.0, -1.5, 1.5, 0.0, -1.5, -1.5), (-1.0, -1.5, 1.5, 0.0, -1.5, -0.5), (-1.0, -1.5, 1.5, 0.0, -1.5, 0.5), (-1.0, -1.5, 1.5, 0.0, -1.5, 1.5), (-1.0, -1.5, 1.5, 0.0, -1.5, 2.5), (-1.0, -1.5, 1.5, 0.0, -0.5, -2.5), (-1.0, -1.5, 1.5, 0.0, -0.5, -1.5), (-1.0, -1.5, 1.5, 0.0, -0.5, -0.5), (-1.0, -1.5, 1.5, 0.0, -0.5, 0.5), (-1.0, -1.5, 1.5, 0.0, -0.5, 1.5), (-1.0, -1.5, 1.5, 0.0, -0.5, 2.5), (-1.0, -1.5, 1.5, 0.0, 0.5, -2.5), (-1.0, -1.5, 1.5, 0.0, 0.5, -1.5), (-1.0, -1.5, 1.5, 0.0, 0.5, -0.5), (-1.0, -1.5, 1.5, 0.0, 0.5, 0.5), (-1.0, -1.5, 1.5, 0.0, 0.5, 1.5), (-1.0, -1.5, 1.5, 0.0, 0.5, 2.5), (-1.0, -1.5, 1.5, 0.0, 1.5, -2.5), (-1.0, -1.5, 1.5, 0.0, 1.5, -1.5), (-1.0, -1.5, 1.5, 0.0, 1.5, -0.5), (-1.0, -1.5, 1.5, 0.0, 1.5, 0.5), (-1.0, -1.5, 1.5, 0.0, 1.5, 1.5), (-1.0, -1.5, 1.5, 0.0, 1.5, 2.5), (-1.0, -1.5, 1.5, 1.0, -1.5, -2.5), (-1.0, -1.5, 1.5, 1.0, -1.5, -1.5), (-1.0, -1.5, 1.5, 1.0, -1.5, -0.5), (-1.0, -1.5, 1.5, 1.0, -1.5, 0.5), (-1.0, -1.5, 1.5, 1.0, -1.5, 1.5), (-1.0, -1.5, 1.5, 1.0, -1.5, 2.5), (-1.0, -1.5, 1.5, 1.0, -0.5, -2.5), (-1.0, -1.5, 1.5, 1.0, -0.5, -1.5), (-1.0, -1.5, 1.5, 1.0, -0.5, -0.5), (-1.0, -1.5, 1.5, 1.0, -0.5, 0.5), (-1.0, -1.5, 1.5, 1.0, -0.5, 1.5), (-1.0, -1.5, 1.5, 1.0, -0.5, 2.5), (-1.0, -1.5, 1.5, 1.0, 0.5, -2.5), (-1.0, -1.5, 1.5, 1.0, 0.5, -1.5), (-1.0, -1.5, 1.5, 1.0, 0.5, -0.5), (-1.0, -1.5, 1.5, 1.0, 0.5, 0.5), (-1.0, -1.5, 1.5, 1.0, 0.5, 1.5), (-1.0, -1.5, 1.5, 1.0, 0.5, 2.5), (-1.0, -1.5, 1.5, 1.0, 1.5, -2.5), (-1.0, -1.5, 1.5, 1.0, 1.5, -1.5), (-1.0, -1.5, 1.5, 1.0, 1.5, -0.5), (-1.0, -1.5, 1.5, 1.0, 1.5, 0.5), (-1.0, -1.5, 1.5, 1.0, 1.5, 1.5), (-1.0, -1.5, 1.5, 1.0, 1.5, 2.5), (-1.0, -1.5, 2.5, -1.0, -1.5, -2.5), (-1.0, -1.5, 2.5, -1.0, -1.5, -1.5), (-1.0, -1.5, 2.5, -1.0, -1.5, -0.5), (-1.0, -1.5, 2.5, -1.0, -1.5, 0.5), (-1.0, -1.5, 2.5, -1.0, -1.5, 1.5), (-1.0, -1.5, 2.5, -1.0, -1.5, 2.5), (-1.0, -1.5, 2.5, -1.0, -0.5, -2.5), (-1.0, -1.5, 2.5, -1.0, -0.5, -1.5), (-1.0, -1.5, 2.5, -1.0, -0.5, -0.5), (-1.0, -1.5, 2.5, -1.0, -0.5, 0.5), (-1.0, -1.5, 2.5, -1.0, -0.5, 1.5), (-1.0, -1.5, 2.5, -1.0, -0.5, 2.5), (-1.0, -1.5, 2.5, -1.0, 0.5, -2.5), (-1.0, -1.5, 2.5, -1.0, 0.5, -1.5), (-1.0, -1.5, 2.5, -1.0, 0.5, -0.5), (-1.0, -1.5, 2.5, -1.0, 0.5, 0.5), (-1.0, -1.5, 2.5, -1.0, 0.5, 1.5), (-1.0, -1.5, 2.5, -1.0, 0.5, 2.5), (-1.0, -1.5, 2.5, -1.0, 1.5, -2.5), (-1.0, -1.5, 2.5, -1.0, 1.5, -1.5), (-1.0, -1.5, 2.5, -1.0, 1.5, -0.5), (-1.0, -1.5, 2.5, -1.0, 1.5, 0.5), (-1.0, -1.5, 2.5, -1.0, 1.5, 1.5), (-1.0, -1.5, 2.5, -1.0, 1.5, 2.5), (-1.0, -1.5, 2.5, 0.0, -1.5, -2.5), (-1.0, -1.5, 2.5, 0.0, -1.5, -1.5), (-1.0, -1.5, 2.5, 0.0, -1.5, -0.5), (-1.0, -1.5, 2.5, 0.0, -1.5, 0.5), (-1.0, -1.5, 2.5, 0.0, -1.5, 1.5), (-1.0, -1.5, 2.5, 0.0, -1.5, 2.5), (-1.0, -1.5, 2.5, 0.0, -0.5, -2.5), (-1.0, -1.5, 2.5, 0.0, -0.5, -1.5), (-1.0, -1.5, 2.5, 0.0, -0.5, -0.5), (-1.0, -1.5, 2.5, 0.0, -0.5, 0.5), (-1.0, -1.5, 2.5, 0.0, -0.5, 1.5), (-1.0, -1.5, 2.5, 0.0, -0.5, 2.5), (-1.0, -1.5, 2.5, 0.0, 0.5, -2.5), (-1.0, -1.5, 2.5, 0.0, 0.5, -1.5), (-1.0, -1.5, 2.5, 0.0, 0.5, -0.5), (-1.0, -1.5, 2.5, 0.0, 0.5, 0.5), (-1.0, -1.5, 2.5, 0.0, 0.5, 1.5), (-1.0, -1.5, 2.5, 0.0, 0.5, 2.5), (-1.0, -1.5, 2.5, 0.0, 1.5, -2.5), (-1.0, -1.5, 2.5, 0.0, 1.5, -1.5), (-1.0, -1.5, 2.5, 0.0, 1.5, -0.5), (-1.0, -1.5, 2.5, 0.0, 1.5, 0.5), (-1.0, -1.5, 2.5, 0.0, 1.5, 1.5), (-1.0, -1.5, 2.5, 0.0, 1.5, 2.5), (-1.0, -1.5, 2.5, 1.0, -1.5, -2.5), (-1.0, -1.5, 2.5, 1.0, -1.5, -1.5), (-1.0, -1.5, 2.5, 1.0, -1.5, -0.5), (-1.0, -1.5, 2.5, 1.0, -1.5, 0.5), (-1.0, -1.5, 2.5, 1.0, -1.5, 1.5), (-1.0, -1.5, 2.5, 1.0, -1.5, 2.5), (-1.0, -1.5, 2.5, 1.0, -0.5, -2.5), (-1.0, -1.5, 2.5, 1.0, -0.5, -1.5), (-1.0, -1.5, 2.5, 1.0, -0.5, -0.5), (-1.0, -1.5, 2.5, 1.0, -0.5, 0.5), (-1.0, -1.5, 2.5, 1.0, -0.5, 1.5), (-1.0, -1.5, 2.5, 1.0, -0.5, 2.5), (-1.0, -1.5, 2.5, 1.0, 0.5, -2.5), (-1.0, -1.5, 2.5, 1.0, 0.5, -1.5), (-1.0, -1.5, 2.5, 1.0, 0.5, -0.5), (-1.0, -1.5, 2.5, 1.0, 0.5, 0.5), (-1.0, -1.5, 2.5, 1.0, 0.5, 1.5), (-1.0, -1.5, 2.5, 1.0, 0.5, 2.5), (-1.0, -1.5, 2.5, 1.0, 1.5, -2.5), (-1.0, -1.5, 2.5, 1.0, 1.5, -1.5), (-1.0, -1.5, 2.5, 1.0, 1.5, -0.5), (-1.0, -1.5, 2.5, 1.0, 1.5, 0.5), (-1.0, -1.5, 2.5, 1.0, 1.5, 1.5), (-1.0, -1.5, 2.5, 1.0, 1.5, 2.5), (-1.0, -0.5, -2.5, -1.0, -1.5, -2.5), (-1.0, -0.5, -2.5, -1.0, -1.5, -1.5), (-1.0, -0.5, -2.5, -1.0, -1.5, -0.5), (-1.0, -0.5, -2.5, -1.0, -1.5, 0.5), (-1.0, -0.5, -2.5, -1.0, -1.5, 1.5), (-1.0, -0.5, -2.5, -1.0, -1.5, 2.5), (-1.0, -0.5, -2.5, -1.0, -0.5, -2.5), (-1.0, -0.5, -2.5, -1.0, -0.5, -1.5), (-1.0, -0.5, -2.5, -1.0, -0.5, -0.5), (-1.0, -0.5, -2.5, -1.0, -0.5, 0.5), (-1.0, -0.5, -2.5, -1.0, -0.5, 1.5), (-1.0, -0.5, -2.5, -1.0, -0.5, 2.5), (-1.0, -0.5, -2.5, -1.0, 0.5, -2.5), (-1.0, -0.5, -2.5, -1.0, 0.5, -1.5), (-1.0, -0.5, -2.5, -1.0, 0.5, -0.5), (-1.0, -0.5, -2.5, -1.0, 0.5, 0.5), (-1.0, -0.5, -2.5, -1.0, 0.5, 1.5), (-1.0, -0.5, -2.5, -1.0, 0.5, 2.5), (-1.0, -0.5, -2.5, -1.0, 1.5, -2.5), (-1.0, -0.5, -2.5, -1.0, 1.5, -1.5), (-1.0, -0.5, -2.5, -1.0, 1.5, -0.5), (-1.0, -0.5, -2.5, -1.0, 1.5, 0.5), (-1.0, -0.5, -2.5, -1.0, 1.5, 1.5), (-1.0, -0.5, -2.5, -1.0, 1.5, 2.5), (-1.0, -0.5, -2.5, 0.0, -1.5, -2.5), (-1.0, -0.5, -2.5, 0.0, -1.5, -1.5), (-1.0, -0.5, -2.5, 0.0, -1.5, -0.5), (-1.0, -0.5, -2.5, 0.0, -1.5, 0.5), (-1.0, -0.5, -2.5, 0.0, -1.5, 1.5), (-1.0, -0.5, -2.5, 0.0, -1.5, 2.5), (-1.0, -0.5, -2.5, 0.0, -0.5, -2.5), (-1.0, -0.5, -2.5, 0.0, -0.5, -1.5), (-1.0, -0.5, -2.5, 0.0, -0.5, -0.5), (-1.0, -0.5, -2.5, 0.0, -0.5, 0.5), (-1.0, -0.5, -2.5, 0.0, -0.5, 1.5), (-1.0, -0.5, -2.5, 0.0, -0.5, 2.5), (-1.0, -0.5, -2.5, 0.0, 0.5, -2.5), (-1.0, -0.5, -2.5, 0.0, 0.5, -1.5), (-1.0, -0.5, -2.5, 0.0, 0.5, -0.5), (-1.0, -0.5, -2.5, 0.0, 0.5, 0.5), (-1.0, -0.5, -2.5, 0.0, 0.5, 1.5), (-1.0, -0.5, -2.5, 0.0, 0.5, 2.5), (-1.0, -0.5, -2.5, 0.0, 1.5, -2.5), (-1.0, -0.5, -2.5, 0.0, 1.5, -1.5), (-1.0, -0.5, -2.5, 0.0, 1.5, -0.5), (-1.0, -0.5, -2.5, 0.0, 1.5, 0.5), (-1.0, -0.5, -2.5, 0.0, 1.5, 1.5), (-1.0, -0.5, -2.5, 0.0, 1.5, 2.5), (-1.0, -0.5, -2.5, 1.0, -1.5, -2.5), (-1.0, -0.5, -2.5, 1.0, -1.5, -1.5), (-1.0, -0.5, -2.5, 1.0, -1.5, -0.5), (-1.0, -0.5, -2.5, 1.0, -1.5, 0.5), (-1.0, -0.5, -2.5, 1.0, -1.5, 1.5), (-1.0, -0.5, -2.5, 1.0, -1.5, 2.5), (-1.0, -0.5, -2.5, 1.0, -0.5, -2.5), (-1.0, -0.5, -2.5, 1.0, -0.5, -1.5), (-1.0, -0.5, -2.5, 1.0, -0.5, -0.5), (-1.0, -0.5, -2.5, 1.0, -0.5, 0.5), (-1.0, -0.5, -2.5, 1.0, -0.5, 1.5), (-1.0, -0.5, -2.5, 1.0, -0.5, 2.5), (-1.0, -0.5, -2.5, 1.0, 0.5, -2.5), (-1.0, -0.5, -2.5, 1.0, 0.5, -1.5), (-1.0, -0.5, -2.5, 1.0, 0.5, -0.5), (-1.0, -0.5, -2.5, 1.0, 0.5, 0.5), (-1.0, -0.5, -2.5, 1.0, 0.5, 1.5), (-1.0, -0.5, -2.5, 1.0, 0.5, 2.5), (-1.0, -0.5, -2.5, 1.0, 1.5, -2.5), (-1.0, -0.5, -2.5, 1.0, 1.5, -1.5), (-1.0, -0.5, -2.5, 1.0, 1.5, -0.5), (-1.0, -0.5, -2.5, 1.0, 1.5, 0.5), (-1.0, -0.5, -2.5, 1.0, 1.5, 1.5), (-1.0, -0.5, -2.5, 1.0, 1.5, 2.5), (-1.0, -0.5, -1.5, -1.0, -1.5, -2.5), (-1.0, -0.5, -1.5, -1.0, -1.5, -1.5), (-1.0, -0.5, -1.5, -1.0, -1.5, -0.5), (-1.0, -0.5, -1.5, -1.0, -1.5, 0.5), (-1.0, -0.5, -1.5, -1.0, -1.5, 1.5), (-1.0, -0.5, -1.5, -1.0, -1.5, 2.5), (-1.0, -0.5, -1.5, -1.0, -0.5, -2.5), (-1.0, -0.5, -1.5, -1.0, -0.5, -1.5), (-1.0, -0.5, -1.5, -1.0, -0.5, -0.5), (-1.0, -0.5, -1.5, -1.0, -0.5, 0.5), (-1.0, -0.5, -1.5, -1.0, -0.5, 1.5), (-1.0, -0.5, -1.5, -1.0, -0.5, 2.5), (-1.0, -0.5, -1.5, -1.0, 0.5, -2.5), (-1.0, -0.5, -1.5, -1.0, 0.5, -1.5), (-1.0, -0.5, -1.5, -1.0, 0.5, -0.5), (-1.0, -0.5, -1.5, -1.0, 0.5, 0.5), (-1.0, -0.5, -1.5, -1.0, 0.5, 1.5), (-1.0, -0.5, -1.5, -1.0, 0.5, 2.5), (-1.0, -0.5, -1.5, -1.0, 1.5, -2.5), (-1.0, -0.5, -1.5, -1.0, 1.5, -1.5), (-1.0, -0.5, -1.5, -1.0, 1.5, -0.5), (-1.0, -0.5, -1.5, -1.0, 1.5, 0.5), (-1.0, -0.5, -1.5, -1.0, 1.5, 1.5), (-1.0, -0.5, -1.5, -1.0, 1.5, 2.5), (-1.0, -0.5, -1.5, 0.0, -1.5, -2.5), (-1.0, -0.5, -1.5, 0.0, -1.5, -1.5), (-1.0, -0.5, -1.5, 0.0, -1.5, -0.5), (-1.0, -0.5, -1.5, 0.0, -1.5, 0.5), (-1.0, -0.5, -1.5, 0.0, -1.5, 1.5), (-1.0, -0.5, -1.5, 0.0, -1.5, 2.5), (-1.0, -0.5, -1.5, 0.0, -0.5, -2.5), (-1.0, -0.5, -1.5, 0.0, -0.5, -1.5), (-1.0, -0.5, -1.5, 0.0, -0.5, -0.5), (-1.0, -0.5, -1.5, 0.0, -0.5, 0.5), (-1.0, -0.5, -1.5, 0.0, -0.5, 1.5), (-1.0, -0.5, -1.5, 0.0, -0.5, 2.5), (-1.0, -0.5, -1.5, 0.0, 0.5, -2.5), (-1.0, -0.5, -1.5, 0.0, 0.5, -1.5), (-1.0, -0.5, -1.5, 0.0, 0.5, -0.5), (-1.0, -0.5, -1.5, 0.0, 0.5, 0.5), (-1.0, -0.5, -1.5, 0.0, 0.5, 1.5), (-1.0, -0.5, -1.5, 0.0, 0.5, 2.5), (-1.0, -0.5, -1.5, 0.0, 1.5, -2.5), (-1.0, -0.5, -1.5, 0.0, 1.5, -1.5), (-1.0, -0.5, -1.5, 0.0, 1.5, -0.5), (-1.0, -0.5, -1.5, 0.0, 1.5, 0.5), (-1.0, -0.5, -1.5, 0.0, 1.5, 1.5), (-1.0, -0.5, -1.5, 0.0, 1.5, 2.5), (-1.0, -0.5, -1.5, 1.0, -1.5, -2.5), (-1.0, -0.5, -1.5, 1.0, -1.5, -1.5), (-1.0, -0.5, -1.5, 1.0, -1.5, -0.5), (-1.0, -0.5, -1.5, 1.0, -1.5, 0.5), (-1.0, -0.5, -1.5, 1.0, -1.5, 1.5), (-1.0, -0.5, -1.5, 1.0, -1.5, 2.5), (-1.0, -0.5, -1.5, 1.0, -0.5, -2.5), (-1.0, -0.5, -1.5, 1.0, -0.5, -1.5), (-1.0, -0.5, -1.5, 1.0, -0.5, -0.5), (-1.0, -0.5, -1.5, 1.0, -0.5, 0.5), (-1.0, -0.5, -1.5, 1.0, -0.5, 1.5), (-1.0, -0.5, -1.5, 1.0, -0.5, 2.5), (-1.0, -0.5, -1.5, 1.0, 0.5, -2.5), (-1.0, -0.5, -1.5, 1.0, 0.5, -1.5), (-1.0, -0.5, -1.5, 1.0, 0.5, -0.5), (-1.0, -0.5, -1.5, 1.0, 0.5, 0.5), (-1.0, -0.5, -1.5, 1.0, 0.5, 1.5), (-1.0, -0.5, -1.5, 1.0, 0.5, 2.5), (-1.0, -0.5, -1.5, 1.0, 1.5, -2.5), (-1.0, -0.5, -1.5, 1.0, 1.5, -1.5), (-1.0, -0.5, -1.5, 1.0, 1.5, -0.5), (-1.0, -0.5, -1.5, 1.0, 1.5, 0.5), (-1.0, -0.5, -1.5, 1.0, 1.5, 1.5), (-1.0, -0.5, -1.5, 1.0, 1.5, 2.5), (-1.0, -0.5, -0.5, -1.0, -1.5, -2.5), (-1.0, -0.5, -0.5, -1.0, -1.5, -1.5), (-1.0, -0.5, -0.5, -1.0, -1.5, -0.5), (-1.0, -0.5, -0.5, -1.0, -1.5, 0.5), (-1.0, -0.5, -0.5, -1.0, -1.5, 1.5), (-1.0, -0.5, -0.5, -1.0, -1.5, 2.5), (-1.0, -0.5, -0.5, -1.0, -0.5, -2.5), (-1.0, -0.5, -0.5, -1.0, -0.5, -1.5), (-1.0, -0.5, -0.5, -1.0, -0.5, -0.5), (-1.0, -0.5, -0.5, -1.0, -0.5, 0.5), (-1.0, -0.5, -0.5, -1.0, -0.5, 1.5), (-1.0, -0.5, -0.5, -1.0, -0.5, 2.5), (-1.0, -0.5, -0.5, -1.0, 0.5, -2.5), (-1.0, -0.5, -0.5, -1.0, 0.5, -1.5), (-1.0, -0.5, -0.5, -1.0, 0.5, -0.5), (-1.0, -0.5, -0.5, -1.0, 0.5, 0.5), (-1.0, -0.5, -0.5, -1.0, 0.5, 1.5), (-1.0, -0.5, -0.5, -1.0, 0.5, 2.5), (-1.0, -0.5, -0.5, -1.0, 1.5, -2.5), (-1.0, -0.5, -0.5, -1.0, 1.5, -1.5), (-1.0, -0.5, -0.5, -1.0, 1.5, -0.5), (-1.0, -0.5, -0.5, -1.0, 1.5, 0.5), (-1.0, -0.5, -0.5, -1.0, 1.5, 1.5), (-1.0, -0.5, -0.5, -1.0, 1.5, 2.5), (-1.0, -0.5, -0.5, 0.0, -1.5, -2.5), (-1.0, -0.5, -0.5, 0.0, -1.5, -1.5), (-1.0, -0.5, -0.5, 0.0, -1.5, -0.5), (-1.0, -0.5, -0.5, 0.0, -1.5, 0.5), (-1.0, -0.5, -0.5, 0.0, -1.5, 1.5), (-1.0, -0.5, -0.5, 0.0, -1.5, 2.5), (-1.0, -0.5, -0.5, 0.0, -0.5, -2.5), (-1.0, -0.5, -0.5, 0.0, -0.5, -1.5), (-1.0, -0.5, -0.5, 0.0, -0.5, -0.5), (-1.0, -0.5, -0.5, 0.0, -0.5, 0.5), (-1.0, -0.5, -0.5, 0.0, -0.5, 1.5), (-1.0, -0.5, -0.5, 0.0, -0.5, 2.5), (-1.0, -0.5, -0.5, 0.0, 0.5, -2.5), (-1.0, -0.5, -0.5, 0.0, 0.5, -1.5), (-1.0, -0.5, -0.5, 0.0, 0.5, -0.5), (-1.0, -0.5, -0.5, 0.0, 0.5, 0.5), (-1.0, -0.5, -0.5, 0.0, 0.5, 1.5), (-1.0, -0.5, -0.5, 0.0, 0.5, 2.5), (-1.0, -0.5, -0.5, 0.0, 1.5, -2.5), (-1.0, -0.5, -0.5, 0.0, 1.5, -1.5), (-1.0, -0.5, -0.5, 0.0, 1.5, -0.5), (-1.0, -0.5, -0.5, 0.0, 1.5, 0.5), (-1.0, -0.5, -0.5, 0.0, 1.5, 1.5), (-1.0, -0.5, -0.5, 0.0, 1.5, 2.5), (-1.0, -0.5, -0.5, 1.0, -1.5, -2.5), (-1.0, -0.5, -0.5, 1.0, -1.5, -1.5), (-1.0, -0.5, -0.5, 1.0, -1.5, -0.5), (-1.0, -0.5, -0.5, 1.0, -1.5, 0.5), (-1.0, -0.5, -0.5, 1.0, -1.5, 1.5), (-1.0, -0.5, -0.5, 1.0, -1.5, 2.5), (-1.0, -0.5, -0.5, 1.0, -0.5, -2.5), (-1.0, -0.5, -0.5, 1.0, -0.5, -1.5), (-1.0, -0.5, -0.5, 1.0, -0.5, -0.5), (-1.0, -0.5, -0.5, 1.0, -0.5, 0.5), (-1.0, -0.5, -0.5, 1.0, -0.5, 1.5), (-1.0, -0.5, -0.5, 1.0, -0.5, 2.5), (-1.0, -0.5, -0.5, 1.0, 0.5, -2.5), (-1.0, -0.5, -0.5, 1.0, 0.5, -1.5), (-1.0, -0.5, -0.5, 1.0, 0.5, -0.5), (-1.0, -0.5, -0.5, 1.0, 0.5, 0.5), (-1.0, -0.5, -0.5, 1.0, 0.5, 1.5), (-1.0, -0.5, -0.5, 1.0, 0.5, 2.5), (-1.0, -0.5, -0.5, 1.0, 1.5, -2.5), (-1.0, -0.5, -0.5, 1.0, 1.5, -1.5), (-1.0, -0.5, -0.5, 1.0, 1.5, -0.5), (-1.0, -0.5, -0.5, 1.0, 1.5, 0.5), (-1.0, -0.5, -0.5, 1.0, 1.5, 1.5), (-1.0, -0.5, -0.5, 1.0, 1.5, 2.5), (-1.0, -0.5, 0.5, -1.0, -1.5, -2.5), (-1.0, -0.5, 0.5, -1.0, -1.5, -1.5), (-1.0, -0.5, 0.5, -1.0, -1.5, -0.5), (-1.0, -0.5, 0.5, -1.0, -1.5, 0.5), (-1.0, -0.5, 0.5, -1.0, -1.5, 1.5), (-1.0, -0.5, 0.5, -1.0, -1.5, 2.5), (-1.0, -0.5, 0.5, -1.0, -0.5, -2.5), (-1.0, -0.5, 0.5, -1.0, -0.5, -1.5), (-1.0, -0.5, 0.5, -1.0, -0.5, -0.5), (-1.0, -0.5, 0.5, -1.0, -0.5, 0.5), (-1.0, -0.5, 0.5, -1.0, -0.5, 1.5), (-1.0, -0.5, 0.5, -1.0, -0.5, 2.5), (-1.0, -0.5, 0.5, -1.0, 0.5, -2.5), (-1.0, -0.5, 0.5, -1.0, 0.5, -1.5), (-1.0, -0.5, 0.5, -1.0, 0.5, -0.5), (-1.0, -0.5, 0.5, -1.0, 0.5, 0.5), (-1.0, -0.5, 0.5, -1.0, 0.5, 1.5), (-1.0, -0.5, 0.5, -1.0, 0.5, 2.5), (-1.0, -0.5, 0.5, -1.0, 1.5, -2.5), (-1.0, -0.5, 0.5, -1.0, 1.5, -1.5), (-1.0, -0.5, 0.5, -1.0, 1.5, -0.5), (-1.0, -0.5, 0.5, -1.0, 1.5, 0.5), (-1.0, -0.5, 0.5, -1.0, 1.5, 1.5), (-1.0, -0.5, 0.5, -1.0, 1.5, 2.5), (-1.0, -0.5, 0.5, 0.0, -1.5, -2.5), (-1.0, -0.5, 0.5, 0.0, -1.5, -1.5), (-1.0, -0.5, 0.5, 0.0, -1.5, -0.5), (-1.0, -0.5, 0.5, 0.0, -1.5, 0.5), (-1.0, -0.5, 0.5, 0.0, -1.5, 1.5), (-1.0, -0.5, 0.5, 0.0, -1.5, 2.5), (-1.0, -0.5, 0.5, 0.0, -0.5, -2.5), (-1.0, -0.5, 0.5, 0.0, -0.5, -1.5), (-1.0, -0.5, 0.5, 0.0, -0.5, -0.5), (-1.0, -0.5, 0.5, 0.0, -0.5, 0.5), (-1.0, -0.5, 0.5, 0.0, -0.5, 1.5), (-1.0, -0.5, 0.5, 0.0, -0.5, 2.5), (-1.0, -0.5, 0.5, 0.0, 0.5, -2.5), (-1.0, -0.5, 0.5, 0.0, 0.5, -1.5), (-1.0, -0.5, 0.5, 0.0, 0.5, -0.5), (-1.0, -0.5, 0.5, 0.0, 0.5, 0.5), (-1.0, -0.5, 0.5, 0.0, 0.5, 1.5), (-1.0, -0.5, 0.5, 0.0, 0.5, 2.5), (-1.0, -0.5, 0.5, 0.0, 1.5, -2.5), (-1.0, -0.5, 0.5, 0.0, 1.5, -1.5), (-1.0, -0.5, 0.5, 0.0, 1.5, -0.5), (-1.0, -0.5, 0.5, 0.0, 1.5, 0.5), (-1.0, -0.5, 0.5, 0.0, 1.5, 1.5), (-1.0, -0.5, 0.5, 0.0, 1.5, 2.5), (-1.0, -0.5, 0.5, 1.0, -1.5, -2.5), (-1.0, -0.5, 0.5, 1.0, -1.5, -1.5), (-1.0, -0.5, 0.5, 1.0, -1.5, -0.5), (-1.0, -0.5, 0.5, 1.0, -1.5, 0.5), (-1.0, -0.5, 0.5, 1.0, -1.5, 1.5), (-1.0, -0.5, 0.5, 1.0, -1.5, 2.5), (-1.0, -0.5, 0.5, 1.0, -0.5, -2.5), (-1.0, -0.5, 0.5, 1.0, -0.5, -1.5), (-1.0, -0.5, 0.5, 1.0, -0.5, -0.5), (-1.0, -0.5, 0.5, 1.0, -0.5, 0.5), (-1.0, -0.5, 0.5, 1.0, -0.5, 1.5), (-1.0, -0.5, 0.5, 1.0, -0.5, 2.5), (-1.0, -0.5, 0.5, 1.0, 0.5, -2.5), (-1.0, -0.5, 0.5, 1.0, 0.5, -1.5), (-1.0, -0.5, 0.5, 1.0, 0.5, -0.5), (-1.0, -0.5, 0.5, 1.0, 0.5, 0.5), (-1.0, -0.5, 0.5, 1.0, 0.5, 1.5), (-1.0, -0.5, 0.5, 1.0, 0.5, 2.5), (-1.0, -0.5, 0.5, 1.0, 1.5, -2.5), (-1.0, -0.5, 0.5, 1.0, 1.5, -1.5), (-1.0, -0.5, 0.5, 1.0, 1.5, -0.5), (-1.0, -0.5, 0.5, 1.0, 1.5, 0.5), (-1.0, -0.5, 0.5, 1.0, 1.5, 1.5), (-1.0, -0.5, 0.5, 1.0, 1.5, 2.5), (-1.0, -0.5, 1.5, -1.0, -1.5, -2.5), (-1.0, -0.5, 1.5, -1.0, -1.5, -1.5), (-1.0, -0.5, 1.5, -1.0, -1.5, -0.5), (-1.0, -0.5, 1.5, -1.0, -1.5, 0.5), (-1.0, -0.5, 1.5, -1.0, -1.5, 1.5), (-1.0, -0.5, 1.5, -1.0, -1.5, 2.5), (-1.0, -0.5, 1.5, -1.0, -0.5, -2.5), (-1.0, -0.5, 1.5, -1.0, -0.5, -1.5), (-1.0, -0.5, 1.5, -1.0, -0.5, -0.5), (-1.0, -0.5, 1.5, -1.0, -0.5, 0.5), (-1.0, -0.5, 1.5, -1.0, -0.5, 1.5), (-1.0, -0.5, 1.5, -1.0, -0.5, 2.5), (-1.0, -0.5, 1.5, -1.0, 0.5, -2.5), (-1.0, -0.5, 1.5, -1.0, 0.5, -1.5), (-1.0, -0.5, 1.5, -1.0, 0.5, -0.5), (-1.0, -0.5, 1.5, -1.0, 0.5, 0.5), (-1.0, -0.5, 1.5, -1.0, 0.5, 1.5), (-1.0, -0.5, 1.5, -1.0, 0.5, 2.5), (-1.0, -0.5, 1.5, -1.0, 1.5, -2.5), (-1.0, -0.5, 1.5, -1.0, 1.5, -1.5), (-1.0, -0.5, 1.5, -1.0, 1.5, -0.5), (-1.0, -0.5, 1.5, -1.0, 1.5, 0.5), (-1.0, -0.5, 1.5, -1.0, 1.5, 1.5), (-1.0, -0.5, 1.5, -1.0, 1.5, 2.5), (-1.0, -0.5, 1.5, 0.0, -1.5, -2.5), (-1.0, -0.5, 1.5, 0.0, -1.5, -1.5), (-1.0, -0.5, 1.5, 0.0, -1.5, -0.5), (-1.0, -0.5, 1.5, 0.0, -1.5, 0.5), (-1.0, -0.5, 1.5, 0.0, -1.5, 1.5), (-1.0, -0.5, 1.5, 0.0, -1.5, 2.5), (-1.0, -0.5, 1.5, 0.0, -0.5, -2.5), (-1.0, -0.5, 1.5, 0.0, -0.5, -1.5), (-1.0, -0.5, 1.5, 0.0, -0.5, -0.5), (-1.0, -0.5, 1.5, 0.0, -0.5, 0.5), (-1.0, -0.5, 1.5, 0.0, -0.5, 1.5), (-1.0, -0.5, 1.5, 0.0, -0.5, 2.5), (-1.0, -0.5, 1.5, 0.0, 0.5, -2.5), (-1.0, -0.5, 1.5, 0.0, 0.5, -1.5), (-1.0, -0.5, 1.5, 0.0, 0.5, -0.5), (-1.0, -0.5, 1.5, 0.0, 0.5, 0.5), (-1.0, -0.5, 1.5, 0.0, 0.5, 1.5), (-1.0, -0.5, 1.5, 0.0, 0.5, 2.5), (-1.0, -0.5, 1.5, 0.0, 1.5, -2.5), (-1.0, -0.5, 1.5, 0.0, 1.5, -1.5), (-1.0, -0.5, 1.5, 0.0, 1.5, -0.5), (-1.0, -0.5, 1.5, 0.0, 1.5, 0.5), (-1.0, -0.5, 1.5, 0.0, 1.5, 1.5), (-1.0, -0.5, 1.5, 0.0, 1.5, 2.5), (-1.0, -0.5, 1.5, 1.0, -1.5, -2.5), (-1.0, -0.5, 1.5, 1.0, -1.5, -1.5), (-1.0, -0.5, 1.5, 1.0, -1.5, -0.5), (-1.0, -0.5, 1.5, 1.0, -1.5, 0.5), (-1.0, -0.5, 1.5, 1.0, -1.5, 1.5), (-1.0, -0.5, 1.5, 1.0, -1.5, 2.5), (-1.0, -0.5, 1.5, 1.0, -0.5, -2.5), (-1.0, -0.5, 1.5, 1.0, -0.5, -1.5), (-1.0, -0.5, 1.5, 1.0, -0.5, -0.5), (-1.0, -0.5, 1.5, 1.0, -0.5, 0.5), (-1.0, -0.5, 1.5, 1.0, -0.5, 1.5), (-1.0, -0.5, 1.5, 1.0, -0.5, 2.5), (-1.0, -0.5, 1.5, 1.0, 0.5, -2.5), (-1.0, -0.5, 1.5, 1.0, 0.5, -1.5), (-1.0, -0.5, 1.5, 1.0, 0.5, -0.5), (-1.0, -0.5, 1.5, 1.0, 0.5, 0.5), (-1.0, -0.5, 1.5, 1.0, 0.5, 1.5), (-1.0, -0.5, 1.5, 1.0, 0.5, 2.5), (-1.0, -0.5, 1.5, 1.0, 1.5, -2.5), (-1.0, -0.5, 1.5, 1.0, 1.5, -1.5), (-1.0, -0.5, 1.5, 1.0, 1.5, -0.5), (-1.0, -0.5, 1.5, 1.0, 1.5, 0.5), (-1.0, -0.5, 1.5, 1.0, 1.5, 1.5), (-1.0, -0.5, 1.5, 1.0, 1.5, 2.5), (-1.0, -0.5, 2.5, -1.0, -1.5, -2.5), (-1.0, -0.5, 2.5, -1.0, -1.5, -1.5), (-1.0, -0.5, 2.5, -1.0, -1.5, -0.5), (-1.0, -0.5, 2.5, -1.0, -1.5, 0.5), (-1.0, -0.5, 2.5, -1.0, -1.5, 1.5), (-1.0, -0.5, 2.5, -1.0, -1.5, 2.5), (-1.0, -0.5, 2.5, -1.0, -0.5, -2.5), (-1.0, -0.5, 2.5, -1.0, -0.5, -1.5), (-1.0, -0.5, 2.5, -1.0, -0.5, -0.5), (-1.0, -0.5, 2.5, -1.0, -0.5, 0.5), (-1.0, -0.5, 2.5, -1.0, -0.5, 1.5), (-1.0, -0.5, 2.5, -1.0, -0.5, 2.5), (-1.0, -0.5, 2.5, -1.0, 0.5, -2.5), (-1.0, -0.5, 2.5, -1.0, 0.5, -1.5), (-1.0, -0.5, 2.5, -1.0, 0.5, -0.5), (-1.0, -0.5, 2.5, -1.0, 0.5, 0.5), (-1.0, -0.5, 2.5, -1.0, 0.5, 1.5), (-1.0, -0.5, 2.5, -1.0, 0.5, 2.5), (-1.0, -0.5, 2.5, -1.0, 1.5, -2.5), (-1.0, -0.5, 2.5, -1.0, 1.5, -1.5), (-1.0, -0.5, 2.5, -1.0, 1.5, -0.5), (-1.0, -0.5, 2.5, -1.0, 1.5, 0.5), (-1.0, -0.5, 2.5, -1.0, 1.5, 1.5), (-1.0, -0.5, 2.5, -1.0, 1.5, 2.5), (-1.0, -0.5, 2.5, 0.0, -1.5, -2.5), (-1.0, -0.5, 2.5, 0.0, -1.5, -1.5), (-1.0, -0.5, 2.5, 0.0, -1.5, -0.5), (-1.0, -0.5, 2.5, 0.0, -1.5, 0.5), (-1.0, -0.5, 2.5, 0.0, -1.5, 1.5), (-1.0, -0.5, 2.5, 0.0, -1.5, 2.5), (-1.0, -0.5, 2.5, 0.0, -0.5, -2.5), (-1.0, -0.5, 2.5, 0.0, -0.5, -1.5), (-1.0, -0.5, 2.5, 0.0, -0.5, -0.5), (-1.0, -0.5, 2.5, 0.0, -0.5, 0.5), (-1.0, -0.5, 2.5, 0.0, -0.5, 1.5), (-1.0, -0.5, 2.5, 0.0, -0.5, 2.5), (-1.0, -0.5, 2.5, 0.0, 0.5, -2.5), (-1.0, -0.5, 2.5, 0.0, 0.5, -1.5), (-1.0, -0.5, 2.5, 0.0, 0.5, -0.5), (-1.0, -0.5, 2.5, 0.0, 0.5, 0.5), (-1.0, -0.5, 2.5, 0.0, 0.5, 1.5), (-1.0, -0.5, 2.5, 0.0, 0.5, 2.5), (-1.0, -0.5, 2.5, 0.0, 1.5, -2.5), (-1.0, -0.5, 2.5, 0.0, 1.5, -1.5), (-1.0, -0.5, 2.5, 0.0, 1.5, -0.5), (-1.0, -0.5, 2.5, 0.0, 1.5, 0.5), (-1.0, -0.5, 2.5, 0.0, 1.5, 1.5), (-1.0, -0.5, 2.5, 0.0, 1.5, 2.5), (-1.0, -0.5, 2.5, 1.0, -1.5, -2.5), (-1.0, -0.5, 2.5, 1.0, -1.5, -1.5), (-1.0, -0.5, 2.5, 1.0, -1.5, -0.5), (-1.0, -0.5, 2.5, 1.0, -1.5, 0.5), (-1.0, -0.5, 2.5, 1.0, -1.5, 1.5), (-1.0, -0.5, 2.5, 1.0, -1.5, 2.5), (-1.0, -0.5, 2.5, 1.0, -0.5, -2.5), (-1.0, -0.5, 2.5, 1.0, -0.5, -1.5), (-1.0, -0.5, 2.5, 1.0, -0.5, -0.5), (-1.0, -0.5, 2.5, 1.0, -0.5, 0.5), (-1.0, -0.5, 2.5, 1.0, -0.5, 1.5), (-1.0, -0.5, 2.5, 1.0, -0.5, 2.5), (-1.0, -0.5, 2.5, 1.0, 0.5, -2.5), (-1.0, -0.5, 2.5, 1.0, 0.5, -1.5), (-1.0, -0.5, 2.5, 1.0, 0.5, -0.5), (-1.0, -0.5, 2.5, 1.0, 0.5, 0.5), (-1.0, -0.5, 2.5, 1.0, 0.5, 1.5), (-1.0, -0.5, 2.5, 1.0, 0.5, 2.5), (-1.0, -0.5, 2.5, 1.0, 1.5, -2.5), (-1.0, -0.5, 2.5, 1.0, 1.5, -1.5), (-1.0, -0.5, 2.5, 1.0, 1.5, -0.5), (-1.0, -0.5, 2.5, 1.0, 1.5, 0.5), (-1.0, -0.5, 2.5, 1.0, 1.5, 1.5), (-1.0, -0.5, 2.5, 1.0, 1.5, 2.5), (-1.0, 0.5, -2.5, -1.0, -1.5, -2.5), (-1.0, 0.5, -2.5, -1.0, -1.5, -1.5), (-1.0, 0.5, -2.5, -1.0, -1.5, -0.5), (-1.0, 0.5, -2.5, -1.0, -1.5, 0.5), (-1.0, 0.5, -2.5, -1.0, -1.5, 1.5), (-1.0, 0.5, -2.5, -1.0, -1.5, 2.5), (-1.0, 0.5, -2.5, -1.0, -0.5, -2.5), (-1.0, 0.5, -2.5, -1.0, -0.5, -1.5), (-1.0, 0.5, -2.5, -1.0, -0.5, -0.5), (-1.0, 0.5, -2.5, -1.0, -0.5, 0.5), (-1.0, 0.5, -2.5, -1.0, -0.5, 1.5), (-1.0, 0.5, -2.5, -1.0, -0.5, 2.5), (-1.0, 0.5, -2.5, -1.0, 0.5, -2.5), (-1.0, 0.5, -2.5, -1.0, 0.5, -1.5), (-1.0, 0.5, -2.5, -1.0, 0.5, -0.5), (-1.0, 0.5, -2.5, -1.0, 0.5, 0.5), (-1.0, 0.5, -2.5, -1.0, 0.5, 1.5), (-1.0, 0.5, -2.5, -1.0, 0.5, 2.5), (-1.0, 0.5, -2.5, -1.0, 1.5, -2.5), (-1.0, 0.5, -2.5, -1.0, 1.5, -1.5), (-1.0, 0.5, -2.5, -1.0, 1.5, -0.5), (-1.0, 0.5, -2.5, -1.0, 1.5, 0.5), (-1.0, 0.5, -2.5, -1.0, 1.5, 1.5), (-1.0, 0.5, -2.5, -1.0, 1.5, 2.5), (-1.0, 0.5, -2.5, 0.0, -1.5, -2.5), (-1.0, 0.5, -2.5, 0.0, -1.5, -1.5), (-1.0, 0.5, -2.5, 0.0, -1.5, -0.5), (-1.0, 0.5, -2.5, 0.0, -1.5, 0.5), (-1.0, 0.5, -2.5, 0.0, -1.5, 1.5), (-1.0, 0.5, -2.5, 0.0, -1.5, 2.5), (-1.0, 0.5, -2.5, 0.0, -0.5, -2.5), (-1.0, 0.5, -2.5, 0.0, -0.5, -1.5), (-1.0, 0.5, -2.5, 0.0, -0.5, -0.5), (-1.0, 0.5, -2.5, 0.0, -0.5, 0.5), (-1.0, 0.5, -2.5, 0.0, -0.5, 1.5), (-1.0, 0.5, -2.5, 0.0, -0.5, 2.5), (-1.0, 0.5, -2.5, 0.0, 0.5, -2.5), (-1.0, 0.5, -2.5, 0.0, 0.5, -1.5), (-1.0, 0.5, -2.5, 0.0, 0.5, -0.5), (-1.0, 0.5, -2.5, 0.0, 0.5, 0.5), (-1.0, 0.5, -2.5, 0.0, 0.5, 1.5), (-1.0, 0.5, -2.5, 0.0, 0.5, 2.5), (-1.0, 0.5, -2.5, 0.0, 1.5, -2.5), (-1.0, 0.5, -2.5, 0.0, 1.5, -1.5), (-1.0, 0.5, -2.5, 0.0, 1.5, -0.5), (-1.0, 0.5, -2.5, 0.0, 1.5, 0.5), (-1.0, 0.5, -2.5, 0.0, 1.5, 1.5), (-1.0, 0.5, -2.5, 0.0, 1.5, 2.5), (-1.0, 0.5, -2.5, 1.0, -1.5, -2.5), (-1.0, 0.5, -2.5, 1.0, -1.5, -1.5), (-1.0, 0.5, -2.5, 1.0, -1.5, -0.5), (-1.0, 0.5, -2.5, 1.0, -1.5, 0.5), (-1.0, 0.5, -2.5, 1.0, -1.5, 1.5), (-1.0, 0.5, -2.5, 1.0, -1.5, 2.5), (-1.0, 0.5, -2.5, 1.0, -0.5, -2.5), (-1.0, 0.5, -2.5, 1.0, -0.5, -1.5), (-1.0, 0.5, -2.5, 1.0, -0.5, -0.5), (-1.0, 0.5, -2.5, 1.0, -0.5, 0.5), (-1.0, 0.5, -2.5, 1.0, -0.5, 1.5), (-1.0, 0.5, -2.5, 1.0, -0.5, 2.5), (-1.0, 0.5, -2.5, 1.0, 0.5, -2.5), (-1.0, 0.5, -2.5, 1.0, 0.5, -1.5), (-1.0, 0.5, -2.5, 1.0, 0.5, -0.5), (-1.0, 0.5, -2.5, 1.0, 0.5, 0.5), (-1.0, 0.5, -2.5, 1.0, 0.5, 1.5), (-1.0, 0.5, -2.5, 1.0, 0.5, 2.5), (-1.0, 0.5, -2.5, 1.0, 1.5, -2.5), (-1.0, 0.5, -2.5, 1.0, 1.5, -1.5), (-1.0, 0.5, -2.5, 1.0, 1.5, -0.5), (-1.0, 0.5, -2.5, 1.0, 1.5, 0.5), (-1.0, 0.5, -2.5, 1.0, 1.5, 1.5), (-1.0, 0.5, -2.5, 1.0, 1.5, 2.5), (-1.0, 0.5, -1.5, -1.0, -1.5, -2.5), (-1.0, 0.5, -1.5, -1.0, -1.5, -1.5), (-1.0, 0.5, -1.5, -1.0, -1.5, -0.5), (-1.0, 0.5, -1.5, -1.0, -1.5, 0.5), (-1.0, 0.5, -1.5, -1.0, -1.5, 1.5), (-1.0, 0.5, -1.5, -1.0, -1.5, 2.5), (-1.0, 0.5, -1.5, -1.0, -0.5, -2.5), (-1.0, 0.5, -1.5, -1.0, -0.5, -1.5), (-1.0, 0.5, -1.5, -1.0, -0.5, -0.5), (-1.0, 0.5, -1.5, -1.0, -0.5, 0.5), (-1.0, 0.5, -1.5, -1.0, -0.5, 1.5), (-1.0, 0.5, -1.5, -1.0, -0.5, 2.5), (-1.0, 0.5, -1.5, -1.0, 0.5, -2.5), (-1.0, 0.5, -1.5, -1.0, 0.5, -1.5), (-1.0, 0.5, -1.5, -1.0, 0.5, -0.5), (-1.0, 0.5, -1.5, -1.0, 0.5, 0.5), (-1.0, 0.5, -1.5, -1.0, 0.5, 1.5), (-1.0, 0.5, -1.5, -1.0, 0.5, 2.5), (-1.0, 0.5, -1.5, -1.0, 1.5, -2.5), (-1.0, 0.5, -1.5, -1.0, 1.5, -1.5), (-1.0, 0.5, -1.5, -1.0, 1.5, -0.5), (-1.0, 0.5, -1.5, -1.0, 1.5, 0.5), (-1.0, 0.5, -1.5, -1.0, 1.5, 1.5), (-1.0, 0.5, -1.5, -1.0, 1.5, 2.5), (-1.0, 0.5, -1.5, 0.0, -1.5, -2.5), (-1.0, 0.5, -1.5, 0.0, -1.5, -1.5), (-1.0, 0.5, -1.5, 0.0, -1.5, -0.5), (-1.0, 0.5, -1.5, 0.0, -1.5, 0.5), (-1.0, 0.5, -1.5, 0.0, -1.5, 1.5), (-1.0, 0.5, -1.5, 0.0, -1.5, 2.5), (-1.0, 0.5, -1.5, 0.0, -0.5, -2.5), (-1.0, 0.5, -1.5, 0.0, -0.5, -1.5), (-1.0, 0.5, -1.5, 0.0, -0.5, -0.5), (-1.0, 0.5, -1.5, 0.0, -0.5, 0.5), (-1.0, 0.5, -1.5, 0.0, -0.5, 1.5), (-1.0, 0.5, -1.5, 0.0, -0.5, 2.5), (-1.0, 0.5, -1.5, 0.0, 0.5, -2.5), (-1.0, 0.5, -1.5, 0.0, 0.5, -1.5), (-1.0, 0.5, -1.5, 0.0, 0.5, -0.5), (-1.0, 0.5, -1.5, 0.0, 0.5, 0.5), (-1.0, 0.5, -1.5, 0.0, 0.5, 1.5), (-1.0, 0.5, -1.5, 0.0, 0.5, 2.5), (-1.0, 0.5, -1.5, 0.0, 1.5, -2.5), (-1.0, 0.5, -1.5, 0.0, 1.5, -1.5), (-1.0, 0.5, -1.5, 0.0, 1.5, -0.5), (-1.0, 0.5, -1.5, 0.0, 1.5, 0.5), (-1.0, 0.5, -1.5, 0.0, 1.5, 1.5), (-1.0, 0.5, -1.5, 0.0, 1.5, 2.5), (-1.0, 0.5, -1.5, 1.0, -1.5, -2.5), (-1.0, 0.5, -1.5, 1.0, -1.5, -1.5), (-1.0, 0.5, -1.5, 1.0, -1.5, -0.5), (-1.0, 0.5, -1.5, 1.0, -1.5, 0.5), (-1.0, 0.5, -1.5, 1.0, -1.5, 1.5), (-1.0, 0.5, -1.5, 1.0, -1.5, 2.5), (-1.0, 0.5, -1.5, 1.0, -0.5, -2.5), (-1.0, 0.5, -1.5, 1.0, -0.5, -1.5), (-1.0, 0.5, -1.5, 1.0, -0.5, -0.5), (-1.0, 0.5, -1.5, 1.0, -0.5, 0.5), (-1.0, 0.5, -1.5, 1.0, -0.5, 1.5), (-1.0, 0.5, -1.5, 1.0, -0.5, 2.5), (-1.0, 0.5, -1.5, 1.0, 0.5, -2.5), (-1.0, 0.5, -1.5, 1.0, 0.5, -1.5), (-1.0, 0.5, -1.5, 1.0, 0.5, -0.5), (-1.0, 0.5, -1.5, 1.0, 0.5, 0.5), (-1.0, 0.5, -1.5, 1.0, 0.5, 1.5), (-1.0, 0.5, -1.5, 1.0, 0.5, 2.5), (-1.0, 0.5, -1.5, 1.0, 1.5, -2.5), (-1.0, 0.5, -1.5, 1.0, 1.5, -1.5), (-1.0, 0.5, -1.5, 1.0, 1.5, -0.5), (-1.0, 0.5, -1.5, 1.0, 1.5, 0.5), (-1.0, 0.5, -1.5, 1.0, 1.5, 1.5), (-1.0, 0.5, -1.5, 1.0, 1.5, 2.5), (-1.0, 0.5, -0.5, -1.0, -1.5, -2.5), (-1.0, 0.5, -0.5, -1.0, -1.5, -1.5), (-1.0, 0.5, -0.5, -1.0, -1.5, -0.5), (-1.0, 0.5, -0.5, -1.0, -1.5, 0.5), (-1.0, 0.5, -0.5, -1.0, -1.5, 1.5), (-1.0, 0.5, -0.5, -1.0, -1.5, 2.5), (-1.0, 0.5, -0.5, -1.0, -0.5, -2.5), (-1.0, 0.5, -0.5, -1.0, -0.5, -1.5), (-1.0, 0.5, -0.5, -1.0, -0.5, -0.5), (-1.0, 0.5, -0.5, -1.0, -0.5, 0.5), (-1.0, 0.5, -0.5, -1.0, -0.5, 1.5), (-1.0, 0.5, -0.5, -1.0, -0.5, 2.5), (-1.0, 0.5, -0.5, -1.0, 0.5, -2.5), (-1.0, 0.5, -0.5, -1.0, 0.5, -1.5), (-1.0, 0.5, -0.5, -1.0, 0.5, -0.5), (-1.0, 0.5, -0.5, -1.0, 0.5, 0.5), (-1.0, 0.5, -0.5, -1.0, 0.5, 1.5), (-1.0, 0.5, -0.5, -1.0, 0.5, 2.5), (-1.0, 0.5, -0.5, -1.0, 1.5, -2.5), (-1.0, 0.5, -0.5, -1.0, 1.5, -1.5), (-1.0, 0.5, -0.5, -1.0, 1.5, -0.5), (-1.0, 0.5, -0.5, -1.0, 1.5, 0.5), (-1.0, 0.5, -0.5, -1.0, 1.5, 1.5), (-1.0, 0.5, -0.5, -1.0, 1.5, 2.5), (-1.0, 0.5, -0.5, 0.0, -1.5, -2.5), (-1.0, 0.5, -0.5, 0.0, -1.5, -1.5), (-1.0, 0.5, -0.5, 0.0, -1.5, -0.5), (-1.0, 0.5, -0.5, 0.0, -1.5, 0.5), (-1.0, 0.5, -0.5, 0.0, -1.5, 1.5), (-1.0, 0.5, -0.5, 0.0, -1.5, 2.5), (-1.0, 0.5, -0.5, 0.0, -0.5, -2.5), (-1.0, 0.5, -0.5, 0.0, -0.5, -1.5), (-1.0, 0.5, -0.5, 0.0, -0.5, -0.5), (-1.0, 0.5, -0.5, 0.0, -0.5, 0.5), (-1.0, 0.5, -0.5, 0.0, -0.5, 1.5), (-1.0, 0.5, -0.5, 0.0, -0.5, 2.5), (-1.0, 0.5, -0.5, 0.0, 0.5, -2.5), (-1.0, 0.5, -0.5, 0.0, 0.5, -1.5), (-1.0, 0.5, -0.5, 0.0, 0.5, -0.5), (-1.0, 0.5, -0.5, 0.0, 0.5, 0.5), (-1.0, 0.5, -0.5, 0.0, 0.5, 1.5), (-1.0, 0.5, -0.5, 0.0, 0.5, 2.5), (-1.0, 0.5, -0.5, 0.0, 1.5, -2.5), (-1.0, 0.5, -0.5, 0.0, 1.5, -1.5), (-1.0, 0.5, -0.5, 0.0, 1.5, -0.5), (-1.0, 0.5, -0.5, 0.0, 1.5, 0.5), (-1.0, 0.5, -0.5, 0.0, 1.5, 1.5), (-1.0, 0.5, -0.5, 0.0, 1.5, 2.5), (-1.0, 0.5, -0.5, 1.0, -1.5, -2.5), (-1.0, 0.5, -0.5, 1.0, -1.5, -1.5), (-1.0, 0.5, -0.5, 1.0, -1.5, -0.5), (-1.0, 0.5, -0.5, 1.0, -1.5, 0.5), (-1.0, 0.5, -0.5, 1.0, -1.5, 1.5), (-1.0, 0.5, -0.5, 1.0, -1.5, 2.5), (-1.0, 0.5, -0.5, 1.0, -0.5, -2.5), (-1.0, 0.5, -0.5, 1.0, -0.5, -1.5), (-1.0, 0.5, -0.5, 1.0, -0.5, -0.5), (-1.0, 0.5, -0.5, 1.0, -0.5, 0.5), (-1.0, 0.5, -0.5, 1.0, -0.5, 1.5), (-1.0, 0.5, -0.5, 1.0, -0.5, 2.5), (-1.0, 0.5, -0.5, 1.0, 0.5, -2.5), (-1.0, 0.5, -0.5, 1.0, 0.5, -1.5), (-1.0, 0.5, -0.5, 1.0, 0.5, -0.5), (-1.0, 0.5, -0.5, 1.0, 0.5, 0.5), (-1.0, 0.5, -0.5, 1.0, 0.5, 1.5), (-1.0, 0.5, -0.5, 1.0, 0.5, 2.5), (-1.0, 0.5, -0.5, 1.0, 1.5, -2.5), (-1.0, 0.5, -0.5, 1.0, 1.5, -1.5), (-1.0, 0.5, -0.5, 1.0, 1.5, -0.5), (-1.0, 0.5, -0.5, 1.0, 1.5, 0.5), (-1.0, 0.5, -0.5, 1.0, 1.5, 1.5), (-1.0, 0.5, -0.5, 1.0, 1.5, 2.5), (-1.0, 0.5, 0.5, -1.0, -1.5, -2.5), (-1.0, 0.5, 0.5, -1.0, -1.5, -1.5), (-1.0, 0.5, 0.5, -1.0, -1.5, -0.5), (-1.0, 0.5, 0.5, -1.0, -1.5, 0.5), (-1.0, 0.5, 0.5, -1.0, -1.5, 1.5), (-1.0, 0.5, 0.5, -1.0, -1.5, 2.5), (-1.0, 0.5, 0.5, -1.0, -0.5, -2.5), (-1.0, 0.5, 0.5, -1.0, -0.5, -1.5), (-1.0, 0.5, 0.5, -1.0, -0.5, -0.5), (-1.0, 0.5, 0.5, -1.0, -0.5, 0.5), (-1.0, 0.5, 0.5, -1.0, -0.5, 1.5), (-1.0, 0.5, 0.5, -1.0, -0.5, 2.5), (-1.0, 0.5, 0.5, -1.0, 0.5, -2.5), (-1.0, 0.5, 0.5, -1.0, 0.5, -1.5), (-1.0, 0.5, 0.5, -1.0, 0.5, -0.5), (-1.0, 0.5, 0.5, -1.0, 0.5, 0.5), (-1.0, 0.5, 0.5, -1.0, 0.5, 1.5), (-1.0, 0.5, 0.5, -1.0, 0.5, 2.5), (-1.0, 0.5, 0.5, -1.0, 1.5, -2.5), (-1.0, 0.5, 0.5, -1.0, 1.5, -1.5), (-1.0, 0.5, 0.5, -1.0, 1.5, -0.5), (-1.0, 0.5, 0.5, -1.0, 1.5, 0.5), (-1.0, 0.5, 0.5, -1.0, 1.5, 1.5), (-1.0, 0.5, 0.5, -1.0, 1.5, 2.5), (-1.0, 0.5, 0.5, 0.0, -1.5, -2.5), (-1.0, 0.5, 0.5, 0.0, -1.5, -1.5), (-1.0, 0.5, 0.5, 0.0, -1.5, -0.5), (-1.0, 0.5, 0.5, 0.0, -1.5, 0.5), (-1.0, 0.5, 0.5, 0.0, -1.5, 1.5), (-1.0, 0.5, 0.5, 0.0, -1.5, 2.5), (-1.0, 0.5, 0.5, 0.0, -0.5, -2.5), (-1.0, 0.5, 0.5, 0.0, -0.5, -1.5), (-1.0, 0.5, 0.5, 0.0, -0.5, -0.5), (-1.0, 0.5, 0.5, 0.0, -0.5, 0.5), (-1.0, 0.5, 0.5, 0.0, -0.5, 1.5), (-1.0, 0.5, 0.5, 0.0, -0.5, 2.5), (-1.0, 0.5, 0.5, 0.0, 0.5, -2.5), (-1.0, 0.5, 0.5, 0.0, 0.5, -1.5), (-1.0, 0.5, 0.5, 0.0, 0.5, -0.5), (-1.0, 0.5, 0.5, 0.0, 0.5, 0.5), (-1.0, 0.5, 0.5, 0.0, 0.5, 1.5), (-1.0, 0.5, 0.5, 0.0, 0.5, 2.5), (-1.0, 0.5, 0.5, 0.0, 1.5, -2.5), (-1.0, 0.5, 0.5, 0.0, 1.5, -1.5), (-1.0, 0.5, 0.5, 0.0, 1.5, -0.5), (-1.0, 0.5, 0.5, 0.0, 1.5, 0.5), (-1.0, 0.5, 0.5, 0.0, 1.5, 1.5), (-1.0, 0.5, 0.5, 0.0, 1.5, 2.5), (-1.0, 0.5, 0.5, 1.0, -1.5, -2.5), (-1.0, 0.5, 0.5, 1.0, -1.5, -1.5), (-1.0, 0.5, 0.5, 1.0, -1.5, -0.5), (-1.0, 0.5, 0.5, 1.0, -1.5, 0.5), (-1.0, 0.5, 0.5, 1.0, -1.5, 1.5), (-1.0, 0.5, 0.5, 1.0, -1.5, 2.5), (-1.0, 0.5, 0.5, 1.0, -0.5, -2.5), (-1.0, 0.5, 0.5, 1.0, -0.5, -1.5), (-1.0, 0.5, 0.5, 1.0, -0.5, -0.5), (-1.0, 0.5, 0.5, 1.0, -0.5, 0.5), (-1.0, 0.5, 0.5, 1.0, -0.5, 1.5), (-1.0, 0.5, 0.5, 1.0, -0.5, 2.5), (-1.0, 0.5, 0.5, 1.0, 0.5, -2.5), (-1.0, 0.5, 0.5, 1.0, 0.5, -1.5), (-1.0, 0.5, 0.5, 1.0, 0.5, -0.5), (-1.0, 0.5, 0.5, 1.0, 0.5, 0.5), (-1.0, 0.5, 0.5, 1.0, 0.5, 1.5), (-1.0, 0.5, 0.5, 1.0, 0.5, 2.5), (-1.0, 0.5, 0.5, 1.0, 1.5, -2.5), (-1.0, 0.5, 0.5, 1.0, 1.5, -1.5), (-1.0, 0.5, 0.5, 1.0, 1.5, -0.5), (-1.0, 0.5, 0.5, 1.0, 1.5, 0.5), (-1.0, 0.5, 0.5, 1.0, 1.5, 1.5), (-1.0, 0.5, 0.5, 1.0, 1.5, 2.5), (-1.0, 0.5, 1.5, -1.0, -1.5, -2.5), (-1.0, 0.5, 1.5, -1.0, -1.5, -1.5), (-1.0, 0.5, 1.5, -1.0, -1.5, -0.5), (-1.0, 0.5, 1.5, -1.0, -1.5, 0.5), (-1.0, 0.5, 1.5, -1.0, -1.5, 1.5), (-1.0, 0.5, 1.5, -1.0, -1.5, 2.5), (-1.0, 0.5, 1.5, -1.0, -0.5, -2.5), (-1.0, 0.5, 1.5, -1.0, -0.5, -1.5), (-1.0, 0.5, 1.5, -1.0, -0.5, -0.5), (-1.0, 0.5, 1.5, -1.0, -0.5, 0.5), (-1.0, 0.5, 1.5, -1.0, -0.5, 1.5), (-1.0, 0.5, 1.5, -1.0, -0.5, 2.5), (-1.0, 0.5, 1.5, -1.0, 0.5, -2.5), (-1.0, 0.5, 1.5, -1.0, 0.5, -1.5), (-1.0, 0.5, 1.5, -1.0, 0.5, -0.5), (-1.0, 0.5, 1.5, -1.0, 0.5, 0.5), (-1.0, 0.5, 1.5, -1.0, 0.5, 1.5), (-1.0, 0.5, 1.5, -1.0, 0.5, 2.5), (-1.0, 0.5, 1.5, -1.0, 1.5, -2.5), (-1.0, 0.5, 1.5, -1.0, 1.5, -1.5), (-1.0, 0.5, 1.5, -1.0, 1.5, -0.5), (-1.0, 0.5, 1.5, -1.0, 1.5, 0.5), (-1.0, 0.5, 1.5, -1.0, 1.5, 1.5), (-1.0, 0.5, 1.5, -1.0, 1.5, 2.5), (-1.0, 0.5, 1.5, 0.0, -1.5, -2.5), (-1.0, 0.5, 1.5, 0.0, -1.5, -1.5), (-1.0, 0.5, 1.5, 0.0, -1.5, -0.5), (-1.0, 0.5, 1.5, 0.0, -1.5, 0.5), (-1.0, 0.5, 1.5, 0.0, -1.5, 1.5), (-1.0, 0.5, 1.5, 0.0, -1.5, 2.5), (-1.0, 0.5, 1.5, 0.0, -0.5, -2.5), (-1.0, 0.5, 1.5, 0.0, -0.5, -1.5), (-1.0, 0.5, 1.5, 0.0, -0.5, -0.5), (-1.0, 0.5, 1.5, 0.0, -0.5, 0.5), (-1.0, 0.5, 1.5, 0.0, -0.5, 1.5), (-1.0, 0.5, 1.5, 0.0, -0.5, 2.5), (-1.0, 0.5, 1.5, 0.0, 0.5, -2.5), (-1.0, 0.5, 1.5, 0.0, 0.5, -1.5), (-1.0, 0.5, 1.5, 0.0, 0.5, -0.5), (-1.0, 0.5, 1.5, 0.0, 0.5, 0.5), (-1.0, 0.5, 1.5, 0.0, 0.5, 1.5), (-1.0, 0.5, 1.5, 0.0, 0.5, 2.5), (-1.0, 0.5, 1.5, 0.0, 1.5, -2.5), (-1.0, 0.5, 1.5, 0.0, 1.5, -1.5), (-1.0, 0.5, 1.5, 0.0, 1.5, -0.5), (-1.0, 0.5, 1.5, 0.0, 1.5, 0.5), (-1.0, 0.5, 1.5, 0.0, 1.5, 1.5), (-1.0, 0.5, 1.5, 0.0, 1.5, 2.5), (-1.0, 0.5, 1.5, 1.0, -1.5, -2.5), (-1.0, 0.5, 1.5, 1.0, -1.5, -1.5), (-1.0, 0.5, 1.5, 1.0, -1.5, -0.5), (-1.0, 0.5, 1.5, 1.0, -1.5, 0.5), (-1.0, 0.5, 1.5, 1.0, -1.5, 1.5), (-1.0, 0.5, 1.5, 1.0, -1.5, 2.5), (-1.0, 0.5, 1.5, 1.0, -0.5, -2.5), (-1.0, 0.5, 1.5, 1.0, -0.5, -1.5), (-1.0, 0.5, 1.5, 1.0, -0.5, -0.5), (-1.0, 0.5, 1.5, 1.0, -0.5, 0.5), (-1.0, 0.5, 1.5, 1.0, -0.5, 1.5), (-1.0, 0.5, 1.5, 1.0, -0.5, 2.5), (-1.0, 0.5, 1.5, 1.0, 0.5, -2.5), (-1.0, 0.5, 1.5, 1.0, 0.5, -1.5), (-1.0, 0.5, 1.5, 1.0, 0.5, -0.5), (-1.0, 0.5, 1.5, 1.0, 0.5, 0.5), (-1.0, 0.5, 1.5, 1.0, 0.5, 1.5), (-1.0, 0.5, 1.5, 1.0, 0.5, 2.5), (-1.0, 0.5, 1.5, 1.0, 1.5, -2.5), (-1.0, 0.5, 1.5, 1.0, 1.5, -1.5), (-1.0, 0.5, 1.5, 1.0, 1.5, -0.5), (-1.0, 0.5, 1.5, 1.0, 1.5, 0.5), (-1.0, 0.5, 1.5, 1.0, 1.5, 1.5), (-1.0, 0.5, 1.5, 1.0, 1.5, 2.5), (-1.0, 0.5, 2.5, -1.0, -1.5, -2.5), (-1.0, 0.5, 2.5, -1.0, -1.5, -1.5), (-1.0, 0.5, 2.5, -1.0, -1.5, -0.5), (-1.0, 0.5, 2.5, -1.0, -1.5, 0.5), (-1.0, 0.5, 2.5, -1.0, -1.5, 1.5), (-1.0, 0.5, 2.5, -1.0, -1.5, 2.5), (-1.0, 0.5, 2.5, -1.0, -0.5, -2.5), (-1.0, 0.5, 2.5, -1.0, -0.5, -1.5), (-1.0, 0.5, 2.5, -1.0, -0.5, -0.5), (-1.0, 0.5, 2.5, -1.0, -0.5, 0.5), (-1.0, 0.5, 2.5, -1.0, -0.5, 1.5), (-1.0, 0.5, 2.5, -1.0, -0.5, 2.5), (-1.0, 0.5, 2.5, -1.0, 0.5, -2.5), (-1.0, 0.5, 2.5, -1.0, 0.5, -1.5), (-1.0, 0.5, 2.5, -1.0, 0.5, -0.5), (-1.0, 0.5, 2.5, -1.0, 0.5, 0.5), (-1.0, 0.5, 2.5, -1.0, 0.5, 1.5), (-1.0, 0.5, 2.5, -1.0, 0.5, 2.5), (-1.0, 0.5, 2.5, -1.0, 1.5, -2.5), (-1.0, 0.5, 2.5, -1.0, 1.5, -1.5), (-1.0, 0.5, 2.5, -1.0, 1.5, -0.5), (-1.0, 0.5, 2.5, -1.0, 1.5, 0.5), (-1.0, 0.5, 2.5, -1.0, 1.5, 1.5), (-1.0, 0.5, 2.5, -1.0, 1.5, 2.5), (-1.0, 0.5, 2.5, 0.0, -1.5, -2.5), (-1.0, 0.5, 2.5, 0.0, -1.5, -1.5), (-1.0, 0.5, 2.5, 0.0, -1.5, -0.5), (-1.0, 0.5, 2.5, 0.0, -1.5, 0.5), (-1.0, 0.5, 2.5, 0.0, -1.5, 1.5), (-1.0, 0.5, 2.5, 0.0, -1.5, 2.5), (-1.0, 0.5, 2.5, 0.0, -0.5, -2.5), (-1.0, 0.5, 2.5, 0.0, -0.5, -1.5), (-1.0, 0.5, 2.5, 0.0, -0.5, -0.5), (-1.0, 0.5, 2.5, 0.0, -0.5, 0.5), (-1.0, 0.5, 2.5, 0.0, -0.5, 1.5), (-1.0, 0.5, 2.5, 0.0, -0.5, 2.5), (-1.0, 0.5, 2.5, 0.0, 0.5, -2.5), (-1.0, 0.5, 2.5, 0.0, 0.5, -1.5), (-1.0, 0.5, 2.5, 0.0, 0.5, -0.5), (-1.0, 0.5, 2.5, 0.0, 0.5, 0.5), (-1.0, 0.5, 2.5, 0.0, 0.5, 1.5), (-1.0, 0.5, 2.5, 0.0, 0.5, 2.5), (-1.0, 0.5, 2.5, 0.0, 1.5, -2.5), (-1.0, 0.5, 2.5, 0.0, 1.5, -1.5), (-1.0, 0.5, 2.5, 0.0, 1.5, -0.5), (-1.0, 0.5, 2.5, 0.0, 1.5, 0.5), (-1.0, 0.5, 2.5, 0.0, 1.5, 1.5), (-1.0, 0.5, 2.5, 0.0, 1.5, 2.5), (-1.0, 0.5, 2.5, 1.0, -1.5, -2.5), (-1.0, 0.5, 2.5, 1.0, -1.5, -1.5), (-1.0, 0.5, 2.5, 1.0, -1.5, -0.5), (-1.0, 0.5, 2.5, 1.0, -1.5, 0.5), (-1.0, 0.5, 2.5, 1.0, -1.5, 1.5), (-1.0, 0.5, 2.5, 1.0, -1.5, 2.5), (-1.0, 0.5, 2.5, 1.0, -0.5, -2.5), (-1.0, 0.5, 2.5, 1.0, -0.5, -1.5), (-1.0, 0.5, 2.5, 1.0, -0.5, -0.5), (-1.0, 0.5, 2.5, 1.0, -0.5, 0.5), (-1.0, 0.5, 2.5, 1.0, -0.5, 1.5), (-1.0, 0.5, 2.5, 1.0, -0.5, 2.5), (-1.0, 0.5, 2.5, 1.0, 0.5, -2.5), (-1.0, 0.5, 2.5, 1.0, 0.5, -1.5), (-1.0, 0.5, 2.5, 1.0, 0.5, -0.5), (-1.0, 0.5, 2.5, 1.0, 0.5, 0.5), (-1.0, 0.5, 2.5, 1.0, 0.5, 1.5), (-1.0, 0.5, 2.5, 1.0, 0.5, 2.5), (-1.0, 0.5, 2.5, 1.0, 1.5, -2.5), (-1.0, 0.5, 2.5, 1.0, 1.5, -1.5), (-1.0, 0.5, 2.5, 1.0, 1.5, -0.5), (-1.0, 0.5, 2.5, 1.0, 1.5, 0.5), (-1.0, 0.5, 2.5, 1.0, 1.5, 1.5), (-1.0, 0.5, 2.5, 1.0, 1.5, 2.5), (-1.0, 1.5, -2.5, -1.0, -1.5, -2.5), (-1.0, 1.5, -2.5, -1.0, -1.5, -1.5), (-1.0, 1.5, -2.5, -1.0, -1.5, -0.5), (-1.0, 1.5, -2.5, -1.0, -1.5, 0.5), (-1.0, 1.5, -2.5, -1.0, -1.5, 1.5), (-1.0, 1.5, -2.5, -1.0, -1.5, 2.5), (-1.0, 1.5, -2.5, -1.0, -0.5, -2.5), (-1.0, 1.5, -2.5, -1.0, -0.5, -1.5), (-1.0, 1.5, -2.5, -1.0, -0.5, -0.5), (-1.0, 1.5, -2.5, -1.0, -0.5, 0.5), (-1.0, 1.5, -2.5, -1.0, -0.5, 1.5), (-1.0, 1.5, -2.5, -1.0, -0.5, 2.5), (-1.0, 1.5, -2.5, -1.0, 0.5, -2.5), (-1.0, 1.5, -2.5, -1.0, 0.5, -1.5), (-1.0, 1.5, -2.5, -1.0, 0.5, -0.5), (-1.0, 1.5, -2.5, -1.0, 0.5, 0.5), (-1.0, 1.5, -2.5, -1.0, 0.5, 1.5), (-1.0, 1.5, -2.5, -1.0, 0.5, 2.5), (-1.0, 1.5, -2.5, -1.0, 1.5, -2.5), (-1.0, 1.5, -2.5, -1.0, 1.5, -1.5), (-1.0, 1.5, -2.5, -1.0, 1.5, -0.5), (-1.0, 1.5, -2.5, -1.0, 1.5, 0.5), (-1.0, 1.5, -2.5, -1.0, 1.5, 1.5), (-1.0, 1.5, -2.5, -1.0, 1.5, 2.5), (-1.0, 1.5, -2.5, 0.0, -1.5, -2.5), (-1.0, 1.5, -2.5, 0.0, -1.5, -1.5), (-1.0, 1.5, -2.5, 0.0, -1.5, -0.5), (-1.0, 1.5, -2.5, 0.0, -1.5, 0.5), (-1.0, 1.5, -2.5, 0.0, -1.5, 1.5), (-1.0, 1.5, -2.5, 0.0, -1.5, 2.5), (-1.0, 1.5, -2.5, 0.0, -0.5, -2.5), (-1.0, 1.5, -2.5, 0.0, -0.5, -1.5), (-1.0, 1.5, -2.5, 0.0, -0.5, -0.5), (-1.0, 1.5, -2.5, 0.0, -0.5, 0.5), (-1.0, 1.5, -2.5, 0.0, -0.5, 1.5), (-1.0, 1.5, -2.5, 0.0, -0.5, 2.5), (-1.0, 1.5, -2.5, 0.0, 0.5, -2.5), (-1.0, 1.5, -2.5, 0.0, 0.5, -1.5), (-1.0, 1.5, -2.5, 0.0, 0.5, -0.5), (-1.0, 1.5, -2.5, 0.0, 0.5, 0.5), (-1.0, 1.5, -2.5, 0.0, 0.5, 1.5), (-1.0, 1.5, -2.5, 0.0, 0.5, 2.5), (-1.0, 1.5, -2.5, 0.0, 1.5, -2.5), (-1.0, 1.5, -2.5, 0.0, 1.5, -1.5), (-1.0, 1.5, -2.5, 0.0, 1.5, -0.5), (-1.0, 1.5, -2.5, 0.0, 1.5, 0.5), (-1.0, 1.5, -2.5, 0.0, 1.5, 1.5), (-1.0, 1.5, -2.5, 0.0, 1.5, 2.5), (-1.0, 1.5, -2.5, 1.0, -1.5, -2.5), (-1.0, 1.5, -2.5, 1.0, -1.5, -1.5), (-1.0, 1.5, -2.5, 1.0, -1.5, -0.5), (-1.0, 1.5, -2.5, 1.0, -1.5, 0.5), (-1.0, 1.5, -2.5, 1.0, -1.5, 1.5), (-1.0, 1.5, -2.5, 1.0, -1.5, 2.5), (-1.0, 1.5, -2.5, 1.0, -0.5, -2.5), (-1.0, 1.5, -2.5, 1.0, -0.5, -1.5), (-1.0, 1.5, -2.5, 1.0, -0.5, -0.5), (-1.0, 1.5, -2.5, 1.0, -0.5, 0.5), (-1.0, 1.5, -2.5, 1.0, -0.5, 1.5), (-1.0, 1.5, -2.5, 1.0, -0.5, 2.5), (-1.0, 1.5, -2.5, 1.0, 0.5, -2.5), (-1.0, 1.5, -2.5, 1.0, 0.5, -1.5), (-1.0, 1.5, -2.5, 1.0, 0.5, -0.5), (-1.0, 1.5, -2.5, 1.0, 0.5, 0.5), (-1.0, 1.5, -2.5, 1.0, 0.5, 1.5), (-1.0, 1.5, -2.5, 1.0, 0.5, 2.5), (-1.0, 1.5, -2.5, 1.0, 1.5, -2.5), (-1.0, 1.5, -2.5, 1.0, 1.5, -1.5), (-1.0, 1.5, -2.5, 1.0, 1.5, -0.5), (-1.0, 1.5, -2.5, 1.0, 1.5, 0.5), (-1.0, 1.5, -2.5, 1.0, 1.5, 1.5), (-1.0, 1.5, -2.5, 1.0, 1.5, 2.5), (-1.0, 1.5, -1.5, -1.0, -1.5, -2.5), (-1.0, 1.5, -1.5, -1.0, -1.5, -1.5), (-1.0, 1.5, -1.5, -1.0, -1.5, -0.5), (-1.0, 1.5, -1.5, -1.0, -1.5, 0.5), (-1.0, 1.5, -1.5, -1.0, -1.5, 1.5), (-1.0, 1.5, -1.5, -1.0, -1.5, 2.5), (-1.0, 1.5, -1.5, -1.0, -0.5, -2.5), (-1.0, 1.5, -1.5, -1.0, -0.5, -1.5), (-1.0, 1.5, -1.5, -1.0, -0.5, -0.5), (-1.0, 1.5, -1.5, -1.0, -0.5, 0.5), (-1.0, 1.5, -1.5, -1.0, -0.5, 1.5), (-1.0, 1.5, -1.5, -1.0, -0.5, 2.5), (-1.0, 1.5, -1.5, -1.0, 0.5, -2.5), (-1.0, 1.5, -1.5, -1.0, 0.5, -1.5), (-1.0, 1.5, -1.5, -1.0, 0.5, -0.5), (-1.0, 1.5, -1.5, -1.0, 0.5, 0.5), (-1.0, 1.5, -1.5, -1.0, 0.5, 1.5), (-1.0, 1.5, -1.5, -1.0, 0.5, 2.5), (-1.0, 1.5, -1.5, -1.0, 1.5, -2.5), (-1.0, 1.5, -1.5, -1.0, 1.5, -1.5), (-1.0, 1.5, -1.5, -1.0, 1.5, -0.5), (-1.0, 1.5, -1.5, -1.0, 1.5, 0.5), (-1.0, 1.5, -1.5, -1.0, 1.5, 1.5), (-1.0, 1.5, -1.5, -1.0, 1.5, 2.5), (-1.0, 1.5, -1.5, 0.0, -1.5, -2.5), (-1.0, 1.5, -1.5, 0.0, -1.5, -1.5), (-1.0, 1.5, -1.5, 0.0, -1.5, -0.5), (-1.0, 1.5, -1.5, 0.0, -1.5, 0.5), (-1.0, 1.5, -1.5, 0.0, -1.5, 1.5), (-1.0, 1.5, -1.5, 0.0, -1.5, 2.5), (-1.0, 1.5, -1.5, 0.0, -0.5, -2.5), (-1.0, 1.5, -1.5, 0.0, -0.5, -1.5), (-1.0, 1.5, -1.5, 0.0, -0.5, -0.5), (-1.0, 1.5, -1.5, 0.0, -0.5, 0.5), (-1.0, 1.5, -1.5, 0.0, -0.5, 1.5), (-1.0, 1.5, -1.5, 0.0, -0.5, 2.5), (-1.0, 1.5, -1.5, 0.0, 0.5, -2.5), (-1.0, 1.5, -1.5, 0.0, 0.5, -1.5), (-1.0, 1.5, -1.5, 0.0, 0.5, -0.5), (-1.0, 1.5, -1.5, 0.0, 0.5, 0.5), (-1.0, 1.5, -1.5, 0.0, 0.5, 1.5), (-1.0, 1.5, -1.5, 0.0, 0.5, 2.5), (-1.0, 1.5, -1.5, 0.0, 1.5, -2.5), (-1.0, 1.5, -1.5, 0.0, 1.5, -1.5), (-1.0, 1.5, -1.5, 0.0, 1.5, -0.5), (-1.0, 1.5, -1.5, 0.0, 1.5, 0.5), (-1.0, 1.5, -1.5, 0.0, 1.5, 1.5), (-1.0, 1.5, -1.5, 0.0, 1.5, 2.5), (-1.0, 1.5, -1.5, 1.0, -1.5, -2.5), (-1.0, 1.5, -1.5, 1.0, -1.5, -1.5), (-1.0, 1.5, -1.5, 1.0, -1.5, -0.5), (-1.0, 1.5, -1.5, 1.0, -1.5, 0.5), (-1.0, 1.5, -1.5, 1.0, -1.5, 1.5), (-1.0, 1.5, -1.5, 1.0, -1.5, 2.5), (-1.0, 1.5, -1.5, 1.0, -0.5, -2.5), (-1.0, 1.5, -1.5, 1.0, -0.5, -1.5), (-1.0, 1.5, -1.5, 1.0, -0.5, -0.5), (-1.0, 1.5, -1.5, 1.0, -0.5, 0.5), (-1.0, 1.5, -1.5, 1.0, -0.5, 1.5), (-1.0, 1.5, -1.5, 1.0, -0.5, 2.5), (-1.0, 1.5, -1.5, 1.0, 0.5, -2.5), (-1.0, 1.5, -1.5, 1.0, 0.5, -1.5), (-1.0, 1.5, -1.5, 1.0, 0.5, -0.5), (-1.0, 1.5, -1.5, 1.0, 0.5, 0.5), (-1.0, 1.5, -1.5, 1.0, 0.5, 1.5), (-1.0, 1.5, -1.5, 1.0, 0.5, 2.5), (-1.0, 1.5, -1.5, 1.0, 1.5, -2.5), (-1.0, 1.5, -1.5, 1.0, 1.5, -1.5), (-1.0, 1.5, -1.5, 1.0, 1.5, -0.5), (-1.0, 1.5, -1.5, 1.0, 1.5, 0.5), (-1.0, 1.5, -1.5, 1.0, 1.5, 1.5), (-1.0, 1.5, -1.5, 1.0, 1.5, 2.5), (-1.0, 1.5, -0.5, -1.0, -1.5, -2.5), (-1.0, 1.5, -0.5, -1.0, -1.5, -1.5), (-1.0, 1.5, -0.5, -1.0, -1.5, -0.5), (-1.0, 1.5, -0.5, -1.0, -1.5, 0.5), (-1.0, 1.5, -0.5, -1.0, -1.5, 1.5), (-1.0, 1.5, -0.5, -1.0, -1.5, 2.5), (-1.0, 1.5, -0.5, -1.0, -0.5, -2.5), (-1.0, 1.5, -0.5, -1.0, -0.5, -1.5), (-1.0, 1.5, -0.5, -1.0, -0.5, -0.5), (-1.0, 1.5, -0.5, -1.0, -0.5, 0.5), (-1.0, 1.5, -0.5, -1.0, -0.5, 1.5), (-1.0, 1.5, -0.5, -1.0, -0.5, 2.5), (-1.0, 1.5, -0.5, -1.0, 0.5, -2.5), (-1.0, 1.5, -0.5, -1.0, 0.5, -1.5), (-1.0, 1.5, -0.5, -1.0, 0.5, -0.5), (-1.0, 1.5, -0.5, -1.0, 0.5, 0.5), (-1.0, 1.5, -0.5, -1.0, 0.5, 1.5), (-1.0, 1.5, -0.5, -1.0, 0.5, 2.5), (-1.0, 1.5, -0.5, -1.0, 1.5, -2.5), (-1.0, 1.5, -0.5, -1.0, 1.5, -1.5), (-1.0, 1.5, -0.5, -1.0, 1.5, -0.5), (-1.0, 1.5, -0.5, -1.0, 1.5, 0.5), (-1.0, 1.5, -0.5, -1.0, 1.5, 1.5), (-1.0, 1.5, -0.5, -1.0, 1.5, 2.5), (-1.0, 1.5, -0.5, 0.0, -1.5, -2.5), (-1.0, 1.5, -0.5, 0.0, -1.5, -1.5), (-1.0, 1.5, -0.5, 0.0, -1.5, -0.5), (-1.0, 1.5, -0.5, 0.0, -1.5, 0.5), (-1.0, 1.5, -0.5, 0.0, -1.5, 1.5), (-1.0, 1.5, -0.5, 0.0, -1.5, 2.5), (-1.0, 1.5, -0.5, 0.0, -0.5, -2.5), (-1.0, 1.5, -0.5, 0.0, -0.5, -1.5), (-1.0, 1.5, -0.5, 0.0, -0.5, -0.5), (-1.0, 1.5, -0.5, 0.0, -0.5, 0.5), (-1.0, 1.5, -0.5, 0.0, -0.5, 1.5), (-1.0, 1.5, -0.5, 0.0, -0.5, 2.5), (-1.0, 1.5, -0.5, 0.0, 0.5, -2.5), (-1.0, 1.5, -0.5, 0.0, 0.5, -1.5), (-1.0, 1.5, -0.5, 0.0, 0.5, -0.5), (-1.0, 1.5, -0.5, 0.0, 0.5, 0.5), (-1.0, 1.5, -0.5, 0.0, 0.5, 1.5), (-1.0, 1.5, -0.5, 0.0, 0.5, 2.5), (-1.0, 1.5, -0.5, 0.0, 1.5, -2.5), (-1.0, 1.5, -0.5, 0.0, 1.5, -1.5), (-1.0, 1.5, -0.5, 0.0, 1.5, -0.5), (-1.0, 1.5, -0.5, 0.0, 1.5, 0.5), (-1.0, 1.5, -0.5, 0.0, 1.5, 1.5), (-1.0, 1.5, -0.5, 0.0, 1.5, 2.5), (-1.0, 1.5, -0.5, 1.0, -1.5, -2.5), (-1.0, 1.5, -0.5, 1.0, -1.5, -1.5), (-1.0, 1.5, -0.5, 1.0, -1.5, -0.5), (-1.0, 1.5, -0.5, 1.0, -1.5, 0.5), (-1.0, 1.5, -0.5, 1.0, -1.5, 1.5), (-1.0, 1.5, -0.5, 1.0, -1.5, 2.5), (-1.0, 1.5, -0.5, 1.0, -0.5, -2.5), (-1.0, 1.5, -0.5, 1.0, -0.5, -1.5), (-1.0, 1.5, -0.5, 1.0, -0.5, -0.5), (-1.0, 1.5, -0.5, 1.0, -0.5, 0.5), (-1.0, 1.5, -0.5, 1.0, -0.5, 1.5), (-1.0, 1.5, -0.5, 1.0, -0.5, 2.5), (-1.0, 1.5, -0.5, 1.0, 0.5, -2.5), (-1.0, 1.5, -0.5, 1.0, 0.5, -1.5), (-1.0, 1.5, -0.5, 1.0, 0.5, -0.5), (-1.0, 1.5, -0.5, 1.0, 0.5, 0.5), (-1.0, 1.5, -0.5, 1.0, 0.5, 1.5), (-1.0, 1.5, -0.5, 1.0, 0.5, 2.5), (-1.0, 1.5, -0.5, 1.0, 1.5, -2.5), (-1.0, 1.5, -0.5, 1.0, 1.5, -1.5), (-1.0, 1.5, -0.5, 1.0, 1.5, -0.5), (-1.0, 1.5, -0.5, 1.0, 1.5, 0.5), (-1.0, 1.5, -0.5, 1.0, 1.5, 1.5), (-1.0, 1.5, -0.5, 1.0, 1.5, 2.5), (-1.0, 1.5, 0.5, -1.0, -1.5, -2.5), (-1.0, 1.5, 0.5, -1.0, -1.5, -1.5), (-1.0, 1.5, 0.5, -1.0, -1.5, -0.5), (-1.0, 1.5, 0.5, -1.0, -1.5, 0.5), (-1.0, 1.5, 0.5, -1.0, -1.5, 1.5), (-1.0, 1.5, 0.5, -1.0, -1.5, 2.5), (-1.0, 1.5, 0.5, -1.0, -0.5, -2.5), (-1.0, 1.5, 0.5, -1.0, -0.5, -1.5), (-1.0, 1.5, 0.5, -1.0, -0.5, -0.5), (-1.0, 1.5, 0.5, -1.0, -0.5, 0.5), (-1.0, 1.5, 0.5, -1.0, -0.5, 1.5), (-1.0, 1.5, 0.5, -1.0, -0.5, 2.5), (-1.0, 1.5, 0.5, -1.0, 0.5, -2.5), (-1.0, 1.5, 0.5, -1.0, 0.5, -1.5), (-1.0, 1.5, 0.5, -1.0, 0.5, -0.5), (-1.0, 1.5, 0.5, -1.0, 0.5, 0.5), (-1.0, 1.5, 0.5, -1.0, 0.5, 1.5), (-1.0, 1.5, 0.5, -1.0, 0.5, 2.5), (-1.0, 1.5, 0.5, -1.0, 1.5, -2.5), (-1.0, 1.5, 0.5, -1.0, 1.5, -1.5), (-1.0, 1.5, 0.5, -1.0, 1.5, -0.5), (-1.0, 1.5, 0.5, -1.0, 1.5, 0.5), (-1.0, 1.5, 0.5, -1.0, 1.5, 1.5), (-1.0, 1.5, 0.5, -1.0, 1.5, 2.5), (-1.0, 1.5, 0.5, 0.0, -1.5, -2.5), (-1.0, 1.5, 0.5, 0.0, -1.5, -1.5), (-1.0, 1.5, 0.5, 0.0, -1.5, -0.5), (-1.0, 1.5, 0.5, 0.0, -1.5, 0.5), (-1.0, 1.5, 0.5, 0.0, -1.5, 1.5), (-1.0, 1.5, 0.5, 0.0, -1.5, 2.5), (-1.0, 1.5, 0.5, 0.0, -0.5, -2.5), (-1.0, 1.5, 0.5, 0.0, -0.5, -1.5), (-1.0, 1.5, 0.5, 0.0, -0.5, -0.5), (-1.0, 1.5, 0.5, 0.0, -0.5, 0.5), (-1.0, 1.5, 0.5, 0.0, -0.5, 1.5), (-1.0, 1.5, 0.5, 0.0, -0.5, 2.5), (-1.0, 1.5, 0.5, 0.0, 0.5, -2.5), (-1.0, 1.5, 0.5, 0.0, 0.5, -1.5), (-1.0, 1.5, 0.5, 0.0, 0.5, -0.5), (-1.0, 1.5, 0.5, 0.0, 0.5, 0.5), (-1.0, 1.5, 0.5, 0.0, 0.5, 1.5), (-1.0, 1.5, 0.5, 0.0, 0.5, 2.5), (-1.0, 1.5, 0.5, 0.0, 1.5, -2.5), (-1.0, 1.5, 0.5, 0.0, 1.5, -1.5), (-1.0, 1.5, 0.5, 0.0, 1.5, -0.5), (-1.0, 1.5, 0.5, 0.0, 1.5, 0.5), (-1.0, 1.5, 0.5, 0.0, 1.5, 1.5), (-1.0, 1.5, 0.5, 0.0, 1.5, 2.5), (-1.0, 1.5, 0.5, 1.0, -1.5, -2.5), (-1.0, 1.5, 0.5, 1.0, -1.5, -1.5), (-1.0, 1.5, 0.5, 1.0, -1.5, -0.5), (-1.0, 1.5, 0.5, 1.0, -1.5, 0.5), (-1.0, 1.5, 0.5, 1.0, -1.5, 1.5), (-1.0, 1.5, 0.5, 1.0, -1.5, 2.5), (-1.0, 1.5, 0.5, 1.0, -0.5, -2.5), (-1.0, 1.5, 0.5, 1.0, -0.5, -1.5), (-1.0, 1.5, 0.5, 1.0, -0.5, -0.5), (-1.0, 1.5, 0.5, 1.0, -0.5, 0.5), (-1.0, 1.5, 0.5, 1.0, -0.5, 1.5), (-1.0, 1.5, 0.5, 1.0, -0.5, 2.5), (-1.0, 1.5, 0.5, 1.0, 0.5, -2.5), (-1.0, 1.5, 0.5, 1.0, 0.5, -1.5), (-1.0, 1.5, 0.5, 1.0, 0.5, -0.5), (-1.0, 1.5, 0.5, 1.0, 0.5, 0.5), (-1.0, 1.5, 0.5, 1.0, 0.5, 1.5), (-1.0, 1.5, 0.5, 1.0, 0.5, 2.5), (-1.0, 1.5, 0.5, 1.0, 1.5, -2.5), (-1.0, 1.5, 0.5, 1.0, 1.5, -1.5), (-1.0, 1.5, 0.5, 1.0, 1.5, -0.5), (-1.0, 1.5, 0.5, 1.0, 1.5, 0.5), (-1.0, 1.5, 0.5, 1.0, 1.5, 1.5), (-1.0, 1.5, 0.5, 1.0, 1.5, 2.5), (-1.0, 1.5, 1.5, -1.0, -1.5, -2.5), (-1.0, 1.5, 1.5, -1.0, -1.5, -1.5), (-1.0, 1.5, 1.5, -1.0, -1.5, -0.5), (-1.0, 1.5, 1.5, -1.0, -1.5, 0.5), (-1.0, 1.5, 1.5, -1.0, -1.5, 1.5), (-1.0, 1.5, 1.5, -1.0, -1.5, 2.5), (-1.0, 1.5, 1.5, -1.0, -0.5, -2.5), (-1.0, 1.5, 1.5, -1.0, -0.5, -1.5), (-1.0, 1.5, 1.5, -1.0, -0.5, -0.5), (-1.0, 1.5, 1.5, -1.0, -0.5, 0.5), (-1.0, 1.5, 1.5, -1.0, -0.5, 1.5), (-1.0, 1.5, 1.5, -1.0, -0.5, 2.5), (-1.0, 1.5, 1.5, -1.0, 0.5, -2.5), (-1.0, 1.5, 1.5, -1.0, 0.5, -1.5), (-1.0, 1.5, 1.5, -1.0, 0.5, -0.5), (-1.0, 1.5, 1.5, -1.0, 0.5, 0.5), (-1.0, 1.5, 1.5, -1.0, 0.5, 1.5), (-1.0, 1.5, 1.5, -1.0, 0.5, 2.5), (-1.0, 1.5, 1.5, -1.0, 1.5, -2.5), (-1.0, 1.5, 1.5, -1.0, 1.5, -1.5), (-1.0, 1.5, 1.5, -1.0, 1.5, -0.5), (-1.0, 1.5, 1.5, -1.0, 1.5, 0.5), (-1.0, 1.5, 1.5, -1.0, 1.5, 1.5), (-1.0, 1.5, 1.5, -1.0, 1.5, 2.5), (-1.0, 1.5, 1.5, 0.0, -1.5, -2.5), (-1.0, 1.5, 1.5, 0.0, -1.5, -1.5), (-1.0, 1.5, 1.5, 0.0, -1.5, -0.5), (-1.0, 1.5, 1.5, 0.0, -1.5, 0.5), (-1.0, 1.5, 1.5, 0.0, -1.5, 1.5), (-1.0, 1.5, 1.5, 0.0, -1.5, 2.5), (-1.0, 1.5, 1.5, 0.0, -0.5, -2.5), (-1.0, 1.5, 1.5, 0.0, -0.5, -1.5), (-1.0, 1.5, 1.5, 0.0, -0.5, -0.5), (-1.0, 1.5, 1.5, 0.0, -0.5, 0.5), (-1.0, 1.5, 1.5, 0.0, -0.5, 1.5), (-1.0, 1.5, 1.5, 0.0, -0.5, 2.5), (-1.0, 1.5, 1.5, 0.0, 0.5, -2.5), (-1.0, 1.5, 1.5, 0.0, 0.5, -1.5), (-1.0, 1.5, 1.5, 0.0, 0.5, -0.5), (-1.0, 1.5, 1.5, 0.0, 0.5, 0.5), (-1.0, 1.5, 1.5, 0.0, 0.5, 1.5), (-1.0, 1.5, 1.5, 0.0, 0.5, 2.5), (-1.0, 1.5, 1.5, 0.0, 1.5, -2.5), (-1.0, 1.5, 1.5, 0.0, 1.5, -1.5), (-1.0, 1.5, 1.5, 0.0, 1.5, -0.5), (-1.0, 1.5, 1.5, 0.0, 1.5, 0.5), (-1.0, 1.5, 1.5, 0.0, 1.5, 1.5), (-1.0, 1.5, 1.5, 0.0, 1.5, 2.5), (-1.0, 1.5, 1.5, 1.0, -1.5, -2.5), (-1.0, 1.5, 1.5, 1.0, -1.5, -1.5), (-1.0, 1.5, 1.5, 1.0, -1.5, -0.5), (-1.0, 1.5, 1.5, 1.0, -1.5, 0.5), (-1.0, 1.5, 1.5, 1.0, -1.5, 1.5), (-1.0, 1.5, 1.5, 1.0, -1.5, 2.5), (-1.0, 1.5, 1.5, 1.0, -0.5, -2.5), (-1.0, 1.5, 1.5, 1.0, -0.5, -1.5), (-1.0, 1.5, 1.5, 1.0, -0.5, -0.5), (-1.0, 1.5, 1.5, 1.0, -0.5, 0.5), (-1.0, 1.5, 1.5, 1.0, -0.5, 1.5), (-1.0, 1.5, 1.5, 1.0, -0.5, 2.5), (-1.0, 1.5, 1.5, 1.0, 0.5, -2.5), (-1.0, 1.5, 1.5, 1.0, 0.5, -1.5), (-1.0, 1.5, 1.5, 1.0, 0.5, -0.5), (-1.0, 1.5, 1.5, 1.0, 0.5, 0.5), (-1.0, 1.5, 1.5, 1.0, 0.5, 1.5), (-1.0, 1.5, 1.5, 1.0, 0.5, 2.5), (-1.0, 1.5, 1.5, 1.0, 1.5, -2.5), (-1.0, 1.5, 1.5, 1.0, 1.5, -1.5), (-1.0, 1.5, 1.5, 1.0, 1.5, -0.5), (-1.0, 1.5, 1.5, 1.0, 1.5, 0.5), (-1.0, 1.5, 1.5, 1.0, 1.5, 1.5), (-1.0, 1.5, 1.5, 1.0, 1.5, 2.5), (-1.0, 1.5, 2.5, -1.0, -1.5, -2.5), (-1.0, 1.5, 2.5, -1.0, -1.5, -1.5), (-1.0, 1.5, 2.5, -1.0, -1.5, -0.5), (-1.0, 1.5, 2.5, -1.0, -1.5, 0.5), (-1.0, 1.5, 2.5, -1.0, -1.5, 1.5), (-1.0, 1.5, 2.5, -1.0, -1.5, 2.5), (-1.0, 1.5, 2.5, -1.0, -0.5, -2.5), (-1.0, 1.5, 2.5, -1.0, -0.5, -1.5), (-1.0, 1.5, 2.5, -1.0, -0.5, -0.5), (-1.0, 1.5, 2.5, -1.0, -0.5, 0.5), (-1.0, 1.5, 2.5, -1.0, -0.5, 1.5), (-1.0, 1.5, 2.5, -1.0, -0.5, 2.5), (-1.0, 1.5, 2.5, -1.0, 0.5, -2.5), (-1.0, 1.5, 2.5, -1.0, 0.5, -1.5), (-1.0, 1.5, 2.5, -1.0, 0.5, -0.5), (-1.0, 1.5, 2.5, -1.0, 0.5, 0.5), (-1.0, 1.5, 2.5, -1.0, 0.5, 1.5), (-1.0, 1.5, 2.5, -1.0, 0.5, 2.5), (-1.0, 1.5, 2.5, -1.0, 1.5, -2.5), (-1.0, 1.5, 2.5, -1.0, 1.5, -1.5), (-1.0, 1.5, 2.5, -1.0, 1.5, -0.5), (-1.0, 1.5, 2.5, -1.0, 1.5, 0.5), (-1.0, 1.5, 2.5, -1.0, 1.5, 1.5), (-1.0, 1.5, 2.5, -1.0, 1.5, 2.5), (-1.0, 1.5, 2.5, 0.0, -1.5, -2.5), (-1.0, 1.5, 2.5, 0.0, -1.5, -1.5), (-1.0, 1.5, 2.5, 0.0, -1.5, -0.5), (-1.0, 1.5, 2.5, 0.0, -1.5, 0.5), (-1.0, 1.5, 2.5, 0.0, -1.5, 1.5), (-1.0, 1.5, 2.5, 0.0, -1.5, 2.5), (-1.0, 1.5, 2.5, 0.0, -0.5, -2.5), (-1.0, 1.5, 2.5, 0.0, -0.5, -1.5), (-1.0, 1.5, 2.5, 0.0, -0.5, -0.5), (-1.0, 1.5, 2.5, 0.0, -0.5, 0.5), (-1.0, 1.5, 2.5, 0.0, -0.5, 1.5), (-1.0, 1.5, 2.5, 0.0, -0.5, 2.5), (-1.0, 1.5, 2.5, 0.0, 0.5, -2.5), (-1.0, 1.5, 2.5, 0.0, 0.5, -1.5), (-1.0, 1.5, 2.5, 0.0, 0.5, -0.5), (-1.0, 1.5, 2.5, 0.0, 0.5, 0.5), (-1.0, 1.5, 2.5, 0.0, 0.5, 1.5), (-1.0, 1.5, 2.5, 0.0, 0.5, 2.5), (-1.0, 1.5, 2.5, 0.0, 1.5, -2.5), (-1.0, 1.5, 2.5, 0.0, 1.5, -1.5), (-1.0, 1.5, 2.5, 0.0, 1.5, -0.5), (-1.0, 1.5, 2.5, 0.0, 1.5, 0.5), (-1.0, 1.5, 2.5, 0.0, 1.5, 1.5), (-1.0, 1.5, 2.5, 0.0, 1.5, 2.5), (-1.0, 1.5, 2.5, 1.0, -1.5, -2.5), (-1.0, 1.5, 2.5, 1.0, -1.5, -1.5), (-1.0, 1.5, 2.5, 1.0, -1.5, -0.5), (-1.0, 1.5, 2.5, 1.0, -1.5, 0.5), (-1.0, 1.5, 2.5, 1.0, -1.5, 1.5), (-1.0, 1.5, 2.5, 1.0, -1.5, 2.5), (-1.0, 1.5, 2.5, 1.0, -0.5, -2.5), (-1.0, 1.5, 2.5, 1.0, -0.5, -1.5), (-1.0, 1.5, 2.5, 1.0, -0.5, -0.5), (-1.0, 1.5, 2.5, 1.0, -0.5, 0.5), (-1.0, 1.5, 2.5, 1.0, -0.5, 1.5), (-1.0, 1.5, 2.5, 1.0, -0.5, 2.5), (-1.0, 1.5, 2.5, 1.0, 0.5, -2.5), (-1.0, 1.5, 2.5, 1.0, 0.5, -1.5), (-1.0, 1.5, 2.5, 1.0, 0.5, -0.5), (-1.0, 1.5, 2.5, 1.0, 0.5, 0.5), (-1.0, 1.5, 2.5, 1.0, 0.5, 1.5), (-1.0, 1.5, 2.5, 1.0, 0.5, 2.5), (-1.0, 1.5, 2.5, 1.0, 1.5, -2.5), (-1.0, 1.5, 2.5, 1.0, 1.5, -1.5), (-1.0, 1.5, 2.5, 1.0, 1.5, -0.5), (-1.0, 1.5, 2.5, 1.0, 1.5, 0.5), (-1.0, 1.5, 2.5, 1.0, 1.5, 1.5), (-1.0, 1.5, 2.5, 1.0, 1.5, 2.5), (0.0, -1.5, -2.5, -1.0, -1.5, -2.5), (0.0, -1.5, -2.5, -1.0, -1.5, -1.5), (0.0, -1.5, -2.5, -1.0, -1.5, -0.5), (0.0, -1.5, -2.5, -1.0, -1.5, 0.5), (0.0, -1.5, -2.5, -1.0, -1.5, 1.5), (0.0, -1.5, -2.5, -1.0, -1.5, 2.5), (0.0, -1.5, -2.5, -1.0, -0.5, -2.5), (0.0, -1.5, -2.5, -1.0, -0.5, -1.5), (0.0, -1.5, -2.5, -1.0, -0.5, -0.5), (0.0, -1.5, -2.5, -1.0, -0.5, 0.5), (0.0, -1.5, -2.5, -1.0, -0.5, 1.5), (0.0, -1.5, -2.5, -1.0, -0.5, 2.5), (0.0, -1.5, -2.5, -1.0, 0.5, -2.5), (0.0, -1.5, -2.5, -1.0, 0.5, -1.5), (0.0, -1.5, -2.5, -1.0, 0.5, -0.5), (0.0, -1.5, -2.5, -1.0, 0.5, 0.5), (0.0, -1.5, -2.5, -1.0, 0.5, 1.5), (0.0, -1.5, -2.5, -1.0, 0.5, 2.5), (0.0, -1.5, -2.5, -1.0, 1.5, -2.5), (0.0, -1.5, -2.5, -1.0, 1.5, -1.5), (0.0, -1.5, -2.5, -1.0, 1.5, -0.5), (0.0, -1.5, -2.5, -1.0, 1.5, 0.5), (0.0, -1.5, -2.5, -1.0, 1.5, 1.5), (0.0, -1.5, -2.5, -1.0, 1.5, 2.5), (0.0, -1.5, -2.5, 0.0, -1.5, -2.5), (0.0, -1.5, -2.5, 0.0, -1.5, -1.5), (0.0, -1.5, -2.5, 0.0, -1.5, -0.5), (0.0, -1.5, -2.5, 0.0, -1.5, 0.5), (0.0, -1.5, -2.5, 0.0, -1.5, 1.5), (0.0, -1.5, -2.5, 0.0, -1.5, 2.5), (0.0, -1.5, -2.5, 0.0, -0.5, -2.5), (0.0, -1.5, -2.5, 0.0, -0.5, -1.5), (0.0, -1.5, -2.5, 0.0, -0.5, -0.5), (0.0, -1.5, -2.5, 0.0, -0.5, 0.5), (0.0, -1.5, -2.5, 0.0, -0.5, 1.5), (0.0, -1.5, -2.5, 0.0, -0.5, 2.5), (0.0, -1.5, -2.5, 0.0, 0.5, -2.5), (0.0, -1.5, -2.5, 0.0, 0.5, -1.5), (0.0, -1.5, -2.5, 0.0, 0.5, -0.5), (0.0, -1.5, -2.5, 0.0, 0.5, 0.5), (0.0, -1.5, -2.5, 0.0, 0.5, 1.5), (0.0, -1.5, -2.5, 0.0, 0.5, 2.5), (0.0, -1.5, -2.5, 0.0, 1.5, -2.5), (0.0, -1.5, -2.5, 0.0, 1.5, -1.5), (0.0, -1.5, -2.5, 0.0, 1.5, -0.5), (0.0, -1.5, -2.5, 0.0, 1.5, 0.5), (0.0, -1.5, -2.5, 0.0, 1.5, 1.5), (0.0, -1.5, -2.5, 0.0, 1.5, 2.5), (0.0, -1.5, -2.5, 1.0, -1.5, -2.5), (0.0, -1.5, -2.5, 1.0, -1.5, -1.5), (0.0, -1.5, -2.5, 1.0, -1.5, -0.5), (0.0, -1.5, -2.5, 1.0, -1.5, 0.5), (0.0, -1.5, -2.5, 1.0, -1.5, 1.5), (0.0, -1.5, -2.5, 1.0, -1.5, 2.5), (0.0, -1.5, -2.5, 1.0, -0.5, -2.5), (0.0, -1.5, -2.5, 1.0, -0.5, -1.5), (0.0, -1.5, -2.5, 1.0, -0.5, -0.5), (0.0, -1.5, -2.5, 1.0, -0.5, 0.5), (0.0, -1.5, -2.5, 1.0, -0.5, 1.5), (0.0, -1.5, -2.5, 1.0, -0.5, 2.5), (0.0, -1.5, -2.5, 1.0, 0.5, -2.5), (0.0, -1.5, -2.5, 1.0, 0.5, -1.5), (0.0, -1.5, -2.5, 1.0, 0.5, -0.5), (0.0, -1.5, -2.5, 1.0, 0.5, 0.5), (0.0, -1.5, -2.5, 1.0, 0.5, 1.5), (0.0, -1.5, -2.5, 1.0, 0.5, 2.5), (0.0, -1.5, -2.5, 1.0, 1.5, -2.5), (0.0, -1.5, -2.5, 1.0, 1.5, -1.5), (0.0, -1.5, -2.5, 1.0, 1.5, -0.5), (0.0, -1.5, -2.5, 1.0, 1.5, 0.5), (0.0, -1.5, -2.5, 1.0, 1.5, 1.5), (0.0, -1.5, -2.5, 1.0, 1.5, 2.5), (0.0, -1.5, -1.5, -1.0, -1.5, -2.5), (0.0, -1.5, -1.5, -1.0, -1.5, -1.5), (0.0, -1.5, -1.5, -1.0, -1.5, -0.5), (0.0, -1.5, -1.5, -1.0, -1.5, 0.5), (0.0, -1.5, -1.5, -1.0, -1.5, 1.5), (0.0, -1.5, -1.5, -1.0, -1.5, 2.5), (0.0, -1.5, -1.5, -1.0, -0.5, -2.5), (0.0, -1.5, -1.5, -1.0, -0.5, -1.5), (0.0, -1.5, -1.5, -1.0, -0.5, -0.5), (0.0, -1.5, -1.5, -1.0, -0.5, 0.5), (0.0, -1.5, -1.5, -1.0, -0.5, 1.5), (0.0, -1.5, -1.5, -1.0, -0.5, 2.5), (0.0, -1.5, -1.5, -1.0, 0.5, -2.5), (0.0, -1.5, -1.5, -1.0, 0.5, -1.5), (0.0, -1.5, -1.5, -1.0, 0.5, -0.5), (0.0, -1.5, -1.5, -1.0, 0.5, 0.5), (0.0, -1.5, -1.5, -1.0, 0.5, 1.5), (0.0, -1.5, -1.5, -1.0, 0.5, 2.5), (0.0, -1.5, -1.5, -1.0, 1.5, -2.5), (0.0, -1.5, -1.5, -1.0, 1.5, -1.5), (0.0, -1.5, -1.5, -1.0, 1.5, -0.5), (0.0, -1.5, -1.5, -1.0, 1.5, 0.5), (0.0, -1.5, -1.5, -1.0, 1.5, 1.5), (0.0, -1.5, -1.5, -1.0, 1.5, 2.5), (0.0, -1.5, -1.5, 0.0, -1.5, -2.5), (0.0, -1.5, -1.5, 0.0, -1.5, -1.5), (0.0, -1.5, -1.5, 0.0, -1.5, -0.5), (0.0, -1.5, -1.5, 0.0, -1.5, 0.5), (0.0, -1.5, -1.5, 0.0, -1.5, 1.5), (0.0, -1.5, -1.5, 0.0, -1.5, 2.5), (0.0, -1.5, -1.5, 0.0, -0.5, -2.5), (0.0, -1.5, -1.5, 0.0, -0.5, -1.5), (0.0, -1.5, -1.5, 0.0, -0.5, -0.5), (0.0, -1.5, -1.5, 0.0, -0.5, 0.5), (0.0, -1.5, -1.5, 0.0, -0.5, 1.5), (0.0, -1.5, -1.5, 0.0, -0.5, 2.5), (0.0, -1.5, -1.5, 0.0, 0.5, -2.5), (0.0, -1.5, -1.5, 0.0, 0.5, -1.5), (0.0, -1.5, -1.5, 0.0, 0.5, -0.5), (0.0, -1.5, -1.5, 0.0, 0.5, 0.5), (0.0, -1.5, -1.5, 0.0, 0.5, 1.5), (0.0, -1.5, -1.5, 0.0, 0.5, 2.5), (0.0, -1.5, -1.5, 0.0, 1.5, -2.5), (0.0, -1.5, -1.5, 0.0, 1.5, -1.5), (0.0, -1.5, -1.5, 0.0, 1.5, -0.5), (0.0, -1.5, -1.5, 0.0, 1.5, 0.5), (0.0, -1.5, -1.5, 0.0, 1.5, 1.5), (0.0, -1.5, -1.5, 0.0, 1.5, 2.5), (0.0, -1.5, -1.5, 1.0, -1.5, -2.5), (0.0, -1.5, -1.5, 1.0, -1.5, -1.5), (0.0, -1.5, -1.5, 1.0, -1.5, -0.5), (0.0, -1.5, -1.5, 1.0, -1.5, 0.5), (0.0, -1.5, -1.5, 1.0, -1.5, 1.5), (0.0, -1.5, -1.5, 1.0, -1.5, 2.5), (0.0, -1.5, -1.5, 1.0, -0.5, -2.5), (0.0, -1.5, -1.5, 1.0, -0.5, -1.5), (0.0, -1.5, -1.5, 1.0, -0.5, -0.5), (0.0, -1.5, -1.5, 1.0, -0.5, 0.5), (0.0, -1.5, -1.5, 1.0, -0.5, 1.5), (0.0, -1.5, -1.5, 1.0, -0.5, 2.5), (0.0, -1.5, -1.5, 1.0, 0.5, -2.5), (0.0, -1.5, -1.5, 1.0, 0.5, -1.5), (0.0, -1.5, -1.5, 1.0, 0.5, -0.5), (0.0, -1.5, -1.5, 1.0, 0.5, 0.5), (0.0, -1.5, -1.5, 1.0, 0.5, 1.5), (0.0, -1.5, -1.5, 1.0, 0.5, 2.5), (0.0, -1.5, -1.5, 1.0, 1.5, -2.5), (0.0, -1.5, -1.5, 1.0, 1.5, -1.5), (0.0, -1.5, -1.5, 1.0, 1.5, -0.5), (0.0, -1.5, -1.5, 1.0, 1.5, 0.5), (0.0, -1.5, -1.5, 1.0, 1.5, 1.5), (0.0, -1.5, -1.5, 1.0, 1.5, 2.5), (0.0, -1.5, -0.5, -1.0, -1.5, -2.5), (0.0, -1.5, -0.5, -1.0, -1.5, -1.5), (0.0, -1.5, -0.5, -1.0, -1.5, -0.5), (0.0, -1.5, -0.5, -1.0, -1.5, 0.5), (0.0, -1.5, -0.5, -1.0, -1.5, 1.5), (0.0, -1.5, -0.5, -1.0, -1.5, 2.5), (0.0, -1.5, -0.5, -1.0, -0.5, -2.5), (0.0, -1.5, -0.5, -1.0, -0.5, -1.5), (0.0, -1.5, -0.5, -1.0, -0.5, -0.5), (0.0, -1.5, -0.5, -1.0, -0.5, 0.5), (0.0, -1.5, -0.5, -1.0, -0.5, 1.5), (0.0, -1.5, -0.5, -1.0, -0.5, 2.5), (0.0, -1.5, -0.5, -1.0, 0.5, -2.5), (0.0, -1.5, -0.5, -1.0, 0.5, -1.5), (0.0, -1.5, -0.5, -1.0, 0.5, -0.5), (0.0, -1.5, -0.5, -1.0, 0.5, 0.5), (0.0, -1.5, -0.5, -1.0, 0.5, 1.5), (0.0, -1.5, -0.5, -1.0, 0.5, 2.5), (0.0, -1.5, -0.5, -1.0, 1.5, -2.5), (0.0, -1.5, -0.5, -1.0, 1.5, -1.5), (0.0, -1.5, -0.5, -1.0, 1.5, -0.5), (0.0, -1.5, -0.5, -1.0, 1.5, 0.5), (0.0, -1.5, -0.5, -1.0, 1.5, 1.5), (0.0, -1.5, -0.5, -1.0, 1.5, 2.5), (0.0, -1.5, -0.5, 0.0, -1.5, -2.5), (0.0, -1.5, -0.5, 0.0, -1.5, -1.5), (0.0, -1.5, -0.5, 0.0, -1.5, -0.5), (0.0, -1.5, -0.5, 0.0, -1.5, 0.5), (0.0, -1.5, -0.5, 0.0, -1.5, 1.5), (0.0, -1.5, -0.5, 0.0, -1.5, 2.5), (0.0, -1.5, -0.5, 0.0, -0.5, -2.5), (0.0, -1.5, -0.5, 0.0, -0.5, -1.5), (0.0, -1.5, -0.5, 0.0, -0.5, -0.5), (0.0, -1.5, -0.5, 0.0, -0.5, 0.5), (0.0, -1.5, -0.5, 0.0, -0.5, 1.5), (0.0, -1.5, -0.5, 0.0, -0.5, 2.5), (0.0, -1.5, -0.5, 0.0, 0.5, -2.5), (0.0, -1.5, -0.5, 0.0, 0.5, -1.5), (0.0, -1.5, -0.5, 0.0, 0.5, -0.5), (0.0, -1.5, -0.5, 0.0, 0.5, 0.5), (0.0, -1.5, -0.5, 0.0, 0.5, 1.5), (0.0, -1.5, -0.5, 0.0, 0.5, 2.5), (0.0, -1.5, -0.5, 0.0, 1.5, -2.5), (0.0, -1.5, -0.5, 0.0, 1.5, -1.5), (0.0, -1.5, -0.5, 0.0, 1.5, -0.5), (0.0, -1.5, -0.5, 0.0, 1.5, 0.5), (0.0, -1.5, -0.5, 0.0, 1.5, 1.5), (0.0, -1.5, -0.5, 0.0, 1.5, 2.5), (0.0, -1.5, -0.5, 1.0, -1.5, -2.5), (0.0, -1.5, -0.5, 1.0, -1.5, -1.5), (0.0, -1.5, -0.5, 1.0, -1.5, -0.5), (0.0, -1.5, -0.5, 1.0, -1.5, 0.5), (0.0, -1.5, -0.5, 1.0, -1.5, 1.5), (0.0, -1.5, -0.5, 1.0, -1.5, 2.5), (0.0, -1.5, -0.5, 1.0, -0.5, -2.5), (0.0, -1.5, -0.5, 1.0, -0.5, -1.5), (0.0, -1.5, -0.5, 1.0, -0.5, -0.5), (0.0, -1.5, -0.5, 1.0, -0.5, 0.5), (0.0, -1.5, -0.5, 1.0, -0.5, 1.5), (0.0, -1.5, -0.5, 1.0, -0.5, 2.5), (0.0, -1.5, -0.5, 1.0, 0.5, -2.5), (0.0, -1.5, -0.5, 1.0, 0.5, -1.5), (0.0, -1.5, -0.5, 1.0, 0.5, -0.5), (0.0, -1.5, -0.5, 1.0, 0.5, 0.5), (0.0, -1.5, -0.5, 1.0, 0.5, 1.5), (0.0, -1.5, -0.5, 1.0, 0.5, 2.5), (0.0, -1.5, -0.5, 1.0, 1.5, -2.5), (0.0, -1.5, -0.5, 1.0, 1.5, -1.5), (0.0, -1.5, -0.5, 1.0, 1.5, -0.5), (0.0, -1.5, -0.5, 1.0, 1.5, 0.5), (0.0, -1.5, -0.5, 1.0, 1.5, 1.5), (0.0, -1.5, -0.5, 1.0, 1.5, 2.5), (0.0, -1.5, 0.5, -1.0, -1.5, -2.5), (0.0, -1.5, 0.5, -1.0, -1.5, -1.5), (0.0, -1.5, 0.5, -1.0, -1.5, -0.5), (0.0, -1.5, 0.5, -1.0, -1.5, 0.5), (0.0, -1.5, 0.5, -1.0, -1.5, 1.5), (0.0, -1.5, 0.5, -1.0, -1.5, 2.5), (0.0, -1.5, 0.5, -1.0, -0.5, -2.5), (0.0, -1.5, 0.5, -1.0, -0.5, -1.5), (0.0, -1.5, 0.5, -1.0, -0.5, -0.5), (0.0, -1.5, 0.5, -1.0, -0.5, 0.5), (0.0, -1.5, 0.5, -1.0, -0.5, 1.5), (0.0, -1.5, 0.5, -1.0, -0.5, 2.5), (0.0, -1.5, 0.5, -1.0, 0.5, -2.5), (0.0, -1.5, 0.5, -1.0, 0.5, -1.5), (0.0, -1.5, 0.5, -1.0, 0.5, -0.5), (0.0, -1.5, 0.5, -1.0, 0.5, 0.5), (0.0, -1.5, 0.5, -1.0, 0.5, 1.5), (0.0, -1.5, 0.5, -1.0, 0.5, 2.5), (0.0, -1.5, 0.5, -1.0, 1.5, -2.5), (0.0, -1.5, 0.5, -1.0, 1.5, -1.5), (0.0, -1.5, 0.5, -1.0, 1.5, -0.5), (0.0, -1.5, 0.5, -1.0, 1.5, 0.5), (0.0, -1.5, 0.5, -1.0, 1.5, 1.5), (0.0, -1.5, 0.5, -1.0, 1.5, 2.5), (0.0, -1.5, 0.5, 0.0, -1.5, -2.5), (0.0, -1.5, 0.5, 0.0, -1.5, -1.5), (0.0, -1.5, 0.5, 0.0, -1.5, -0.5), (0.0, -1.5, 0.5, 0.0, -1.5, 0.5), (0.0, -1.5, 0.5, 0.0, -1.5, 1.5), (0.0, -1.5, 0.5, 0.0, -1.5, 2.5), (0.0, -1.5, 0.5, 0.0, -0.5, -2.5), (0.0, -1.5, 0.5, 0.0, -0.5, -1.5), (0.0, -1.5, 0.5, 0.0, -0.5, -0.5), (0.0, -1.5, 0.5, 0.0, -0.5, 0.5), (0.0, -1.5, 0.5, 0.0, -0.5, 1.5), (0.0, -1.5, 0.5, 0.0, -0.5, 2.5), (0.0, -1.5, 0.5, 0.0, 0.5, -2.5), (0.0, -1.5, 0.5, 0.0, 0.5, -1.5), (0.0, -1.5, 0.5, 0.0, 0.5, -0.5), (0.0, -1.5, 0.5, 0.0, 0.5, 0.5), (0.0, -1.5, 0.5, 0.0, 0.5, 1.5), (0.0, -1.5, 0.5, 0.0, 0.5, 2.5), (0.0, -1.5, 0.5, 0.0, 1.5, -2.5), (0.0, -1.5, 0.5, 0.0, 1.5, -1.5), (0.0, -1.5, 0.5, 0.0, 1.5, -0.5), (0.0, -1.5, 0.5, 0.0, 1.5, 0.5), (0.0, -1.5, 0.5, 0.0, 1.5, 1.5), (0.0, -1.5, 0.5, 0.0, 1.5, 2.5), (0.0, -1.5, 0.5, 1.0, -1.5, -2.5), (0.0, -1.5, 0.5, 1.0, -1.5, -1.5), (0.0, -1.5, 0.5, 1.0, -1.5, -0.5), (0.0, -1.5, 0.5, 1.0, -1.5, 0.5), (0.0, -1.5, 0.5, 1.0, -1.5, 1.5), (0.0, -1.5, 0.5, 1.0, -1.5, 2.5), (0.0, -1.5, 0.5, 1.0, -0.5, -2.5), (0.0, -1.5, 0.5, 1.0, -0.5, -1.5), (0.0, -1.5, 0.5, 1.0, -0.5, -0.5), (0.0, -1.5, 0.5, 1.0, -0.5, 0.5), (0.0, -1.5, 0.5, 1.0, -0.5, 1.5), (0.0, -1.5, 0.5, 1.0, -0.5, 2.5), (0.0, -1.5, 0.5, 1.0, 0.5, -2.5), (0.0, -1.5, 0.5, 1.0, 0.5, -1.5), (0.0, -1.5, 0.5, 1.0, 0.5, -0.5), (0.0, -1.5, 0.5, 1.0, 0.5, 0.5), (0.0, -1.5, 0.5, 1.0, 0.5, 1.5), (0.0, -1.5, 0.5, 1.0, 0.5, 2.5), (0.0, -1.5, 0.5, 1.0, 1.5, -2.5), (0.0, -1.5, 0.5, 1.0, 1.5, -1.5), (0.0, -1.5, 0.5, 1.0, 1.5, -0.5), (0.0, -1.5, 0.5, 1.0, 1.5, 0.5), (0.0, -1.5, 0.5, 1.0, 1.5, 1.5), (0.0, -1.5, 0.5, 1.0, 1.5, 2.5), (0.0, -1.5, 1.5, -1.0, -1.5, -2.5), (0.0, -1.5, 1.5, -1.0, -1.5, -1.5), (0.0, -1.5, 1.5, -1.0, -1.5, -0.5), (0.0, -1.5, 1.5, -1.0, -1.5, 0.5), (0.0, -1.5, 1.5, -1.0, -1.5, 1.5), (0.0, -1.5, 1.5, -1.0, -1.5, 2.5), (0.0, -1.5, 1.5, -1.0, -0.5, -2.5), (0.0, -1.5, 1.5, -1.0, -0.5, -1.5), (0.0, -1.5, 1.5, -1.0, -0.5, -0.5), (0.0, -1.5, 1.5, -1.0, -0.5, 0.5), (0.0, -1.5, 1.5, -1.0, -0.5, 1.5), (0.0, -1.5, 1.5, -1.0, -0.5, 2.5), (0.0, -1.5, 1.5, -1.0, 0.5, -2.5), (0.0, -1.5, 1.5, -1.0, 0.5, -1.5), (0.0, -1.5, 1.5, -1.0, 0.5, -0.5), (0.0, -1.5, 1.5, -1.0, 0.5, 0.5), (0.0, -1.5, 1.5, -1.0, 0.5, 1.5), (0.0, -1.5, 1.5, -1.0, 0.5, 2.5), (0.0, -1.5, 1.5, -1.0, 1.5, -2.5), (0.0, -1.5, 1.5, -1.0, 1.5, -1.5), (0.0, -1.5, 1.5, -1.0, 1.5, -0.5), (0.0, -1.5, 1.5, -1.0, 1.5, 0.5), (0.0, -1.5, 1.5, -1.0, 1.5, 1.5), (0.0, -1.5, 1.5, -1.0, 1.5, 2.5), (0.0, -1.5, 1.5, 0.0, -1.5, -2.5), (0.0, -1.5, 1.5, 0.0, -1.5, -1.5), (0.0, -1.5, 1.5, 0.0, -1.5, -0.5), (0.0, -1.5, 1.5, 0.0, -1.5, 0.5), (0.0, -1.5, 1.5, 0.0, -1.5, 1.5), (0.0, -1.5, 1.5, 0.0, -1.5, 2.5), (0.0, -1.5, 1.5, 0.0, -0.5, -2.5), (0.0, -1.5, 1.5, 0.0, -0.5, -1.5), (0.0, -1.5, 1.5, 0.0, -0.5, -0.5), (0.0, -1.5, 1.5, 0.0, -0.5, 0.5), (0.0, -1.5, 1.5, 0.0, -0.5, 1.5), (0.0, -1.5, 1.5, 0.0, -0.5, 2.5), (0.0, -1.5, 1.5, 0.0, 0.5, -2.5), (0.0, -1.5, 1.5, 0.0, 0.5, -1.5), (0.0, -1.5, 1.5, 0.0, 0.5, -0.5), (0.0, -1.5, 1.5, 0.0, 0.5, 0.5), (0.0, -1.5, 1.5, 0.0, 0.5, 1.5), (0.0, -1.5, 1.5, 0.0, 0.5, 2.5), (0.0, -1.5, 1.5, 0.0, 1.5, -2.5), (0.0, -1.5, 1.5, 0.0, 1.5, -1.5), (0.0, -1.5, 1.5, 0.0, 1.5, -0.5), (0.0, -1.5, 1.5, 0.0, 1.5, 0.5), (0.0, -1.5, 1.5, 0.0, 1.5, 1.5), (0.0, -1.5, 1.5, 0.0, 1.5, 2.5), (0.0, -1.5, 1.5, 1.0, -1.5, -2.5), (0.0, -1.5, 1.5, 1.0, -1.5, -1.5), (0.0, -1.5, 1.5, 1.0, -1.5, -0.5), (0.0, -1.5, 1.5, 1.0, -1.5, 0.5), (0.0, -1.5, 1.5, 1.0, -1.5, 1.5), (0.0, -1.5, 1.5, 1.0, -1.5, 2.5), (0.0, -1.5, 1.5, 1.0, -0.5, -2.5), (0.0, -1.5, 1.5, 1.0, -0.5, -1.5), (0.0, -1.5, 1.5, 1.0, -0.5, -0.5), (0.0, -1.5, 1.5, 1.0, -0.5, 0.5), (0.0, -1.5, 1.5, 1.0, -0.5, 1.5), (0.0, -1.5, 1.5, 1.0, -0.5, 2.5), (0.0, -1.5, 1.5, 1.0, 0.5, -2.5), (0.0, -1.5, 1.5, 1.0, 0.5, -1.5), (0.0, -1.5, 1.5, 1.0, 0.5, -0.5), (0.0, -1.5, 1.5, 1.0, 0.5, 0.5), (0.0, -1.5, 1.5, 1.0, 0.5, 1.5), (0.0, -1.5, 1.5, 1.0, 0.5, 2.5), (0.0, -1.5, 1.5, 1.0, 1.5, -2.5), (0.0, -1.5, 1.5, 1.0, 1.5, -1.5), (0.0, -1.5, 1.5, 1.0, 1.5, -0.5), (0.0, -1.5, 1.5, 1.0, 1.5, 0.5), (0.0, -1.5, 1.5, 1.0, 1.5, 1.5), (0.0, -1.5, 1.5, 1.0, 1.5, 2.5), (0.0, -1.5, 2.5, -1.0, -1.5, -2.5), (0.0, -1.5, 2.5, -1.0, -1.5, -1.5), (0.0, -1.5, 2.5, -1.0, -1.5, -0.5), (0.0, -1.5, 2.5, -1.0, -1.5, 0.5), (0.0, -1.5, 2.5, -1.0, -1.5, 1.5), (0.0, -1.5, 2.5, -1.0, -1.5, 2.5), (0.0, -1.5, 2.5, -1.0, -0.5, -2.5), (0.0, -1.5, 2.5, -1.0, -0.5, -1.5), (0.0, -1.5, 2.5, -1.0, -0.5, -0.5), (0.0, -1.5, 2.5, -1.0, -0.5, 0.5), (0.0, -1.5, 2.5, -1.0, -0.5, 1.5), (0.0, -1.5, 2.5, -1.0, -0.5, 2.5), (0.0, -1.5, 2.5, -1.0, 0.5, -2.5), (0.0, -1.5, 2.5, -1.0, 0.5, -1.5), (0.0, -1.5, 2.5, -1.0, 0.5, -0.5), (0.0, -1.5, 2.5, -1.0, 0.5, 0.5), (0.0, -1.5, 2.5, -1.0, 0.5, 1.5), (0.0, -1.5, 2.5, -1.0, 0.5, 2.5), (0.0, -1.5, 2.5, -1.0, 1.5, -2.5), (0.0, -1.5, 2.5, -1.0, 1.5, -1.5), (0.0, -1.5, 2.5, -1.0, 1.5, -0.5), (0.0, -1.5, 2.5, -1.0, 1.5, 0.5), (0.0, -1.5, 2.5, -1.0, 1.5, 1.5), (0.0, -1.5, 2.5, -1.0, 1.5, 2.5), (0.0, -1.5, 2.5, 0.0, -1.5, -2.5), (0.0, -1.5, 2.5, 0.0, -1.5, -1.5), (0.0, -1.5, 2.5, 0.0, -1.5, -0.5), (0.0, -1.5, 2.5, 0.0, -1.5, 0.5), (0.0, -1.5, 2.5, 0.0, -1.5, 1.5), (0.0, -1.5, 2.5, 0.0, -1.5, 2.5), (0.0, -1.5, 2.5, 0.0, -0.5, -2.5), (0.0, -1.5, 2.5, 0.0, -0.5, -1.5), (0.0, -1.5, 2.5, 0.0, -0.5, -0.5), (0.0, -1.5, 2.5, 0.0, -0.5, 0.5), (0.0, -1.5, 2.5, 0.0, -0.5, 1.5), (0.0, -1.5, 2.5, 0.0, -0.5, 2.5), (0.0, -1.5, 2.5, 0.0, 0.5, -2.5), (0.0, -1.5, 2.5, 0.0, 0.5, -1.5), (0.0, -1.5, 2.5, 0.0, 0.5, -0.5), (0.0, -1.5, 2.5, 0.0, 0.5, 0.5), (0.0, -1.5, 2.5, 0.0, 0.5, 1.5), (0.0, -1.5, 2.5, 0.0, 0.5, 2.5), (0.0, -1.5, 2.5, 0.0, 1.5, -2.5), (0.0, -1.5, 2.5, 0.0, 1.5, -1.5), (0.0, -1.5, 2.5, 0.0, 1.5, -0.5), (0.0, -1.5, 2.5, 0.0, 1.5, 0.5), (0.0, -1.5, 2.5, 0.0, 1.5, 1.5), (0.0, -1.5, 2.5, 0.0, 1.5, 2.5), (0.0, -1.5, 2.5, 1.0, -1.5, -2.5), (0.0, -1.5, 2.5, 1.0, -1.5, -1.5), (0.0, -1.5, 2.5, 1.0, -1.5, -0.5), (0.0, -1.5, 2.5, 1.0, -1.5, 0.5), (0.0, -1.5, 2.5, 1.0, -1.5, 1.5), (0.0, -1.5, 2.5, 1.0, -1.5, 2.5), (0.0, -1.5, 2.5, 1.0, -0.5, -2.5), (0.0, -1.5, 2.5, 1.0, -0.5, -1.5), (0.0, -1.5, 2.5, 1.0, -0.5, -0.5), (0.0, -1.5, 2.5, 1.0, -0.5, 0.5), (0.0, -1.5, 2.5, 1.0, -0.5, 1.5), (0.0, -1.5, 2.5, 1.0, -0.5, 2.5), (0.0, -1.5, 2.5, 1.0, 0.5, -2.5), (0.0, -1.5, 2.5, 1.0, 0.5, -1.5), (0.0, -1.5, 2.5, 1.0, 0.5, -0.5), (0.0, -1.5, 2.5, 1.0, 0.5, 0.5), (0.0, -1.5, 2.5, 1.0, 0.5, 1.5), (0.0, -1.5, 2.5, 1.0, 0.5, 2.5), (0.0, -1.5, 2.5, 1.0, 1.5, -2.5), (0.0, -1.5, 2.5, 1.0, 1.5, -1.5), (0.0, -1.5, 2.5, 1.0, 1.5, -0.5), (0.0, -1.5, 2.5, 1.0, 1.5, 0.5), (0.0, -1.5, 2.5, 1.0, 1.5, 1.5), (0.0, -1.5, 2.5, 1.0, 1.5, 2.5), (0.0, -0.5, -2.5, -1.0, -1.5, -2.5), (0.0, -0.5, -2.5, -1.0, -1.5, -1.5), (0.0, -0.5, -2.5, -1.0, -1.5, -0.5), (0.0, -0.5, -2.5, -1.0, -1.5, 0.5), (0.0, -0.5, -2.5, -1.0, -1.5, 1.5), (0.0, -0.5, -2.5, -1.0, -1.5, 2.5), (0.0, -0.5, -2.5, -1.0, -0.5, -2.5), (0.0, -0.5, -2.5, -1.0, -0.5, -1.5), (0.0, -0.5, -2.5, -1.0, -0.5, -0.5), (0.0, -0.5, -2.5, -1.0, -0.5, 0.5), (0.0, -0.5, -2.5, -1.0, -0.5, 1.5), (0.0, -0.5, -2.5, -1.0, -0.5, 2.5), (0.0, -0.5, -2.5, -1.0, 0.5, -2.5), (0.0, -0.5, -2.5, -1.0, 0.5, -1.5), (0.0, -0.5, -2.5, -1.0, 0.5, -0.5), (0.0, -0.5, -2.5, -1.0, 0.5, 0.5), (0.0, -0.5, -2.5, -1.0, 0.5, 1.5), (0.0, -0.5, -2.5, -1.0, 0.5, 2.5), (0.0, -0.5, -2.5, -1.0, 1.5, -2.5), (0.0, -0.5, -2.5, -1.0, 1.5, -1.5), (0.0, -0.5, -2.5, -1.0, 1.5, -0.5), (0.0, -0.5, -2.5, -1.0, 1.5, 0.5), (0.0, -0.5, -2.5, -1.0, 1.5, 1.5), (0.0, -0.5, -2.5, -1.0, 1.5, 2.5), (0.0, -0.5, -2.5, 0.0, -1.5, -2.5), (0.0, -0.5, -2.5, 0.0, -1.5, -1.5), (0.0, -0.5, -2.5, 0.0, -1.5, -0.5), (0.0, -0.5, -2.5, 0.0, -1.5, 0.5), (0.0, -0.5, -2.5, 0.0, -1.5, 1.5), (0.0, -0.5, -2.5, 0.0, -1.5, 2.5), (0.0, -0.5, -2.5, 0.0, -0.5, -2.5), (0.0, -0.5, -2.5, 0.0, -0.5, -1.5), (0.0, -0.5, -2.5, 0.0, -0.5, -0.5), (0.0, -0.5, -2.5, 0.0, -0.5, 0.5), (0.0, -0.5, -2.5, 0.0, -0.5, 1.5), (0.0, -0.5, -2.5, 0.0, -0.5, 2.5), (0.0, -0.5, -2.5, 0.0, 0.5, -2.5), (0.0, -0.5, -2.5, 0.0, 0.5, -1.5), (0.0, -0.5, -2.5, 0.0, 0.5, -0.5), (0.0, -0.5, -2.5, 0.0, 0.5, 0.5), (0.0, -0.5, -2.5, 0.0, 0.5, 1.5), (0.0, -0.5, -2.5, 0.0, 0.5, 2.5), (0.0, -0.5, -2.5, 0.0, 1.5, -2.5), (0.0, -0.5, -2.5, 0.0, 1.5, -1.5), (0.0, -0.5, -2.5, 0.0, 1.5, -0.5), (0.0, -0.5, -2.5, 0.0, 1.5, 0.5), (0.0, -0.5, -2.5, 0.0, 1.5, 1.5), (0.0, -0.5, -2.5, 0.0, 1.5, 2.5), (0.0, -0.5, -2.5, 1.0, -1.5, -2.5), (0.0, -0.5, -2.5, 1.0, -1.5, -1.5), (0.0, -0.5, -2.5, 1.0, -1.5, -0.5), (0.0, -0.5, -2.5, 1.0, -1.5, 0.5), (0.0, -0.5, -2.5, 1.0, -1.5, 1.5), (0.0, -0.5, -2.5, 1.0, -1.5, 2.5), (0.0, -0.5, -2.5, 1.0, -0.5, -2.5), (0.0, -0.5, -2.5, 1.0, -0.5, -1.5), (0.0, -0.5, -2.5, 1.0, -0.5, -0.5), (0.0, -0.5, -2.5, 1.0, -0.5, 0.5), (0.0, -0.5, -2.5, 1.0, -0.5, 1.5), (0.0, -0.5, -2.5, 1.0, -0.5, 2.5), (0.0, -0.5, -2.5, 1.0, 0.5, -2.5), (0.0, -0.5, -2.5, 1.0, 0.5, -1.5), (0.0, -0.5, -2.5, 1.0, 0.5, -0.5), (0.0, -0.5, -2.5, 1.0, 0.5, 0.5), (0.0, -0.5, -2.5, 1.0, 0.5, 1.5), (0.0, -0.5, -2.5, 1.0, 0.5, 2.5), (0.0, -0.5, -2.5, 1.0, 1.5, -2.5), (0.0, -0.5, -2.5, 1.0, 1.5, -1.5), (0.0, -0.5, -2.5, 1.0, 1.5, -0.5), (0.0, -0.5, -2.5, 1.0, 1.5, 0.5), (0.0, -0.5, -2.5, 1.0, 1.5, 1.5), (0.0, -0.5, -2.5, 1.0, 1.5, 2.5), (0.0, -0.5, -1.5, -1.0, -1.5, -2.5), (0.0, -0.5, -1.5, -1.0, -1.5, -1.5), (0.0, -0.5, -1.5, -1.0, -1.5, -0.5), (0.0, -0.5, -1.5, -1.0, -1.5, 0.5), (0.0, -0.5, -1.5, -1.0, -1.5, 1.5), (0.0, -0.5, -1.5, -1.0, -1.5, 2.5), (0.0, -0.5, -1.5, -1.0, -0.5, -2.5), (0.0, -0.5, -1.5, -1.0, -0.5, -1.5), (0.0, -0.5, -1.5, -1.0, -0.5, -0.5), (0.0, -0.5, -1.5, -1.0, -0.5, 0.5), (0.0, -0.5, -1.5, -1.0, -0.5, 1.5), (0.0, -0.5, -1.5, -1.0, -0.5, 2.5), (0.0, -0.5, -1.5, -1.0, 0.5, -2.5), (0.0, -0.5, -1.5, -1.0, 0.5, -1.5), (0.0, -0.5, -1.5, -1.0, 0.5, -0.5), (0.0, -0.5, -1.5, -1.0, 0.5, 0.5), (0.0, -0.5, -1.5, -1.0, 0.5, 1.5), (0.0, -0.5, -1.5, -1.0, 0.5, 2.5), (0.0, -0.5, -1.5, -1.0, 1.5, -2.5), (0.0, -0.5, -1.5, -1.0, 1.5, -1.5), (0.0, -0.5, -1.5, -1.0, 1.5, -0.5), (0.0, -0.5, -1.5, -1.0, 1.5, 0.5), (0.0, -0.5, -1.5, -1.0, 1.5, 1.5), (0.0, -0.5, -1.5, -1.0, 1.5, 2.5), (0.0, -0.5, -1.5, 0.0, -1.5, -2.5), (0.0, -0.5, -1.5, 0.0, -1.5, -1.5), (0.0, -0.5, -1.5, 0.0, -1.5, -0.5), (0.0, -0.5, -1.5, 0.0, -1.5, 0.5), (0.0, -0.5, -1.5, 0.0, -1.5, 1.5), (0.0, -0.5, -1.5, 0.0, -1.5, 2.5), (0.0, -0.5, -1.5, 0.0, -0.5, -2.5), (0.0, -0.5, -1.5, 0.0, -0.5, -1.5), (0.0, -0.5, -1.5, 0.0, -0.5, -0.5), (0.0, -0.5, -1.5, 0.0, -0.5, 0.5), (0.0, -0.5, -1.5, 0.0, -0.5, 1.5), (0.0, -0.5, -1.5, 0.0, -0.5, 2.5), (0.0, -0.5, -1.5, 0.0, 0.5, -2.5), (0.0, -0.5, -1.5, 0.0, 0.5, -1.5), (0.0, -0.5, -1.5, 0.0, 0.5, -0.5), (0.0, -0.5, -1.5, 0.0, 0.5, 0.5), (0.0, -0.5, -1.5, 0.0, 0.5, 1.5), (0.0, -0.5, -1.5, 0.0, 0.5, 2.5), (0.0, -0.5, -1.5, 0.0, 1.5, -2.5), (0.0, -0.5, -1.5, 0.0, 1.5, -1.5), (0.0, -0.5, -1.5, 0.0, 1.5, -0.5), (0.0, -0.5, -1.5, 0.0, 1.5, 0.5), (0.0, -0.5, -1.5, 0.0, 1.5, 1.5), (0.0, -0.5, -1.5, 0.0, 1.5, 2.5), (0.0, -0.5, -1.5, 1.0, -1.5, -2.5), (0.0, -0.5, -1.5, 1.0, -1.5, -1.5), (0.0, -0.5, -1.5, 1.0, -1.5, -0.5), (0.0, -0.5, -1.5, 1.0, -1.5, 0.5), (0.0, -0.5, -1.5, 1.0, -1.5, 1.5), (0.0, -0.5, -1.5, 1.0, -1.5, 2.5), (0.0, -0.5, -1.5, 1.0, -0.5, -2.5), (0.0, -0.5, -1.5, 1.0, -0.5, -1.5), (0.0, -0.5, -1.5, 1.0, -0.5, -0.5), (0.0, -0.5, -1.5, 1.0, -0.5, 0.5), (0.0, -0.5, -1.5, 1.0, -0.5, 1.5), (0.0, -0.5, -1.5, 1.0, -0.5, 2.5), (0.0, -0.5, -1.5, 1.0, 0.5, -2.5), (0.0, -0.5, -1.5, 1.0, 0.5, -1.5), (0.0, -0.5, -1.5, 1.0, 0.5, -0.5), (0.0, -0.5, -1.5, 1.0, 0.5, 0.5), (0.0, -0.5, -1.5, 1.0, 0.5, 1.5), (0.0, -0.5, -1.5, 1.0, 0.5, 2.5), (0.0, -0.5, -1.5, 1.0, 1.5, -2.5), (0.0, -0.5, -1.5, 1.0, 1.5, -1.5), (0.0, -0.5, -1.5, 1.0, 1.5, -0.5), (0.0, -0.5, -1.5, 1.0, 1.5, 0.5), (0.0, -0.5, -1.5, 1.0, 1.5, 1.5), (0.0, -0.5, -1.5, 1.0, 1.5, 2.5), (0.0, -0.5, -0.5, -1.0, -1.5, -2.5), (0.0, -0.5, -0.5, -1.0, -1.5, -1.5), (0.0, -0.5, -0.5, -1.0, -1.5, -0.5), (0.0, -0.5, -0.5, -1.0, -1.5, 0.5), (0.0, -0.5, -0.5, -1.0, -1.5, 1.5), (0.0, -0.5, -0.5, -1.0, -1.5, 2.5), (0.0, -0.5, -0.5, -1.0, -0.5, -2.5), (0.0, -0.5, -0.5, -1.0, -0.5, -1.5), (0.0, -0.5, -0.5, -1.0, -0.5, -0.5), (0.0, -0.5, -0.5, -1.0, -0.5, 0.5), (0.0, -0.5, -0.5, -1.0, -0.5, 1.5), (0.0, -0.5, -0.5, -1.0, -0.5, 2.5), (0.0, -0.5, -0.5, -1.0, 0.5, -2.5), (0.0, -0.5, -0.5, -1.0, 0.5, -1.5), (0.0, -0.5, -0.5, -1.0, 0.5, -0.5), (0.0, -0.5, -0.5, -1.0, 0.5, 0.5), (0.0, -0.5, -0.5, -1.0, 0.5, 1.5), (0.0, -0.5, -0.5, -1.0, 0.5, 2.5), (0.0, -0.5, -0.5, -1.0, 1.5, -2.5), (0.0, -0.5, -0.5, -1.0, 1.5, -1.5), (0.0, -0.5, -0.5, -1.0, 1.5, -0.5), (0.0, -0.5, -0.5, -1.0, 1.5, 0.5), (0.0, -0.5, -0.5, -1.0, 1.5, 1.5), (0.0, -0.5, -0.5, -1.0, 1.5, 2.5), (0.0, -0.5, -0.5, 0.0, -1.5, -2.5), (0.0, -0.5, -0.5, 0.0, -1.5, -1.5), (0.0, -0.5, -0.5, 0.0, -1.5, -0.5), (0.0, -0.5, -0.5, 0.0, -1.5, 0.5), (0.0, -0.5, -0.5, 0.0, -1.5, 1.5), (0.0, -0.5, -0.5, 0.0, -1.5, 2.5), (0.0, -0.5, -0.5, 0.0, -0.5, -2.5), (0.0, -0.5, -0.5, 0.0, -0.5, -1.5), (0.0, -0.5, -0.5, 0.0, -0.5, -0.5), (0.0, -0.5, -0.5, 0.0, -0.5, 0.5), (0.0, -0.5, -0.5, 0.0, -0.5, 1.5), (0.0, -0.5, -0.5, 0.0, -0.5, 2.5), (0.0, -0.5, -0.5, 0.0, 0.5, -2.5), (0.0, -0.5, -0.5, 0.0, 0.5, -1.5), (0.0, -0.5, -0.5, 0.0, 0.5, -0.5), (0.0, -0.5, -0.5, 0.0, 0.5, 0.5), (0.0, -0.5, -0.5, 0.0, 0.5, 1.5), (0.0, -0.5, -0.5, 0.0, 0.5, 2.5), (0.0, -0.5, -0.5, 0.0, 1.5, -2.5), (0.0, -0.5, -0.5, 0.0, 1.5, -1.5), (0.0, -0.5, -0.5, 0.0, 1.5, -0.5), (0.0, -0.5, -0.5, 0.0, 1.5, 0.5), (0.0, -0.5, -0.5, 0.0, 1.5, 1.5), (0.0, -0.5, -0.5, 0.0, 1.5, 2.5), (0.0, -0.5, -0.5, 1.0, -1.5, -2.5), (0.0, -0.5, -0.5, 1.0, -1.5, -1.5), (0.0, -0.5, -0.5, 1.0, -1.5, -0.5), (0.0, -0.5, -0.5, 1.0, -1.5, 0.5), (0.0, -0.5, -0.5, 1.0, -1.5, 1.5), (0.0, -0.5, -0.5, 1.0, -1.5, 2.5), (0.0, -0.5, -0.5, 1.0, -0.5, -2.5), (0.0, -0.5, -0.5, 1.0, -0.5, -1.5), (0.0, -0.5, -0.5, 1.0, -0.5, -0.5), (0.0, -0.5, -0.5, 1.0, -0.5, 0.5), (0.0, -0.5, -0.5, 1.0, -0.5, 1.5), (0.0, -0.5, -0.5, 1.0, -0.5, 2.5), (0.0, -0.5, -0.5, 1.0, 0.5, -2.5), (0.0, -0.5, -0.5, 1.0, 0.5, -1.5), (0.0, -0.5, -0.5, 1.0, 0.5, -0.5), (0.0, -0.5, -0.5, 1.0, 0.5, 0.5), (0.0, -0.5, -0.5, 1.0, 0.5, 1.5), (0.0, -0.5, -0.5, 1.0, 0.5, 2.5), (0.0, -0.5, -0.5, 1.0, 1.5, -2.5), (0.0, -0.5, -0.5, 1.0, 1.5, -1.5), (0.0, -0.5, -0.5, 1.0, 1.5, -0.5), (0.0, -0.5, -0.5, 1.0, 1.5, 0.5), (0.0, -0.5, -0.5, 1.0, 1.5, 1.5), (0.0, -0.5, -0.5, 1.0, 1.5, 2.5), (0.0, -0.5, 0.5, -1.0, -1.5, -2.5), (0.0, -0.5, 0.5, -1.0, -1.5, -1.5), (0.0, -0.5, 0.5, -1.0, -1.5, -0.5), (0.0, -0.5, 0.5, -1.0, -1.5, 0.5), (0.0, -0.5, 0.5, -1.0, -1.5, 1.5), (0.0, -0.5, 0.5, -1.0, -1.5, 2.5), (0.0, -0.5, 0.5, -1.0, -0.5, -2.5), (0.0, -0.5, 0.5, -1.0, -0.5, -1.5), (0.0, -0.5, 0.5, -1.0, -0.5, -0.5), (0.0, -0.5, 0.5, -1.0, -0.5, 0.5), (0.0, -0.5, 0.5, -1.0, -0.5, 1.5), (0.0, -0.5, 0.5, -1.0, -0.5, 2.5), (0.0, -0.5, 0.5, -1.0, 0.5, -2.5), (0.0, -0.5, 0.5, -1.0, 0.5, -1.5), (0.0, -0.5, 0.5, -1.0, 0.5, -0.5), (0.0, -0.5, 0.5, -1.0, 0.5, 0.5), (0.0, -0.5, 0.5, -1.0, 0.5, 1.5), (0.0, -0.5, 0.5, -1.0, 0.5, 2.5), (0.0, -0.5, 0.5, -1.0, 1.5, -2.5), (0.0, -0.5, 0.5, -1.0, 1.5, -1.5), (0.0, -0.5, 0.5, -1.0, 1.5, -0.5), (0.0, -0.5, 0.5, -1.0, 1.5, 0.5), (0.0, -0.5, 0.5, -1.0, 1.5, 1.5), (0.0, -0.5, 0.5, -1.0, 1.5, 2.5), (0.0, -0.5, 0.5, 0.0, -1.5, -2.5), (0.0, -0.5, 0.5, 0.0, -1.5, -1.5), (0.0, -0.5, 0.5, 0.0, -1.5, -0.5), (0.0, -0.5, 0.5, 0.0, -1.5, 0.5), (0.0, -0.5, 0.5, 0.0, -1.5, 1.5), (0.0, -0.5, 0.5, 0.0, -1.5, 2.5), (0.0, -0.5, 0.5, 0.0, -0.5, -2.5), (0.0, -0.5, 0.5, 0.0, -0.5, -1.5), (0.0, -0.5, 0.5, 0.0, -0.5, -0.5), (0.0, -0.5, 0.5, 0.0, -0.5, 0.5), (0.0, -0.5, 0.5, 0.0, -0.5, 1.5), (0.0, -0.5, 0.5, 0.0, -0.5, 2.5), (0.0, -0.5, 0.5, 0.0, 0.5, -2.5), (0.0, -0.5, 0.5, 0.0, 0.5, -1.5), (0.0, -0.5, 0.5, 0.0, 0.5, -0.5), (0.0, -0.5, 0.5, 0.0, 0.5, 0.5), (0.0, -0.5, 0.5, 0.0, 0.5, 1.5), (0.0, -0.5, 0.5, 0.0, 0.5, 2.5), (0.0, -0.5, 0.5, 0.0, 1.5, -2.5), (0.0, -0.5, 0.5, 0.0, 1.5, -1.5), (0.0, -0.5, 0.5, 0.0, 1.5, -0.5), (0.0, -0.5, 0.5, 0.0, 1.5, 0.5), (0.0, -0.5, 0.5, 0.0, 1.5, 1.5), (0.0, -0.5, 0.5, 0.0, 1.5, 2.5), (0.0, -0.5, 0.5, 1.0, -1.5, -2.5), (0.0, -0.5, 0.5, 1.0, -1.5, -1.5), (0.0, -0.5, 0.5, 1.0, -1.5, -0.5), (0.0, -0.5, 0.5, 1.0, -1.5, 0.5), (0.0, -0.5, 0.5, 1.0, -1.5, 1.5), (0.0, -0.5, 0.5, 1.0, -1.5, 2.5), (0.0, -0.5, 0.5, 1.0, -0.5, -2.5), (0.0, -0.5, 0.5, 1.0, -0.5, -1.5), (0.0, -0.5, 0.5, 1.0, -0.5, -0.5), (0.0, -0.5, 0.5, 1.0, -0.5, 0.5), (0.0, -0.5, 0.5, 1.0, -0.5, 1.5), (0.0, -0.5, 0.5, 1.0, -0.5, 2.5), (0.0, -0.5, 0.5, 1.0, 0.5, -2.5), (0.0, -0.5, 0.5, 1.0, 0.5, -1.5), (0.0, -0.5, 0.5, 1.0, 0.5, -0.5), (0.0, -0.5, 0.5, 1.0, 0.5, 0.5), (0.0, -0.5, 0.5, 1.0, 0.5, 1.5), (0.0, -0.5, 0.5, 1.0, 0.5, 2.5), (0.0, -0.5, 0.5, 1.0, 1.5, -2.5), (0.0, -0.5, 0.5, 1.0, 1.5, -1.5), (0.0, -0.5, 0.5, 1.0, 1.5, -0.5), (0.0, -0.5, 0.5, 1.0, 1.5, 0.5), (0.0, -0.5, 0.5, 1.0, 1.5, 1.5), (0.0, -0.5, 0.5, 1.0, 1.5, 2.5), (0.0, -0.5, 1.5, -1.0, -1.5, -2.5), (0.0, -0.5, 1.5, -1.0, -1.5, -1.5), (0.0, -0.5, 1.5, -1.0, -1.5, -0.5), (0.0, -0.5, 1.5, -1.0, -1.5, 0.5), (0.0, -0.5, 1.5, -1.0, -1.5, 1.5), (0.0, -0.5, 1.5, -1.0, -1.5, 2.5), (0.0, -0.5, 1.5, -1.0, -0.5, -2.5), (0.0, -0.5, 1.5, -1.0, -0.5, -1.5), (0.0, -0.5, 1.5, -1.0, -0.5, -0.5), (0.0, -0.5, 1.5, -1.0, -0.5, 0.5), (0.0, -0.5, 1.5, -1.0, -0.5, 1.5), (0.0, -0.5, 1.5, -1.0, -0.5, 2.5), (0.0, -0.5, 1.5, -1.0, 0.5, -2.5), (0.0, -0.5, 1.5, -1.0, 0.5, -1.5), (0.0, -0.5, 1.5, -1.0, 0.5, -0.5), (0.0, -0.5, 1.5, -1.0, 0.5, 0.5), (0.0, -0.5, 1.5, -1.0, 0.5, 1.5), (0.0, -0.5, 1.5, -1.0, 0.5, 2.5), (0.0, -0.5, 1.5, -1.0, 1.5, -2.5), (0.0, -0.5, 1.5, -1.0, 1.5, -1.5), (0.0, -0.5, 1.5, -1.0, 1.5, -0.5), (0.0, -0.5, 1.5, -1.0, 1.5, 0.5), (0.0, -0.5, 1.5, -1.0, 1.5, 1.5), (0.0, -0.5, 1.5, -1.0, 1.5, 2.5), (0.0, -0.5, 1.5, 0.0, -1.5, -2.5), (0.0, -0.5, 1.5, 0.0, -1.5, -1.5), (0.0, -0.5, 1.5, 0.0, -1.5, -0.5), (0.0, -0.5, 1.5, 0.0, -1.5, 0.5), (0.0, -0.5, 1.5, 0.0, -1.5, 1.5), (0.0, -0.5, 1.5, 0.0, -1.5, 2.5), (0.0, -0.5, 1.5, 0.0, -0.5, -2.5), (0.0, -0.5, 1.5, 0.0, -0.5, -1.5), (0.0, -0.5, 1.5, 0.0, -0.5, -0.5), (0.0, -0.5, 1.5, 0.0, -0.5, 0.5), (0.0, -0.5, 1.5, 0.0, -0.5, 1.5), (0.0, -0.5, 1.5, 0.0, -0.5, 2.5), (0.0, -0.5, 1.5, 0.0, 0.5, -2.5), (0.0, -0.5, 1.5, 0.0, 0.5, -1.5), (0.0, -0.5, 1.5, 0.0, 0.5, -0.5), (0.0, -0.5, 1.5, 0.0, 0.5, 0.5), (0.0, -0.5, 1.5, 0.0, 0.5, 1.5), (0.0, -0.5, 1.5, 0.0, 0.5, 2.5), (0.0, -0.5, 1.5, 0.0, 1.5, -2.5), (0.0, -0.5, 1.5, 0.0, 1.5, -1.5), (0.0, -0.5, 1.5, 0.0, 1.5, -0.5), (0.0, -0.5, 1.5, 0.0, 1.5, 0.5), (0.0, -0.5, 1.5, 0.0, 1.5, 1.5), (0.0, -0.5, 1.5, 0.0, 1.5, 2.5), (0.0, -0.5, 1.5, 1.0, -1.5, -2.5), (0.0, -0.5, 1.5, 1.0, -1.5, -1.5), (0.0, -0.5, 1.5, 1.0, -1.5, -0.5), (0.0, -0.5, 1.5, 1.0, -1.5, 0.5), (0.0, -0.5, 1.5, 1.0, -1.5, 1.5), (0.0, -0.5, 1.5, 1.0, -1.5, 2.5), (0.0, -0.5, 1.5, 1.0, -0.5, -2.5), (0.0, -0.5, 1.5, 1.0, -0.5, -1.5), (0.0, -0.5, 1.5, 1.0, -0.5, -0.5), (0.0, -0.5, 1.5, 1.0, -0.5, 0.5), (0.0, -0.5, 1.5, 1.0, -0.5, 1.5), (0.0, -0.5, 1.5, 1.0, -0.5, 2.5), (0.0, -0.5, 1.5, 1.0, 0.5, -2.5), (0.0, -0.5, 1.5, 1.0, 0.5, -1.5), (0.0, -0.5, 1.5, 1.0, 0.5, -0.5), (0.0, -0.5, 1.5, 1.0, 0.5, 0.5), (0.0, -0.5, 1.5, 1.0, 0.5, 1.5), (0.0, -0.5, 1.5, 1.0, 0.5, 2.5), (0.0, -0.5, 1.5, 1.0, 1.5, -2.5), (0.0, -0.5, 1.5, 1.0, 1.5, -1.5), (0.0, -0.5, 1.5, 1.0, 1.5, -0.5), (0.0, -0.5, 1.5, 1.0, 1.5, 0.5), (0.0, -0.5, 1.5, 1.0, 1.5, 1.5), (0.0, -0.5, 1.5, 1.0, 1.5, 2.5), (0.0, -0.5, 2.5, -1.0, -1.5, -2.5), (0.0, -0.5, 2.5, -1.0, -1.5, -1.5), (0.0, -0.5, 2.5, -1.0, -1.5, -0.5), (0.0, -0.5, 2.5, -1.0, -1.5, 0.5), (0.0, -0.5, 2.5, -1.0, -1.5, 1.5), (0.0, -0.5, 2.5, -1.0, -1.5, 2.5), (0.0, -0.5, 2.5, -1.0, -0.5, -2.5), (0.0, -0.5, 2.5, -1.0, -0.5, -1.5), (0.0, -0.5, 2.5, -1.0, -0.5, -0.5), (0.0, -0.5, 2.5, -1.0, -0.5, 0.5), (0.0, -0.5, 2.5, -1.0, -0.5, 1.5), (0.0, -0.5, 2.5, -1.0, -0.5, 2.5), (0.0, -0.5, 2.5, -1.0, 0.5, -2.5), (0.0, -0.5, 2.5, -1.0, 0.5, -1.5), (0.0, -0.5, 2.5, -1.0, 0.5, -0.5), (0.0, -0.5, 2.5, -1.0, 0.5, 0.5), (0.0, -0.5, 2.5, -1.0, 0.5, 1.5), (0.0, -0.5, 2.5, -1.0, 0.5, 2.5), (0.0, -0.5, 2.5, -1.0, 1.5, -2.5), (0.0, -0.5, 2.5, -1.0, 1.5, -1.5), (0.0, -0.5, 2.5, -1.0, 1.5, -0.5), (0.0, -0.5, 2.5, -1.0, 1.5, 0.5), (0.0, -0.5, 2.5, -1.0, 1.5, 1.5), (0.0, -0.5, 2.5, -1.0, 1.5, 2.5), (0.0, -0.5, 2.5, 0.0, -1.5, -2.5), (0.0, -0.5, 2.5, 0.0, -1.5, -1.5), (0.0, -0.5, 2.5, 0.0, -1.5, -0.5), (0.0, -0.5, 2.5, 0.0, -1.5, 0.5), (0.0, -0.5, 2.5, 0.0, -1.5, 1.5), (0.0, -0.5, 2.5, 0.0, -1.5, 2.5), (0.0, -0.5, 2.5, 0.0, -0.5, -2.5), (0.0, -0.5, 2.5, 0.0, -0.5, -1.5), (0.0, -0.5, 2.5, 0.0, -0.5, -0.5), (0.0, -0.5, 2.5, 0.0, -0.5, 0.5), (0.0, -0.5, 2.5, 0.0, -0.5, 1.5), (0.0, -0.5, 2.5, 0.0, -0.5, 2.5), (0.0, -0.5, 2.5, 0.0, 0.5, -2.5), (0.0, -0.5, 2.5, 0.0, 0.5, -1.5), (0.0, -0.5, 2.5, 0.0, 0.5, -0.5), (0.0, -0.5, 2.5, 0.0, 0.5, 0.5), (0.0, -0.5, 2.5, 0.0, 0.5, 1.5), (0.0, -0.5, 2.5, 0.0, 0.5, 2.5), (0.0, -0.5, 2.5, 0.0, 1.5, -2.5), (0.0, -0.5, 2.5, 0.0, 1.5, -1.5), (0.0, -0.5, 2.5, 0.0, 1.5, -0.5), (0.0, -0.5, 2.5, 0.0, 1.5, 0.5), (0.0, -0.5, 2.5, 0.0, 1.5, 1.5), (0.0, -0.5, 2.5, 0.0, 1.5, 2.5), (0.0, -0.5, 2.5, 1.0, -1.5, -2.5), (0.0, -0.5, 2.5, 1.0, -1.5, -1.5), (0.0, -0.5, 2.5, 1.0, -1.5, -0.5), (0.0, -0.5, 2.5, 1.0, -1.5, 0.5), (0.0, -0.5, 2.5, 1.0, -1.5, 1.5), (0.0, -0.5, 2.5, 1.0, -1.5, 2.5), (0.0, -0.5, 2.5, 1.0, -0.5, -2.5), (0.0, -0.5, 2.5, 1.0, -0.5, -1.5), (0.0, -0.5, 2.5, 1.0, -0.5, -0.5), (0.0, -0.5, 2.5, 1.0, -0.5, 0.5), (0.0, -0.5, 2.5, 1.0, -0.5, 1.5), (0.0, -0.5, 2.5, 1.0, -0.5, 2.5), (0.0, -0.5, 2.5, 1.0, 0.5, -2.5), (0.0, -0.5, 2.5, 1.0, 0.5, -1.5), (0.0, -0.5, 2.5, 1.0, 0.5, -0.5), (0.0, -0.5, 2.5, 1.0, 0.5, 0.5), (0.0, -0.5, 2.5, 1.0, 0.5, 1.5), (0.0, -0.5, 2.5, 1.0, 0.5, 2.5), (0.0, -0.5, 2.5, 1.0, 1.5, -2.5), (0.0, -0.5, 2.5, 1.0, 1.5, -1.5), (0.0, -0.5, 2.5, 1.0, 1.5, -0.5), (0.0, -0.5, 2.5, 1.0, 1.5, 0.5), (0.0, -0.5, 2.5, 1.0, 1.5, 1.5), (0.0, -0.5, 2.5, 1.0, 1.5, 2.5), (0.0, 0.5, -2.5, -1.0, -1.5, -2.5), (0.0, 0.5, -2.5, -1.0, -1.5, -1.5), (0.0, 0.5, -2.5, -1.0, -1.5, -0.5), (0.0, 0.5, -2.5, -1.0, -1.5, 0.5), (0.0, 0.5, -2.5, -1.0, -1.5, 1.5), (0.0, 0.5, -2.5, -1.0, -1.5, 2.5), (0.0, 0.5, -2.5, -1.0, -0.5, -2.5), (0.0, 0.5, -2.5, -1.0, -0.5, -1.5), (0.0, 0.5, -2.5, -1.0, -0.5, -0.5), (0.0, 0.5, -2.5, -1.0, -0.5, 0.5), (0.0, 0.5, -2.5, -1.0, -0.5, 1.5), (0.0, 0.5, -2.5, -1.0, -0.5, 2.5), (0.0, 0.5, -2.5, -1.0, 0.5, -2.5), (0.0, 0.5, -2.5, -1.0, 0.5, -1.5), (0.0, 0.5, -2.5, -1.0, 0.5, -0.5), (0.0, 0.5, -2.5, -1.0, 0.5, 0.5), (0.0, 0.5, -2.5, -1.0, 0.5, 1.5), (0.0, 0.5, -2.5, -1.0, 0.5, 2.5), (0.0, 0.5, -2.5, -1.0, 1.5, -2.5), (0.0, 0.5, -2.5, -1.0, 1.5, -1.5), (0.0, 0.5, -2.5, -1.0, 1.5, -0.5), (0.0, 0.5, -2.5, -1.0, 1.5, 0.5), (0.0, 0.5, -2.5, -1.0, 1.5, 1.5), (0.0, 0.5, -2.5, -1.0, 1.5, 2.5), (0.0, 0.5, -2.5, 0.0, -1.5, -2.5), (0.0, 0.5, -2.5, 0.0, -1.5, -1.5), (0.0, 0.5, -2.5, 0.0, -1.5, -0.5), (0.0, 0.5, -2.5, 0.0, -1.5, 0.5), (0.0, 0.5, -2.5, 0.0, -1.5, 1.5), (0.0, 0.5, -2.5, 0.0, -1.5, 2.5), (0.0, 0.5, -2.5, 0.0, -0.5, -2.5), (0.0, 0.5, -2.5, 0.0, -0.5, -1.5), (0.0, 0.5, -2.5, 0.0, -0.5, -0.5), (0.0, 0.5, -2.5, 0.0, -0.5, 0.5), (0.0, 0.5, -2.5, 0.0, -0.5, 1.5), (0.0, 0.5, -2.5, 0.0, -0.5, 2.5), (0.0, 0.5, -2.5, 0.0, 0.5, -2.5), (0.0, 0.5, -2.5, 0.0, 0.5, -1.5), (0.0, 0.5, -2.5, 0.0, 0.5, -0.5), (0.0, 0.5, -2.5, 0.0, 0.5, 0.5), (0.0, 0.5, -2.5, 0.0, 0.5, 1.5), (0.0, 0.5, -2.5, 0.0, 0.5, 2.5), (0.0, 0.5, -2.5, 0.0, 1.5, -2.5), (0.0, 0.5, -2.5, 0.0, 1.5, -1.5), (0.0, 0.5, -2.5, 0.0, 1.5, -0.5), (0.0, 0.5, -2.5, 0.0, 1.5, 0.5), (0.0, 0.5, -2.5, 0.0, 1.5, 1.5), (0.0, 0.5, -2.5, 0.0, 1.5, 2.5), (0.0, 0.5, -2.5, 1.0, -1.5, -2.5), (0.0, 0.5, -2.5, 1.0, -1.5, -1.5), (0.0, 0.5, -2.5, 1.0, -1.5, -0.5), (0.0, 0.5, -2.5, 1.0, -1.5, 0.5), (0.0, 0.5, -2.5, 1.0, -1.5, 1.5), (0.0, 0.5, -2.5, 1.0, -1.5, 2.5), (0.0, 0.5, -2.5, 1.0, -0.5, -2.5), (0.0, 0.5, -2.5, 1.0, -0.5, -1.5), (0.0, 0.5, -2.5, 1.0, -0.5, -0.5), (0.0, 0.5, -2.5, 1.0, -0.5, 0.5), (0.0, 0.5, -2.5, 1.0, -0.5, 1.5), (0.0, 0.5, -2.5, 1.0, -0.5, 2.5), (0.0, 0.5, -2.5, 1.0, 0.5, -2.5), (0.0, 0.5, -2.5, 1.0, 0.5, -1.5), (0.0, 0.5, -2.5, 1.0, 0.5, -0.5), (0.0, 0.5, -2.5, 1.0, 0.5, 0.5), (0.0, 0.5, -2.5, 1.0, 0.5, 1.5), (0.0, 0.5, -2.5, 1.0, 0.5, 2.5), (0.0, 0.5, -2.5, 1.0, 1.5, -2.5), (0.0, 0.5, -2.5, 1.0, 1.5, -1.5), (0.0, 0.5, -2.5, 1.0, 1.5, -0.5), (0.0, 0.5, -2.5, 1.0, 1.5, 0.5), (0.0, 0.5, -2.5, 1.0, 1.5, 1.5), (0.0, 0.5, -2.5, 1.0, 1.5, 2.5), (0.0, 0.5, -1.5, -1.0, -1.5, -2.5), (0.0, 0.5, -1.5, -1.0, -1.5, -1.5), (0.0, 0.5, -1.5, -1.0, -1.5, -0.5), (0.0, 0.5, -1.5, -1.0, -1.5, 0.5), (0.0, 0.5, -1.5, -1.0, -1.5, 1.5), (0.0, 0.5, -1.5, -1.0, -1.5, 2.5), (0.0, 0.5, -1.5, -1.0, -0.5, -2.5), (0.0, 0.5, -1.5, -1.0, -0.5, -1.5), (0.0, 0.5, -1.5, -1.0, -0.5, -0.5), (0.0, 0.5, -1.5, -1.0, -0.5, 0.5), (0.0, 0.5, -1.5, -1.0, -0.5, 1.5), (0.0, 0.5, -1.5, -1.0, -0.5, 2.5), (0.0, 0.5, -1.5, -1.0, 0.5, -2.5), (0.0, 0.5, -1.5, -1.0, 0.5, -1.5), (0.0, 0.5, -1.5, -1.0, 0.5, -0.5), (0.0, 0.5, -1.5, -1.0, 0.5, 0.5), (0.0, 0.5, -1.5, -1.0, 0.5, 1.5), (0.0, 0.5, -1.5, -1.0, 0.5, 2.5), (0.0, 0.5, -1.5, -1.0, 1.5, -2.5), (0.0, 0.5, -1.5, -1.0, 1.5, -1.5), (0.0, 0.5, -1.5, -1.0, 1.5, -0.5), (0.0, 0.5, -1.5, -1.0, 1.5, 0.5), (0.0, 0.5, -1.5, -1.0, 1.5, 1.5), (0.0, 0.5, -1.5, -1.0, 1.5, 2.5), (0.0, 0.5, -1.5, 0.0, -1.5, -2.5), (0.0, 0.5, -1.5, 0.0, -1.5, -1.5), (0.0, 0.5, -1.5, 0.0, -1.5, -0.5), (0.0, 0.5, -1.5, 0.0, -1.5, 0.5), (0.0, 0.5, -1.5, 0.0, -1.5, 1.5), (0.0, 0.5, -1.5, 0.0, -1.5, 2.5), (0.0, 0.5, -1.5, 0.0, -0.5, -2.5), (0.0, 0.5, -1.5, 0.0, -0.5, -1.5), (0.0, 0.5, -1.5, 0.0, -0.5, -0.5), (0.0, 0.5, -1.5, 0.0, -0.5, 0.5), (0.0, 0.5, -1.5, 0.0, -0.5, 1.5), (0.0, 0.5, -1.5, 0.0, -0.5, 2.5), (0.0, 0.5, -1.5, 0.0, 0.5, -2.5), (0.0, 0.5, -1.5, 0.0, 0.5, -1.5), (0.0, 0.5, -1.5, 0.0, 0.5, -0.5), (0.0, 0.5, -1.5, 0.0, 0.5, 0.5), (0.0, 0.5, -1.5, 0.0, 0.5, 1.5), (0.0, 0.5, -1.5, 0.0, 0.5, 2.5), (0.0, 0.5, -1.5, 0.0, 1.5, -2.5), (0.0, 0.5, -1.5, 0.0, 1.5, -1.5), (0.0, 0.5, -1.5, 0.0, 1.5, -0.5), (0.0, 0.5, -1.5, 0.0, 1.5, 0.5), (0.0, 0.5, -1.5, 0.0, 1.5, 1.5), (0.0, 0.5, -1.5, 0.0, 1.5, 2.5), (0.0, 0.5, -1.5, 1.0, -1.5, -2.5), (0.0, 0.5, -1.5, 1.0, -1.5, -1.5), (0.0, 0.5, -1.5, 1.0, -1.5, -0.5), (0.0, 0.5, -1.5, 1.0, -1.5, 0.5), (0.0, 0.5, -1.5, 1.0, -1.5, 1.5), (0.0, 0.5, -1.5, 1.0, -1.5, 2.5), (0.0, 0.5, -1.5, 1.0, -0.5, -2.5), (0.0, 0.5, -1.5, 1.0, -0.5, -1.5), (0.0, 0.5, -1.5, 1.0, -0.5, -0.5), (0.0, 0.5, -1.5, 1.0, -0.5, 0.5), (0.0, 0.5, -1.5, 1.0, -0.5, 1.5), (0.0, 0.5, -1.5, 1.0, -0.5, 2.5), (0.0, 0.5, -1.5, 1.0, 0.5, -2.5), (0.0, 0.5, -1.5, 1.0, 0.5, -1.5), (0.0, 0.5, -1.5, 1.0, 0.5, -0.5), (0.0, 0.5, -1.5, 1.0, 0.5, 0.5), (0.0, 0.5, -1.5, 1.0, 0.5, 1.5), (0.0, 0.5, -1.5, 1.0, 0.5, 2.5), (0.0, 0.5, -1.5, 1.0, 1.5, -2.5), (0.0, 0.5, -1.5, 1.0, 1.5, -1.5), (0.0, 0.5, -1.5, 1.0, 1.5, -0.5), (0.0, 0.5, -1.5, 1.0, 1.5, 0.5), (0.0, 0.5, -1.5, 1.0, 1.5, 1.5), (0.0, 0.5, -1.5, 1.0, 1.5, 2.5), (0.0, 0.5, -0.5, -1.0, -1.5, -2.5), (0.0, 0.5, -0.5, -1.0, -1.5, -1.5), (0.0, 0.5, -0.5, -1.0, -1.5, -0.5), (0.0, 0.5, -0.5, -1.0, -1.5, 0.5), (0.0, 0.5, -0.5, -1.0, -1.5, 1.5), (0.0, 0.5, -0.5, -1.0, -1.5, 2.5), (0.0, 0.5, -0.5, -1.0, -0.5, -2.5), (0.0, 0.5, -0.5, -1.0, -0.5, -1.5), (0.0, 0.5, -0.5, -1.0, -0.5, -0.5), (0.0, 0.5, -0.5, -1.0, -0.5, 0.5), (0.0, 0.5, -0.5, -1.0, -0.5, 1.5), (0.0, 0.5, -0.5, -1.0, -0.5, 2.5), (0.0, 0.5, -0.5, -1.0, 0.5, -2.5), (0.0, 0.5, -0.5, -1.0, 0.5, -1.5), (0.0, 0.5, -0.5, -1.0, 0.5, -0.5), (0.0, 0.5, -0.5, -1.0, 0.5, 0.5), (0.0, 0.5, -0.5, -1.0, 0.5, 1.5), (0.0, 0.5, -0.5, -1.0, 0.5, 2.5), (0.0, 0.5, -0.5, -1.0, 1.5, -2.5), (0.0, 0.5, -0.5, -1.0, 1.5, -1.5), (0.0, 0.5, -0.5, -1.0, 1.5, -0.5), (0.0, 0.5, -0.5, -1.0, 1.5, 0.5), (0.0, 0.5, -0.5, -1.0, 1.5, 1.5), (0.0, 0.5, -0.5, -1.0, 1.5, 2.5), (0.0, 0.5, -0.5, 0.0, -1.5, -2.5), (0.0, 0.5, -0.5, 0.0, -1.5, -1.5), (0.0, 0.5, -0.5, 0.0, -1.5, -0.5), (0.0, 0.5, -0.5, 0.0, -1.5, 0.5), (0.0, 0.5, -0.5, 0.0, -1.5, 1.5), (0.0, 0.5, -0.5, 0.0, -1.5, 2.5), (0.0, 0.5, -0.5, 0.0, -0.5, -2.5), (0.0, 0.5, -0.5, 0.0, -0.5, -1.5), (0.0, 0.5, -0.5, 0.0, -0.5, -0.5), (0.0, 0.5, -0.5, 0.0, -0.5, 0.5), (0.0, 0.5, -0.5, 0.0, -0.5, 1.5), (0.0, 0.5, -0.5, 0.0, -0.5, 2.5), (0.0, 0.5, -0.5, 0.0, 0.5, -2.5), (0.0, 0.5, -0.5, 0.0, 0.5, -1.5), (0.0, 0.5, -0.5, 0.0, 0.5, -0.5), (0.0, 0.5, -0.5, 0.0, 0.5, 0.5), (0.0, 0.5, -0.5, 0.0, 0.5, 1.5), (0.0, 0.5, -0.5, 0.0, 0.5, 2.5), (0.0, 0.5, -0.5, 0.0, 1.5, -2.5), (0.0, 0.5, -0.5, 0.0, 1.5, -1.5), (0.0, 0.5, -0.5, 0.0, 1.5, -0.5), (0.0, 0.5, -0.5, 0.0, 1.5, 0.5), (0.0, 0.5, -0.5, 0.0, 1.5, 1.5), (0.0, 0.5, -0.5, 0.0, 1.5, 2.5), (0.0, 0.5, -0.5, 1.0, -1.5, -2.5), (0.0, 0.5, -0.5, 1.0, -1.5, -1.5), (0.0, 0.5, -0.5, 1.0, -1.5, -0.5), (0.0, 0.5, -0.5, 1.0, -1.5, 0.5), (0.0, 0.5, -0.5, 1.0, -1.5, 1.5), (0.0, 0.5, -0.5, 1.0, -1.5, 2.5), (0.0, 0.5, -0.5, 1.0, -0.5, -2.5), (0.0, 0.5, -0.5, 1.0, -0.5, -1.5), (0.0, 0.5, -0.5, 1.0, -0.5, -0.5), (0.0, 0.5, -0.5, 1.0, -0.5, 0.5), (0.0, 0.5, -0.5, 1.0, -0.5, 1.5), (0.0, 0.5, -0.5, 1.0, -0.5, 2.5), (0.0, 0.5, -0.5, 1.0, 0.5, -2.5), (0.0, 0.5, -0.5, 1.0, 0.5, -1.5), (0.0, 0.5, -0.5, 1.0, 0.5, -0.5), (0.0, 0.5, -0.5, 1.0, 0.5, 0.5), (0.0, 0.5, -0.5, 1.0, 0.5, 1.5), (0.0, 0.5, -0.5, 1.0, 0.5, 2.5), (0.0, 0.5, -0.5, 1.0, 1.5, -2.5), (0.0, 0.5, -0.5, 1.0, 1.5, -1.5), (0.0, 0.5, -0.5, 1.0, 1.5, -0.5), (0.0, 0.5, -0.5, 1.0, 1.5, 0.5), (0.0, 0.5, -0.5, 1.0, 1.5, 1.5), (0.0, 0.5, -0.5, 1.0, 1.5, 2.5), (0.0, 0.5, 0.5, -1.0, -1.5, -2.5), (0.0, 0.5, 0.5, -1.0, -1.5, -1.5), (0.0, 0.5, 0.5, -1.0, -1.5, -0.5), (0.0, 0.5, 0.5, -1.0, -1.5, 0.5), (0.0, 0.5, 0.5, -1.0, -1.5, 1.5), (0.0, 0.5, 0.5, -1.0, -1.5, 2.5), (0.0, 0.5, 0.5, -1.0, -0.5, -2.5), (0.0, 0.5, 0.5, -1.0, -0.5, -1.5), (0.0, 0.5, 0.5, -1.0, -0.5, -0.5), (0.0, 0.5, 0.5, -1.0, -0.5, 0.5), (0.0, 0.5, 0.5, -1.0, -0.5, 1.5), (0.0, 0.5, 0.5, -1.0, -0.5, 2.5), (0.0, 0.5, 0.5, -1.0, 0.5, -2.5), (0.0, 0.5, 0.5, -1.0, 0.5, -1.5), (0.0, 0.5, 0.5, -1.0, 0.5, -0.5), (0.0, 0.5, 0.5, -1.0, 0.5, 0.5), (0.0, 0.5, 0.5, -1.0, 0.5, 1.5), (0.0, 0.5, 0.5, -1.0, 0.5, 2.5), (0.0, 0.5, 0.5, -1.0, 1.5, -2.5), (0.0, 0.5, 0.5, -1.0, 1.5, -1.5), (0.0, 0.5, 0.5, -1.0, 1.5, -0.5), (0.0, 0.5, 0.5, -1.0, 1.5, 0.5), (0.0, 0.5, 0.5, -1.0, 1.5, 1.5), (0.0, 0.5, 0.5, -1.0, 1.5, 2.5), (0.0, 0.5, 0.5, 0.0, -1.5, -2.5), (0.0, 0.5, 0.5, 0.0, -1.5, -1.5), (0.0, 0.5, 0.5, 0.0, -1.5, -0.5), (0.0, 0.5, 0.5, 0.0, -1.5, 0.5), (0.0, 0.5, 0.5, 0.0, -1.5, 1.5), (0.0, 0.5, 0.5, 0.0, -1.5, 2.5), (0.0, 0.5, 0.5, 0.0, -0.5, -2.5), (0.0, 0.5, 0.5, 0.0, -0.5, -1.5), (0.0, 0.5, 0.5, 0.0, -0.5, -0.5), (0.0, 0.5, 0.5, 0.0, -0.5, 0.5), (0.0, 0.5, 0.5, 0.0, -0.5, 1.5), (0.0, 0.5, 0.5, 0.0, -0.5, 2.5), (0.0, 0.5, 0.5, 0.0, 0.5, -2.5), (0.0, 0.5, 0.5, 0.0, 0.5, -1.5), (0.0, 0.5, 0.5, 0.0, 0.5, -0.5), (0.0, 0.5, 0.5, 0.0, 0.5, 0.5), (0.0, 0.5, 0.5, 0.0, 0.5, 1.5), (0.0, 0.5, 0.5, 0.0, 0.5, 2.5), (0.0, 0.5, 0.5, 0.0, 1.5, -2.5), (0.0, 0.5, 0.5, 0.0, 1.5, -1.5), (0.0, 0.5, 0.5, 0.0, 1.5, -0.5), (0.0, 0.5, 0.5, 0.0, 1.5, 0.5), (0.0, 0.5, 0.5, 0.0, 1.5, 1.5), (0.0, 0.5, 0.5, 0.0, 1.5, 2.5), (0.0, 0.5, 0.5, 1.0, -1.5, -2.5), (0.0, 0.5, 0.5, 1.0, -1.5, -1.5), (0.0, 0.5, 0.5, 1.0, -1.5, -0.5), (0.0, 0.5, 0.5, 1.0, -1.5, 0.5), (0.0, 0.5, 0.5, 1.0, -1.5, 1.5), (0.0, 0.5, 0.5, 1.0, -1.5, 2.5), (0.0, 0.5, 0.5, 1.0, -0.5, -2.5), (0.0, 0.5, 0.5, 1.0, -0.5, -1.5), (0.0, 0.5, 0.5, 1.0, -0.5, -0.5), (0.0, 0.5, 0.5, 1.0, -0.5, 0.5), (0.0, 0.5, 0.5, 1.0, -0.5, 1.5), (0.0, 0.5, 0.5, 1.0, -0.5, 2.5), (0.0, 0.5, 0.5, 1.0, 0.5, -2.5), (0.0, 0.5, 0.5, 1.0, 0.5, -1.5), (0.0, 0.5, 0.5, 1.0, 0.5, -0.5), (0.0, 0.5, 0.5, 1.0, 0.5, 0.5), (0.0, 0.5, 0.5, 1.0, 0.5, 1.5), (0.0, 0.5, 0.5, 1.0, 0.5, 2.5), (0.0, 0.5, 0.5, 1.0, 1.5, -2.5), (0.0, 0.5, 0.5, 1.0, 1.5, -1.5), (0.0, 0.5, 0.5, 1.0, 1.5, -0.5), (0.0, 0.5, 0.5, 1.0, 1.5, 0.5), (0.0, 0.5, 0.5, 1.0, 1.5, 1.5), (0.0, 0.5, 0.5, 1.0, 1.5, 2.5), (0.0, 0.5, 1.5, -1.0, -1.5, -2.5), (0.0, 0.5, 1.5, -1.0, -1.5, -1.5), (0.0, 0.5, 1.5, -1.0, -1.5, -0.5), (0.0, 0.5, 1.5, -1.0, -1.5, 0.5), (0.0, 0.5, 1.5, -1.0, -1.5, 1.5), (0.0, 0.5, 1.5, -1.0, -1.5, 2.5), (0.0, 0.5, 1.5, -1.0, -0.5, -2.5), (0.0, 0.5, 1.5, -1.0, -0.5, -1.5), (0.0, 0.5, 1.5, -1.0, -0.5, -0.5), (0.0, 0.5, 1.5, -1.0, -0.5, 0.5), (0.0, 0.5, 1.5, -1.0, -0.5, 1.5), (0.0, 0.5, 1.5, -1.0, -0.5, 2.5), (0.0, 0.5, 1.5, -1.0, 0.5, -2.5), (0.0, 0.5, 1.5, -1.0, 0.5, -1.5), (0.0, 0.5, 1.5, -1.0, 0.5, -0.5), (0.0, 0.5, 1.5, -1.0, 0.5, 0.5), (0.0, 0.5, 1.5, -1.0, 0.5, 1.5), (0.0, 0.5, 1.5, -1.0, 0.5, 2.5), (0.0, 0.5, 1.5, -1.0, 1.5, -2.5), (0.0, 0.5, 1.5, -1.0, 1.5, -1.5), (0.0, 0.5, 1.5, -1.0, 1.5, -0.5), (0.0, 0.5, 1.5, -1.0, 1.5, 0.5), (0.0, 0.5, 1.5, -1.0, 1.5, 1.5), (0.0, 0.5, 1.5, -1.0, 1.5, 2.5), (0.0, 0.5, 1.5, 0.0, -1.5, -2.5), (0.0, 0.5, 1.5, 0.0, -1.5, -1.5), (0.0, 0.5, 1.5, 0.0, -1.5, -0.5), (0.0, 0.5, 1.5, 0.0, -1.5, 0.5), (0.0, 0.5, 1.5, 0.0, -1.5, 1.5), (0.0, 0.5, 1.5, 0.0, -1.5, 2.5), (0.0, 0.5, 1.5, 0.0, -0.5, -2.5), (0.0, 0.5, 1.5, 0.0, -0.5, -1.5), (0.0, 0.5, 1.5, 0.0, -0.5, -0.5), (0.0, 0.5, 1.5, 0.0, -0.5, 0.5), (0.0, 0.5, 1.5, 0.0, -0.5, 1.5), (0.0, 0.5, 1.5, 0.0, -0.5, 2.5), (0.0, 0.5, 1.5, 0.0, 0.5, -2.5), (0.0, 0.5, 1.5, 0.0, 0.5, -1.5), (0.0, 0.5, 1.5, 0.0, 0.5, -0.5), (0.0, 0.5, 1.5, 0.0, 0.5, 0.5), (0.0, 0.5, 1.5, 0.0, 0.5, 1.5), (0.0, 0.5, 1.5, 0.0, 0.5, 2.5), (0.0, 0.5, 1.5, 0.0, 1.5, -2.5), (0.0, 0.5, 1.5, 0.0, 1.5, -1.5), (0.0, 0.5, 1.5, 0.0, 1.5, -0.5), (0.0, 0.5, 1.5, 0.0, 1.5, 0.5), (0.0, 0.5, 1.5, 0.0, 1.5, 1.5), (0.0, 0.5, 1.5, 0.0, 1.5, 2.5), (0.0, 0.5, 1.5, 1.0, -1.5, -2.5), (0.0, 0.5, 1.5, 1.0, -1.5, -1.5), (0.0, 0.5, 1.5, 1.0, -1.5, -0.5), (0.0, 0.5, 1.5, 1.0, -1.5, 0.5), (0.0, 0.5, 1.5, 1.0, -1.5, 1.5), (0.0, 0.5, 1.5, 1.0, -1.5, 2.5), (0.0, 0.5, 1.5, 1.0, -0.5, -2.5), (0.0, 0.5, 1.5, 1.0, -0.5, -1.5), (0.0, 0.5, 1.5, 1.0, -0.5, -0.5), (0.0, 0.5, 1.5, 1.0, -0.5, 0.5), (0.0, 0.5, 1.5, 1.0, -0.5, 1.5), (0.0, 0.5, 1.5, 1.0, -0.5, 2.5), (0.0, 0.5, 1.5, 1.0, 0.5, -2.5), (0.0, 0.5, 1.5, 1.0, 0.5, -1.5), (0.0, 0.5, 1.5, 1.0, 0.5, -0.5), (0.0, 0.5, 1.5, 1.0, 0.5, 0.5), (0.0, 0.5, 1.5, 1.0, 0.5, 1.5), (0.0, 0.5, 1.5, 1.0, 0.5, 2.5), (0.0, 0.5, 1.5, 1.0, 1.5, -2.5), (0.0, 0.5, 1.5, 1.0, 1.5, -1.5), (0.0, 0.5, 1.5, 1.0, 1.5, -0.5), (0.0, 0.5, 1.5, 1.0, 1.5, 0.5), (0.0, 0.5, 1.5, 1.0, 1.5, 1.5), (0.0, 0.5, 1.5, 1.0, 1.5, 2.5), (0.0, 0.5, 2.5, -1.0, -1.5, -2.5), (0.0, 0.5, 2.5, -1.0, -1.5, -1.5), (0.0, 0.5, 2.5, -1.0, -1.5, -0.5), (0.0, 0.5, 2.5, -1.0, -1.5, 0.5), (0.0, 0.5, 2.5, -1.0, -1.5, 1.5), (0.0, 0.5, 2.5, -1.0, -1.5, 2.5), (0.0, 0.5, 2.5, -1.0, -0.5, -2.5), (0.0, 0.5, 2.5, -1.0, -0.5, -1.5), (0.0, 0.5, 2.5, -1.0, -0.5, -0.5), (0.0, 0.5, 2.5, -1.0, -0.5, 0.5), (0.0, 0.5, 2.5, -1.0, -0.5, 1.5), (0.0, 0.5, 2.5, -1.0, -0.5, 2.5), (0.0, 0.5, 2.5, -1.0, 0.5, -2.5), (0.0, 0.5, 2.5, -1.0, 0.5, -1.5), (0.0, 0.5, 2.5, -1.0, 0.5, -0.5), (0.0, 0.5, 2.5, -1.0, 0.5, 0.5), (0.0, 0.5, 2.5, -1.0, 0.5, 1.5), (0.0, 0.5, 2.5, -1.0, 0.5, 2.5), (0.0, 0.5, 2.5, -1.0, 1.5, -2.5), (0.0, 0.5, 2.5, -1.0, 1.5, -1.5), (0.0, 0.5, 2.5, -1.0, 1.5, -0.5), (0.0, 0.5, 2.5, -1.0, 1.5, 0.5), (0.0, 0.5, 2.5, -1.0, 1.5, 1.5), (0.0, 0.5, 2.5, -1.0, 1.5, 2.5), (0.0, 0.5, 2.5, 0.0, -1.5, -2.5), (0.0, 0.5, 2.5, 0.0, -1.5, -1.5), (0.0, 0.5, 2.5, 0.0, -1.5, -0.5), (0.0, 0.5, 2.5, 0.0, -1.5, 0.5), (0.0, 0.5, 2.5, 0.0, -1.5, 1.5), (0.0, 0.5, 2.5, 0.0, -1.5, 2.5), (0.0, 0.5, 2.5, 0.0, -0.5, -2.5), (0.0, 0.5, 2.5, 0.0, -0.5, -1.5), (0.0, 0.5, 2.5, 0.0, -0.5, -0.5), (0.0, 0.5, 2.5, 0.0, -0.5, 0.5), (0.0, 0.5, 2.5, 0.0, -0.5, 1.5), (0.0, 0.5, 2.5, 0.0, -0.5, 2.5), (0.0, 0.5, 2.5, 0.0, 0.5, -2.5), (0.0, 0.5, 2.5, 0.0, 0.5, -1.5), (0.0, 0.5, 2.5, 0.0, 0.5, -0.5), (0.0, 0.5, 2.5, 0.0, 0.5, 0.5), (0.0, 0.5, 2.5, 0.0, 0.5, 1.5), (0.0, 0.5, 2.5, 0.0, 0.5, 2.5), (0.0, 0.5, 2.5, 0.0, 1.5, -2.5), (0.0, 0.5, 2.5, 0.0, 1.5, -1.5), (0.0, 0.5, 2.5, 0.0, 1.5, -0.5), (0.0, 0.5, 2.5, 0.0, 1.5, 0.5), (0.0, 0.5, 2.5, 0.0, 1.5, 1.5), (0.0, 0.5, 2.5, 0.0, 1.5, 2.5), (0.0, 0.5, 2.5, 1.0, -1.5, -2.5), (0.0, 0.5, 2.5, 1.0, -1.5, -1.5), (0.0, 0.5, 2.5, 1.0, -1.5, -0.5), (0.0, 0.5, 2.5, 1.0, -1.5, 0.5), (0.0, 0.5, 2.5, 1.0, -1.5, 1.5), (0.0, 0.5, 2.5, 1.0, -1.5, 2.5), (0.0, 0.5, 2.5, 1.0, -0.5, -2.5), (0.0, 0.5, 2.5, 1.0, -0.5, -1.5), (0.0, 0.5, 2.5, 1.0, -0.5, -0.5), (0.0, 0.5, 2.5, 1.0, -0.5, 0.5), (0.0, 0.5, 2.5, 1.0, -0.5, 1.5), (0.0, 0.5, 2.5, 1.0, -0.5, 2.5), (0.0, 0.5, 2.5, 1.0, 0.5, -2.5), (0.0, 0.5, 2.5, 1.0, 0.5, -1.5), (0.0, 0.5, 2.5, 1.0, 0.5, -0.5), (0.0, 0.5, 2.5, 1.0, 0.5, 0.5), (0.0, 0.5, 2.5, 1.0, 0.5, 1.5), (0.0, 0.5, 2.5, 1.0, 0.5, 2.5), (0.0, 0.5, 2.5, 1.0, 1.5, -2.5), (0.0, 0.5, 2.5, 1.0, 1.5, -1.5), (0.0, 0.5, 2.5, 1.0, 1.5, -0.5), (0.0, 0.5, 2.5, 1.0, 1.5, 0.5), (0.0, 0.5, 2.5, 1.0, 1.5, 1.5), (0.0, 0.5, 2.5, 1.0, 1.5, 2.5), (0.0, 1.5, -2.5, -1.0, -1.5, -2.5), (0.0, 1.5, -2.5, -1.0, -1.5, -1.5), (0.0, 1.5, -2.5, -1.0, -1.5, -0.5), (0.0, 1.5, -2.5, -1.0, -1.5, 0.5), (0.0, 1.5, -2.5, -1.0, -1.5, 1.5), (0.0, 1.5, -2.5, -1.0, -1.5, 2.5), (0.0, 1.5, -2.5, -1.0, -0.5, -2.5), (0.0, 1.5, -2.5, -1.0, -0.5, -1.5), (0.0, 1.5, -2.5, -1.0, -0.5, -0.5), (0.0, 1.5, -2.5, -1.0, -0.5, 0.5), (0.0, 1.5, -2.5, -1.0, -0.5, 1.5), (0.0, 1.5, -2.5, -1.0, -0.5, 2.5), (0.0, 1.5, -2.5, -1.0, 0.5, -2.5), (0.0, 1.5, -2.5, -1.0, 0.5, -1.5), (0.0, 1.5, -2.5, -1.0, 0.5, -0.5), (0.0, 1.5, -2.5, -1.0, 0.5, 0.5), (0.0, 1.5, -2.5, -1.0, 0.5, 1.5), (0.0, 1.5, -2.5, -1.0, 0.5, 2.5), (0.0, 1.5, -2.5, -1.0, 1.5, -2.5), (0.0, 1.5, -2.5, -1.0, 1.5, -1.5), (0.0, 1.5, -2.5, -1.0, 1.5, -0.5), (0.0, 1.5, -2.5, -1.0, 1.5, 0.5), (0.0, 1.5, -2.5, -1.0, 1.5, 1.5), (0.0, 1.5, -2.5, -1.0, 1.5, 2.5), (0.0, 1.5, -2.5, 0.0, -1.5, -2.5), (0.0, 1.5, -2.5, 0.0, -1.5, -1.5), (0.0, 1.5, -2.5, 0.0, -1.5, -0.5), (0.0, 1.5, -2.5, 0.0, -1.5, 0.5), (0.0, 1.5, -2.5, 0.0, -1.5, 1.5), (0.0, 1.5, -2.5, 0.0, -1.5, 2.5), (0.0, 1.5, -2.5, 0.0, -0.5, -2.5), (0.0, 1.5, -2.5, 0.0, -0.5, -1.5), (0.0, 1.5, -2.5, 0.0, -0.5, -0.5), (0.0, 1.5, -2.5, 0.0, -0.5, 0.5), (0.0, 1.5, -2.5, 0.0, -0.5, 1.5), (0.0, 1.5, -2.5, 0.0, -0.5, 2.5), (0.0, 1.5, -2.5, 0.0, 0.5, -2.5), (0.0, 1.5, -2.5, 0.0, 0.5, -1.5), (0.0, 1.5, -2.5, 0.0, 0.5, -0.5), (0.0, 1.5, -2.5, 0.0, 0.5, 0.5), (0.0, 1.5, -2.5, 0.0, 0.5, 1.5), (0.0, 1.5, -2.5, 0.0, 0.5, 2.5), (0.0, 1.5, -2.5, 0.0, 1.5, -2.5), (0.0, 1.5, -2.5, 0.0, 1.5, -1.5), (0.0, 1.5, -2.5, 0.0, 1.5, -0.5), (0.0, 1.5, -2.5, 0.0, 1.5, 0.5), (0.0, 1.5, -2.5, 0.0, 1.5, 1.5), (0.0, 1.5, -2.5, 0.0, 1.5, 2.5), (0.0, 1.5, -2.5, 1.0, -1.5, -2.5), (0.0, 1.5, -2.5, 1.0, -1.5, -1.5), (0.0, 1.5, -2.5, 1.0, -1.5, -0.5), (0.0, 1.5, -2.5, 1.0, -1.5, 0.5), (0.0, 1.5, -2.5, 1.0, -1.5, 1.5), (0.0, 1.5, -2.5, 1.0, -1.5, 2.5), (0.0, 1.5, -2.5, 1.0, -0.5, -2.5), (0.0, 1.5, -2.5, 1.0, -0.5, -1.5), (0.0, 1.5, -2.5, 1.0, -0.5, -0.5), (0.0, 1.5, -2.5, 1.0, -0.5, 0.5), (0.0, 1.5, -2.5, 1.0, -0.5, 1.5), (0.0, 1.5, -2.5, 1.0, -0.5, 2.5), (0.0, 1.5, -2.5, 1.0, 0.5, -2.5), (0.0, 1.5, -2.5, 1.0, 0.5, -1.5), (0.0, 1.5, -2.5, 1.0, 0.5, -0.5), (0.0, 1.5, -2.5, 1.0, 0.5, 0.5), (0.0, 1.5, -2.5, 1.0, 0.5, 1.5), (0.0, 1.5, -2.5, 1.0, 0.5, 2.5), (0.0, 1.5, -2.5, 1.0, 1.5, -2.5), (0.0, 1.5, -2.5, 1.0, 1.5, -1.5), (0.0, 1.5, -2.5, 1.0, 1.5, -0.5), (0.0, 1.5, -2.5, 1.0, 1.5, 0.5), (0.0, 1.5, -2.5, 1.0, 1.5, 1.5), (0.0, 1.5, -2.5, 1.0, 1.5, 2.5), (0.0, 1.5, -1.5, -1.0, -1.5, -2.5), (0.0, 1.5, -1.5, -1.0, -1.5, -1.5), (0.0, 1.5, -1.5, -1.0, -1.5, -0.5), (0.0, 1.5, -1.5, -1.0, -1.5, 0.5), (0.0, 1.5, -1.5, -1.0, -1.5, 1.5), (0.0, 1.5, -1.5, -1.0, -1.5, 2.5), (0.0, 1.5, -1.5, -1.0, -0.5, -2.5), (0.0, 1.5, -1.5, -1.0, -0.5, -1.5), (0.0, 1.5, -1.5, -1.0, -0.5, -0.5), (0.0, 1.5, -1.5, -1.0, -0.5, 0.5), (0.0, 1.5, -1.5, -1.0, -0.5, 1.5), (0.0, 1.5, -1.5, -1.0, -0.5, 2.5), (0.0, 1.5, -1.5, -1.0, 0.5, -2.5), (0.0, 1.5, -1.5, -1.0, 0.5, -1.5), (0.0, 1.5, -1.5, -1.0, 0.5, -0.5), (0.0, 1.5, -1.5, -1.0, 0.5, 0.5), (0.0, 1.5, -1.5, -1.0, 0.5, 1.5), (0.0, 1.5, -1.5, -1.0, 0.5, 2.5), (0.0, 1.5, -1.5, -1.0, 1.5, -2.5), (0.0, 1.5, -1.5, -1.0, 1.5, -1.5), (0.0, 1.5, -1.5, -1.0, 1.5, -0.5), (0.0, 1.5, -1.5, -1.0, 1.5, 0.5), (0.0, 1.5, -1.5, -1.0, 1.5, 1.5), (0.0, 1.5, -1.5, -1.0, 1.5, 2.5), (0.0, 1.5, -1.5, 0.0, -1.5, -2.5), (0.0, 1.5, -1.5, 0.0, -1.5, -1.5), (0.0, 1.5, -1.5, 0.0, -1.5, -0.5), (0.0, 1.5, -1.5, 0.0, -1.5, 0.5), (0.0, 1.5, -1.5, 0.0, -1.5, 1.5), (0.0, 1.5, -1.5, 0.0, -1.5, 2.5), (0.0, 1.5, -1.5, 0.0, -0.5, -2.5), (0.0, 1.5, -1.5, 0.0, -0.5, -1.5), (0.0, 1.5, -1.5, 0.0, -0.5, -0.5), (0.0, 1.5, -1.5, 0.0, -0.5, 0.5), (0.0, 1.5, -1.5, 0.0, -0.5, 1.5), (0.0, 1.5, -1.5, 0.0, -0.5, 2.5), (0.0, 1.5, -1.5, 0.0, 0.5, -2.5), (0.0, 1.5, -1.5, 0.0, 0.5, -1.5), (0.0, 1.5, -1.5, 0.0, 0.5, -0.5), (0.0, 1.5, -1.5, 0.0, 0.5, 0.5), (0.0, 1.5, -1.5, 0.0, 0.5, 1.5), (0.0, 1.5, -1.5, 0.0, 0.5, 2.5), (0.0, 1.5, -1.5, 0.0, 1.5, -2.5), (0.0, 1.5, -1.5, 0.0, 1.5, -1.5), (0.0, 1.5, -1.5, 0.0, 1.5, -0.5), (0.0, 1.5, -1.5, 0.0, 1.5, 0.5), (0.0, 1.5, -1.5, 0.0, 1.5, 1.5), (0.0, 1.5, -1.5, 0.0, 1.5, 2.5), (0.0, 1.5, -1.5, 1.0, -1.5, -2.5), (0.0, 1.5, -1.5, 1.0, -1.5, -1.5), (0.0, 1.5, -1.5, 1.0, -1.5, -0.5), (0.0, 1.5, -1.5, 1.0, -1.5, 0.5), (0.0, 1.5, -1.5, 1.0, -1.5, 1.5), (0.0, 1.5, -1.5, 1.0, -1.5, 2.5), (0.0, 1.5, -1.5, 1.0, -0.5, -2.5), (0.0, 1.5, -1.5, 1.0, -0.5, -1.5), (0.0, 1.5, -1.5, 1.0, -0.5, -0.5), (0.0, 1.5, -1.5, 1.0, -0.5, 0.5), (0.0, 1.5, -1.5, 1.0, -0.5, 1.5), (0.0, 1.5, -1.5, 1.0, -0.5, 2.5), (0.0, 1.5, -1.5, 1.0, 0.5, -2.5), (0.0, 1.5, -1.5, 1.0, 0.5, -1.5), (0.0, 1.5, -1.5, 1.0, 0.5, -0.5), (0.0, 1.5, -1.5, 1.0, 0.5, 0.5), (0.0, 1.5, -1.5, 1.0, 0.5, 1.5), (0.0, 1.5, -1.5, 1.0, 0.5, 2.5), (0.0, 1.5, -1.5, 1.0, 1.5, -2.5), (0.0, 1.5, -1.5, 1.0, 1.5, -1.5), (0.0, 1.5, -1.5, 1.0, 1.5, -0.5), (0.0, 1.5, -1.5, 1.0, 1.5, 0.5), (0.0, 1.5, -1.5, 1.0, 1.5, 1.5), (0.0, 1.5, -1.5, 1.0, 1.5, 2.5), (0.0, 1.5, -0.5, -1.0, -1.5, -2.5), (0.0, 1.5, -0.5, -1.0, -1.5, -1.5), (0.0, 1.5, -0.5, -1.0, -1.5, -0.5), (0.0, 1.5, -0.5, -1.0, -1.5, 0.5), (0.0, 1.5, -0.5, -1.0, -1.5, 1.5), (0.0, 1.5, -0.5, -1.0, -1.5, 2.5), (0.0, 1.5, -0.5, -1.0, -0.5, -2.5), (0.0, 1.5, -0.5, -1.0, -0.5, -1.5), (0.0, 1.5, -0.5, -1.0, -0.5, -0.5), (0.0, 1.5, -0.5, -1.0, -0.5, 0.5), (0.0, 1.5, -0.5, -1.0, -0.5, 1.5), (0.0, 1.5, -0.5, -1.0, -0.5, 2.5), (0.0, 1.5, -0.5, -1.0, 0.5, -2.5), (0.0, 1.5, -0.5, -1.0, 0.5, -1.5), (0.0, 1.5, -0.5, -1.0, 0.5, -0.5), (0.0, 1.5, -0.5, -1.0, 0.5, 0.5), (0.0, 1.5, -0.5, -1.0, 0.5, 1.5), (0.0, 1.5, -0.5, -1.0, 0.5, 2.5), (0.0, 1.5, -0.5, -1.0, 1.5, -2.5), (0.0, 1.5, -0.5, -1.0, 1.5, -1.5), (0.0, 1.5, -0.5, -1.0, 1.5, -0.5), (0.0, 1.5, -0.5, -1.0, 1.5, 0.5), (0.0, 1.5, -0.5, -1.0, 1.5, 1.5), (0.0, 1.5, -0.5, -1.0, 1.5, 2.5), (0.0, 1.5, -0.5, 0.0, -1.5, -2.5), (0.0, 1.5, -0.5, 0.0, -1.5, -1.5), (0.0, 1.5, -0.5, 0.0, -1.5, -0.5), (0.0, 1.5, -0.5, 0.0, -1.5, 0.5), (0.0, 1.5, -0.5, 0.0, -1.5, 1.5), (0.0, 1.5, -0.5, 0.0, -1.5, 2.5), (0.0, 1.5, -0.5, 0.0, -0.5, -2.5), (0.0, 1.5, -0.5, 0.0, -0.5, -1.5), (0.0, 1.5, -0.5, 0.0, -0.5, -0.5), (0.0, 1.5, -0.5, 0.0, -0.5, 0.5), (0.0, 1.5, -0.5, 0.0, -0.5, 1.5), (0.0, 1.5, -0.5, 0.0, -0.5, 2.5), (0.0, 1.5, -0.5, 0.0, 0.5, -2.5), (0.0, 1.5, -0.5, 0.0, 0.5, -1.5), (0.0, 1.5, -0.5, 0.0, 0.5, -0.5), (0.0, 1.5, -0.5, 0.0, 0.5, 0.5), (0.0, 1.5, -0.5, 0.0, 0.5, 1.5), (0.0, 1.5, -0.5, 0.0, 0.5, 2.5), (0.0, 1.5, -0.5, 0.0, 1.5, -2.5), (0.0, 1.5, -0.5, 0.0, 1.5, -1.5), (0.0, 1.5, -0.5, 0.0, 1.5, -0.5), (0.0, 1.5, -0.5, 0.0, 1.5, 0.5), (0.0, 1.5, -0.5, 0.0, 1.5, 1.5), (0.0, 1.5, -0.5, 0.0, 1.5, 2.5), (0.0, 1.5, -0.5, 1.0, -1.5, -2.5), (0.0, 1.5, -0.5, 1.0, -1.5, -1.5), (0.0, 1.5, -0.5, 1.0, -1.5, -0.5), (0.0, 1.5, -0.5, 1.0, -1.5, 0.5), (0.0, 1.5, -0.5, 1.0, -1.5, 1.5), (0.0, 1.5, -0.5, 1.0, -1.5, 2.5), (0.0, 1.5, -0.5, 1.0, -0.5, -2.5), (0.0, 1.5, -0.5, 1.0, -0.5, -1.5), (0.0, 1.5, -0.5, 1.0, -0.5, -0.5), (0.0, 1.5, -0.5, 1.0, -0.5, 0.5), (0.0, 1.5, -0.5, 1.0, -0.5, 1.5), (0.0, 1.5, -0.5, 1.0, -0.5, 2.5), (0.0, 1.5, -0.5, 1.0, 0.5, -2.5), (0.0, 1.5, -0.5, 1.0, 0.5, -1.5), (0.0, 1.5, -0.5, 1.0, 0.5, -0.5), (0.0, 1.5, -0.5, 1.0, 0.5, 0.5), (0.0, 1.5, -0.5, 1.0, 0.5, 1.5), (0.0, 1.5, -0.5, 1.0, 0.5, 2.5), (0.0, 1.5, -0.5, 1.0, 1.5, -2.5), (0.0, 1.5, -0.5, 1.0, 1.5, -1.5), (0.0, 1.5, -0.5, 1.0, 1.5, -0.5), (0.0, 1.5, -0.5, 1.0, 1.5, 0.5), (0.0, 1.5, -0.5, 1.0, 1.5, 1.5), (0.0, 1.5, -0.5, 1.0, 1.5, 2.5), (0.0, 1.5, 0.5, -1.0, -1.5, -2.5), (0.0, 1.5, 0.5, -1.0, -1.5, -1.5), (0.0, 1.5, 0.5, -1.0, -1.5, -0.5), (0.0, 1.5, 0.5, -1.0, -1.5, 0.5), (0.0, 1.5, 0.5, -1.0, -1.5, 1.5), (0.0, 1.5, 0.5, -1.0, -1.5, 2.5), (0.0, 1.5, 0.5, -1.0, -0.5, -2.5), (0.0, 1.5, 0.5, -1.0, -0.5, -1.5), (0.0, 1.5, 0.5, -1.0, -0.5, -0.5), (0.0, 1.5, 0.5, -1.0, -0.5, 0.5), (0.0, 1.5, 0.5, -1.0, -0.5, 1.5), (0.0, 1.5, 0.5, -1.0, -0.5, 2.5), (0.0, 1.5, 0.5, -1.0, 0.5, -2.5), (0.0, 1.5, 0.5, -1.0, 0.5, -1.5), (0.0, 1.5, 0.5, -1.0, 0.5, -0.5), (0.0, 1.5, 0.5, -1.0, 0.5, 0.5), (0.0, 1.5, 0.5, -1.0, 0.5, 1.5), (0.0, 1.5, 0.5, -1.0, 0.5, 2.5), (0.0, 1.5, 0.5, -1.0, 1.5, -2.5), (0.0, 1.5, 0.5, -1.0, 1.5, -1.5), (0.0, 1.5, 0.5, -1.0, 1.5, -0.5), (0.0, 1.5, 0.5, -1.0, 1.5, 0.5), (0.0, 1.5, 0.5, -1.0, 1.5, 1.5), (0.0, 1.5, 0.5, -1.0, 1.5, 2.5), (0.0, 1.5, 0.5, 0.0, -1.5, -2.5), (0.0, 1.5, 0.5, 0.0, -1.5, -1.5), (0.0, 1.5, 0.5, 0.0, -1.5, -0.5), (0.0, 1.5, 0.5, 0.0, -1.5, 0.5), (0.0, 1.5, 0.5, 0.0, -1.5, 1.5), (0.0, 1.5, 0.5, 0.0, -1.5, 2.5), (0.0, 1.5, 0.5, 0.0, -0.5, -2.5), (0.0, 1.5, 0.5, 0.0, -0.5, -1.5), (0.0, 1.5, 0.5, 0.0, -0.5, -0.5), (0.0, 1.5, 0.5, 0.0, -0.5, 0.5), (0.0, 1.5, 0.5, 0.0, -0.5, 1.5), (0.0, 1.5, 0.5, 0.0, -0.5, 2.5), (0.0, 1.5, 0.5, 0.0, 0.5, -2.5), (0.0, 1.5, 0.5, 0.0, 0.5, -1.5), (0.0, 1.5, 0.5, 0.0, 0.5, -0.5), (0.0, 1.5, 0.5, 0.0, 0.5, 0.5), (0.0, 1.5, 0.5, 0.0, 0.5, 1.5), (0.0, 1.5, 0.5, 0.0, 0.5, 2.5), (0.0, 1.5, 0.5, 0.0, 1.5, -2.5), (0.0, 1.5, 0.5, 0.0, 1.5, -1.5), (0.0, 1.5, 0.5, 0.0, 1.5, -0.5), (0.0, 1.5, 0.5, 0.0, 1.5, 0.5), (0.0, 1.5, 0.5, 0.0, 1.5, 1.5), (0.0, 1.5, 0.5, 0.0, 1.5, 2.5), (0.0, 1.5, 0.5, 1.0, -1.5, -2.5), (0.0, 1.5, 0.5, 1.0, -1.5, -1.5), (0.0, 1.5, 0.5, 1.0, -1.5, -0.5), (0.0, 1.5, 0.5, 1.0, -1.5, 0.5), (0.0, 1.5, 0.5, 1.0, -1.5, 1.5), (0.0, 1.5, 0.5, 1.0, -1.5, 2.5), (0.0, 1.5, 0.5, 1.0, -0.5, -2.5), (0.0, 1.5, 0.5, 1.0, -0.5, -1.5), (0.0, 1.5, 0.5, 1.0, -0.5, -0.5), (0.0, 1.5, 0.5, 1.0, -0.5, 0.5), (0.0, 1.5, 0.5, 1.0, -0.5, 1.5), (0.0, 1.5, 0.5, 1.0, -0.5, 2.5), (0.0, 1.5, 0.5, 1.0, 0.5, -2.5), (0.0, 1.5, 0.5, 1.0, 0.5, -1.5), (0.0, 1.5, 0.5, 1.0, 0.5, -0.5), (0.0, 1.5, 0.5, 1.0, 0.5, 0.5), (0.0, 1.5, 0.5, 1.0, 0.5, 1.5), (0.0, 1.5, 0.5, 1.0, 0.5, 2.5), (0.0, 1.5, 0.5, 1.0, 1.5, -2.5), (0.0, 1.5, 0.5, 1.0, 1.5, -1.5), (0.0, 1.5, 0.5, 1.0, 1.5, -0.5), (0.0, 1.5, 0.5, 1.0, 1.5, 0.5), (0.0, 1.5, 0.5, 1.0, 1.5, 1.5), (0.0, 1.5, 0.5, 1.0, 1.5, 2.5), (0.0, 1.5, 1.5, -1.0, -1.5, -2.5), (0.0, 1.5, 1.5, -1.0, -1.5, -1.5), (0.0, 1.5, 1.5, -1.0, -1.5, -0.5), (0.0, 1.5, 1.5, -1.0, -1.5, 0.5), (0.0, 1.5, 1.5, -1.0, -1.5, 1.5), (0.0, 1.5, 1.5, -1.0, -1.5, 2.5), (0.0, 1.5, 1.5, -1.0, -0.5, -2.5), (0.0, 1.5, 1.5, -1.0, -0.5, -1.5), (0.0, 1.5, 1.5, -1.0, -0.5, -0.5), (0.0, 1.5, 1.5, -1.0, -0.5, 0.5), (0.0, 1.5, 1.5, -1.0, -0.5, 1.5), (0.0, 1.5, 1.5, -1.0, -0.5, 2.5), (0.0, 1.5, 1.5, -1.0, 0.5, -2.5), (0.0, 1.5, 1.5, -1.0, 0.5, -1.5), (0.0, 1.5, 1.5, -1.0, 0.5, -0.5), (0.0, 1.5, 1.5, -1.0, 0.5, 0.5), (0.0, 1.5, 1.5, -1.0, 0.5, 1.5), (0.0, 1.5, 1.5, -1.0, 0.5, 2.5), (0.0, 1.5, 1.5, -1.0, 1.5, -2.5), (0.0, 1.5, 1.5, -1.0, 1.5, -1.5), (0.0, 1.5, 1.5, -1.0, 1.5, -0.5), (0.0, 1.5, 1.5, -1.0, 1.5, 0.5), (0.0, 1.5, 1.5, -1.0, 1.5, 1.5), (0.0, 1.5, 1.5, -1.0, 1.5, 2.5), (0.0, 1.5, 1.5, 0.0, -1.5, -2.5), (0.0, 1.5, 1.5, 0.0, -1.5, -1.5), (0.0, 1.5, 1.5, 0.0, -1.5, -0.5), (0.0, 1.5, 1.5, 0.0, -1.5, 0.5), (0.0, 1.5, 1.5, 0.0, -1.5, 1.5), (0.0, 1.5, 1.5, 0.0, -1.5, 2.5), (0.0, 1.5, 1.5, 0.0, -0.5, -2.5), (0.0, 1.5, 1.5, 0.0, -0.5, -1.5), (0.0, 1.5, 1.5, 0.0, -0.5, -0.5), (0.0, 1.5, 1.5, 0.0, -0.5, 0.5), (0.0, 1.5, 1.5, 0.0, -0.5, 1.5), (0.0, 1.5, 1.5, 0.0, -0.5, 2.5), (0.0, 1.5, 1.5, 0.0, 0.5, -2.5), (0.0, 1.5, 1.5, 0.0, 0.5, -1.5), (0.0, 1.5, 1.5, 0.0, 0.5, -0.5), (0.0, 1.5, 1.5, 0.0, 0.5, 0.5), (0.0, 1.5, 1.5, 0.0, 0.5, 1.5), (0.0, 1.5, 1.5, 0.0, 0.5, 2.5), (0.0, 1.5, 1.5, 0.0, 1.5, -2.5), (0.0, 1.5, 1.5, 0.0, 1.5, -1.5), (0.0, 1.5, 1.5, 0.0, 1.5, -0.5), (0.0, 1.5, 1.5, 0.0, 1.5, 0.5), (0.0, 1.5, 1.5, 0.0, 1.5, 1.5), (0.0, 1.5, 1.5, 0.0, 1.5, 2.5), (0.0, 1.5, 1.5, 1.0, -1.5, -2.5), (0.0, 1.5, 1.5, 1.0, -1.5, -1.5), (0.0, 1.5, 1.5, 1.0, -1.5, -0.5), (0.0, 1.5, 1.5, 1.0, -1.5, 0.5), (0.0, 1.5, 1.5, 1.0, -1.5, 1.5), (0.0, 1.5, 1.5, 1.0, -1.5, 2.5), (0.0, 1.5, 1.5, 1.0, -0.5, -2.5), (0.0, 1.5, 1.5, 1.0, -0.5, -1.5), (0.0, 1.5, 1.5, 1.0, -0.5, -0.5), (0.0, 1.5, 1.5, 1.0, -0.5, 0.5), (0.0, 1.5, 1.5, 1.0, -0.5, 1.5), (0.0, 1.5, 1.5, 1.0, -0.5, 2.5), (0.0, 1.5, 1.5, 1.0, 0.5, -2.5), (0.0, 1.5, 1.5, 1.0, 0.5, -1.5), (0.0, 1.5, 1.5, 1.0, 0.5, -0.5), (0.0, 1.5, 1.5, 1.0, 0.5, 0.5), (0.0, 1.5, 1.5, 1.0, 0.5, 1.5), (0.0, 1.5, 1.5, 1.0, 0.5, 2.5), (0.0, 1.5, 1.5, 1.0, 1.5, -2.5), (0.0, 1.5, 1.5, 1.0, 1.5, -1.5), (0.0, 1.5, 1.5, 1.0, 1.5, -0.5), (0.0, 1.5, 1.5, 1.0, 1.5, 0.5), (0.0, 1.5, 1.5, 1.0, 1.5, 1.5), (0.0, 1.5, 1.5, 1.0, 1.5, 2.5), (0.0, 1.5, 2.5, -1.0, -1.5, -2.5), (0.0, 1.5, 2.5, -1.0, -1.5, -1.5), (0.0, 1.5, 2.5, -1.0, -1.5, -0.5), (0.0, 1.5, 2.5, -1.0, -1.5, 0.5), (0.0, 1.5, 2.5, -1.0, -1.5, 1.5), (0.0, 1.5, 2.5, -1.0, -1.5, 2.5), (0.0, 1.5, 2.5, -1.0, -0.5, -2.5), (0.0, 1.5, 2.5, -1.0, -0.5, -1.5), (0.0, 1.5, 2.5, -1.0, -0.5, -0.5), (0.0, 1.5, 2.5, -1.0, -0.5, 0.5), (0.0, 1.5, 2.5, -1.0, -0.5, 1.5), (0.0, 1.5, 2.5, -1.0, -0.5, 2.5), (0.0, 1.5, 2.5, -1.0, 0.5, -2.5), (0.0, 1.5, 2.5, -1.0, 0.5, -1.5), (0.0, 1.5, 2.5, -1.0, 0.5, -0.5), (0.0, 1.5, 2.5, -1.0, 0.5, 0.5), (0.0, 1.5, 2.5, -1.0, 0.5, 1.5), (0.0, 1.5, 2.5, -1.0, 0.5, 2.5), (0.0, 1.5, 2.5, -1.0, 1.5, -2.5), (0.0, 1.5, 2.5, -1.0, 1.5, -1.5), (0.0, 1.5, 2.5, -1.0, 1.5, -0.5), (0.0, 1.5, 2.5, -1.0, 1.5, 0.5), (0.0, 1.5, 2.5, -1.0, 1.5, 1.5), (0.0, 1.5, 2.5, -1.0, 1.5, 2.5), (0.0, 1.5, 2.5, 0.0, -1.5, -2.5), (0.0, 1.5, 2.5, 0.0, -1.5, -1.5), (0.0, 1.5, 2.5, 0.0, -1.5, -0.5), (0.0, 1.5, 2.5, 0.0, -1.5, 0.5), (0.0, 1.5, 2.5, 0.0, -1.5, 1.5), (0.0, 1.5, 2.5, 0.0, -1.5, 2.5), (0.0, 1.5, 2.5, 0.0, -0.5, -2.5), (0.0, 1.5, 2.5, 0.0, -0.5, -1.5), (0.0, 1.5, 2.5, 0.0, -0.5, -0.5), (0.0, 1.5, 2.5, 0.0, -0.5, 0.5), (0.0, 1.5, 2.5, 0.0, -0.5, 1.5), (0.0, 1.5, 2.5, 0.0, -0.5, 2.5), (0.0, 1.5, 2.5, 0.0, 0.5, -2.5), (0.0, 1.5, 2.5, 0.0, 0.5, -1.5), (0.0, 1.5, 2.5, 0.0, 0.5, -0.5), (0.0, 1.5, 2.5, 0.0, 0.5, 0.5), (0.0, 1.5, 2.5, 0.0, 0.5, 1.5), (0.0, 1.5, 2.5, 0.0, 0.5, 2.5), (0.0, 1.5, 2.5, 0.0, 1.5, -2.5), (0.0, 1.5, 2.5, 0.0, 1.5, -1.5), (0.0, 1.5, 2.5, 0.0, 1.5, -0.5), (0.0, 1.5, 2.5, 0.0, 1.5, 0.5), (0.0, 1.5, 2.5, 0.0, 1.5, 1.5), (0.0, 1.5, 2.5, 0.0, 1.5, 2.5), (0.0, 1.5, 2.5, 1.0, -1.5, -2.5), (0.0, 1.5, 2.5, 1.0, -1.5, -1.5), (0.0, 1.5, 2.5, 1.0, -1.5, -0.5), (0.0, 1.5, 2.5, 1.0, -1.5, 0.5), (0.0, 1.5, 2.5, 1.0, -1.5, 1.5), (0.0, 1.5, 2.5, 1.0, -1.5, 2.5), (0.0, 1.5, 2.5, 1.0, -0.5, -2.5), (0.0, 1.5, 2.5, 1.0, -0.5, -1.5), (0.0, 1.5, 2.5, 1.0, -0.5, -0.5), (0.0, 1.5, 2.5, 1.0, -0.5, 0.5), (0.0, 1.5, 2.5, 1.0, -0.5, 1.5), (0.0, 1.5, 2.5, 1.0, -0.5, 2.5), (0.0, 1.5, 2.5, 1.0, 0.5, -2.5), (0.0, 1.5, 2.5, 1.0, 0.5, -1.5), (0.0, 1.5, 2.5, 1.0, 0.5, -0.5), (0.0, 1.5, 2.5, 1.0, 0.5, 0.5), (0.0, 1.5, 2.5, 1.0, 0.5, 1.5), (0.0, 1.5, 2.5, 1.0, 0.5, 2.5), (0.0, 1.5, 2.5, 1.0, 1.5, -2.5), (0.0, 1.5, 2.5, 1.0, 1.5, -1.5), (0.0, 1.5, 2.5, 1.0, 1.5, -0.5), (0.0, 1.5, 2.5, 1.0, 1.5, 0.5), (0.0, 1.5, 2.5, 1.0, 1.5, 1.5), (0.0, 1.5, 2.5, 1.0, 1.5, 2.5), (1.0, -1.5, -2.5, -1.0, -1.5, -2.5), (1.0, -1.5, -2.5, -1.0, -1.5, -1.5), (1.0, -1.5, -2.5, -1.0, -1.5, -0.5), (1.0, -1.5, -2.5, -1.0, -1.5, 0.5), (1.0, -1.5, -2.5, -1.0, -1.5, 1.5), (1.0, -1.5, -2.5, -1.0, -1.5, 2.5), (1.0, -1.5, -2.5, -1.0, -0.5, -2.5), (1.0, -1.5, -2.5, -1.0, -0.5, -1.5), (1.0, -1.5, -2.5, -1.0, -0.5, -0.5), (1.0, -1.5, -2.5, -1.0, -0.5, 0.5), (1.0, -1.5, -2.5, -1.0, -0.5, 1.5), (1.0, -1.5, -2.5, -1.0, -0.5, 2.5), (1.0, -1.5, -2.5, -1.0, 0.5, -2.5), (1.0, -1.5, -2.5, -1.0, 0.5, -1.5), (1.0, -1.5, -2.5, -1.0, 0.5, -0.5), (1.0, -1.5, -2.5, -1.0, 0.5, 0.5), (1.0, -1.5, -2.5, -1.0, 0.5, 1.5), (1.0, -1.5, -2.5, -1.0, 0.5, 2.5), (1.0, -1.5, -2.5, -1.0, 1.5, -2.5), (1.0, -1.5, -2.5, -1.0, 1.5, -1.5), (1.0, -1.5, -2.5, -1.0, 1.5, -0.5), (1.0, -1.5, -2.5, -1.0, 1.5, 0.5), (1.0, -1.5, -2.5, -1.0, 1.5, 1.5), (1.0, -1.5, -2.5, -1.0, 1.5, 2.5), (1.0, -1.5, -2.5, 0.0, -1.5, -2.5), (1.0, -1.5, -2.5, 0.0, -1.5, -1.5), (1.0, -1.5, -2.5, 0.0, -1.5, -0.5), (1.0, -1.5, -2.5, 0.0, -1.5, 0.5), (1.0, -1.5, -2.5, 0.0, -1.5, 1.5), (1.0, -1.5, -2.5, 0.0, -1.5, 2.5), (1.0, -1.5, -2.5, 0.0, -0.5, -2.5), (1.0, -1.5, -2.5, 0.0, -0.5, -1.5), (1.0, -1.5, -2.5, 0.0, -0.5, -0.5), (1.0, -1.5, -2.5, 0.0, -0.5, 0.5), (1.0, -1.5, -2.5, 0.0, -0.5, 1.5), (1.0, -1.5, -2.5, 0.0, -0.5, 2.5), (1.0, -1.5, -2.5, 0.0, 0.5, -2.5), (1.0, -1.5, -2.5, 0.0, 0.5, -1.5), (1.0, -1.5, -2.5, 0.0, 0.5, -0.5), (1.0, -1.5, -2.5, 0.0, 0.5, 0.5), (1.0, -1.5, -2.5, 0.0, 0.5, 1.5), (1.0, -1.5, -2.5, 0.0, 0.5, 2.5), (1.0, -1.5, -2.5, 0.0, 1.5, -2.5), (1.0, -1.5, -2.5, 0.0, 1.5, -1.5), (1.0, -1.5, -2.5, 0.0, 1.5, -0.5), (1.0, -1.5, -2.5, 0.0, 1.5, 0.5), (1.0, -1.5, -2.5, 0.0, 1.5, 1.5), (1.0, -1.5, -2.5, 0.0, 1.5, 2.5), (1.0, -1.5, -2.5, 1.0, -1.5, -2.5), (1.0, -1.5, -2.5, 1.0, -1.5, -1.5), (1.0, -1.5, -2.5, 1.0, -1.5, -0.5), (1.0, -1.5, -2.5, 1.0, -1.5, 0.5), (1.0, -1.5, -2.5, 1.0, -1.5, 1.5), (1.0, -1.5, -2.5, 1.0, -1.5, 2.5), (1.0, -1.5, -2.5, 1.0, -0.5, -2.5), (1.0, -1.5, -2.5, 1.0, -0.5, -1.5), (1.0, -1.5, -2.5, 1.0, -0.5, -0.5), (1.0, -1.5, -2.5, 1.0, -0.5, 0.5), (1.0, -1.5, -2.5, 1.0, -0.5, 1.5), (1.0, -1.5, -2.5, 1.0, -0.5, 2.5), (1.0, -1.5, -2.5, 1.0, 0.5, -2.5), (1.0, -1.5, -2.5, 1.0, 0.5, -1.5), (1.0, -1.5, -2.5, 1.0, 0.5, -0.5), (1.0, -1.5, -2.5, 1.0, 0.5, 0.5), (1.0, -1.5, -2.5, 1.0, 0.5, 1.5), (1.0, -1.5, -2.5, 1.0, 0.5, 2.5), (1.0, -1.5, -2.5, 1.0, 1.5, -2.5), (1.0, -1.5, -2.5, 1.0, 1.5, -1.5), (1.0, -1.5, -2.5, 1.0, 1.5, -0.5), (1.0, -1.5, -2.5, 1.0, 1.5, 0.5), (1.0, -1.5, -2.5, 1.0, 1.5, 1.5), (1.0, -1.5, -2.5, 1.0, 1.5, 2.5), (1.0, -1.5, -1.5, -1.0, -1.5, -2.5), (1.0, -1.5, -1.5, -1.0, -1.5, -1.5), (1.0, -1.5, -1.5, -1.0, -1.5, -0.5), (1.0, -1.5, -1.5, -1.0, -1.5, 0.5), (1.0, -1.5, -1.5, -1.0, -1.5, 1.5), (1.0, -1.5, -1.5, -1.0, -1.5, 2.5), (1.0, -1.5, -1.5, -1.0, -0.5, -2.5), (1.0, -1.5, -1.5, -1.0, -0.5, -1.5), (1.0, -1.5, -1.5, -1.0, -0.5, -0.5), (1.0, -1.5, -1.5, -1.0, -0.5, 0.5), (1.0, -1.5, -1.5, -1.0, -0.5, 1.5), (1.0, -1.5, -1.5, -1.0, -0.5, 2.5), (1.0, -1.5, -1.5, -1.0, 0.5, -2.5), (1.0, -1.5, -1.5, -1.0, 0.5, -1.5), (1.0, -1.5, -1.5, -1.0, 0.5, -0.5), (1.0, -1.5, -1.5, -1.0, 0.5, 0.5), (1.0, -1.5, -1.5, -1.0, 0.5, 1.5), (1.0, -1.5, -1.5, -1.0, 0.5, 2.5), (1.0, -1.5, -1.5, -1.0, 1.5, -2.5), (1.0, -1.5, -1.5, -1.0, 1.5, -1.5), (1.0, -1.5, -1.5, -1.0, 1.5, -0.5), (1.0, -1.5, -1.5, -1.0, 1.5, 0.5), (1.0, -1.5, -1.5, -1.0, 1.5, 1.5), (1.0, -1.5, -1.5, -1.0, 1.5, 2.5), (1.0, -1.5, -1.5, 0.0, -1.5, -2.5), (1.0, -1.5, -1.5, 0.0, -1.5, -1.5), (1.0, -1.5, -1.5, 0.0, -1.5, -0.5), (1.0, -1.5, -1.5, 0.0, -1.5, 0.5), (1.0, -1.5, -1.5, 0.0, -1.5, 1.5), (1.0, -1.5, -1.5, 0.0, -1.5, 2.5), (1.0, -1.5, -1.5, 0.0, -0.5, -2.5), (1.0, -1.5, -1.5, 0.0, -0.5, -1.5), (1.0, -1.5, -1.5, 0.0, -0.5, -0.5), (1.0, -1.5, -1.5, 0.0, -0.5, 0.5), (1.0, -1.5, -1.5, 0.0, -0.5, 1.5), (1.0, -1.5, -1.5, 0.0, -0.5, 2.5), (1.0, -1.5, -1.5, 0.0, 0.5, -2.5), (1.0, -1.5, -1.5, 0.0, 0.5, -1.5), (1.0, -1.5, -1.5, 0.0, 0.5, -0.5), (1.0, -1.5, -1.5, 0.0, 0.5, 0.5), (1.0, -1.5, -1.5, 0.0, 0.5, 1.5), (1.0, -1.5, -1.5, 0.0, 0.5, 2.5), (1.0, -1.5, -1.5, 0.0, 1.5, -2.5), (1.0, -1.5, -1.5, 0.0, 1.5, -1.5), (1.0, -1.5, -1.5, 0.0, 1.5, -0.5), (1.0, -1.5, -1.5, 0.0, 1.5, 0.5), (1.0, -1.5, -1.5, 0.0, 1.5, 1.5), (1.0, -1.5, -1.5, 0.0, 1.5, 2.5), (1.0, -1.5, -1.5, 1.0, -1.5, -2.5), (1.0, -1.5, -1.5, 1.0, -1.5, -1.5), (1.0, -1.5, -1.5, 1.0, -1.5, -0.5), (1.0, -1.5, -1.5, 1.0, -1.5, 0.5), (1.0, -1.5, -1.5, 1.0, -1.5, 1.5), (1.0, -1.5, -1.5, 1.0, -1.5, 2.5), (1.0, -1.5, -1.5, 1.0, -0.5, -2.5), (1.0, -1.5, -1.5, 1.0, -0.5, -1.5), (1.0, -1.5, -1.5, 1.0, -0.5, -0.5), (1.0, -1.5, -1.5, 1.0, -0.5, 0.5), (1.0, -1.5, -1.5, 1.0, -0.5, 1.5), (1.0, -1.5, -1.5, 1.0, -0.5, 2.5), (1.0, -1.5, -1.5, 1.0, 0.5, -2.5), (1.0, -1.5, -1.5, 1.0, 0.5, -1.5), (1.0, -1.5, -1.5, 1.0, 0.5, -0.5), (1.0, -1.5, -1.5, 1.0, 0.5, 0.5), (1.0, -1.5, -1.5, 1.0, 0.5, 1.5), (1.0, -1.5, -1.5, 1.0, 0.5, 2.5), (1.0, -1.5, -1.5, 1.0, 1.5, -2.5), (1.0, -1.5, -1.5, 1.0, 1.5, -1.5), (1.0, -1.5, -1.5, 1.0, 1.5, -0.5), (1.0, -1.5, -1.5, 1.0, 1.5, 0.5), (1.0, -1.5, -1.5, 1.0, 1.5, 1.5), (1.0, -1.5, -1.5, 1.0, 1.5, 2.5), (1.0, -1.5, -0.5, -1.0, -1.5, -2.5), (1.0, -1.5, -0.5, -1.0, -1.5, -1.5), (1.0, -1.5, -0.5, -1.0, -1.5, -0.5), (1.0, -1.5, -0.5, -1.0, -1.5, 0.5), (1.0, -1.5, -0.5, -1.0, -1.5, 1.5), (1.0, -1.5, -0.5, -1.0, -1.5, 2.5), (1.0, -1.5, -0.5, -1.0, -0.5, -2.5), (1.0, -1.5, -0.5, -1.0, -0.5, -1.5), (1.0, -1.5, -0.5, -1.0, -0.5, -0.5), (1.0, -1.5, -0.5, -1.0, -0.5, 0.5), (1.0, -1.5, -0.5, -1.0, -0.5, 1.5), (1.0, -1.5, -0.5, -1.0, -0.5, 2.5), (1.0, -1.5, -0.5, -1.0, 0.5, -2.5), (1.0, -1.5, -0.5, -1.0, 0.5, -1.5), (1.0, -1.5, -0.5, -1.0, 0.5, -0.5), (1.0, -1.5, -0.5, -1.0, 0.5, 0.5), (1.0, -1.5, -0.5, -1.0, 0.5, 1.5), (1.0, -1.5, -0.5, -1.0, 0.5, 2.5), (1.0, -1.5, -0.5, -1.0, 1.5, -2.5), (1.0, -1.5, -0.5, -1.0, 1.5, -1.5), (1.0, -1.5, -0.5, -1.0, 1.5, -0.5), (1.0, -1.5, -0.5, -1.0, 1.5, 0.5), (1.0, -1.5, -0.5, -1.0, 1.5, 1.5), (1.0, -1.5, -0.5, -1.0, 1.5, 2.5), (1.0, -1.5, -0.5, 0.0, -1.5, -2.5), (1.0, -1.5, -0.5, 0.0, -1.5, -1.5), (1.0, -1.5, -0.5, 0.0, -1.5, -0.5), (1.0, -1.5, -0.5, 0.0, -1.5, 0.5), (1.0, -1.5, -0.5, 0.0, -1.5, 1.5), (1.0, -1.5, -0.5, 0.0, -1.5, 2.5), (1.0, -1.5, -0.5, 0.0, -0.5, -2.5), (1.0, -1.5, -0.5, 0.0, -0.5, -1.5), (1.0, -1.5, -0.5, 0.0, -0.5, -0.5), (1.0, -1.5, -0.5, 0.0, -0.5, 0.5), (1.0, -1.5, -0.5, 0.0, -0.5, 1.5), (1.0, -1.5, -0.5, 0.0, -0.5, 2.5), (1.0, -1.5, -0.5, 0.0, 0.5, -2.5), (1.0, -1.5, -0.5, 0.0, 0.5, -1.5), (1.0, -1.5, -0.5, 0.0, 0.5, -0.5), (1.0, -1.5, -0.5, 0.0, 0.5, 0.5), (1.0, -1.5, -0.5, 0.0, 0.5, 1.5), (1.0, -1.5, -0.5, 0.0, 0.5, 2.5), (1.0, -1.5, -0.5, 0.0, 1.5, -2.5), (1.0, -1.5, -0.5, 0.0, 1.5, -1.5), (1.0, -1.5, -0.5, 0.0, 1.5, -0.5), (1.0, -1.5, -0.5, 0.0, 1.5, 0.5), (1.0, -1.5, -0.5, 0.0, 1.5, 1.5), (1.0, -1.5, -0.5, 0.0, 1.5, 2.5), (1.0, -1.5, -0.5, 1.0, -1.5, -2.5), (1.0, -1.5, -0.5, 1.0, -1.5, -1.5), (1.0, -1.5, -0.5, 1.0, -1.5, -0.5), (1.0, -1.5, -0.5, 1.0, -1.5, 0.5), (1.0, -1.5, -0.5, 1.0, -1.5, 1.5), (1.0, -1.5, -0.5, 1.0, -1.5, 2.5), (1.0, -1.5, -0.5, 1.0, -0.5, -2.5), (1.0, -1.5, -0.5, 1.0, -0.5, -1.5), (1.0, -1.5, -0.5, 1.0, -0.5, -0.5), (1.0, -1.5, -0.5, 1.0, -0.5, 0.5), (1.0, -1.5, -0.5, 1.0, -0.5, 1.5), (1.0, -1.5, -0.5, 1.0, -0.5, 2.5), (1.0, -1.5, -0.5, 1.0, 0.5, -2.5), (1.0, -1.5, -0.5, 1.0, 0.5, -1.5), (1.0, -1.5, -0.5, 1.0, 0.5, -0.5), (1.0, -1.5, -0.5, 1.0, 0.5, 0.5), (1.0, -1.5, -0.5, 1.0, 0.5, 1.5), (1.0, -1.5, -0.5, 1.0, 0.5, 2.5), (1.0, -1.5, -0.5, 1.0, 1.5, -2.5), (1.0, -1.5, -0.5, 1.0, 1.5, -1.5), (1.0, -1.5, -0.5, 1.0, 1.5, -0.5), (1.0, -1.5, -0.5, 1.0, 1.5, 0.5), (1.0, -1.5, -0.5, 1.0, 1.5, 1.5), (1.0, -1.5, -0.5, 1.0, 1.5, 2.5), (1.0, -1.5, 0.5, -1.0, -1.5, -2.5), (1.0, -1.5, 0.5, -1.0, -1.5, -1.5), (1.0, -1.5, 0.5, -1.0, -1.5, -0.5), (1.0, -1.5, 0.5, -1.0, -1.5, 0.5), (1.0, -1.5, 0.5, -1.0, -1.5, 1.5), (1.0, -1.5, 0.5, -1.0, -1.5, 2.5), (1.0, -1.5, 0.5, -1.0, -0.5, -2.5), (1.0, -1.5, 0.5, -1.0, -0.5, -1.5), (1.0, -1.5, 0.5, -1.0, -0.5, -0.5), (1.0, -1.5, 0.5, -1.0, -0.5, 0.5), (1.0, -1.5, 0.5, -1.0, -0.5, 1.5), (1.0, -1.5, 0.5, -1.0, -0.5, 2.5), (1.0, -1.5, 0.5, -1.0, 0.5, -2.5), (1.0, -1.5, 0.5, -1.0, 0.5, -1.5), (1.0, -1.5, 0.5, -1.0, 0.5, -0.5), (1.0, -1.5, 0.5, -1.0, 0.5, 0.5), (1.0, -1.5, 0.5, -1.0, 0.5, 1.5), (1.0, -1.5, 0.5, -1.0, 0.5, 2.5), (1.0, -1.5, 0.5, -1.0, 1.5, -2.5), (1.0, -1.5, 0.5, -1.0, 1.5, -1.5), (1.0, -1.5, 0.5, -1.0, 1.5, -0.5), (1.0, -1.5, 0.5, -1.0, 1.5, 0.5), (1.0, -1.5, 0.5, -1.0, 1.5, 1.5), (1.0, -1.5, 0.5, -1.0, 1.5, 2.5), (1.0, -1.5, 0.5, 0.0, -1.5, -2.5), (1.0, -1.5, 0.5, 0.0, -1.5, -1.5), (1.0, -1.5, 0.5, 0.0, -1.5, -0.5), (1.0, -1.5, 0.5, 0.0, -1.5, 0.5), (1.0, -1.5, 0.5, 0.0, -1.5, 1.5), (1.0, -1.5, 0.5, 0.0, -1.5, 2.5), (1.0, -1.5, 0.5, 0.0, -0.5, -2.5), (1.0, -1.5, 0.5, 0.0, -0.5, -1.5), (1.0, -1.5, 0.5, 0.0, -0.5, -0.5), (1.0, -1.5, 0.5, 0.0, -0.5, 0.5), (1.0, -1.5, 0.5, 0.0, -0.5, 1.5), (1.0, -1.5, 0.5, 0.0, -0.5, 2.5), (1.0, -1.5, 0.5, 0.0, 0.5, -2.5), (1.0, -1.5, 0.5, 0.0, 0.5, -1.5), (1.0, -1.5, 0.5, 0.0, 0.5, -0.5), (1.0, -1.5, 0.5, 0.0, 0.5, 0.5), (1.0, -1.5, 0.5, 0.0, 0.5, 1.5), (1.0, -1.5, 0.5, 0.0, 0.5, 2.5), (1.0, -1.5, 0.5, 0.0, 1.5, -2.5), (1.0, -1.5, 0.5, 0.0, 1.5, -1.5), (1.0, -1.5, 0.5, 0.0, 1.5, -0.5), (1.0, -1.5, 0.5, 0.0, 1.5, 0.5), (1.0, -1.5, 0.5, 0.0, 1.5, 1.5), (1.0, -1.5, 0.5, 0.0, 1.5, 2.5), (1.0, -1.5, 0.5, 1.0, -1.5, -2.5), (1.0, -1.5, 0.5, 1.0, -1.5, -1.5), (1.0, -1.5, 0.5, 1.0, -1.5, -0.5), (1.0, -1.5, 0.5, 1.0, -1.5, 0.5), (1.0, -1.5, 0.5, 1.0, -1.5, 1.5), (1.0, -1.5, 0.5, 1.0, -1.5, 2.5), (1.0, -1.5, 0.5, 1.0, -0.5, -2.5), (1.0, -1.5, 0.5, 1.0, -0.5, -1.5), (1.0, -1.5, 0.5, 1.0, -0.5, -0.5), (1.0, -1.5, 0.5, 1.0, -0.5, 0.5), (1.0, -1.5, 0.5, 1.0, -0.5, 1.5), (1.0, -1.5, 0.5, 1.0, -0.5, 2.5), (1.0, -1.5, 0.5, 1.0, 0.5, -2.5), (1.0, -1.5, 0.5, 1.0, 0.5, -1.5), (1.0, -1.5, 0.5, 1.0, 0.5, -0.5), (1.0, -1.5, 0.5, 1.0, 0.5, 0.5), (1.0, -1.5, 0.5, 1.0, 0.5, 1.5), (1.0, -1.5, 0.5, 1.0, 0.5, 2.5), (1.0, -1.5, 0.5, 1.0, 1.5, -2.5), (1.0, -1.5, 0.5, 1.0, 1.5, -1.5), (1.0, -1.5, 0.5, 1.0, 1.5, -0.5), (1.0, -1.5, 0.5, 1.0, 1.5, 0.5), (1.0, -1.5, 0.5, 1.0, 1.5, 1.5), (1.0, -1.5, 0.5, 1.0, 1.5, 2.5), (1.0, -1.5, 1.5, -1.0, -1.5, -2.5), (1.0, -1.5, 1.5, -1.0, -1.5, -1.5), (1.0, -1.5, 1.5, -1.0, -1.5, -0.5), (1.0, -1.5, 1.5, -1.0, -1.5, 0.5), (1.0, -1.5, 1.5, -1.0, -1.5, 1.5), (1.0, -1.5, 1.5, -1.0, -1.5, 2.5), (1.0, -1.5, 1.5, -1.0, -0.5, -2.5), (1.0, -1.5, 1.5, -1.0, -0.5, -1.5), (1.0, -1.5, 1.5, -1.0, -0.5, -0.5), (1.0, -1.5, 1.5, -1.0, -0.5, 0.5), (1.0, -1.5, 1.5, -1.0, -0.5, 1.5), (1.0, -1.5, 1.5, -1.0, -0.5, 2.5), (1.0, -1.5, 1.5, -1.0, 0.5, -2.5), (1.0, -1.5, 1.5, -1.0, 0.5, -1.5), (1.0, -1.5, 1.5, -1.0, 0.5, -0.5), (1.0, -1.5, 1.5, -1.0, 0.5, 0.5), (1.0, -1.5, 1.5, -1.0, 0.5, 1.5), (1.0, -1.5, 1.5, -1.0, 0.5, 2.5), (1.0, -1.5, 1.5, -1.0, 1.5, -2.5), (1.0, -1.5, 1.5, -1.0, 1.5, -1.5), (1.0, -1.5, 1.5, -1.0, 1.5, -0.5), (1.0, -1.5, 1.5, -1.0, 1.5, 0.5), (1.0, -1.5, 1.5, -1.0, 1.5, 1.5), (1.0, -1.5, 1.5, -1.0, 1.5, 2.5), (1.0, -1.5, 1.5, 0.0, -1.5, -2.5), (1.0, -1.5, 1.5, 0.0, -1.5, -1.5), (1.0, -1.5, 1.5, 0.0, -1.5, -0.5), (1.0, -1.5, 1.5, 0.0, -1.5, 0.5), (1.0, -1.5, 1.5, 0.0, -1.5, 1.5), (1.0, -1.5, 1.5, 0.0, -1.5, 2.5), (1.0, -1.5, 1.5, 0.0, -0.5, -2.5), (1.0, -1.5, 1.5, 0.0, -0.5, -1.5), (1.0, -1.5, 1.5, 0.0, -0.5, -0.5), (1.0, -1.5, 1.5, 0.0, -0.5, 0.5), (1.0, -1.5, 1.5, 0.0, -0.5, 1.5), (1.0, -1.5, 1.5, 0.0, -0.5, 2.5), (1.0, -1.5, 1.5, 0.0, 0.5, -2.5), (1.0, -1.5, 1.5, 0.0, 0.5, -1.5), (1.0, -1.5, 1.5, 0.0, 0.5, -0.5), (1.0, -1.5, 1.5, 0.0, 0.5, 0.5), (1.0, -1.5, 1.5, 0.0, 0.5, 1.5), (1.0, -1.5, 1.5, 0.0, 0.5, 2.5), (1.0, -1.5, 1.5, 0.0, 1.5, -2.5), (1.0, -1.5, 1.5, 0.0, 1.5, -1.5), (1.0, -1.5, 1.5, 0.0, 1.5, -0.5), (1.0, -1.5, 1.5, 0.0, 1.5, 0.5), (1.0, -1.5, 1.5, 0.0, 1.5, 1.5), (1.0, -1.5, 1.5, 0.0, 1.5, 2.5), (1.0, -1.5, 1.5, 1.0, -1.5, -2.5), (1.0, -1.5, 1.5, 1.0, -1.5, -1.5), (1.0, -1.5, 1.5, 1.0, -1.5, -0.5), (1.0, -1.5, 1.5, 1.0, -1.5, 0.5), (1.0, -1.5, 1.5, 1.0, -1.5, 1.5), (1.0, -1.5, 1.5, 1.0, -1.5, 2.5), (1.0, -1.5, 1.5, 1.0, -0.5, -2.5), (1.0, -1.5, 1.5, 1.0, -0.5, -1.5), (1.0, -1.5, 1.5, 1.0, -0.5, -0.5), (1.0, -1.5, 1.5, 1.0, -0.5, 0.5), (1.0, -1.5, 1.5, 1.0, -0.5, 1.5), (1.0, -1.5, 1.5, 1.0, -0.5, 2.5), (1.0, -1.5, 1.5, 1.0, 0.5, -2.5), (1.0, -1.5, 1.5, 1.0, 0.5, -1.5), (1.0, -1.5, 1.5, 1.0, 0.5, -0.5), (1.0, -1.5, 1.5, 1.0, 0.5, 0.5), (1.0, -1.5, 1.5, 1.0, 0.5, 1.5), (1.0, -1.5, 1.5, 1.0, 0.5, 2.5), (1.0, -1.5, 1.5, 1.0, 1.5, -2.5), (1.0, -1.5, 1.5, 1.0, 1.5, -1.5), (1.0, -1.5, 1.5, 1.0, 1.5, -0.5), (1.0, -1.5, 1.5, 1.0, 1.5, 0.5), (1.0, -1.5, 1.5, 1.0, 1.5, 1.5), (1.0, -1.5, 1.5, 1.0, 1.5, 2.5), (1.0, -1.5, 2.5, -1.0, -1.5, -2.5), (1.0, -1.5, 2.5, -1.0, -1.5, -1.5), (1.0, -1.5, 2.5, -1.0, -1.5, -0.5), (1.0, -1.5, 2.5, -1.0, -1.5, 0.5), (1.0, -1.5, 2.5, -1.0, -1.5, 1.5), (1.0, -1.5, 2.5, -1.0, -1.5, 2.5), (1.0, -1.5, 2.5, -1.0, -0.5, -2.5), (1.0, -1.5, 2.5, -1.0, -0.5, -1.5), (1.0, -1.5, 2.5, -1.0, -0.5, -0.5), (1.0, -1.5, 2.5, -1.0, -0.5, 0.5), (1.0, -1.5, 2.5, -1.0, -0.5, 1.5), (1.0, -1.5, 2.5, -1.0, -0.5, 2.5), (1.0, -1.5, 2.5, -1.0, 0.5, -2.5), (1.0, -1.5, 2.5, -1.0, 0.5, -1.5), (1.0, -1.5, 2.5, -1.0, 0.5, -0.5), (1.0, -1.5, 2.5, -1.0, 0.5, 0.5), (1.0, -1.5, 2.5, -1.0, 0.5, 1.5), (1.0, -1.5, 2.5, -1.0, 0.5, 2.5), (1.0, -1.5, 2.5, -1.0, 1.5, -2.5), (1.0, -1.5, 2.5, -1.0, 1.5, -1.5), (1.0, -1.5, 2.5, -1.0, 1.5, -0.5), (1.0, -1.5, 2.5, -1.0, 1.5, 0.5), (1.0, -1.5, 2.5, -1.0, 1.5, 1.5), (1.0, -1.5, 2.5, -1.0, 1.5, 2.5), (1.0, -1.5, 2.5, 0.0, -1.5, -2.5), (1.0, -1.5, 2.5, 0.0, -1.5, -1.5), (1.0, -1.5, 2.5, 0.0, -1.5, -0.5), (1.0, -1.5, 2.5, 0.0, -1.5, 0.5), (1.0, -1.5, 2.5, 0.0, -1.5, 1.5), (1.0, -1.5, 2.5, 0.0, -1.5, 2.5), (1.0, -1.5, 2.5, 0.0, -0.5, -2.5), (1.0, -1.5, 2.5, 0.0, -0.5, -1.5), (1.0, -1.5, 2.5, 0.0, -0.5, -0.5), (1.0, -1.5, 2.5, 0.0, -0.5, 0.5), (1.0, -1.5, 2.5, 0.0, -0.5, 1.5), (1.0, -1.5, 2.5, 0.0, -0.5, 2.5), (1.0, -1.5, 2.5, 0.0, 0.5, -2.5), (1.0, -1.5, 2.5, 0.0, 0.5, -1.5), (1.0, -1.5, 2.5, 0.0, 0.5, -0.5), (1.0, -1.5, 2.5, 0.0, 0.5, 0.5), (1.0, -1.5, 2.5, 0.0, 0.5, 1.5), (1.0, -1.5, 2.5, 0.0, 0.5, 2.5), (1.0, -1.5, 2.5, 0.0, 1.5, -2.5), (1.0, -1.5, 2.5, 0.0, 1.5, -1.5), (1.0, -1.5, 2.5, 0.0, 1.5, -0.5), (1.0, -1.5, 2.5, 0.0, 1.5, 0.5), (1.0, -1.5, 2.5, 0.0, 1.5, 1.5), (1.0, -1.5, 2.5, 0.0, 1.5, 2.5), (1.0, -1.5, 2.5, 1.0, -1.5, -2.5), (1.0, -1.5, 2.5, 1.0, -1.5, -1.5), (1.0, -1.5, 2.5, 1.0, -1.5, -0.5), (1.0, -1.5, 2.5, 1.0, -1.5, 0.5), (1.0, -1.5, 2.5, 1.0, -1.5, 1.5), (1.0, -1.5, 2.5, 1.0, -1.5, 2.5), (1.0, -1.5, 2.5, 1.0, -0.5, -2.5), (1.0, -1.5, 2.5, 1.0, -0.5, -1.5), (1.0, -1.5, 2.5, 1.0, -0.5, -0.5), (1.0, -1.5, 2.5, 1.0, -0.5, 0.5), (1.0, -1.5, 2.5, 1.0, -0.5, 1.5), (1.0, -1.5, 2.5, 1.0, -0.5, 2.5), (1.0, -1.5, 2.5, 1.0, 0.5, -2.5), (1.0, -1.5, 2.5, 1.0, 0.5, -1.5), (1.0, -1.5, 2.5, 1.0, 0.5, -0.5), (1.0, -1.5, 2.5, 1.0, 0.5, 0.5), (1.0, -1.5, 2.5, 1.0, 0.5, 1.5), (1.0, -1.5, 2.5, 1.0, 0.5, 2.5), (1.0, -1.5, 2.5, 1.0, 1.5, -2.5), (1.0, -1.5, 2.5, 1.0, 1.5, -1.5), (1.0, -1.5, 2.5, 1.0, 1.5, -0.5), (1.0, -1.5, 2.5, 1.0, 1.5, 0.5), (1.0, -1.5, 2.5, 1.0, 1.5, 1.5), (1.0, -1.5, 2.5, 1.0, 1.5, 2.5), (1.0, -0.5, -2.5, -1.0, -1.5, -2.5), (1.0, -0.5, -2.5, -1.0, -1.5, -1.5), (1.0, -0.5, -2.5, -1.0, -1.5, -0.5), (1.0, -0.5, -2.5, -1.0, -1.5, 0.5), (1.0, -0.5, -2.5, -1.0, -1.5, 1.5), (1.0, -0.5, -2.5, -1.0, -1.5, 2.5), (1.0, -0.5, -2.5, -1.0, -0.5, -2.5), (1.0, -0.5, -2.5, -1.0, -0.5, -1.5), (1.0, -0.5, -2.5, -1.0, -0.5, -0.5), (1.0, -0.5, -2.5, -1.0, -0.5, 0.5), (1.0, -0.5, -2.5, -1.0, -0.5, 1.5), (1.0, -0.5, -2.5, -1.0, -0.5, 2.5), (1.0, -0.5, -2.5, -1.0, 0.5, -2.5), (1.0, -0.5, -2.5, -1.0, 0.5, -1.5), (1.0, -0.5, -2.5, -1.0, 0.5, -0.5), (1.0, -0.5, -2.5, -1.0, 0.5, 0.5), (1.0, -0.5, -2.5, -1.0, 0.5, 1.5), (1.0, -0.5, -2.5, -1.0, 0.5, 2.5), (1.0, -0.5, -2.5, -1.0, 1.5, -2.5), (1.0, -0.5, -2.5, -1.0, 1.5, -1.5), (1.0, -0.5, -2.5, -1.0, 1.5, -0.5), (1.0, -0.5, -2.5, -1.0, 1.5, 0.5), (1.0, -0.5, -2.5, -1.0, 1.5, 1.5), (1.0, -0.5, -2.5, -1.0, 1.5, 2.5), (1.0, -0.5, -2.5, 0.0, -1.5, -2.5), (1.0, -0.5, -2.5, 0.0, -1.5, -1.5), (1.0, -0.5, -2.5, 0.0, -1.5, -0.5), (1.0, -0.5, -2.5, 0.0, -1.5, 0.5), (1.0, -0.5, -2.5, 0.0, -1.5, 1.5), (1.0, -0.5, -2.5, 0.0, -1.5, 2.5), (1.0, -0.5, -2.5, 0.0, -0.5, -2.5), (1.0, -0.5, -2.5, 0.0, -0.5, -1.5), (1.0, -0.5, -2.5, 0.0, -0.5, -0.5), (1.0, -0.5, -2.5, 0.0, -0.5, 0.5), (1.0, -0.5, -2.5, 0.0, -0.5, 1.5), (1.0, -0.5, -2.5, 0.0, -0.5, 2.5), (1.0, -0.5, -2.5, 0.0, 0.5, -2.5), (1.0, -0.5, -2.5, 0.0, 0.5, -1.5), (1.0, -0.5, -2.5, 0.0, 0.5, -0.5), (1.0, -0.5, -2.5, 0.0, 0.5, 0.5), (1.0, -0.5, -2.5, 0.0, 0.5, 1.5), (1.0, -0.5, -2.5, 0.0, 0.5, 2.5), (1.0, -0.5, -2.5, 0.0, 1.5, -2.5), (1.0, -0.5, -2.5, 0.0, 1.5, -1.5), (1.0, -0.5, -2.5, 0.0, 1.5, -0.5), (1.0, -0.5, -2.5, 0.0, 1.5, 0.5), (1.0, -0.5, -2.5, 0.0, 1.5, 1.5), (1.0, -0.5, -2.5, 0.0, 1.5, 2.5), (1.0, -0.5, -2.5, 1.0, -1.5, -2.5), (1.0, -0.5, -2.5, 1.0, -1.5, -1.5), (1.0, -0.5, -2.5, 1.0, -1.5, -0.5), (1.0, -0.5, -2.5, 1.0, -1.5, 0.5), (1.0, -0.5, -2.5, 1.0, -1.5, 1.5), (1.0, -0.5, -2.5, 1.0, -1.5, 2.5), (1.0, -0.5, -2.5, 1.0, -0.5, -2.5), (1.0, -0.5, -2.5, 1.0, -0.5, -1.5), (1.0, -0.5, -2.5, 1.0, -0.5, -0.5), (1.0, -0.5, -2.5, 1.0, -0.5, 0.5), (1.0, -0.5, -2.5, 1.0, -0.5, 1.5), (1.0, -0.5, -2.5, 1.0, -0.5, 2.5), (1.0, -0.5, -2.5, 1.0, 0.5, -2.5), (1.0, -0.5, -2.5, 1.0, 0.5, -1.5), (1.0, -0.5, -2.5, 1.0, 0.5, -0.5), (1.0, -0.5, -2.5, 1.0, 0.5, 0.5), (1.0, -0.5, -2.5, 1.0, 0.5, 1.5), (1.0, -0.5, -2.5, 1.0, 0.5, 2.5), (1.0, -0.5, -2.5, 1.0, 1.5, -2.5), (1.0, -0.5, -2.5, 1.0, 1.5, -1.5), (1.0, -0.5, -2.5, 1.0, 1.5, -0.5), (1.0, -0.5, -2.5, 1.0, 1.5, 0.5), (1.0, -0.5, -2.5, 1.0, 1.5, 1.5), (1.0, -0.5, -2.5, 1.0, 1.5, 2.5), (1.0, -0.5, -1.5, -1.0, -1.5, -2.5), (1.0, -0.5, -1.5, -1.0, -1.5, -1.5), (1.0, -0.5, -1.5, -1.0, -1.5, -0.5), (1.0, -0.5, -1.5, -1.0, -1.5, 0.5), (1.0, -0.5, -1.5, -1.0, -1.5, 1.5), (1.0, -0.5, -1.5, -1.0, -1.5, 2.5), (1.0, -0.5, -1.5, -1.0, -0.5, -2.5), (1.0, -0.5, -1.5, -1.0, -0.5, -1.5), (1.0, -0.5, -1.5, -1.0, -0.5, -0.5), (1.0, -0.5, -1.5, -1.0, -0.5, 0.5), (1.0, -0.5, -1.5, -1.0, -0.5, 1.5), (1.0, -0.5, -1.5, -1.0, -0.5, 2.5), (1.0, -0.5, -1.5, -1.0, 0.5, -2.5), (1.0, -0.5, -1.5, -1.0, 0.5, -1.5), (1.0, -0.5, -1.5, -1.0, 0.5, -0.5), (1.0, -0.5, -1.5, -1.0, 0.5, 0.5), (1.0, -0.5, -1.5, -1.0, 0.5, 1.5), (1.0, -0.5, -1.5, -1.0, 0.5, 2.5), (1.0, -0.5, -1.5, -1.0, 1.5, -2.5), (1.0, -0.5, -1.5, -1.0, 1.5, -1.5), (1.0, -0.5, -1.5, -1.0, 1.5, -0.5), (1.0, -0.5, -1.5, -1.0, 1.5, 0.5), (1.0, -0.5, -1.5, -1.0, 1.5, 1.5), (1.0, -0.5, -1.5, -1.0, 1.5, 2.5), (1.0, -0.5, -1.5, 0.0, -1.5, -2.5), (1.0, -0.5, -1.5, 0.0, -1.5, -1.5), (1.0, -0.5, -1.5, 0.0, -1.5, -0.5), (1.0, -0.5, -1.5, 0.0, -1.5, 0.5), (1.0, -0.5, -1.5, 0.0, -1.5, 1.5), (1.0, -0.5, -1.5, 0.0, -1.5, 2.5), (1.0, -0.5, -1.5, 0.0, -0.5, -2.5), (1.0, -0.5, -1.5, 0.0, -0.5, -1.5), (1.0, -0.5, -1.5, 0.0, -0.5, -0.5), (1.0, -0.5, -1.5, 0.0, -0.5, 0.5), (1.0, -0.5, -1.5, 0.0, -0.5, 1.5), (1.0, -0.5, -1.5, 0.0, -0.5, 2.5), (1.0, -0.5, -1.5, 0.0, 0.5, -2.5), (1.0, -0.5, -1.5, 0.0, 0.5, -1.5), (1.0, -0.5, -1.5, 0.0, 0.5, -0.5), (1.0, -0.5, -1.5, 0.0, 0.5, 0.5), (1.0, -0.5, -1.5, 0.0, 0.5, 1.5), (1.0, -0.5, -1.5, 0.0, 0.5, 2.5), (1.0, -0.5, -1.5, 0.0, 1.5, -2.5), (1.0, -0.5, -1.5, 0.0, 1.5, -1.5), (1.0, -0.5, -1.5, 0.0, 1.5, -0.5), (1.0, -0.5, -1.5, 0.0, 1.5, 0.5), (1.0, -0.5, -1.5, 0.0, 1.5, 1.5), (1.0, -0.5, -1.5, 0.0, 1.5, 2.5), (1.0, -0.5, -1.5, 1.0, -1.5, -2.5), (1.0, -0.5, -1.5, 1.0, -1.5, -1.5), (1.0, -0.5, -1.5, 1.0, -1.5, -0.5), (1.0, -0.5, -1.5, 1.0, -1.5, 0.5), (1.0, -0.5, -1.5, 1.0, -1.5, 1.5), (1.0, -0.5, -1.5, 1.0, -1.5, 2.5), (1.0, -0.5, -1.5, 1.0, -0.5, -2.5), (1.0, -0.5, -1.5, 1.0, -0.5, -1.5), (1.0, -0.5, -1.5, 1.0, -0.5, -0.5), (1.0, -0.5, -1.5, 1.0, -0.5, 0.5), (1.0, -0.5, -1.5, 1.0, -0.5, 1.5), (1.0, -0.5, -1.5, 1.0, -0.5, 2.5), (1.0, -0.5, -1.5, 1.0, 0.5, -2.5), (1.0, -0.5, -1.5, 1.0, 0.5, -1.5), (1.0, -0.5, -1.5, 1.0, 0.5, -0.5), (1.0, -0.5, -1.5, 1.0, 0.5, 0.5), (1.0, -0.5, -1.5, 1.0, 0.5, 1.5), (1.0, -0.5, -1.5, 1.0, 0.5, 2.5), (1.0, -0.5, -1.5, 1.0, 1.5, -2.5), (1.0, -0.5, -1.5, 1.0, 1.5, -1.5), (1.0, -0.5, -1.5, 1.0, 1.5, -0.5), (1.0, -0.5, -1.5, 1.0, 1.5, 0.5), (1.0, -0.5, -1.5, 1.0, 1.5, 1.5), (1.0, -0.5, -1.5, 1.0, 1.5, 2.5), (1.0, -0.5, -0.5, -1.0, -1.5, -2.5), (1.0, -0.5, -0.5, -1.0, -1.5, -1.5), (1.0, -0.5, -0.5, -1.0, -1.5, -0.5), (1.0, -0.5, -0.5, -1.0, -1.5, 0.5), (1.0, -0.5, -0.5, -1.0, -1.5, 1.5), (1.0, -0.5, -0.5, -1.0, -1.5, 2.5), (1.0, -0.5, -0.5, -1.0, -0.5, -2.5), (1.0, -0.5, -0.5, -1.0, -0.5, -1.5), (1.0, -0.5, -0.5, -1.0, -0.5, -0.5), (1.0, -0.5, -0.5, -1.0, -0.5, 0.5), (1.0, -0.5, -0.5, -1.0, -0.5, 1.5), (1.0, -0.5, -0.5, -1.0, -0.5, 2.5), (1.0, -0.5, -0.5, -1.0, 0.5, -2.5), (1.0, -0.5, -0.5, -1.0, 0.5, -1.5), (1.0, -0.5, -0.5, -1.0, 0.5, -0.5), (1.0, -0.5, -0.5, -1.0, 0.5, 0.5), (1.0, -0.5, -0.5, -1.0, 0.5, 1.5), (1.0, -0.5, -0.5, -1.0, 0.5, 2.5), (1.0, -0.5, -0.5, -1.0, 1.5, -2.5), (1.0, -0.5, -0.5, -1.0, 1.5, -1.5), (1.0, -0.5, -0.5, -1.0, 1.5, -0.5), (1.0, -0.5, -0.5, -1.0, 1.5, 0.5), (1.0, -0.5, -0.5, -1.0, 1.5, 1.5), (1.0, -0.5, -0.5, -1.0, 1.5, 2.5), (1.0, -0.5, -0.5, 0.0, -1.5, -2.5), (1.0, -0.5, -0.5, 0.0, -1.5, -1.5), (1.0, -0.5, -0.5, 0.0, -1.5, -0.5), (1.0, -0.5, -0.5, 0.0, -1.5, 0.5), (1.0, -0.5, -0.5, 0.0, -1.5, 1.5), (1.0, -0.5, -0.5, 0.0, -1.5, 2.5), (1.0, -0.5, -0.5, 0.0, -0.5, -2.5), (1.0, -0.5, -0.5, 0.0, -0.5, -1.5), (1.0, -0.5, -0.5, 0.0, -0.5, -0.5), (1.0, -0.5, -0.5, 0.0, -0.5, 0.5), (1.0, -0.5, -0.5, 0.0, -0.5, 1.5), (1.0, -0.5, -0.5, 0.0, -0.5, 2.5), (1.0, -0.5, -0.5, 0.0, 0.5, -2.5), (1.0, -0.5, -0.5, 0.0, 0.5, -1.5), (1.0, -0.5, -0.5, 0.0, 0.5, -0.5), (1.0, -0.5, -0.5, 0.0, 0.5, 0.5), (1.0, -0.5, -0.5, 0.0, 0.5, 1.5), (1.0, -0.5, -0.5, 0.0, 0.5, 2.5), (1.0, -0.5, -0.5, 0.0, 1.5, -2.5), (1.0, -0.5, -0.5, 0.0, 1.5, -1.5), (1.0, -0.5, -0.5, 0.0, 1.5, -0.5), (1.0, -0.5, -0.5, 0.0, 1.5, 0.5), (1.0, -0.5, -0.5, 0.0, 1.5, 1.5), (1.0, -0.5, -0.5, 0.0, 1.5, 2.5), (1.0, -0.5, -0.5, 1.0, -1.5, -2.5), (1.0, -0.5, -0.5, 1.0, -1.5, -1.5), (1.0, -0.5, -0.5, 1.0, -1.5, -0.5), (1.0, -0.5, -0.5, 1.0, -1.5, 0.5), (1.0, -0.5, -0.5, 1.0, -1.5, 1.5), (1.0, -0.5, -0.5, 1.0, -1.5, 2.5), (1.0, -0.5, -0.5, 1.0, -0.5, -2.5), (1.0, -0.5, -0.5, 1.0, -0.5, -1.5), (1.0, -0.5, -0.5, 1.0, -0.5, -0.5), (1.0, -0.5, -0.5, 1.0, -0.5, 0.5), (1.0, -0.5, -0.5, 1.0, -0.5, 1.5), (1.0, -0.5, -0.5, 1.0, -0.5, 2.5), (1.0, -0.5, -0.5, 1.0, 0.5, -2.5), (1.0, -0.5, -0.5, 1.0, 0.5, -1.5), (1.0, -0.5, -0.5, 1.0, 0.5, -0.5), (1.0, -0.5, -0.5, 1.0, 0.5, 0.5), (1.0, -0.5, -0.5, 1.0, 0.5, 1.5), (1.0, -0.5, -0.5, 1.0, 0.5, 2.5), (1.0, -0.5, -0.5, 1.0, 1.5, -2.5), (1.0, -0.5, -0.5, 1.0, 1.5, -1.5), (1.0, -0.5, -0.5, 1.0, 1.5, -0.5), (1.0, -0.5, -0.5, 1.0, 1.5, 0.5), (1.0, -0.5, -0.5, 1.0, 1.5, 1.5), (1.0, -0.5, -0.5, 1.0, 1.5, 2.5), (1.0, -0.5, 0.5, -1.0, -1.5, -2.5), (1.0, -0.5, 0.5, -1.0, -1.5, -1.5), (1.0, -0.5, 0.5, -1.0, -1.5, -0.5), (1.0, -0.5, 0.5, -1.0, -1.5, 0.5), (1.0, -0.5, 0.5, -1.0, -1.5, 1.5), (1.0, -0.5, 0.5, -1.0, -1.5, 2.5), (1.0, -0.5, 0.5, -1.0, -0.5, -2.5), (1.0, -0.5, 0.5, -1.0, -0.5, -1.5), (1.0, -0.5, 0.5, -1.0, -0.5, -0.5), (1.0, -0.5, 0.5, -1.0, -0.5, 0.5), (1.0, -0.5, 0.5, -1.0, -0.5, 1.5), (1.0, -0.5, 0.5, -1.0, -0.5, 2.5), (1.0, -0.5, 0.5, -1.0, 0.5, -2.5), (1.0, -0.5, 0.5, -1.0, 0.5, -1.5), (1.0, -0.5, 0.5, -1.0, 0.5, -0.5), (1.0, -0.5, 0.5, -1.0, 0.5, 0.5), (1.0, -0.5, 0.5, -1.0, 0.5, 1.5), (1.0, -0.5, 0.5, -1.0, 0.5, 2.5), (1.0, -0.5, 0.5, -1.0, 1.5, -2.5), (1.0, -0.5, 0.5, -1.0, 1.5, -1.5), (1.0, -0.5, 0.5, -1.0, 1.5, -0.5), (1.0, -0.5, 0.5, -1.0, 1.5, 0.5), (1.0, -0.5, 0.5, -1.0, 1.5, 1.5), (1.0, -0.5, 0.5, -1.0, 1.5, 2.5), (1.0, -0.5, 0.5, 0.0, -1.5, -2.5), (1.0, -0.5, 0.5, 0.0, -1.5, -1.5), (1.0, -0.5, 0.5, 0.0, -1.5, -0.5), (1.0, -0.5, 0.5, 0.0, -1.5, 0.5), (1.0, -0.5, 0.5, 0.0, -1.5, 1.5), (1.0, -0.5, 0.5, 0.0, -1.5, 2.5), (1.0, -0.5, 0.5, 0.0, -0.5, -2.5), (1.0, -0.5, 0.5, 0.0, -0.5, -1.5), (1.0, -0.5, 0.5, 0.0, -0.5, -0.5), (1.0, -0.5, 0.5, 0.0, -0.5, 0.5), (1.0, -0.5, 0.5, 0.0, -0.5, 1.5), (1.0, -0.5, 0.5, 0.0, -0.5, 2.5), (1.0, -0.5, 0.5, 0.0, 0.5, -2.5), (1.0, -0.5, 0.5, 0.0, 0.5, -1.5), (1.0, -0.5, 0.5, 0.0, 0.5, -0.5), (1.0, -0.5, 0.5, 0.0, 0.5, 0.5), (1.0, -0.5, 0.5, 0.0, 0.5, 1.5), (1.0, -0.5, 0.5, 0.0, 0.5, 2.5), (1.0, -0.5, 0.5, 0.0, 1.5, -2.5), (1.0, -0.5, 0.5, 0.0, 1.5, -1.5), (1.0, -0.5, 0.5, 0.0, 1.5, -0.5), (1.0, -0.5, 0.5, 0.0, 1.5, 0.5), (1.0, -0.5, 0.5, 0.0, 1.5, 1.5), (1.0, -0.5, 0.5, 0.0, 1.5, 2.5), (1.0, -0.5, 0.5, 1.0, -1.5, -2.5), (1.0, -0.5, 0.5, 1.0, -1.5, -1.5), (1.0, -0.5, 0.5, 1.0, -1.5, -0.5), (1.0, -0.5, 0.5, 1.0, -1.5, 0.5), (1.0, -0.5, 0.5, 1.0, -1.5, 1.5), (1.0, -0.5, 0.5, 1.0, -1.5, 2.5), (1.0, -0.5, 0.5, 1.0, -0.5, -2.5), (1.0, -0.5, 0.5, 1.0, -0.5, -1.5), (1.0, -0.5, 0.5, 1.0, -0.5, -0.5), (1.0, -0.5, 0.5, 1.0, -0.5, 0.5), (1.0, -0.5, 0.5, 1.0, -0.5, 1.5), (1.0, -0.5, 0.5, 1.0, -0.5, 2.5), (1.0, -0.5, 0.5, 1.0, 0.5, -2.5), (1.0, -0.5, 0.5, 1.0, 0.5, -1.5), (1.0, -0.5, 0.5, 1.0, 0.5, -0.5), (1.0, -0.5, 0.5, 1.0, 0.5, 0.5), (1.0, -0.5, 0.5, 1.0, 0.5, 1.5), (1.0, -0.5, 0.5, 1.0, 0.5, 2.5), (1.0, -0.5, 0.5, 1.0, 1.5, -2.5), (1.0, -0.5, 0.5, 1.0, 1.5, -1.5), (1.0, -0.5, 0.5, 1.0, 1.5, -0.5), (1.0, -0.5, 0.5, 1.0, 1.5, 0.5), (1.0, -0.5, 0.5, 1.0, 1.5, 1.5), (1.0, -0.5, 0.5, 1.0, 1.5, 2.5), (1.0, -0.5, 1.5, -1.0, -1.5, -2.5), (1.0, -0.5, 1.5, -1.0, -1.5, -1.5), (1.0, -0.5, 1.5, -1.0, -1.5, -0.5), (1.0, -0.5, 1.5, -1.0, -1.5, 0.5), (1.0, -0.5, 1.5, -1.0, -1.5, 1.5), (1.0, -0.5, 1.5, -1.0, -1.5, 2.5), (1.0, -0.5, 1.5, -1.0, -0.5, -2.5), (1.0, -0.5, 1.5, -1.0, -0.5, -1.5), (1.0, -0.5, 1.5, -1.0, -0.5, -0.5), (1.0, -0.5, 1.5, -1.0, -0.5, 0.5), (1.0, -0.5, 1.5, -1.0, -0.5, 1.5), (1.0, -0.5, 1.5, -1.0, -0.5, 2.5), (1.0, -0.5, 1.5, -1.0, 0.5, -2.5), (1.0, -0.5, 1.5, -1.0, 0.5, -1.5), (1.0, -0.5, 1.5, -1.0, 0.5, -0.5), (1.0, -0.5, 1.5, -1.0, 0.5, 0.5), (1.0, -0.5, 1.5, -1.0, 0.5, 1.5), (1.0, -0.5, 1.5, -1.0, 0.5, 2.5), (1.0, -0.5, 1.5, -1.0, 1.5, -2.5), (1.0, -0.5, 1.5, -1.0, 1.5, -1.5), (1.0, -0.5, 1.5, -1.0, 1.5, -0.5), (1.0, -0.5, 1.5, -1.0, 1.5, 0.5), (1.0, -0.5, 1.5, -1.0, 1.5, 1.5), (1.0, -0.5, 1.5, -1.0, 1.5, 2.5), (1.0, -0.5, 1.5, 0.0, -1.5, -2.5), (1.0, -0.5, 1.5, 0.0, -1.5, -1.5), (1.0, -0.5, 1.5, 0.0, -1.5, -0.5), (1.0, -0.5, 1.5, 0.0, -1.5, 0.5), (1.0, -0.5, 1.5, 0.0, -1.5, 1.5), (1.0, -0.5, 1.5, 0.0, -1.5, 2.5), (1.0, -0.5, 1.5, 0.0, -0.5, -2.5), (1.0, -0.5, 1.5, 0.0, -0.5, -1.5), (1.0, -0.5, 1.5, 0.0, -0.5, -0.5), (1.0, -0.5, 1.5, 0.0, -0.5, 0.5), (1.0, -0.5, 1.5, 0.0, -0.5, 1.5), (1.0, -0.5, 1.5, 0.0, -0.5, 2.5), (1.0, -0.5, 1.5, 0.0, 0.5, -2.5), (1.0, -0.5, 1.5, 0.0, 0.5, -1.5), (1.0, -0.5, 1.5, 0.0, 0.5, -0.5), (1.0, -0.5, 1.5, 0.0, 0.5, 0.5), (1.0, -0.5, 1.5, 0.0, 0.5, 1.5), (1.0, -0.5, 1.5, 0.0, 0.5, 2.5), (1.0, -0.5, 1.5, 0.0, 1.5, -2.5), (1.0, -0.5, 1.5, 0.0, 1.5, -1.5), (1.0, -0.5, 1.5, 0.0, 1.5, -0.5), (1.0, -0.5, 1.5, 0.0, 1.5, 0.5), (1.0, -0.5, 1.5, 0.0, 1.5, 1.5), (1.0, -0.5, 1.5, 0.0, 1.5, 2.5), (1.0, -0.5, 1.5, 1.0, -1.5, -2.5), (1.0, -0.5, 1.5, 1.0, -1.5, -1.5), (1.0, -0.5, 1.5, 1.0, -1.5, -0.5), (1.0, -0.5, 1.5, 1.0, -1.5, 0.5), (1.0, -0.5, 1.5, 1.0, -1.5, 1.5), (1.0, -0.5, 1.5, 1.0, -1.5, 2.5), (1.0, -0.5, 1.5, 1.0, -0.5, -2.5), (1.0, -0.5, 1.5, 1.0, -0.5, -1.5), (1.0, -0.5, 1.5, 1.0, -0.5, -0.5), (1.0, -0.5, 1.5, 1.0, -0.5, 0.5), (1.0, -0.5, 1.5, 1.0, -0.5, 1.5), (1.0, -0.5, 1.5, 1.0, -0.5, 2.5), (1.0, -0.5, 1.5, 1.0, 0.5, -2.5), (1.0, -0.5, 1.5, 1.0, 0.5, -1.5), (1.0, -0.5, 1.5, 1.0, 0.5, -0.5), (1.0, -0.5, 1.5, 1.0, 0.5, 0.5), (1.0, -0.5, 1.5, 1.0, 0.5, 1.5), (1.0, -0.5, 1.5, 1.0, 0.5, 2.5), (1.0, -0.5, 1.5, 1.0, 1.5, -2.5), (1.0, -0.5, 1.5, 1.0, 1.5, -1.5), (1.0, -0.5, 1.5, 1.0, 1.5, -0.5), (1.0, -0.5, 1.5, 1.0, 1.5, 0.5), (1.0, -0.5, 1.5, 1.0, 1.5, 1.5), (1.0, -0.5, 1.5, 1.0, 1.5, 2.5), (1.0, -0.5, 2.5, -1.0, -1.5, -2.5), (1.0, -0.5, 2.5, -1.0, -1.5, -1.5), (1.0, -0.5, 2.5, -1.0, -1.5, -0.5), (1.0, -0.5, 2.5, -1.0, -1.5, 0.5), (1.0, -0.5, 2.5, -1.0, -1.5, 1.5), (1.0, -0.5, 2.5, -1.0, -1.5, 2.5), (1.0, -0.5, 2.5, -1.0, -0.5, -2.5), (1.0, -0.5, 2.5, -1.0, -0.5, -1.5), (1.0, -0.5, 2.5, -1.0, -0.5, -0.5), (1.0, -0.5, 2.5, -1.0, -0.5, 0.5), (1.0, -0.5, 2.5, -1.0, -0.5, 1.5), (1.0, -0.5, 2.5, -1.0, -0.5, 2.5), (1.0, -0.5, 2.5, -1.0, 0.5, -2.5), (1.0, -0.5, 2.5, -1.0, 0.5, -1.5), (1.0, -0.5, 2.5, -1.0, 0.5, -0.5), (1.0, -0.5, 2.5, -1.0, 0.5, 0.5), (1.0, -0.5, 2.5, -1.0, 0.5, 1.5), (1.0, -0.5, 2.5, -1.0, 0.5, 2.5), (1.0, -0.5, 2.5, -1.0, 1.5, -2.5), (1.0, -0.5, 2.5, -1.0, 1.5, -1.5), (1.0, -0.5, 2.5, -1.0, 1.5, -0.5), (1.0, -0.5, 2.5, -1.0, 1.5, 0.5), (1.0, -0.5, 2.5, -1.0, 1.5, 1.5), (1.0, -0.5, 2.5, -1.0, 1.5, 2.5), (1.0, -0.5, 2.5, 0.0, -1.5, -2.5), (1.0, -0.5, 2.5, 0.0, -1.5, -1.5), (1.0, -0.5, 2.5, 0.0, -1.5, -0.5), (1.0, -0.5, 2.5, 0.0, -1.5, 0.5), (1.0, -0.5, 2.5, 0.0, -1.5, 1.5), (1.0, -0.5, 2.5, 0.0, -1.5, 2.5), (1.0, -0.5, 2.5, 0.0, -0.5, -2.5), (1.0, -0.5, 2.5, 0.0, -0.5, -1.5), (1.0, -0.5, 2.5, 0.0, -0.5, -0.5), (1.0, -0.5, 2.5, 0.0, -0.5, 0.5), (1.0, -0.5, 2.5, 0.0, -0.5, 1.5), (1.0, -0.5, 2.5, 0.0, -0.5, 2.5), (1.0, -0.5, 2.5, 0.0, 0.5, -2.5), (1.0, -0.5, 2.5, 0.0, 0.5, -1.5), (1.0, -0.5, 2.5, 0.0, 0.5, -0.5), (1.0, -0.5, 2.5, 0.0, 0.5, 0.5), (1.0, -0.5, 2.5, 0.0, 0.5, 1.5), (1.0, -0.5, 2.5, 0.0, 0.5, 2.5), (1.0, -0.5, 2.5, 0.0, 1.5, -2.5), (1.0, -0.5, 2.5, 0.0, 1.5, -1.5), (1.0, -0.5, 2.5, 0.0, 1.5, -0.5), (1.0, -0.5, 2.5, 0.0, 1.5, 0.5), (1.0, -0.5, 2.5, 0.0, 1.5, 1.5), (1.0, -0.5, 2.5, 0.0, 1.5, 2.5), (1.0, -0.5, 2.5, 1.0, -1.5, -2.5), (1.0, -0.5, 2.5, 1.0, -1.5, -1.5), (1.0, -0.5, 2.5, 1.0, -1.5, -0.5), (1.0, -0.5, 2.5, 1.0, -1.5, 0.5), (1.0, -0.5, 2.5, 1.0, -1.5, 1.5), (1.0, -0.5, 2.5, 1.0, -1.5, 2.5), (1.0, -0.5, 2.5, 1.0, -0.5, -2.5), (1.0, -0.5, 2.5, 1.0, -0.5, -1.5), (1.0, -0.5, 2.5, 1.0, -0.5, -0.5), (1.0, -0.5, 2.5, 1.0, -0.5, 0.5), (1.0, -0.5, 2.5, 1.0, -0.5, 1.5), (1.0, -0.5, 2.5, 1.0, -0.5, 2.5), (1.0, -0.5, 2.5, 1.0, 0.5, -2.5), (1.0, -0.5, 2.5, 1.0, 0.5, -1.5), (1.0, -0.5, 2.5, 1.0, 0.5, -0.5), (1.0, -0.5, 2.5, 1.0, 0.5, 0.5), (1.0, -0.5, 2.5, 1.0, 0.5, 1.5), (1.0, -0.5, 2.5, 1.0, 0.5, 2.5), (1.0, -0.5, 2.5, 1.0, 1.5, -2.5), (1.0, -0.5, 2.5, 1.0, 1.5, -1.5), (1.0, -0.5, 2.5, 1.0, 1.5, -0.5), (1.0, -0.5, 2.5, 1.0, 1.5, 0.5), (1.0, -0.5, 2.5, 1.0, 1.5, 1.5), (1.0, -0.5, 2.5, 1.0, 1.5, 2.5), (1.0, 0.5, -2.5, -1.0, -1.5, -2.5), (1.0, 0.5, -2.5, -1.0, -1.5, -1.5), (1.0, 0.5, -2.5, -1.0, -1.5, -0.5), (1.0, 0.5, -2.5, -1.0, -1.5, 0.5), (1.0, 0.5, -2.5, -1.0, -1.5, 1.5), (1.0, 0.5, -2.5, -1.0, -1.5, 2.5), (1.0, 0.5, -2.5, -1.0, -0.5, -2.5), (1.0, 0.5, -2.5, -1.0, -0.5, -1.5), (1.0, 0.5, -2.5, -1.0, -0.5, -0.5), (1.0, 0.5, -2.5, -1.0, -0.5, 0.5), (1.0, 0.5, -2.5, -1.0, -0.5, 1.5), (1.0, 0.5, -2.5, -1.0, -0.5, 2.5), (1.0, 0.5, -2.5, -1.0, 0.5, -2.5), (1.0, 0.5, -2.5, -1.0, 0.5, -1.5), (1.0, 0.5, -2.5, -1.0, 0.5, -0.5), (1.0, 0.5, -2.5, -1.0, 0.5, 0.5), (1.0, 0.5, -2.5, -1.0, 0.5, 1.5), (1.0, 0.5, -2.5, -1.0, 0.5, 2.5), (1.0, 0.5, -2.5, -1.0, 1.5, -2.5), (1.0, 0.5, -2.5, -1.0, 1.5, -1.5), (1.0, 0.5, -2.5, -1.0, 1.5, -0.5), (1.0, 0.5, -2.5, -1.0, 1.5, 0.5), (1.0, 0.5, -2.5, -1.0, 1.5, 1.5), (1.0, 0.5, -2.5, -1.0, 1.5, 2.5), (1.0, 0.5, -2.5, 0.0, -1.5, -2.5), (1.0, 0.5, -2.5, 0.0, -1.5, -1.5), (1.0, 0.5, -2.5, 0.0, -1.5, -0.5), (1.0, 0.5, -2.5, 0.0, -1.5, 0.5), (1.0, 0.5, -2.5, 0.0, -1.5, 1.5), (1.0, 0.5, -2.5, 0.0, -1.5, 2.5), (1.0, 0.5, -2.5, 0.0, -0.5, -2.5), (1.0, 0.5, -2.5, 0.0, -0.5, -1.5), (1.0, 0.5, -2.5, 0.0, -0.5, -0.5), (1.0, 0.5, -2.5, 0.0, -0.5, 0.5), (1.0, 0.5, -2.5, 0.0, -0.5, 1.5), (1.0, 0.5, -2.5, 0.0, -0.5, 2.5), (1.0, 0.5, -2.5, 0.0, 0.5, -2.5), (1.0, 0.5, -2.5, 0.0, 0.5, -1.5), (1.0, 0.5, -2.5, 0.0, 0.5, -0.5), (1.0, 0.5, -2.5, 0.0, 0.5, 0.5), (1.0, 0.5, -2.5, 0.0, 0.5, 1.5), (1.0, 0.5, -2.5, 0.0, 0.5, 2.5), (1.0, 0.5, -2.5, 0.0, 1.5, -2.5), (1.0, 0.5, -2.5, 0.0, 1.5, -1.5), (1.0, 0.5, -2.5, 0.0, 1.5, -0.5), (1.0, 0.5, -2.5, 0.0, 1.5, 0.5), (1.0, 0.5, -2.5, 0.0, 1.5, 1.5), (1.0, 0.5, -2.5, 0.0, 1.5, 2.5), (1.0, 0.5, -2.5, 1.0, -1.5, -2.5), (1.0, 0.5, -2.5, 1.0, -1.5, -1.5), (1.0, 0.5, -2.5, 1.0, -1.5, -0.5), (1.0, 0.5, -2.5, 1.0, -1.5, 0.5), (1.0, 0.5, -2.5, 1.0, -1.5, 1.5), (1.0, 0.5, -2.5, 1.0, -1.5, 2.5), (1.0, 0.5, -2.5, 1.0, -0.5, -2.5), (1.0, 0.5, -2.5, 1.0, -0.5, -1.5), (1.0, 0.5, -2.5, 1.0, -0.5, -0.5), (1.0, 0.5, -2.5, 1.0, -0.5, 0.5), (1.0, 0.5, -2.5, 1.0, -0.5, 1.5), (1.0, 0.5, -2.5, 1.0, -0.5, 2.5), (1.0, 0.5, -2.5, 1.0, 0.5, -2.5), (1.0, 0.5, -2.5, 1.0, 0.5, -1.5), (1.0, 0.5, -2.5, 1.0, 0.5, -0.5), (1.0, 0.5, -2.5, 1.0, 0.5, 0.5), (1.0, 0.5, -2.5, 1.0, 0.5, 1.5), (1.0, 0.5, -2.5, 1.0, 0.5, 2.5), (1.0, 0.5, -2.5, 1.0, 1.5, -2.5), (1.0, 0.5, -2.5, 1.0, 1.5, -1.5), (1.0, 0.5, -2.5, 1.0, 1.5, -0.5), (1.0, 0.5, -2.5, 1.0, 1.5, 0.5), (1.0, 0.5, -2.5, 1.0, 1.5, 1.5), (1.0, 0.5, -2.5, 1.0, 1.5, 2.5), (1.0, 0.5, -1.5, -1.0, -1.5, -2.5), (1.0, 0.5, -1.5, -1.0, -1.5, -1.5), (1.0, 0.5, -1.5, -1.0, -1.5, -0.5), (1.0, 0.5, -1.5, -1.0, -1.5, 0.5), (1.0, 0.5, -1.5, -1.0, -1.5, 1.5), (1.0, 0.5, -1.5, -1.0, -1.5, 2.5), (1.0, 0.5, -1.5, -1.0, -0.5, -2.5), (1.0, 0.5, -1.5, -1.0, -0.5, -1.5), (1.0, 0.5, -1.5, -1.0, -0.5, -0.5), (1.0, 0.5, -1.5, -1.0, -0.5, 0.5), (1.0, 0.5, -1.5, -1.0, -0.5, 1.5), (1.0, 0.5, -1.5, -1.0, -0.5, 2.5), (1.0, 0.5, -1.5, -1.0, 0.5, -2.5), (1.0, 0.5, -1.5, -1.0, 0.5, -1.5), (1.0, 0.5, -1.5, -1.0, 0.5, -0.5), (1.0, 0.5, -1.5, -1.0, 0.5, 0.5), (1.0, 0.5, -1.5, -1.0, 0.5, 1.5), (1.0, 0.5, -1.5, -1.0, 0.5, 2.5), (1.0, 0.5, -1.5, -1.0, 1.5, -2.5), (1.0, 0.5, -1.5, -1.0, 1.5, -1.5), (1.0, 0.5, -1.5, -1.0, 1.5, -0.5), (1.0, 0.5, -1.5, -1.0, 1.5, 0.5), (1.0, 0.5, -1.5, -1.0, 1.5, 1.5), (1.0, 0.5, -1.5, -1.0, 1.5, 2.5), (1.0, 0.5, -1.5, 0.0, -1.5, -2.5), (1.0, 0.5, -1.5, 0.0, -1.5, -1.5), (1.0, 0.5, -1.5, 0.0, -1.5, -0.5), (1.0, 0.5, -1.5, 0.0, -1.5, 0.5), (1.0, 0.5, -1.5, 0.0, -1.5, 1.5), (1.0, 0.5, -1.5, 0.0, -1.5, 2.5), (1.0, 0.5, -1.5, 0.0, -0.5, -2.5), (1.0, 0.5, -1.5, 0.0, -0.5, -1.5), (1.0, 0.5, -1.5, 0.0, -0.5, -0.5), (1.0, 0.5, -1.5, 0.0, -0.5, 0.5), (1.0, 0.5, -1.5, 0.0, -0.5, 1.5), (1.0, 0.5, -1.5, 0.0, -0.5, 2.5), (1.0, 0.5, -1.5, 0.0, 0.5, -2.5), (1.0, 0.5, -1.5, 0.0, 0.5, -1.5), (1.0, 0.5, -1.5, 0.0, 0.5, -0.5), (1.0, 0.5, -1.5, 0.0, 0.5, 0.5), (1.0, 0.5, -1.5, 0.0, 0.5, 1.5), (1.0, 0.5, -1.5, 0.0, 0.5, 2.5), (1.0, 0.5, -1.5, 0.0, 1.5, -2.5), (1.0, 0.5, -1.5, 0.0, 1.5, -1.5), (1.0, 0.5, -1.5, 0.0, 1.5, -0.5), (1.0, 0.5, -1.5, 0.0, 1.5, 0.5), (1.0, 0.5, -1.5, 0.0, 1.5, 1.5), (1.0, 0.5, -1.5, 0.0, 1.5, 2.5), (1.0, 0.5, -1.5, 1.0, -1.5, -2.5), (1.0, 0.5, -1.5, 1.0, -1.5, -1.5), (1.0, 0.5, -1.5, 1.0, -1.5, -0.5), (1.0, 0.5, -1.5, 1.0, -1.5, 0.5), (1.0, 0.5, -1.5, 1.0, -1.5, 1.5), (1.0, 0.5, -1.5, 1.0, -1.5, 2.5), (1.0, 0.5, -1.5, 1.0, -0.5, -2.5), (1.0, 0.5, -1.5, 1.0, -0.5, -1.5), (1.0, 0.5, -1.5, 1.0, -0.5, -0.5), (1.0, 0.5, -1.5, 1.0, -0.5, 0.5), (1.0, 0.5, -1.5, 1.0, -0.5, 1.5), (1.0, 0.5, -1.5, 1.0, -0.5, 2.5), (1.0, 0.5, -1.5, 1.0, 0.5, -2.5), (1.0, 0.5, -1.5, 1.0, 0.5, -1.5), (1.0, 0.5, -1.5, 1.0, 0.5, -0.5), (1.0, 0.5, -1.5, 1.0, 0.5, 0.5), (1.0, 0.5, -1.5, 1.0, 0.5, 1.5), (1.0, 0.5, -1.5, 1.0, 0.5, 2.5), (1.0, 0.5, -1.5, 1.0, 1.5, -2.5), (1.0, 0.5, -1.5, 1.0, 1.5, -1.5), (1.0, 0.5, -1.5, 1.0, 1.5, -0.5), (1.0, 0.5, -1.5, 1.0, 1.5, 0.5), (1.0, 0.5, -1.5, 1.0, 1.5, 1.5), (1.0, 0.5, -1.5, 1.0, 1.5, 2.5), (1.0, 0.5, -0.5, -1.0, -1.5, -2.5), (1.0, 0.5, -0.5, -1.0, -1.5, -1.5), (1.0, 0.5, -0.5, -1.0, -1.5, -0.5), (1.0, 0.5, -0.5, -1.0, -1.5, 0.5), (1.0, 0.5, -0.5, -1.0, -1.5, 1.5), (1.0, 0.5, -0.5, -1.0, -1.5, 2.5), (1.0, 0.5, -0.5, -1.0, -0.5, -2.5), (1.0, 0.5, -0.5, -1.0, -0.5, -1.5), (1.0, 0.5, -0.5, -1.0, -0.5, -0.5), (1.0, 0.5, -0.5, -1.0, -0.5, 0.5), (1.0, 0.5, -0.5, -1.0, -0.5, 1.5), (1.0, 0.5, -0.5, -1.0, -0.5, 2.5), (1.0, 0.5, -0.5, -1.0, 0.5, -2.5), (1.0, 0.5, -0.5, -1.0, 0.5, -1.5), (1.0, 0.5, -0.5, -1.0, 0.5, -0.5), (1.0, 0.5, -0.5, -1.0, 0.5, 0.5), (1.0, 0.5, -0.5, -1.0, 0.5, 1.5), (1.0, 0.5, -0.5, -1.0, 0.5, 2.5), (1.0, 0.5, -0.5, -1.0, 1.5, -2.5), (1.0, 0.5, -0.5, -1.0, 1.5, -1.5), (1.0, 0.5, -0.5, -1.0, 1.5, -0.5), (1.0, 0.5, -0.5, -1.0, 1.5, 0.5), (1.0, 0.5, -0.5, -1.0, 1.5, 1.5), (1.0, 0.5, -0.5, -1.0, 1.5, 2.5), (1.0, 0.5, -0.5, 0.0, -1.5, -2.5), (1.0, 0.5, -0.5, 0.0, -1.5, -1.5), (1.0, 0.5, -0.5, 0.0, -1.5, -0.5), (1.0, 0.5, -0.5, 0.0, -1.5, 0.5), (1.0, 0.5, -0.5, 0.0, -1.5, 1.5), (1.0, 0.5, -0.5, 0.0, -1.5, 2.5), (1.0, 0.5, -0.5, 0.0, -0.5, -2.5), (1.0, 0.5, -0.5, 0.0, -0.5, -1.5), (1.0, 0.5, -0.5, 0.0, -0.5, -0.5), (1.0, 0.5, -0.5, 0.0, -0.5, 0.5), (1.0, 0.5, -0.5, 0.0, -0.5, 1.5), (1.0, 0.5, -0.5, 0.0, -0.5, 2.5), (1.0, 0.5, -0.5, 0.0, 0.5, -2.5), (1.0, 0.5, -0.5, 0.0, 0.5, -1.5), (1.0, 0.5, -0.5, 0.0, 0.5, -0.5), (1.0, 0.5, -0.5, 0.0, 0.5, 0.5), (1.0, 0.5, -0.5, 0.0, 0.5, 1.5), (1.0, 0.5, -0.5, 0.0, 0.5, 2.5), (1.0, 0.5, -0.5, 0.0, 1.5, -2.5), (1.0, 0.5, -0.5, 0.0, 1.5, -1.5), (1.0, 0.5, -0.5, 0.0, 1.5, -0.5), (1.0, 0.5, -0.5, 0.0, 1.5, 0.5), (1.0, 0.5, -0.5, 0.0, 1.5, 1.5), (1.0, 0.5, -0.5, 0.0, 1.5, 2.5), (1.0, 0.5, -0.5, 1.0, -1.5, -2.5), (1.0, 0.5, -0.5, 1.0, -1.5, -1.5), (1.0, 0.5, -0.5, 1.0, -1.5, -0.5), (1.0, 0.5, -0.5, 1.0, -1.5, 0.5), (1.0, 0.5, -0.5, 1.0, -1.5, 1.5), (1.0, 0.5, -0.5, 1.0, -1.5, 2.5), (1.0, 0.5, -0.5, 1.0, -0.5, -2.5), (1.0, 0.5, -0.5, 1.0, -0.5, -1.5), (1.0, 0.5, -0.5, 1.0, -0.5, -0.5), (1.0, 0.5, -0.5, 1.0, -0.5, 0.5), (1.0, 0.5, -0.5, 1.0, -0.5, 1.5), (1.0, 0.5, -0.5, 1.0, -0.5, 2.5), (1.0, 0.5, -0.5, 1.0, 0.5, -2.5), (1.0, 0.5, -0.5, 1.0, 0.5, -1.5), (1.0, 0.5, -0.5, 1.0, 0.5, -0.5), (1.0, 0.5, -0.5, 1.0, 0.5, 0.5), (1.0, 0.5, -0.5, 1.0, 0.5, 1.5), (1.0, 0.5, -0.5, 1.0, 0.5, 2.5), (1.0, 0.5, -0.5, 1.0, 1.5, -2.5), (1.0, 0.5, -0.5, 1.0, 1.5, -1.5), (1.0, 0.5, -0.5, 1.0, 1.5, -0.5), (1.0, 0.5, -0.5, 1.0, 1.5, 0.5), (1.0, 0.5, -0.5, 1.0, 1.5, 1.5), (1.0, 0.5, -0.5, 1.0, 1.5, 2.5), (1.0, 0.5, 0.5, -1.0, -1.5, -2.5), (1.0, 0.5, 0.5, -1.0, -1.5, -1.5), (1.0, 0.5, 0.5, -1.0, -1.5, -0.5), (1.0, 0.5, 0.5, -1.0, -1.5, 0.5), (1.0, 0.5, 0.5, -1.0, -1.5, 1.5), (1.0, 0.5, 0.5, -1.0, -1.5, 2.5), (1.0, 0.5, 0.5, -1.0, -0.5, -2.5), (1.0, 0.5, 0.5, -1.0, -0.5, -1.5), (1.0, 0.5, 0.5, -1.0, -0.5, -0.5), (1.0, 0.5, 0.5, -1.0, -0.5, 0.5), (1.0, 0.5, 0.5, -1.0, -0.5, 1.5), (1.0, 0.5, 0.5, -1.0, -0.5, 2.5), (1.0, 0.5, 0.5, -1.0, 0.5, -2.5), (1.0, 0.5, 0.5, -1.0, 0.5, -1.5), (1.0, 0.5, 0.5, -1.0, 0.5, -0.5), (1.0, 0.5, 0.5, -1.0, 0.5, 0.5), (1.0, 0.5, 0.5, -1.0, 0.5, 1.5), (1.0, 0.5, 0.5, -1.0, 0.5, 2.5), (1.0, 0.5, 0.5, -1.0, 1.5, -2.5), (1.0, 0.5, 0.5, -1.0, 1.5, -1.5), (1.0, 0.5, 0.5, -1.0, 1.5, -0.5), (1.0, 0.5, 0.5, -1.0, 1.5, 0.5), (1.0, 0.5, 0.5, -1.0, 1.5, 1.5), (1.0, 0.5, 0.5, -1.0, 1.5, 2.5), (1.0, 0.5, 0.5, 0.0, -1.5, -2.5), (1.0, 0.5, 0.5, 0.0, -1.5, -1.5), (1.0, 0.5, 0.5, 0.0, -1.5, -0.5), (1.0, 0.5, 0.5, 0.0, -1.5, 0.5), (1.0, 0.5, 0.5, 0.0, -1.5, 1.5), (1.0, 0.5, 0.5, 0.0, -1.5, 2.5), (1.0, 0.5, 0.5, 0.0, -0.5, -2.5), (1.0, 0.5, 0.5, 0.0, -0.5, -1.5), (1.0, 0.5, 0.5, 0.0, -0.5, -0.5), (1.0, 0.5, 0.5, 0.0, -0.5, 0.5), (1.0, 0.5, 0.5, 0.0, -0.5, 1.5), (1.0, 0.5, 0.5, 0.0, -0.5, 2.5), (1.0, 0.5, 0.5, 0.0, 0.5, -2.5), (1.0, 0.5, 0.5, 0.0, 0.5, -1.5), (1.0, 0.5, 0.5, 0.0, 0.5, -0.5), (1.0, 0.5, 0.5, 0.0, 0.5, 0.5), (1.0, 0.5, 0.5, 0.0, 0.5, 1.5), (1.0, 0.5, 0.5, 0.0, 0.5, 2.5), (1.0, 0.5, 0.5, 0.0, 1.5, -2.5), (1.0, 0.5, 0.5, 0.0, 1.5, -1.5), (1.0, 0.5, 0.5, 0.0, 1.5, -0.5), (1.0, 0.5, 0.5, 0.0, 1.5, 0.5), (1.0, 0.5, 0.5, 0.0, 1.5, 1.5), (1.0, 0.5, 0.5, 0.0, 1.5, 2.5), (1.0, 0.5, 0.5, 1.0, -1.5, -2.5), (1.0, 0.5, 0.5, 1.0, -1.5, -1.5), (1.0, 0.5, 0.5, 1.0, -1.5, -0.5), (1.0, 0.5, 0.5, 1.0, -1.5, 0.5), (1.0, 0.5, 0.5, 1.0, -1.5, 1.5), (1.0, 0.5, 0.5, 1.0, -1.5, 2.5), (1.0, 0.5, 0.5, 1.0, -0.5, -2.5), (1.0, 0.5, 0.5, 1.0, -0.5, -1.5), (1.0, 0.5, 0.5, 1.0, -0.5, -0.5), (1.0, 0.5, 0.5, 1.0, -0.5, 0.5), (1.0, 0.5, 0.5, 1.0, -0.5, 1.5), (1.0, 0.5, 0.5, 1.0, -0.5, 2.5), (1.0, 0.5, 0.5, 1.0, 0.5, -2.5), (1.0, 0.5, 0.5, 1.0, 0.5, -1.5), (1.0, 0.5, 0.5, 1.0, 0.5, -0.5), (1.0, 0.5, 0.5, 1.0, 0.5, 0.5), (1.0, 0.5, 0.5, 1.0, 0.5, 1.5), (1.0, 0.5, 0.5, 1.0, 0.5, 2.5), (1.0, 0.5, 0.5, 1.0, 1.5, -2.5), (1.0, 0.5, 0.5, 1.0, 1.5, -1.5), (1.0, 0.5, 0.5, 1.0, 1.5, -0.5), (1.0, 0.5, 0.5, 1.0, 1.5, 0.5), (1.0, 0.5, 0.5, 1.0, 1.5, 1.5), (1.0, 0.5, 0.5, 1.0, 1.5, 2.5), (1.0, 0.5, 1.5, -1.0, -1.5, -2.5), (1.0, 0.5, 1.5, -1.0, -1.5, -1.5), (1.0, 0.5, 1.5, -1.0, -1.5, -0.5), (1.0, 0.5, 1.5, -1.0, -1.5, 0.5), (1.0, 0.5, 1.5, -1.0, -1.5, 1.5), (1.0, 0.5, 1.5, -1.0, -1.5, 2.5), (1.0, 0.5, 1.5, -1.0, -0.5, -2.5), (1.0, 0.5, 1.5, -1.0, -0.5, -1.5), (1.0, 0.5, 1.5, -1.0, -0.5, -0.5), (1.0, 0.5, 1.5, -1.0, -0.5, 0.5), (1.0, 0.5, 1.5, -1.0, -0.5, 1.5), (1.0, 0.5, 1.5, -1.0, -0.5, 2.5), (1.0, 0.5, 1.5, -1.0, 0.5, -2.5), (1.0, 0.5, 1.5, -1.0, 0.5, -1.5), (1.0, 0.5, 1.5, -1.0, 0.5, -0.5), (1.0, 0.5, 1.5, -1.0, 0.5, 0.5), (1.0, 0.5, 1.5, -1.0, 0.5, 1.5), (1.0, 0.5, 1.5, -1.0, 0.5, 2.5), (1.0, 0.5, 1.5, -1.0, 1.5, -2.5), (1.0, 0.5, 1.5, -1.0, 1.5, -1.5), (1.0, 0.5, 1.5, -1.0, 1.5, -0.5), (1.0, 0.5, 1.5, -1.0, 1.5, 0.5), (1.0, 0.5, 1.5, -1.0, 1.5, 1.5), (1.0, 0.5, 1.5, -1.0, 1.5, 2.5), (1.0, 0.5, 1.5, 0.0, -1.5, -2.5), (1.0, 0.5, 1.5, 0.0, -1.5, -1.5), (1.0, 0.5, 1.5, 0.0, -1.5, -0.5), (1.0, 0.5, 1.5, 0.0, -1.5, 0.5), (1.0, 0.5, 1.5, 0.0, -1.5, 1.5), (1.0, 0.5, 1.5, 0.0, -1.5, 2.5), (1.0, 0.5, 1.5, 0.0, -0.5, -2.5), (1.0, 0.5, 1.5, 0.0, -0.5, -1.5), (1.0, 0.5, 1.5, 0.0, -0.5, -0.5), (1.0, 0.5, 1.5, 0.0, -0.5, 0.5), (1.0, 0.5, 1.5, 0.0, -0.5, 1.5), (1.0, 0.5, 1.5, 0.0, -0.5, 2.5), (1.0, 0.5, 1.5, 0.0, 0.5, -2.5), (1.0, 0.5, 1.5, 0.0, 0.5, -1.5), (1.0, 0.5, 1.5, 0.0, 0.5, -0.5), (1.0, 0.5, 1.5, 0.0, 0.5, 0.5), (1.0, 0.5, 1.5, 0.0, 0.5, 1.5), (1.0, 0.5, 1.5, 0.0, 0.5, 2.5), (1.0, 0.5, 1.5, 0.0, 1.5, -2.5), (1.0, 0.5, 1.5, 0.0, 1.5, -1.5), (1.0, 0.5, 1.5, 0.0, 1.5, -0.5), (1.0, 0.5, 1.5, 0.0, 1.5, 0.5), (1.0, 0.5, 1.5, 0.0, 1.5, 1.5), (1.0, 0.5, 1.5, 0.0, 1.5, 2.5), (1.0, 0.5, 1.5, 1.0, -1.5, -2.5), (1.0, 0.5, 1.5, 1.0, -1.5, -1.5), (1.0, 0.5, 1.5, 1.0, -1.5, -0.5), (1.0, 0.5, 1.5, 1.0, -1.5, 0.5), (1.0, 0.5, 1.5, 1.0, -1.5, 1.5), (1.0, 0.5, 1.5, 1.0, -1.5, 2.5), (1.0, 0.5, 1.5, 1.0, -0.5, -2.5), (1.0, 0.5, 1.5, 1.0, -0.5, -1.5), (1.0, 0.5, 1.5, 1.0, -0.5, -0.5), (1.0, 0.5, 1.5, 1.0, -0.5, 0.5), (1.0, 0.5, 1.5, 1.0, -0.5, 1.5), (1.0, 0.5, 1.5, 1.0, -0.5, 2.5), (1.0, 0.5, 1.5, 1.0, 0.5, -2.5), (1.0, 0.5, 1.5, 1.0, 0.5, -1.5), (1.0, 0.5, 1.5, 1.0, 0.5, -0.5), (1.0, 0.5, 1.5, 1.0, 0.5, 0.5), (1.0, 0.5, 1.5, 1.0, 0.5, 1.5), (1.0, 0.5, 1.5, 1.0, 0.5, 2.5), (1.0, 0.5, 1.5, 1.0, 1.5, -2.5), (1.0, 0.5, 1.5, 1.0, 1.5, -1.5), (1.0, 0.5, 1.5, 1.0, 1.5, -0.5), (1.0, 0.5, 1.5, 1.0, 1.5, 0.5), (1.0, 0.5, 1.5, 1.0, 1.5, 1.5), (1.0, 0.5, 1.5, 1.0, 1.5, 2.5), (1.0, 0.5, 2.5, -1.0, -1.5, -2.5), (1.0, 0.5, 2.5, -1.0, -1.5, -1.5), (1.0, 0.5, 2.5, -1.0, -1.5, -0.5), (1.0, 0.5, 2.5, -1.0, -1.5, 0.5), (1.0, 0.5, 2.5, -1.0, -1.5, 1.5), (1.0, 0.5, 2.5, -1.0, -1.5, 2.5), (1.0, 0.5, 2.5, -1.0, -0.5, -2.5), (1.0, 0.5, 2.5, -1.0, -0.5, -1.5), (1.0, 0.5, 2.5, -1.0, -0.5, -0.5), (1.0, 0.5, 2.5, -1.0, -0.5, 0.5), (1.0, 0.5, 2.5, -1.0, -0.5, 1.5), (1.0, 0.5, 2.5, -1.0, -0.5, 2.5), (1.0, 0.5, 2.5, -1.0, 0.5, -2.5), (1.0, 0.5, 2.5, -1.0, 0.5, -1.5), (1.0, 0.5, 2.5, -1.0, 0.5, -0.5), (1.0, 0.5, 2.5, -1.0, 0.5, 0.5), (1.0, 0.5, 2.5, -1.0, 0.5, 1.5), (1.0, 0.5, 2.5, -1.0, 0.5, 2.5), (1.0, 0.5, 2.5, -1.0, 1.5, -2.5), (1.0, 0.5, 2.5, -1.0, 1.5, -1.5), (1.0, 0.5, 2.5, -1.0, 1.5, -0.5), (1.0, 0.5, 2.5, -1.0, 1.5, 0.5), (1.0, 0.5, 2.5, -1.0, 1.5, 1.5), (1.0, 0.5, 2.5, -1.0, 1.5, 2.5), (1.0, 0.5, 2.5, 0.0, -1.5, -2.5), (1.0, 0.5, 2.5, 0.0, -1.5, -1.5), (1.0, 0.5, 2.5, 0.0, -1.5, -0.5), (1.0, 0.5, 2.5, 0.0, -1.5, 0.5), (1.0, 0.5, 2.5, 0.0, -1.5, 1.5), (1.0, 0.5, 2.5, 0.0, -1.5, 2.5), (1.0, 0.5, 2.5, 0.0, -0.5, -2.5), (1.0, 0.5, 2.5, 0.0, -0.5, -1.5), (1.0, 0.5, 2.5, 0.0, -0.5, -0.5), (1.0, 0.5, 2.5, 0.0, -0.5, 0.5), (1.0, 0.5, 2.5, 0.0, -0.5, 1.5), (1.0, 0.5, 2.5, 0.0, -0.5, 2.5), (1.0, 0.5, 2.5, 0.0, 0.5, -2.5), (1.0, 0.5, 2.5, 0.0, 0.5, -1.5), (1.0, 0.5, 2.5, 0.0, 0.5, -0.5), (1.0, 0.5, 2.5, 0.0, 0.5, 0.5), (1.0, 0.5, 2.5, 0.0, 0.5, 1.5), (1.0, 0.5, 2.5, 0.0, 0.5, 2.5), (1.0, 0.5, 2.5, 0.0, 1.5, -2.5), (1.0, 0.5, 2.5, 0.0, 1.5, -1.5), (1.0, 0.5, 2.5, 0.0, 1.5, -0.5), (1.0, 0.5, 2.5, 0.0, 1.5, 0.5), (1.0, 0.5, 2.5, 0.0, 1.5, 1.5), (1.0, 0.5, 2.5, 0.0, 1.5, 2.5), (1.0, 0.5, 2.5, 1.0, -1.5, -2.5), (1.0, 0.5, 2.5, 1.0, -1.5, -1.5), (1.0, 0.5, 2.5, 1.0, -1.5, -0.5), (1.0, 0.5, 2.5, 1.0, -1.5, 0.5), (1.0, 0.5, 2.5, 1.0, -1.5, 1.5), (1.0, 0.5, 2.5, 1.0, -1.5, 2.5), (1.0, 0.5, 2.5, 1.0, -0.5, -2.5), (1.0, 0.5, 2.5, 1.0, -0.5, -1.5), (1.0, 0.5, 2.5, 1.0, -0.5, -0.5), (1.0, 0.5, 2.5, 1.0, -0.5, 0.5), (1.0, 0.5, 2.5, 1.0, -0.5, 1.5), (1.0, 0.5, 2.5, 1.0, -0.5, 2.5), (1.0, 0.5, 2.5, 1.0, 0.5, -2.5), (1.0, 0.5, 2.5, 1.0, 0.5, -1.5), (1.0, 0.5, 2.5, 1.0, 0.5, -0.5), (1.0, 0.5, 2.5, 1.0, 0.5, 0.5), (1.0, 0.5, 2.5, 1.0, 0.5, 1.5), (1.0, 0.5, 2.5, 1.0, 0.5, 2.5), (1.0, 0.5, 2.5, 1.0, 1.5, -2.5), (1.0, 0.5, 2.5, 1.0, 1.5, -1.5), (1.0, 0.5, 2.5, 1.0, 1.5, -0.5), (1.0, 0.5, 2.5, 1.0, 1.5, 0.5), (1.0, 0.5, 2.5, 1.0, 1.5, 1.5), (1.0, 0.5, 2.5, 1.0, 1.5, 2.5), (1.0, 1.5, -2.5, -1.0, -1.5, -2.5), (1.0, 1.5, -2.5, -1.0, -1.5, -1.5), (1.0, 1.5, -2.5, -1.0, -1.5, -0.5), (1.0, 1.5, -2.5, -1.0, -1.5, 0.5), (1.0, 1.5, -2.5, -1.0, -1.5, 1.5), (1.0, 1.5, -2.5, -1.0, -1.5, 2.5), (1.0, 1.5, -2.5, -1.0, -0.5, -2.5), (1.0, 1.5, -2.5, -1.0, -0.5, -1.5), (1.0, 1.5, -2.5, -1.0, -0.5, -0.5), (1.0, 1.5, -2.5, -1.0, -0.5, 0.5), (1.0, 1.5, -2.5, -1.0, -0.5, 1.5), (1.0, 1.5, -2.5, -1.0, -0.5, 2.5), (1.0, 1.5, -2.5, -1.0, 0.5, -2.5), (1.0, 1.5, -2.5, -1.0, 0.5, -1.5), (1.0, 1.5, -2.5, -1.0, 0.5, -0.5), (1.0, 1.5, -2.5, -1.0, 0.5, 0.5), (1.0, 1.5, -2.5, -1.0, 0.5, 1.5), (1.0, 1.5, -2.5, -1.0, 0.5, 2.5), (1.0, 1.5, -2.5, -1.0, 1.5, -2.5), (1.0, 1.5, -2.5, -1.0, 1.5, -1.5), (1.0, 1.5, -2.5, -1.0, 1.5, -0.5), (1.0, 1.5, -2.5, -1.0, 1.5, 0.5), (1.0, 1.5, -2.5, -1.0, 1.5, 1.5), (1.0, 1.5, -2.5, -1.0, 1.5, 2.5), (1.0, 1.5, -2.5, 0.0, -1.5, -2.5), (1.0, 1.5, -2.5, 0.0, -1.5, -1.5), (1.0, 1.5, -2.5, 0.0, -1.5, -0.5), (1.0, 1.5, -2.5, 0.0, -1.5, 0.5), (1.0, 1.5, -2.5, 0.0, -1.5, 1.5), (1.0, 1.5, -2.5, 0.0, -1.5, 2.5), (1.0, 1.5, -2.5, 0.0, -0.5, -2.5), (1.0, 1.5, -2.5, 0.0, -0.5, -1.5), (1.0, 1.5, -2.5, 0.0, -0.5, -0.5), (1.0, 1.5, -2.5, 0.0, -0.5, 0.5), (1.0, 1.5, -2.5, 0.0, -0.5, 1.5), (1.0, 1.5, -2.5, 0.0, -0.5, 2.5), (1.0, 1.5, -2.5, 0.0, 0.5, -2.5), (1.0, 1.5, -2.5, 0.0, 0.5, -1.5), (1.0, 1.5, -2.5, 0.0, 0.5, -0.5), (1.0, 1.5, -2.5, 0.0, 0.5, 0.5), (1.0, 1.5, -2.5, 0.0, 0.5, 1.5), (1.0, 1.5, -2.5, 0.0, 0.5, 2.5), (1.0, 1.5, -2.5, 0.0, 1.5, -2.5), (1.0, 1.5, -2.5, 0.0, 1.5, -1.5), (1.0, 1.5, -2.5, 0.0, 1.5, -0.5), (1.0, 1.5, -2.5, 0.0, 1.5, 0.5), (1.0, 1.5, -2.5, 0.0, 1.5, 1.5), (1.0, 1.5, -2.5, 0.0, 1.5, 2.5), (1.0, 1.5, -2.5, 1.0, -1.5, -2.5), (1.0, 1.5, -2.5, 1.0, -1.5, -1.5), (1.0, 1.5, -2.5, 1.0, -1.5, -0.5), (1.0, 1.5, -2.5, 1.0, -1.5, 0.5), (1.0, 1.5, -2.5, 1.0, -1.5, 1.5), (1.0, 1.5, -2.5, 1.0, -1.5, 2.5), (1.0, 1.5, -2.5, 1.0, -0.5, -2.5), (1.0, 1.5, -2.5, 1.0, -0.5, -1.5), (1.0, 1.5, -2.5, 1.0, -0.5, -0.5), (1.0, 1.5, -2.5, 1.0, -0.5, 0.5), (1.0, 1.5, -2.5, 1.0, -0.5, 1.5), (1.0, 1.5, -2.5, 1.0, -0.5, 2.5), (1.0, 1.5, -2.5, 1.0, 0.5, -2.5), (1.0, 1.5, -2.5, 1.0, 0.5, -1.5), (1.0, 1.5, -2.5, 1.0, 0.5, -0.5), (1.0, 1.5, -2.5, 1.0, 0.5, 0.5), (1.0, 1.5, -2.5, 1.0, 0.5, 1.5), (1.0, 1.5, -2.5, 1.0, 0.5, 2.5), (1.0, 1.5, -2.5, 1.0, 1.5, -2.5), (1.0, 1.5, -2.5, 1.0, 1.5, -1.5), (1.0, 1.5, -2.5, 1.0, 1.5, -0.5), (1.0, 1.5, -2.5, 1.0, 1.5, 0.5), (1.0, 1.5, -2.5, 1.0, 1.5, 1.5), (1.0, 1.5, -2.5, 1.0, 1.5, 2.5), (1.0, 1.5, -1.5, -1.0, -1.5, -2.5), (1.0, 1.5, -1.5, -1.0, -1.5, -1.5), (1.0, 1.5, -1.5, -1.0, -1.5, -0.5), (1.0, 1.5, -1.5, -1.0, -1.5, 0.5), (1.0, 1.5, -1.5, -1.0, -1.5, 1.5), (1.0, 1.5, -1.5, -1.0, -1.5, 2.5), (1.0, 1.5, -1.5, -1.0, -0.5, -2.5), (1.0, 1.5, -1.5, -1.0, -0.5, -1.5), (1.0, 1.5, -1.5, -1.0, -0.5, -0.5), (1.0, 1.5, -1.5, -1.0, -0.5, 0.5), (1.0, 1.5, -1.5, -1.0, -0.5, 1.5), (1.0, 1.5, -1.5, -1.0, -0.5, 2.5), (1.0, 1.5, -1.5, -1.0, 0.5, -2.5), (1.0, 1.5, -1.5, -1.0, 0.5, -1.5), (1.0, 1.5, -1.5, -1.0, 0.5, -0.5), (1.0, 1.5, -1.5, -1.0, 0.5, 0.5), (1.0, 1.5, -1.5, -1.0, 0.5, 1.5), (1.0, 1.5, -1.5, -1.0, 0.5, 2.5), (1.0, 1.5, -1.5, -1.0, 1.5, -2.5), (1.0, 1.5, -1.5, -1.0, 1.5, -1.5), (1.0, 1.5, -1.5, -1.0, 1.5, -0.5), (1.0, 1.5, -1.5, -1.0, 1.5, 0.5), (1.0, 1.5, -1.5, -1.0, 1.5, 1.5), (1.0, 1.5, -1.5, -1.0, 1.5, 2.5), (1.0, 1.5, -1.5, 0.0, -1.5, -2.5), (1.0, 1.5, -1.5, 0.0, -1.5, -1.5), (1.0, 1.5, -1.5, 0.0, -1.5, -0.5), (1.0, 1.5, -1.5, 0.0, -1.5, 0.5), (1.0, 1.5, -1.5, 0.0, -1.5, 1.5), (1.0, 1.5, -1.5, 0.0, -1.5, 2.5), (1.0, 1.5, -1.5, 0.0, -0.5, -2.5), (1.0, 1.5, -1.5, 0.0, -0.5, -1.5), (1.0, 1.5, -1.5, 0.0, -0.5, -0.5), (1.0, 1.5, -1.5, 0.0, -0.5, 0.5), (1.0, 1.5, -1.5, 0.0, -0.5, 1.5), (1.0, 1.5, -1.5, 0.0, -0.5, 2.5), (1.0, 1.5, -1.5, 0.0, 0.5, -2.5), (1.0, 1.5, -1.5, 0.0, 0.5, -1.5), (1.0, 1.5, -1.5, 0.0, 0.5, -0.5), (1.0, 1.5, -1.5, 0.0, 0.5, 0.5), (1.0, 1.5, -1.5, 0.0, 0.5, 1.5), (1.0, 1.5, -1.5, 0.0, 0.5, 2.5), (1.0, 1.5, -1.5, 0.0, 1.5, -2.5), (1.0, 1.5, -1.5, 0.0, 1.5, -1.5), (1.0, 1.5, -1.5, 0.0, 1.5, -0.5), (1.0, 1.5, -1.5, 0.0, 1.5, 0.5), (1.0, 1.5, -1.5, 0.0, 1.5, 1.5), (1.0, 1.5, -1.5, 0.0, 1.5, 2.5), (1.0, 1.5, -1.5, 1.0, -1.5, -2.5), (1.0, 1.5, -1.5, 1.0, -1.5, -1.5), (1.0, 1.5, -1.5, 1.0, -1.5, -0.5), (1.0, 1.5, -1.5, 1.0, -1.5, 0.5), (1.0, 1.5, -1.5, 1.0, -1.5, 1.5), (1.0, 1.5, -1.5, 1.0, -1.5, 2.5), (1.0, 1.5, -1.5, 1.0, -0.5, -2.5), (1.0, 1.5, -1.5, 1.0, -0.5, -1.5), (1.0, 1.5, -1.5, 1.0, -0.5, -0.5), (1.0, 1.5, -1.5, 1.0, -0.5, 0.5), (1.0, 1.5, -1.5, 1.0, -0.5, 1.5), (1.0, 1.5, -1.5, 1.0, -0.5, 2.5), (1.0, 1.5, -1.5, 1.0, 0.5, -2.5), (1.0, 1.5, -1.5, 1.0, 0.5, -1.5), (1.0, 1.5, -1.5, 1.0, 0.5, -0.5), (1.0, 1.5, -1.5, 1.0, 0.5, 0.5), (1.0, 1.5, -1.5, 1.0, 0.5, 1.5), (1.0, 1.5, -1.5, 1.0, 0.5, 2.5), (1.0, 1.5, -1.5, 1.0, 1.5, -2.5), (1.0, 1.5, -1.5, 1.0, 1.5, -1.5), (1.0, 1.5, -1.5, 1.0, 1.5, -0.5), (1.0, 1.5, -1.5, 1.0, 1.5, 0.5), (1.0, 1.5, -1.5, 1.0, 1.5, 1.5), (1.0, 1.5, -1.5, 1.0, 1.5, 2.5), (1.0, 1.5, -0.5, -1.0, -1.5, -2.5), (1.0, 1.5, -0.5, -1.0, -1.5, -1.5), (1.0, 1.5, -0.5, -1.0, -1.5, -0.5), (1.0, 1.5, -0.5, -1.0, -1.5, 0.5), (1.0, 1.5, -0.5, -1.0, -1.5, 1.5), (1.0, 1.5, -0.5, -1.0, -1.5, 2.5), (1.0, 1.5, -0.5, -1.0, -0.5, -2.5), (1.0, 1.5, -0.5, -1.0, -0.5, -1.5), (1.0, 1.5, -0.5, -1.0, -0.5, -0.5), (1.0, 1.5, -0.5, -1.0, -0.5, 0.5), (1.0, 1.5, -0.5, -1.0, -0.5, 1.5), (1.0, 1.5, -0.5, -1.0, -0.5, 2.5), (1.0, 1.5, -0.5, -1.0, 0.5, -2.5), (1.0, 1.5, -0.5, -1.0, 0.5, -1.5), (1.0, 1.5, -0.5, -1.0, 0.5, -0.5), (1.0, 1.5, -0.5, -1.0, 0.5, 0.5), (1.0, 1.5, -0.5, -1.0, 0.5, 1.5), (1.0, 1.5, -0.5, -1.0, 0.5, 2.5), (1.0, 1.5, -0.5, -1.0, 1.5, -2.5), (1.0, 1.5, -0.5, -1.0, 1.5, -1.5), (1.0, 1.5, -0.5, -1.0, 1.5, -0.5), (1.0, 1.5, -0.5, -1.0, 1.5, 0.5), (1.0, 1.5, -0.5, -1.0, 1.5, 1.5), (1.0, 1.5, -0.5, -1.0, 1.5, 2.5), (1.0, 1.5, -0.5, 0.0, -1.5, -2.5), (1.0, 1.5, -0.5, 0.0, -1.5, -1.5), (1.0, 1.5, -0.5, 0.0, -1.5, -0.5), (1.0, 1.5, -0.5, 0.0, -1.5, 0.5), (1.0, 1.5, -0.5, 0.0, -1.5, 1.5), (1.0, 1.5, -0.5, 0.0, -1.5, 2.5), (1.0, 1.5, -0.5, 0.0, -0.5, -2.5), (1.0, 1.5, -0.5, 0.0, -0.5, -1.5), (1.0, 1.5, -0.5, 0.0, -0.5, -0.5), (1.0, 1.5, -0.5, 0.0, -0.5, 0.5), (1.0, 1.5, -0.5, 0.0, -0.5, 1.5), (1.0, 1.5, -0.5, 0.0, -0.5, 2.5), (1.0, 1.5, -0.5, 0.0, 0.5, -2.5), (1.0, 1.5, -0.5, 0.0, 0.5, -1.5), (1.0, 1.5, -0.5, 0.0, 0.5, -0.5), (1.0, 1.5, -0.5, 0.0, 0.5, 0.5), (1.0, 1.5, -0.5, 0.0, 0.5, 1.5), (1.0, 1.5, -0.5, 0.0, 0.5, 2.5), (1.0, 1.5, -0.5, 0.0, 1.5, -2.5), (1.0, 1.5, -0.5, 0.0, 1.5, -1.5), (1.0, 1.5, -0.5, 0.0, 1.5, -0.5), (1.0, 1.5, -0.5, 0.0, 1.5, 0.5), (1.0, 1.5, -0.5, 0.0, 1.5, 1.5), (1.0, 1.5, -0.5, 0.0, 1.5, 2.5), (1.0, 1.5, -0.5, 1.0, -1.5, -2.5), (1.0, 1.5, -0.5, 1.0, -1.5, -1.5), (1.0, 1.5, -0.5, 1.0, -1.5, -0.5), (1.0, 1.5, -0.5, 1.0, -1.5, 0.5), (1.0, 1.5, -0.5, 1.0, -1.5, 1.5), (1.0, 1.5, -0.5, 1.0, -1.5, 2.5), (1.0, 1.5, -0.5, 1.0, -0.5, -2.5), (1.0, 1.5, -0.5, 1.0, -0.5, -1.5), (1.0, 1.5, -0.5, 1.0, -0.5, -0.5), (1.0, 1.5, -0.5, 1.0, -0.5, 0.5), (1.0, 1.5, -0.5, 1.0, -0.5, 1.5), (1.0, 1.5, -0.5, 1.0, -0.5, 2.5), (1.0, 1.5, -0.5, 1.0, 0.5, -2.5), (1.0, 1.5, -0.5, 1.0, 0.5, -1.5), (1.0, 1.5, -0.5, 1.0, 0.5, -0.5), (1.0, 1.5, -0.5, 1.0, 0.5, 0.5), (1.0, 1.5, -0.5, 1.0, 0.5, 1.5), (1.0, 1.5, -0.5, 1.0, 0.5, 2.5), (1.0, 1.5, -0.5, 1.0, 1.5, -2.5), (1.0, 1.5, -0.5, 1.0, 1.5, -1.5), (1.0, 1.5, -0.5, 1.0, 1.5, -0.5), (1.0, 1.5, -0.5, 1.0, 1.5, 0.5), (1.0, 1.5, -0.5, 1.0, 1.5, 1.5), (1.0, 1.5, -0.5, 1.0, 1.5, 2.5), (1.0, 1.5, 0.5, -1.0, -1.5, -2.5), (1.0, 1.5, 0.5, -1.0, -1.5, -1.5), (1.0, 1.5, 0.5, -1.0, -1.5, -0.5), (1.0, 1.5, 0.5, -1.0, -1.5, 0.5), (1.0, 1.5, 0.5, -1.0, -1.5, 1.5), (1.0, 1.5, 0.5, -1.0, -1.5, 2.5), (1.0, 1.5, 0.5, -1.0, -0.5, -2.5), (1.0, 1.5, 0.5, -1.0, -0.5, -1.5), (1.0, 1.5, 0.5, -1.0, -0.5, -0.5), (1.0, 1.5, 0.5, -1.0, -0.5, 0.5), (1.0, 1.5, 0.5, -1.0, -0.5, 1.5), (1.0, 1.5, 0.5, -1.0, -0.5, 2.5), (1.0, 1.5, 0.5, -1.0, 0.5, -2.5), (1.0, 1.5, 0.5, -1.0, 0.5, -1.5), (1.0, 1.5, 0.5, -1.0, 0.5, -0.5), (1.0, 1.5, 0.5, -1.0, 0.5, 0.5), (1.0, 1.5, 0.5, -1.0, 0.5, 1.5), (1.0, 1.5, 0.5, -1.0, 0.5, 2.5), (1.0, 1.5, 0.5, -1.0, 1.5, -2.5), (1.0, 1.5, 0.5, -1.0, 1.5, -1.5), (1.0, 1.5, 0.5, -1.0, 1.5, -0.5), (1.0, 1.5, 0.5, -1.0, 1.5, 0.5), (1.0, 1.5, 0.5, -1.0, 1.5, 1.5), (1.0, 1.5, 0.5, -1.0, 1.5, 2.5), (1.0, 1.5, 0.5, 0.0, -1.5, -2.5), (1.0, 1.5, 0.5, 0.0, -1.5, -1.5), (1.0, 1.5, 0.5, 0.0, -1.5, -0.5), (1.0, 1.5, 0.5, 0.0, -1.5, 0.5), (1.0, 1.5, 0.5, 0.0, -1.5, 1.5), (1.0, 1.5, 0.5, 0.0, -1.5, 2.5), (1.0, 1.5, 0.5, 0.0, -0.5, -2.5), (1.0, 1.5, 0.5, 0.0, -0.5, -1.5), (1.0, 1.5, 0.5, 0.0, -0.5, -0.5), (1.0, 1.5, 0.5, 0.0, -0.5, 0.5), (1.0, 1.5, 0.5, 0.0, -0.5, 1.5), (1.0, 1.5, 0.5, 0.0, -0.5, 2.5), (1.0, 1.5, 0.5, 0.0, 0.5, -2.5), (1.0, 1.5, 0.5, 0.0, 0.5, -1.5), (1.0, 1.5, 0.5, 0.0, 0.5, -0.5), (1.0, 1.5, 0.5, 0.0, 0.5, 0.5), (1.0, 1.5, 0.5, 0.0, 0.5, 1.5), (1.0, 1.5, 0.5, 0.0, 0.5, 2.5), (1.0, 1.5, 0.5, 0.0, 1.5, -2.5), (1.0, 1.5, 0.5, 0.0, 1.5, -1.5), (1.0, 1.5, 0.5, 0.0, 1.5, -0.5), (1.0, 1.5, 0.5, 0.0, 1.5, 0.5), (1.0, 1.5, 0.5, 0.0, 1.5, 1.5), (1.0, 1.5, 0.5, 0.0, 1.5, 2.5), (1.0, 1.5, 0.5, 1.0, -1.5, -2.5), (1.0, 1.5, 0.5, 1.0, -1.5, -1.5), (1.0, 1.5, 0.5, 1.0, -1.5, -0.5), (1.0, 1.5, 0.5, 1.0, -1.5, 0.5), (1.0, 1.5, 0.5, 1.0, -1.5, 1.5), (1.0, 1.5, 0.5, 1.0, -1.5, 2.5), (1.0, 1.5, 0.5, 1.0, -0.5, -2.5), (1.0, 1.5, 0.5, 1.0, -0.5, -1.5), (1.0, 1.5, 0.5, 1.0, -0.5, -0.5), (1.0, 1.5, 0.5, 1.0, -0.5, 0.5), (1.0, 1.5, 0.5, 1.0, -0.5, 1.5), (1.0, 1.5, 0.5, 1.0, -0.5, 2.5), (1.0, 1.5, 0.5, 1.0, 0.5, -2.5), (1.0, 1.5, 0.5, 1.0, 0.5, -1.5), (1.0, 1.5, 0.5, 1.0, 0.5, -0.5), (1.0, 1.5, 0.5, 1.0, 0.5, 0.5), (1.0, 1.5, 0.5, 1.0, 0.5, 1.5), (1.0, 1.5, 0.5, 1.0, 0.5, 2.5), (1.0, 1.5, 0.5, 1.0, 1.5, -2.5), (1.0, 1.5, 0.5, 1.0, 1.5, -1.5), (1.0, 1.5, 0.5, 1.0, 1.5, -0.5), (1.0, 1.5, 0.5, 1.0, 1.5, 0.5), (1.0, 1.5, 0.5, 1.0, 1.5, 1.5), (1.0, 1.5, 0.5, 1.0, 1.5, 2.5), (1.0, 1.5, 1.5, -1.0, -1.5, -2.5), (1.0, 1.5, 1.5, -1.0, -1.5, -1.5), (1.0, 1.5, 1.5, -1.0, -1.5, -0.5), (1.0, 1.5, 1.5, -1.0, -1.5, 0.5), (1.0, 1.5, 1.5, -1.0, -1.5, 1.5), (1.0, 1.5, 1.5, -1.0, -1.5, 2.5), (1.0, 1.5, 1.5, -1.0, -0.5, -2.5), (1.0, 1.5, 1.5, -1.0, -0.5, -1.5), (1.0, 1.5, 1.5, -1.0, -0.5, -0.5), (1.0, 1.5, 1.5, -1.0, -0.5, 0.5), (1.0, 1.5, 1.5, -1.0, -0.5, 1.5), (1.0, 1.5, 1.5, -1.0, -0.5, 2.5), (1.0, 1.5, 1.5, -1.0, 0.5, -2.5), (1.0, 1.5, 1.5, -1.0, 0.5, -1.5), (1.0, 1.5, 1.5, -1.0, 0.5, -0.5), (1.0, 1.5, 1.5, -1.0, 0.5, 0.5), (1.0, 1.5, 1.5, -1.0, 0.5, 1.5), (1.0, 1.5, 1.5, -1.0, 0.5, 2.5), (1.0, 1.5, 1.5, -1.0, 1.5, -2.5), (1.0, 1.5, 1.5, -1.0, 1.5, -1.5), (1.0, 1.5, 1.5, -1.0, 1.5, -0.5), (1.0, 1.5, 1.5, -1.0, 1.5, 0.5), (1.0, 1.5, 1.5, -1.0, 1.5, 1.5), (1.0, 1.5, 1.5, -1.0, 1.5, 2.5), (1.0, 1.5, 1.5, 0.0, -1.5, -2.5), (1.0, 1.5, 1.5, 0.0, -1.5, -1.5), (1.0, 1.5, 1.5, 0.0, -1.5, -0.5), (1.0, 1.5, 1.5, 0.0, -1.5, 0.5), (1.0, 1.5, 1.5, 0.0, -1.5, 1.5), (1.0, 1.5, 1.5, 0.0, -1.5, 2.5), (1.0, 1.5, 1.5, 0.0, -0.5, -2.5), (1.0, 1.5, 1.5, 0.0, -0.5, -1.5), (1.0, 1.5, 1.5, 0.0, -0.5, -0.5), (1.0, 1.5, 1.5, 0.0, -0.5, 0.5), (1.0, 1.5, 1.5, 0.0, -0.5, 1.5), (1.0, 1.5, 1.5, 0.0, -0.5, 2.5), (1.0, 1.5, 1.5, 0.0, 0.5, -2.5), (1.0, 1.5, 1.5, 0.0, 0.5, -1.5), (1.0, 1.5, 1.5, 0.0, 0.5, -0.5), (1.0, 1.5, 1.5, 0.0, 0.5, 0.5), (1.0, 1.5, 1.5, 0.0, 0.5, 1.5), (1.0, 1.5, 1.5, 0.0, 0.5, 2.5), (1.0, 1.5, 1.5, 0.0, 1.5, -2.5), (1.0, 1.5, 1.5, 0.0, 1.5, -1.5), (1.0, 1.5, 1.5, 0.0, 1.5, -0.5), (1.0, 1.5, 1.5, 0.0, 1.5, 0.5), (1.0, 1.5, 1.5, 0.0, 1.5, 1.5), (1.0, 1.5, 1.5, 0.0, 1.5, 2.5), (1.0, 1.5, 1.5, 1.0, -1.5, -2.5), (1.0, 1.5, 1.5, 1.0, -1.5, -1.5), (1.0, 1.5, 1.5, 1.0, -1.5, -0.5), (1.0, 1.5, 1.5, 1.0, -1.5, 0.5), (1.0, 1.5, 1.5, 1.0, -1.5, 1.5), (1.0, 1.5, 1.5, 1.0, -1.5, 2.5), (1.0, 1.5, 1.5, 1.0, -0.5, -2.5), (1.0, 1.5, 1.5, 1.0, -0.5, -1.5), (1.0, 1.5, 1.5, 1.0, -0.5, -0.5), (1.0, 1.5, 1.5, 1.0, -0.5, 0.5), (1.0, 1.5, 1.5, 1.0, -0.5, 1.5), (1.0, 1.5, 1.5, 1.0, -0.5, 2.5), (1.0, 1.5, 1.5, 1.0, 0.5, -2.5), (1.0, 1.5, 1.5, 1.0, 0.5, -1.5), (1.0, 1.5, 1.5, 1.0, 0.5, -0.5), (1.0, 1.5, 1.5, 1.0, 0.5, 0.5), (1.0, 1.5, 1.5, 1.0, 0.5, 1.5), (1.0, 1.5, 1.5, 1.0, 0.5, 2.5), (1.0, 1.5, 1.5, 1.0, 1.5, -2.5), (1.0, 1.5, 1.5, 1.0, 1.5, -1.5), (1.0, 1.5, 1.5, 1.0, 1.5, -0.5), (1.0, 1.5, 1.5, 1.0, 1.5, 0.5), (1.0, 1.5, 1.5, 1.0, 1.5, 1.5), (1.0, 1.5, 1.5, 1.0, 1.5, 2.5), (1.0, 1.5, 2.5, -1.0, -1.5, -2.5), (1.0, 1.5, 2.5, -1.0, -1.5, -1.5), (1.0, 1.5, 2.5, -1.0, -1.5, -0.5), (1.0, 1.5, 2.5, -1.0, -1.5, 0.5), (1.0, 1.5, 2.5, -1.0, -1.5, 1.5), (1.0, 1.5, 2.5, -1.0, -1.5, 2.5), (1.0, 1.5, 2.5, -1.0, -0.5, -2.5), (1.0, 1.5, 2.5, -1.0, -0.5, -1.5), (1.0, 1.5, 2.5, -1.0, -0.5, -0.5), (1.0, 1.5, 2.5, -1.0, -0.5, 0.5), (1.0, 1.5, 2.5, -1.0, -0.5, 1.5), (1.0, 1.5, 2.5, -1.0, -0.5, 2.5), (1.0, 1.5, 2.5, -1.0, 0.5, -2.5), (1.0, 1.5, 2.5, -1.0, 0.5, -1.5), (1.0, 1.5, 2.5, -1.0, 0.5, -0.5), (1.0, 1.5, 2.5, -1.0, 0.5, 0.5), (1.0, 1.5, 2.5, -1.0, 0.5, 1.5), (1.0, 1.5, 2.5, -1.0, 0.5, 2.5), (1.0, 1.5, 2.5, -1.0, 1.5, -2.5), (1.0, 1.5, 2.5, -1.0, 1.5, -1.5), (1.0, 1.5, 2.5, -1.0, 1.5, -0.5), (1.0, 1.5, 2.5, -1.0, 1.5, 0.5), (1.0, 1.5, 2.5, -1.0, 1.5, 1.5), (1.0, 1.5, 2.5, -1.0, 1.5, 2.5), (1.0, 1.5, 2.5, 0.0, -1.5, -2.5), (1.0, 1.5, 2.5, 0.0, -1.5, -1.5), (1.0, 1.5, 2.5, 0.0, -1.5, -0.5), (1.0, 1.5, 2.5, 0.0, -1.5, 0.5), (1.0, 1.5, 2.5, 0.0, -1.5, 1.5), (1.0, 1.5, 2.5, 0.0, -1.5, 2.5), (1.0, 1.5, 2.5, 0.0, -0.5, -2.5), (1.0, 1.5, 2.5, 0.0, -0.5, -1.5), (1.0, 1.5, 2.5, 0.0, -0.5, -0.5), (1.0, 1.5, 2.5, 0.0, -0.5, 0.5), (1.0, 1.5, 2.5, 0.0, -0.5, 1.5), (1.0, 1.5, 2.5, 0.0, -0.5, 2.5), (1.0, 1.5, 2.5, 0.0, 0.5, -2.5), (1.0, 1.5, 2.5, 0.0, 0.5, -1.5), (1.0, 1.5, 2.5, 0.0, 0.5, -0.5), (1.0, 1.5, 2.5, 0.0, 0.5, 0.5), (1.0, 1.5, 2.5, 0.0, 0.5, 1.5), (1.0, 1.5, 2.5, 0.0, 0.5, 2.5), (1.0, 1.5, 2.5, 0.0, 1.5, -2.5), (1.0, 1.5, 2.5, 0.0, 1.5, -1.5), (1.0, 1.5, 2.5, 0.0, 1.5, -0.5), (1.0, 1.5, 2.5, 0.0, 1.5, 0.5), (1.0, 1.5, 2.5, 0.0, 1.5, 1.5), (1.0, 1.5, 2.5, 0.0, 1.5, 2.5), (1.0, 1.5, 2.5, 1.0, -1.5, -2.5), (1.0, 1.5, 2.5, 1.0, -1.5, -1.5), (1.0, 1.5, 2.5, 1.0, -1.5, -0.5), (1.0, 1.5, 2.5, 1.0, -1.5, 0.5), (1.0, 1.5, 2.5, 1.0, -1.5, 1.5), (1.0, 1.5, 2.5, 1.0, -1.5, 2.5), (1.0, 1.5, 2.5, 1.0, -0.5, -2.5), (1.0, 1.5, 2.5, 1.0, -0.5, -1.5), (1.0, 1.5, 2.5, 1.0, -0.5, -0.5), (1.0, 1.5, 2.5, 1.0, -0.5, 0.5), (1.0, 1.5, 2.5, 1.0, -0.5, 1.5), (1.0, 1.5, 2.5, 1.0, -0.5, 2.5), (1.0, 1.5, 2.5, 1.0, 0.5, -2.5), (1.0, 1.5, 2.5, 1.0, 0.5, -1.5), (1.0, 1.5, 2.5, 1.0, 0.5, -0.5), (1.0, 1.5, 2.5, 1.0, 0.5, 0.5), (1.0, 1.5, 2.5, 1.0, 0.5, 1.5), (1.0, 1.5, 2.5, 1.0, 0.5, 2.5), (1.0, 1.5, 2.5, 1.0, 1.5, -2.5), (1.0, 1.5, 2.5, 1.0, 1.5, -1.5), (1.0, 1.5, 2.5, 1.0, 1.5, -0.5), (1.0, 1.5, 2.5, 1.0, 1.5, 0.5), (1.0, 1.5, 2.5, 1.0, 1.5, 1.5), (1.0, 1.5, 2.5, 1.0, 1.5, 2.5)]\n",
            "5184\n",
            "       m1   m2    m  m1p   m2   mp\n",
            "0    -1.0 -1.5 -2.5 -1.0 -1.5 -2.5\n",
            "1    -1.0 -1.5 -2.5 -1.0 -1.5 -1.5\n",
            "2    -1.0 -1.5 -2.5 -1.0 -1.5 -0.5\n",
            "3    -1.0 -1.5 -2.5 -1.0 -1.5  0.5\n",
            "4    -1.0 -1.5 -2.5 -1.0 -1.5  1.5\n",
            "...   ...  ...  ...  ...  ...  ...\n",
            "5179  1.0  1.5  2.5  1.0  1.5 -1.5\n",
            "5180  1.0  1.5  2.5  1.0  1.5 -0.5\n",
            "5181  1.0  1.5  2.5  1.0  1.5  0.5\n",
            "5182  1.0  1.5  2.5  1.0  1.5  1.5\n",
            "5183  1.0  1.5  2.5  1.0  1.5  2.5\n",
            "\n",
            "[5184 rows x 6 columns]\n"
          ]
        }
      ]
    }
  ]
}