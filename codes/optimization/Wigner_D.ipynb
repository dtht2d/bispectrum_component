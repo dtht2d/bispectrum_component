{
  "nbformat": 4,
  "nbformat_minor": 0,
  "metadata": {
    "colab": {
      "provenance": [],
      "authorship_tag": "ABX9TyM7Cz6oS7YzQ2tPAPWMcQGJ",
      "include_colab_link": true
    },
    "kernelspec": {
      "name": "python3",
      "display_name": "Python 3"
    },
    "language_info": {
      "name": "python"
    }
  },
  "cells": [
    {
      "cell_type": "markdown",
      "metadata": {
        "id": "view-in-github",
        "colab_type": "text"
      },
      "source": [
        "<a href=\"https://colab.research.google.com/github/dtht2d/bispectrum_component/blob/main/codes/optimization/Wigner_D.ipynb\" target=\"_parent\"><img src=\"https://colab.research.google.com/assets/colab-badge.svg\" alt=\"Open In Colab\"/></a>"
      ]
    },
    {
      "cell_type": "markdown",
      "source": [
        "# **Code optimization:**  Compile Wigner D with Numba\n",
        "\n",
        "**Numba**\n",
        "- An open source JIT compiler that translates a subset of Python and NumPy code into fast machine code.\n",
        "- Designed to be used with NumPy arrays and functions. Numba generates specialized code for different array data types and layouts to optimize performance.\n"
      ],
      "metadata": {
        "id": "mmmBfI1hnSLz"
      }
    },
    {
      "cell_type": "code",
      "source": [
        "!pip install numpy"
      ],
      "metadata": {
        "id": "bcRht3Fhn05r",
        "outputId": "6608224d-7907-4ca9-c2e3-339ea37b74ba",
        "colab": {
          "base_uri": "https://localhost:8080/"
        }
      },
      "execution_count": 1,
      "outputs": [
        {
          "output_type": "stream",
          "name": "stdout",
          "text": [
            "Looking in indexes: https://pypi.org/simple, https://us-python.pkg.dev/colab-wheels/public/simple/\n",
            "Requirement already satisfied: numpy in /usr/local/lib/python3.8/dist-packages (1.22.4)\n"
          ]
        }
      ]
    },
    {
      "cell_type": "code",
      "source": [
        "!pip install numba"
      ],
      "metadata": {
        "id": "JkAbpQUPn4Zw",
        "outputId": "ceeda7a8-cb2c-4788-e553-14b9ba38666c",
        "colab": {
          "base_uri": "https://localhost:8080/"
        }
      },
      "execution_count": 2,
      "outputs": [
        {
          "output_type": "stream",
          "name": "stdout",
          "text": [
            "Looking in indexes: https://pypi.org/simple, https://us-python.pkg.dev/colab-wheels/public/simple/\n",
            "Requirement already satisfied: numba in /usr/local/lib/python3.8/dist-packages (0.56.4)\n",
            "Requirement already satisfied: importlib-metadata in /usr/local/lib/python3.8/dist-packages (from numba) (6.0.0)\n",
            "Requirement already satisfied: numpy<1.24,>=1.18 in /usr/local/lib/python3.8/dist-packages (from numba) (1.22.4)\n",
            "Requirement already satisfied: setuptools in /usr/local/lib/python3.8/dist-packages (from numba) (57.4.0)\n",
            "Requirement already satisfied: llvmlite<0.40,>=0.39.0dev0 in /usr/local/lib/python3.8/dist-packages (from numba) (0.39.1)\n",
            "Requirement already satisfied: zipp>=0.5 in /usr/local/lib/python3.8/dist-packages (from importlib-metadata->numba) (3.13.0)\n"
          ]
        }
      ]
    },
    {
      "cell_type": "code",
      "source": [
        "!pip install ipython-autotime\n",
        "%load_ext autotime"
      ],
      "metadata": {
        "id": "san3vLB3oEB5",
        "outputId": "0e4e1cc0-6b93-4909-c427-69f64ff6a0b8",
        "colab": {
          "base_uri": "https://localhost:8080/"
        }
      },
      "execution_count": 3,
      "outputs": [
        {
          "output_type": "stream",
          "name": "stdout",
          "text": [
            "Looking in indexes: https://pypi.org/simple, https://us-python.pkg.dev/colab-wheels/public/simple/\n",
            "Requirement already satisfied: ipython-autotime in /usr/local/lib/python3.8/dist-packages (0.3.1)\n",
            "Requirement already satisfied: ipython in /usr/local/lib/python3.8/dist-packages (from ipython-autotime) (7.9.0)\n",
            "Requirement already satisfied: decorator in /usr/local/lib/python3.8/dist-packages (from ipython->ipython-autotime) (4.4.2)\n",
            "Requirement already satisfied: prompt-toolkit<2.1.0,>=2.0.0 in /usr/local/lib/python3.8/dist-packages (from ipython->ipython-autotime) (2.0.10)\n",
            "Requirement already satisfied: pexpect in /usr/local/lib/python3.8/dist-packages (from ipython->ipython-autotime) (4.8.0)\n",
            "Requirement already satisfied: setuptools>=18.5 in /usr/local/lib/python3.8/dist-packages (from ipython->ipython-autotime) (57.4.0)\n",
            "Requirement already satisfied: traitlets>=4.2 in /usr/local/lib/python3.8/dist-packages (from ipython->ipython-autotime) (5.7.1)\n",
            "Requirement already satisfied: pickleshare in /usr/local/lib/python3.8/dist-packages (from ipython->ipython-autotime) (0.7.5)\n",
            "Requirement already satisfied: pygments in /usr/local/lib/python3.8/dist-packages (from ipython->ipython-autotime) (2.6.1)\n",
            "Requirement already satisfied: backcall in /usr/local/lib/python3.8/dist-packages (from ipython->ipython-autotime) (0.2.0)\n",
            "Requirement already satisfied: jedi>=0.10 in /usr/local/lib/python3.8/dist-packages (from ipython->ipython-autotime) (0.18.2)\n",
            "Requirement already satisfied: parso<0.9.0,>=0.8.0 in /usr/local/lib/python3.8/dist-packages (from jedi>=0.10->ipython->ipython-autotime) (0.8.3)\n",
            "Requirement already satisfied: wcwidth in /usr/local/lib/python3.8/dist-packages (from prompt-toolkit<2.1.0,>=2.0.0->ipython->ipython-autotime) (0.2.6)\n",
            "Requirement already satisfied: six>=1.9.0 in /usr/local/lib/python3.8/dist-packages (from prompt-toolkit<2.1.0,>=2.0.0->ipython->ipython-autotime) (1.15.0)\n",
            "Requirement already satisfied: ptyprocess>=0.5 in /usr/local/lib/python3.8/dist-packages (from pexpect->ipython->ipython-autotime) (0.7.0)\n",
            "time: 530 µs (started: 2023-02-23 05:18:24 +00:00)\n"
          ]
        }
      ]
    },
    {
      "cell_type": "code",
      "source": [
        "import numba as nb\n",
        "from numba import jit, complex128, float64\n",
        "import numpy as np\n",
        "import cmath\n",
        "\n",
        "\n",
        "@jit(complex128(float64, float64, float64, float64, float64, float64), fastmath=True, cache=True, nogil=True)\n",
        "def wigner_D(j, m, mp, theta_0, theta, phi):\n",
        "    \"\"\"\n",
        "    This function calculates the Wigner D function for a given set of input parameters.\n",
        "\n",
        "    Args:\n",
        "        j (scalar): angular momentum\n",
        "        m (scalar): eigenvalue of angular momentum\n",
        "        mp (scalar): eigenvalue of j along rotated axis\n",
        "        theta_0 (scalar): fist angle of rotation [0,pi]\n",
        "        theta (scalar): second angle of rotation [0,pi]\n",
        "        phi (scalar): third angle of rotation [0,2pi]\n",
        "\n",
        "    Returns:\n",
        "        wigner D function - complex number\n",
        "\n",
        "    ==========================Reference==================================\n",
        "    [5] Chapter 4.3-(p.76,eq.1)  D.A. Varshalovich, A.N. Moskalev, V.K Khersonskii,\n",
        "    \"\"\"\n",
        "  \n",
        "    def fact(n):\n",
        "        \"\"\"\n",
        "        This function is used to calculate factorial of a number by using an \n",
        "        interative approach instead of recursive approach\n",
        "        \"\"\"\n",
        "        result = 1\n",
        "        for i in range(1, n + 1):\n",
        "          result *= i\n",
        "        return result\n",
        "    def compute_dsmall():\n",
        "        \"\"\"\n",
        "        Calculate the Wigner d small- real function involving trigonometric functions.\n",
        "\n",
        "        Returns:\n",
        "            wigner d - real function.\n",
        "\n",
        "        References:\n",
        "        [5] Chapter 4.3.1-(p.76,eq.4)  D.A. Varshalovich, A.N. Moskalev, V.K Khersonskii,\n",
        "        \"\"\"\n",
        "        kmax = max(0, m - mp)\n",
        "        kmin = min(j + m, j - mp)\n",
        "        term1 = np.sqrt(fact(j + m) * fact(j - m) * fact(j + mp) * fact(j - mp))\n",
        "        total_sum = 0\n",
        "        for k in range(kmin, kmax+1):\n",
        "            numerator = (-1) ** k * (cmath.cos(theta / 2)) ** (2 * j - 2 * k + m - mp) *\\\n",
        "                        (cmath.sin(theta / 2)) ** (2 * k - m + mp)\n",
        "            denominator = fact(k) * fact(j + m - k) * fact(j - mp - k) * fact(mp - m + k)\n",
        "            total_sum += numerator / denominator\n",
        "        return term1 * total_sum\n",
        "    term1 = np.exp(-1j * m * theta_0)\n",
        "    term2 = compute_dsmall()\n",
        "    term3 = np.exp(-1j * mp * phi)\n",
        "    result = term1 * term2 * term3\n",
        "    return result\n",
        "\n"
      ],
      "metadata": {
        "id": "qGZ4B_6yoQbm",
        "outputId": "cf342086-7aa8-4ebd-832f-cf8fb7e443fb",
        "colab": {
          "base_uri": "https://localhost:8080/"
        }
      },
      "execution_count": 4,
      "outputs": [
        {
          "output_type": "stream",
          "name": "stdout",
          "text": [
            "time: 4.3 s (started: 2023-02-23 05:18:25 +00:00)\n"
          ]
        }
      ]
    },
    {
      "cell_type": "markdown",
      "source": [
        "**Example**"
      ],
      "metadata": {
        "id": "eU77rfCGqvyn"
      }
    },
    {
      "cell_type": "code",
      "source": [
        "import numpy as np\n",
        "j, m, mp, theta_0, theta,phi= 1, 1, 0, np.pi, np.pi/2, 0\n",
        "# Calculate the Wigner D function using Numba\n",
        "result = wigner_D(j, m, mp, theta_0, theta, phi)\n",
        "print(result)"
      ],
      "metadata": {
        "id": "cczu8YPFquZ5"
      },
      "execution_count": null,
      "outputs": []
    }
  ]
}