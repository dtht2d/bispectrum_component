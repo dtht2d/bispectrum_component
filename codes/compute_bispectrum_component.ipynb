{
  "cells": [
    {
      "cell_type": "markdown",
      "metadata": {
        "id": "view-in-github",
        "colab_type": "text"
      },
      "source": [
        "<a href=\"https://colab.research.google.com/github/dtht2d/bispectrump_component/blob/main/codes/compute_bispectrum_component.ipynb\" target=\"_parent\"><img src=\"https://colab.research.google.com/assets/colab-badge.svg\" alt=\"Open In Colab\"/></a>"
      ]
    },
    {
      "cell_type": "markdown",
      "source": [
        "# Compute Bispectrum Components\n",
        "---\n",
        "## Outline\n",
        "**Computational steps**\n",
        "\n",
        "**1. Data prep and parameter**\n",
        "\n",
        "**a. Data prep**\n",
        "\n",
        "- Read CIF file as data frame\n",
        "\n",
        "**b. Define position of neighbor atoms $k$ relative to a central atom $i$  is a point within the 3D ball of radius**\n",
        "\n",
        "- Estimate list of potentially atoms in the center cell\n",
        "- Choose a center atom $i$  from the list and get its coordinate $(x_i,y_i,z_i)$\n",
        "- Re-calculate coordinate for all atoms in the cell w.r.t new reference of frame  (origin at $(x_i,y_i,z_i)$)\n",
        "- Compute neighbors list in a chosen cutoff radius $R_{cut}$ with respect to new reference frame where its origin is at center atom $i$  location\n",
        "\n",
        "**c. Map possible neighbor atoms on to the set of points $(\\theta_0, \\theta,\\phi)$**\n",
        "\n",
        "Compute $\\theta_0, \\ \\theta, \\ \\phi$\n",
        "\n",
        "**2. Compute bispectrum component for input values $(j_1, j_2, j)$**\n",
        "\n",
        "1. Compute Clebsch- Gordan coefficient\n",
        "\n",
        "    $$\n",
        "    C^{jm}_{{j_1}{m_1}{j_2}{m_2}}, C^{jm'}_{{j_1}{m'_1}{j_2}{m'_2}}\n",
        "    $$\n",
        "\n",
        "2. Compute coupling coefficient\n",
        "\n",
        "    $$\n",
        "     H^{jmm'}_{{{j_1}{m_1}{m'_1}} ,{{j_2}{m_2}{m'_2}}}\n",
        "    $$\n",
        "\n",
        "3. Compute  density coefficient\n",
        "\n",
        "    $$\n",
        "    u^j_{mm'}, \\mu_{m_1m_1'}^{j_1}, \\mu_{m_2,m_2'}^{j_2}\n",
        "    $$\n",
        "---"
      ],
      "metadata": {
        "collapsed": false,
        "pycharm": {
          "name": "#%% md\n"
        },
        "id": "vKMqzEb5CkGb"
      }
    },
    {
      "cell_type": "markdown",
      "source": [
        "## Install packages\n"
      ],
      "metadata": {
        "id": "h09guMa-EEsl"
      }
    },
    {
      "cell_type": "code",
      "source": [
        "pip install biopython"
      ],
      "metadata": {
        "colab": {
          "base_uri": "https://localhost:8080/"
        },
        "id": "zmP9ImbLENFA",
        "outputId": "6422efd1-3f17-4560-9ac4-392d432a67f9"
      },
      "execution_count": null,
      "outputs": [
        {
          "output_type": "stream",
          "name": "stdout",
          "text": [
            "Looking in indexes: https://pypi.org/simple, https://us-python.pkg.dev/colab-wheels/public/simple/\n",
            "Requirement already satisfied: biopython in /usr/local/lib/python3.8/dist-packages (1.80)\n",
            "Requirement already satisfied: numpy in /usr/local/lib/python3.8/dist-packages (from biopython) (1.21.6)\n"
          ]
        }
      ]
    },
    {
      "cell_type": "code",
      "source": [
        "pip install sympy"
      ],
      "metadata": {
        "colab": {
          "base_uri": "https://localhost:8080/"
        },
        "id": "bajXRMVkEqy4",
        "outputId": "59137040-87c6-4fd9-f5f5-73cf38616f71"
      },
      "execution_count": null,
      "outputs": [
        {
          "output_type": "stream",
          "name": "stdout",
          "text": [
            "Looking in indexes: https://pypi.org/simple, https://us-python.pkg.dev/colab-wheels/public/simple/\n",
            "Requirement already satisfied: sympy in /usr/local/lib/python3.8/dist-packages (1.7.1)\n",
            "Requirement already satisfied: mpmath>=0.19 in /usr/local/lib/python3.8/dist-packages (from sympy) (1.2.1)\n"
          ]
        }
      ]
    },
    {
      "cell_type": "code",
      "source": [
        "pip list"
      ],
      "metadata": {
        "colab": {
          "base_uri": "https://localhost:8080/"
        },
        "id": "-gY6FfwdE2eC",
        "outputId": "1f17586a-f2c3-43c7-84ae-f21edd07b6ea"
      },
      "execution_count": null,
      "outputs": [
        {
          "output_type": "stream",
          "name": "stdout",
          "text": [
            "Package                       Version\n",
            "----------------------------- ----------------------\n",
            "absl-py                       1.3.0\n",
            "aeppl                         0.0.33\n",
            "aesara                        2.7.9\n",
            "aiohttp                       3.8.3\n",
            "aiosignal                     1.3.1\n",
            "alabaster                     0.7.12\n",
            "albumentations                1.2.1\n",
            "altair                        4.2.0\n",
            "appdirs                       1.4.4\n",
            "arviz                         0.12.1\n",
            "astor                         0.8.1\n",
            "astropy                       4.3.1\n",
            "astunparse                    1.6.3\n",
            "async-timeout                 4.0.2\n",
            "atari-py                      0.2.9\n",
            "atomicwrites                  1.4.1\n",
            "attrs                         22.1.0\n",
            "audioread                     3.0.0\n",
            "autograd                      1.5\n",
            "Babel                         2.11.0\n",
            "backcall                      0.2.0\n",
            "beautifulsoup4                4.6.3\n",
            "biopython                     1.80\n",
            "bleach                        5.0.1\n",
            "blis                          0.7.9\n",
            "bokeh                         2.3.3\n",
            "branca                        0.6.0\n",
            "bs4                           0.0.1\n",
            "CacheControl                  0.12.11\n",
            "cachetools                    5.2.0\n",
            "catalogue                     2.0.8\n",
            "certifi                       2022.9.24\n",
            "cffi                          1.15.1\n",
            "cftime                        1.6.2\n",
            "chardet                       3.0.4\n",
            "charset-normalizer            2.1.1\n",
            "click                         7.1.2\n",
            "clikit                        0.6.2\n",
            "cloudpickle                   1.5.0\n",
            "cmake                         3.22.6\n",
            "cmdstanpy                     1.0.8\n",
            "colorcet                      3.0.1\n",
            "colorlover                    0.3.0\n",
            "community                     1.0.0b1\n",
            "confection                    0.0.3\n",
            "cons                          0.4.5\n",
            "contextlib2                   0.5.5\n",
            "convertdate                   2.4.0\n",
            "crashtest                     0.3.1\n",
            "crcmod                        1.7\n",
            "cufflinks                     0.17.3\n",
            "cvxopt                        1.3.0\n",
            "cvxpy                         1.2.2\n",
            "cycler                        0.11.0\n",
            "cymem                         2.0.7\n",
            "Cython                        0.29.32\n",
            "daft                          0.0.4\n",
            "dask                          2022.2.1\n",
            "datascience                   0.17.5\n",
            "db-dtypes                     1.0.4\n",
            "debugpy                       1.0.0\n",
            "decorator                     4.4.2\n",
            "defusedxml                    0.7.1\n",
            "descartes                     1.1.0\n",
            "dill                          0.3.6\n",
            "distributed                   2022.2.1\n",
            "dlib                          19.24.0\n",
            "dm-tree                       0.1.7\n",
            "dnspython                     2.2.1\n",
            "docutils                      0.17.1\n",
            "dopamine-rl                   1.0.5\n",
            "earthengine-api               0.1.334\n",
            "easydict                      1.10\n",
            "ecos                          2.0.10\n",
            "editdistance                  0.5.3\n",
            "en-core-web-sm                3.4.1\n",
            "entrypoints                   0.4\n",
            "ephem                         4.1.3\n",
            "et-xmlfile                    1.1.0\n",
            "etils                         0.9.0\n",
            "etuples                       0.3.8\n",
            "fa2                           0.3.5\n",
            "fastai                        2.7.10\n",
            "fastcore                      1.5.27\n",
            "fastdownload                  0.0.7\n",
            "fastdtw                       0.3.4\n",
            "fastjsonschema                2.16.2\n",
            "fastprogress                  1.0.3\n",
            "fastrlock                     0.8.1\n",
            "feather-format                0.4.1\n",
            "filelock                      3.8.0\n",
            "firebase-admin                5.3.0\n",
            "fix-yahoo-finance             0.0.22\n",
            "Flask                         1.1.4\n",
            "flatbuffers                   1.12\n",
            "folium                        0.12.1.post1\n",
            "frozenlist                    1.3.3\n",
            "fsspec                        2022.11.0\n",
            "future                        0.16.0\n",
            "gast                          0.4.0\n",
            "GDAL                          2.2.2\n",
            "gdown                         4.4.0\n",
            "gensim                        3.6.0\n",
            "geographiclib                 1.52\n",
            "geopy                         1.17.0\n",
            "gin-config                    0.5.0\n",
            "glob2                         0.7\n",
            "google                        2.0.3\n",
            "google-api-core               2.8.2\n",
            "google-api-python-client      1.12.11\n",
            "google-auth                   2.15.0\n",
            "google-auth-httplib2          0.0.4\n",
            "google-auth-oauthlib          0.4.6\n",
            "google-cloud-bigquery         3.3.6\n",
            "google-cloud-bigquery-storage 2.16.2\n",
            "google-cloud-core             2.3.2\n",
            "google-cloud-datastore        2.9.0\n",
            "google-cloud-firestore        2.7.2\n",
            "google-cloud-language         2.6.1\n",
            "google-cloud-storage          2.5.0\n",
            "google-cloud-translate        3.8.4\n",
            "google-colab                  1.0.0\n",
            "google-crc32c                 1.5.0\n",
            "google-pasta                  0.2.0\n",
            "google-resumable-media        2.4.0\n",
            "googleapis-common-protos      1.57.0\n",
            "googledrivedownloader         0.4\n",
            "graphviz                      0.10.1\n",
            "greenlet                      2.0.1\n",
            "grpcio                        1.51.1\n",
            "grpcio-status                 1.48.2\n",
            "gspread                       3.4.2\n",
            "gspread-dataframe             3.0.8\n",
            "gym                           0.25.2\n",
            "gym-notices                   0.0.8\n",
            "h5py                          3.1.0\n",
            "HeapDict                      1.0.1\n",
            "hijri-converter               2.2.4\n",
            "holidays                      0.17.2\n",
            "holoviews                     1.14.9\n",
            "html5lib                      1.0.1\n",
            "httpimport                    0.5.18\n",
            "httplib2                      0.17.4\n",
            "httpstan                      4.6.1\n",
            "humanize                      0.5.1\n",
            "hyperopt                      0.1.2\n",
            "idna                          2.10\n",
            "imageio                       2.9.0\n",
            "imagesize                     1.4.1\n",
            "imbalanced-learn              0.8.1\n",
            "imblearn                      0.0\n",
            "imgaug                        0.4.0\n",
            "importlib-metadata            4.13.0\n",
            "importlib-resources           5.10.0\n",
            "imutils                       0.5.4\n",
            "inflect                       2.1.0\n",
            "intel-openmp                  2022.2.1\n",
            "intervaltree                  2.1.0\n",
            "ipykernel                     5.3.4\n",
            "ipython                       7.9.0\n",
            "ipython-genutils              0.2.0\n",
            "ipython-sql                   0.3.9\n",
            "ipywidgets                    7.7.1\n",
            "itsdangerous                  1.1.0\n",
            "jax                           0.3.25\n",
            "jaxlib                        0.3.25+cuda11.cudnn805\n",
            "jieba                         0.42.1\n",
            "Jinja2                        2.11.3\n",
            "joblib                        1.2.0\n",
            "jpeg4py                       0.1.4\n",
            "jsonschema                    4.3.3\n",
            "jupyter-client                6.1.12\n",
            "jupyter-console               6.1.0\n",
            "jupyter-core                  5.1.0\n",
            "jupyterlab-widgets            3.0.3\n",
            "kaggle                        1.5.12\n",
            "kapre                         0.3.7\n",
            "keras                         2.9.0\n",
            "Keras-Preprocessing           1.1.2\n",
            "keras-vis                     0.4.1\n",
            "kiwisolver                    1.4.4\n",
            "korean-lunar-calendar         0.3.1\n",
            "langcodes                     3.3.0\n",
            "libclang                      14.0.6\n",
            "librosa                       0.8.1\n",
            "lightgbm                      2.2.3\n",
            "llvmlite                      0.39.1\n",
            "lmdb                          0.99\n",
            "locket                        1.0.0\n",
            "logical-unification           0.4.5\n",
            "LunarCalendar                 0.0.9\n",
            "lxml                          4.9.1\n",
            "Markdown                      3.4.1\n",
            "MarkupSafe                    2.0.1\n",
            "marshmallow                   3.19.0\n",
            "matplotlib                    3.2.2\n",
            "matplotlib-venn               0.11.7\n",
            "miniKanren                    1.0.3\n",
            "missingno                     0.5.1\n",
            "mistune                       0.8.4\n",
            "mizani                        0.7.3\n",
            "mkl                           2019.0\n",
            "mlxtend                       0.14.0\n",
            "more-itertools                9.0.0\n",
            "moviepy                       0.2.3.5\n",
            "mpmath                        1.2.1\n",
            "msgpack                       1.0.4\n",
            "multidict                     6.0.3\n",
            "multipledispatch              0.6.0\n",
            "multitasking                  0.0.11\n",
            "murmurhash                    1.0.9\n",
            "music21                       5.5.0\n",
            "natsort                       5.5.0\n",
            "nbconvert                     5.6.1\n",
            "nbformat                      5.7.0\n",
            "netCDF4                       1.6.2\n",
            "networkx                      2.8.8\n",
            "nibabel                       3.0.2\n",
            "nltk                          3.7\n",
            "notebook                      5.7.16\n",
            "numba                         0.56.4\n",
            "numexpr                       2.8.4\n",
            "numpy                         1.21.6\n",
            "oauth2client                  4.1.3\n",
            "oauthlib                      3.2.2\n",
            "okgrade                       0.4.3\n",
            "opencv-contrib-python         4.6.0.66\n",
            "opencv-python                 4.6.0.66\n",
            "opencv-python-headless        4.6.0.66\n",
            "openpyxl                      3.0.10\n",
            "opt-einsum                    3.3.0\n",
            "osqp                          0.6.2.post0\n",
            "packaging                     21.3\n",
            "palettable                    3.3.0\n",
            "pandas                        1.3.5\n",
            "pandas-datareader             0.9.0\n",
            "pandas-gbq                    0.17.9\n",
            "pandas-profiling              1.4.1\n",
            "pandocfilters                 1.5.0\n",
            "panel                         0.12.1\n",
            "param                         1.12.2\n",
            "parso                         0.8.3\n",
            "partd                         1.3.0\n",
            "pastel                        0.2.1\n",
            "pathlib                       1.0.1\n",
            "pathy                         0.10.0\n",
            "patsy                         0.5.3\n",
            "pep517                        0.13.0\n",
            "pexpect                       4.8.0\n",
            "pickleshare                   0.7.5\n",
            "Pillow                        7.1.2\n",
            "pip                           21.1.3\n",
            "pip-tools                     6.2.0\n",
            "platformdirs                  2.5.4\n",
            "plotly                        5.5.0\n",
            "plotnine                      0.8.0\n",
            "pluggy                        0.7.1\n",
            "pooch                         1.6.0\n",
            "portpicker                    1.3.9\n",
            "prefetch-generator            1.0.3\n",
            "preshed                       3.0.8\n",
            "prettytable                   3.5.0\n",
            "progressbar2                  3.38.0\n",
            "prometheus-client             0.15.0\n",
            "promise                       2.3\n",
            "prompt-toolkit                2.0.10\n",
            "prophet                       1.1.1\n",
            "proto-plus                    1.22.1\n",
            "protobuf                      3.19.6\n",
            "psutil                        5.4.8\n",
            "psycopg2                      2.9.5\n",
            "ptyprocess                    0.7.0\n",
            "py                            1.11.0\n",
            "pyarrow                       9.0.0\n",
            "pyasn1                        0.4.8\n",
            "pyasn1-modules                0.2.8\n",
            "pycocotools                   2.0.6\n",
            "pycparser                     2.21\n",
            "pyct                          0.4.8\n",
            "pydantic                      1.10.2\n",
            "pydata-google-auth            1.4.0\n",
            "pydot                         1.3.0\n",
            "pydot-ng                      2.0.0\n",
            "pydotplus                     2.0.2\n",
            "PyDrive                       1.3.1\n",
            "pyemd                         0.5.1\n",
            "pyerfa                        2.0.0.1\n",
            "Pygments                      2.6.1\n",
            "pygobject                     3.26.1\n",
            "pylev                         1.4.0\n",
            "pymc                          4.1.4\n",
            "PyMeeus                       0.5.11\n",
            "pymongo                       4.3.3\n",
            "pymystem3                     0.2.0\n",
            "PyOpenGL                      3.1.6\n",
            "pyparsing                     3.0.9\n",
            "pyrsistent                    0.19.2\n",
            "pysimdjson                    3.2.0\n",
            "pysndfile                     1.3.8\n",
            "PySocks                       1.7.1\n",
            "pystan                        3.3.0\n",
            "pytest                        3.6.4\n",
            "python-apt                    0.0.0\n",
            "python-dateutil               2.8.2\n",
            "python-louvain                0.16\n",
            "python-slugify                7.0.0\n",
            "python-utils                  3.4.5\n",
            "pytz                          2022.6\n",
            "pyviz-comms                   2.2.1\n",
            "PyWavelets                    1.4.1\n",
            "PyYAML                        6.0\n",
            "pyzmq                         23.2.1\n",
            "qdldl                         0.1.5.post2\n",
            "qudida                        0.0.4\n",
            "regex                         2022.6.2\n",
            "requests                      2.23.0\n",
            "requests-oauthlib             1.3.1\n",
            "resampy                       0.4.2\n",
            "rpy2                          3.5.5\n",
            "rsa                           4.9\n",
            "scikit-image                  0.18.3\n",
            "scikit-learn                  1.0.2\n",
            "scipy                         1.7.3\n",
            "screen-resolution-extra       0.0.0\n",
            "scs                           3.2.2\n",
            "seaborn                       0.11.2\n",
            "Send2Trash                    1.8.0\n",
            "setuptools                    57.4.0\n",
            "setuptools-git                1.2\n",
            "Shapely                       1.8.5.post1\n",
            "six                           1.15.0\n",
            "sklearn-pandas                1.8.0\n",
            "smart-open                    5.2.1\n",
            "snowballstemmer               2.2.0\n",
            "sortedcontainers              2.4.0\n",
            "soundfile                     0.11.0\n",
            "spacy                         3.4.3\n",
            "spacy-legacy                  3.0.10\n",
            "spacy-loggers                 1.0.3\n",
            "Sphinx                        1.8.6\n",
            "sphinxcontrib-serializinghtml 1.1.5\n",
            "sphinxcontrib-websupport      1.2.4\n",
            "SQLAlchemy                    1.4.44\n",
            "sqlparse                      0.4.3\n",
            "srsly                         2.4.5\n",
            "statsmodels                   0.12.2\n",
            "sympy                         1.7.1\n",
            "tables                        3.7.0\n",
            "tabulate                      0.8.10\n",
            "tblib                         1.7.0\n",
            "tenacity                      8.1.0\n",
            "tensorboard                   2.9.1\n",
            "tensorboard-data-server       0.6.1\n",
            "tensorboard-plugin-wit        1.8.1\n",
            "tensorflow                    2.9.2\n",
            "tensorflow-datasets           4.6.0\n",
            "tensorflow-estimator          2.9.0\n",
            "tensorflow-gcs-config         2.9.1\n",
            "tensorflow-hub                0.12.0\n",
            "tensorflow-io-gcs-filesystem  0.28.0\n",
            "tensorflow-metadata           1.11.0\n",
            "tensorflow-probability        0.17.0\n",
            "termcolor                     2.1.1\n",
            "terminado                     0.13.3\n",
            "testpath                      0.6.0\n",
            "text-unidecode                1.3\n",
            "textblob                      0.15.3\n",
            "thinc                         8.1.5\n",
            "threadpoolctl                 3.1.0\n",
            "tifffile                      2022.10.10\n",
            "toml                          0.10.2\n",
            "tomli                         2.0.1\n",
            "toolz                         0.12.0\n",
            "torch                         1.13.0+cu116\n",
            "torchaudio                    0.13.0+cu116\n",
            "torchsummary                  1.5.1\n",
            "torchtext                     0.14.0\n",
            "torchvision                   0.14.0+cu116\n",
            "tornado                       6.0.4\n",
            "tqdm                          4.64.1\n",
            "traitlets                     5.6.0\n",
            "tweepy                        3.10.0\n",
            "typeguard                     2.7.1\n",
            "typer                         0.7.0\n",
            "typing-extensions             4.4.0\n",
            "tzlocal                       1.5.1\n",
            "uritemplate                   3.0.1\n",
            "urllib3                       1.24.3\n",
            "vega-datasets                 0.9.0\n",
            "wasabi                        0.10.1\n",
            "wcwidth                       0.2.5\n",
            "webargs                       8.2.0\n",
            "webencodings                  0.5.1\n",
            "Werkzeug                      1.0.1\n",
            "wheel                         0.38.4\n",
            "widgetsnbextension            3.6.1\n",
            "wordcloud                     1.8.2.2\n",
            "wrapt                         1.14.1\n",
            "xarray                        0.20.2\n",
            "xarray-einstats               0.3.0\n",
            "xgboost                       0.90\n",
            "xkit                          0.0.0\n",
            "xlrd                          1.2.0\n",
            "xlwt                          1.3.0\n",
            "yarl                          1.8.2\n",
            "yellowbrick                   1.5\n",
            "zict                          2.2.0\n",
            "zipp                          3.11.0\n"
          ]
        }
      ]
    },
    {
      "cell_type": "code",
      "execution_count": null,
      "outputs": [
        {
          "output_type": "error",
          "ename": "SyntaxError",
          "evalue": "ignored",
          "traceback": [
            "\u001b[0;36m  File \u001b[0;32m\"<ipython-input-10-60cb06d42513>\"\u001b[0;36m, line \u001b[0;32m9\u001b[0m\n\u001b[0;31m    from methods\u001b[0m\n\u001b[0m                ^\u001b[0m\n\u001b[0;31mSyntaxError\u001b[0m\u001b[0;31m:\u001b[0m invalid syntax\n"
          ]
        }
      ],
      "source": [
        "import numpy as np\n",
        "import pandas as pd\n",
        "import sympy as sp\n",
        "from sympy.physics.quantum.cg import CG\n",
        "from sympy.physics.wigner import wigner_d\n",
        "from sympy.physics.quantum.spin import Rotation\n",
        "from sympy import *\n",
        "from Bio.PDB.MMCIF2Dict import MMCIF2Dict\n",
        "from methods\n",
        "import itertools"
      ],
      "metadata": {
        "pycharm": {
          "name": "#%%\n"
        },
        "id": "cNI3CM9-CkGg",
        "colab": {
          "base_uri": "https://localhost:8080/",
          "height": 133
        },
        "outputId": "1c1276d5-b1d7-4515-acfe-abb9ae4ac3cb"
      }
    },
    {
      "cell_type": "markdown",
      "source": [
        "## 1. Data prep and parameter\n",
        "### a. Data prep\n",
        "\n",
        "**→ set of data, neighbor list, it could be x, y, z coordinate and convert to r, $\\theta_0,\\theta,\\phi$**\n",
        "\n",
        "- read CIF file as data frame\n",
        "\n",
        "    [avgBL-Model.cif](Compute%20Bispectrum%20Components%20fe15e8c590c94d438538084914489ecb/avgBL-Model.cif)\n",
        "\n",
        "- cell length (unit angstrom)\n",
        "- $R_{cut }$ cut off radius\n",
        "\n",
        "    ********Note:******** Chosen $R_{cut}$ needs to divide by the true cell length (i.e: with example dataset we need to divide by 18.7337) since $(x,y,z)$  are fraction with cell dimension (1,1,1), $R_i, R_k$ (center, neighbor): atom radius, measures from center of nucleus to the outermost isolated electron also so need to divide by\n",
        "\n",
        "- $r_\\mu$  atomic radius for all chemical elements\n",
        "- $x, y, z$ coordinate for all atoms\n",
        "- atom type"
      ],
      "metadata": {
        "collapsed": false,
        "pycharm": {
          "name": "#%% md\n"
        },
        "id": "94bKBQnDCkGh"
      }
    },
    {
      "cell_type": "code",
      "execution_count": null,
      "outputs": [
        {
          "output_type": "error",
          "ename": "NameError",
          "evalue": "ignored",
          "traceback": [
            "\u001b[0;31m---------------------------------------------------------------------------\u001b[0m",
            "\u001b[0;31mNameError\u001b[0m                                 Traceback (most recent call last)",
            "\u001b[0;32m<ipython-input-1-883d23b6f214>\u001b[0m in \u001b[0;36m<module>\u001b[0;34m\u001b[0m\n\u001b[1;32m      1\u001b[0m \u001b[0mpath\u001b[0m \u001b[0;34m=\u001b[0m \u001b[0;34m\"/content/avgBL-Model.cif\"\u001b[0m\u001b[0;34m\u001b[0m\u001b[0;34m\u001b[0m\u001b[0m\n\u001b[0;32m----> 2\u001b[0;31m \u001b[0mdico\u001b[0m \u001b[0;34m=\u001b[0m \u001b[0mMMCIF2Dict\u001b[0m\u001b[0;34m(\u001b[0m\u001b[0mpath\u001b[0m\u001b[0;34m)\u001b[0m\u001b[0;34m\u001b[0m\u001b[0;34m\u001b[0m\u001b[0m\n\u001b[0m\u001b[1;32m      3\u001b[0m \u001b[0mdf_cif\u001b[0m \u001b[0;34m=\u001b[0m \u001b[0mpd\u001b[0m\u001b[0;34m.\u001b[0m\u001b[0mDataFrame\u001b[0m\u001b[0;34m.\u001b[0m\u001b[0mfrom_dict\u001b[0m\u001b[0;34m(\u001b[0m\u001b[0mdico\u001b[0m\u001b[0;34m,\u001b[0m \u001b[0morient\u001b[0m\u001b[0;34m=\u001b[0m\u001b[0;34m'index'\u001b[0m\u001b[0;34m)\u001b[0m\u001b[0;34m\u001b[0m\u001b[0;34m\u001b[0m\u001b[0m\n\u001b[1;32m      4\u001b[0m \u001b[0mprint\u001b[0m \u001b[0;34m(\u001b[0m\u001b[0mdf_cif\u001b[0m\u001b[0;34m)\u001b[0m\u001b[0;34m\u001b[0m\u001b[0;34m\u001b[0m\u001b[0m\n",
            "\u001b[0;31mNameError\u001b[0m: name 'MMCIF2Dict' is not defined"
          ]
        }
      ],
      "source": [
        "path = \"/content/avgBL-Model.cif\"\n",
        "dico = MMCIF2Dict(path)\n",
        "df_cif = pd.DataFrame.from_dict(dico, orient='index')\n",
        "print (df_cif)"
      ],
      "metadata": {
        "pycharm": {
          "name": "#%%\n"
        },
        "id": "Vay9g84VCkGq",
        "outputId": "39ecdead-df48-4126-c1ff-ea2ea2a104a0",
        "colab": {
          "base_uri": "https://localhost:8080/",
          "height": 222
        }
      }
    },
    {
      "cell_type": "markdown",
      "source": [
        "**Comment:**\n",
        "Define index as orientation, column label in CIF file now become row,  index 0 column store all value atom coordinate values that need to unpack and assigned as new numpy array to create new data frame that column name is X, Y, Z coordinates and row are coordinate values for each atom in the cell\n",
        "    **Note:** $x, y, z$  are fraction of cell length to 1. True value needs to multiply with actual cell length"
      ],
      "metadata": {
        "collapsed": false,
        "pycharm": {
          "name": "#%% md\n"
        },
        "id": "I3KQpEBgCkGr"
      }
    },
    {
      "cell_type": "code",
      "execution_count": null,
      "outputs": [
        {
          "name": "stdout",
          "output_type": "stream",
          "text": [
            "    atom_type         X         Y         Z\n",
            "0          si  0.954659  0.013642  0.469779\n",
            "1          si  0.723469  0.727441  0.237191\n",
            "2          si  0.911910  0.842907  0.722894\n",
            "3          si  0.180034  0.242715  0.263001\n",
            "4          si  0.019245  0.647721  0.350679\n",
            "..        ...       ...       ...       ...\n",
            "335        si  0.719519  0.348038  0.504628\n",
            "336        si  0.370296  0.945794  0.229344\n",
            "337        si  0.206532  0.594928  0.133419\n",
            "338        si  0.743145  0.839250  0.191284\n",
            "339        si  0.018592  0.043251  0.767526\n",
            "\n",
            "[340 rows x 4 columns]\n"
          ]
        }
      ],
      "source": [
        "path = \"/Users/DuongHoang/UMKC-Grad/UMKC_Research/bispectrump_component/data/avgBL-Model.cif\"\n",
        "dico = MMCIF2Dict(path)\n",
        "df_cif = pd.DataFrame.from_dict(dico, orient='index')\n",
        "x = df_cif.iloc[-3]\n",
        "y = df_cif.iloc[-2]\n",
        "z = df_cif.iloc[-1]\n",
        "atom_type = df_cif.iloc[-4]\n",
        "x_array = np.array(x[0],dtype=float)\n",
        "y_array = np.array(y[0],dtype=float)\n",
        "z_array = np.array(z[0],dtype=float)\n",
        "atom_type_array = np.array(atom_type[0], dtype=str)\n",
        "df = pd.DataFrame({\"atom_type\":atom_type_array,\"X\" : x_array, \"Y\":y_array, \"Z\": z_array})\n",
        "print(df)"
      ],
      "metadata": {
        "pycharm": {
          "name": "#%%\n"
        },
        "id": "SXgRf4TMCkGs",
        "outputId": "011a6bcd-886e-4d15-b06b-b821ae51ce73"
      }
    },
    {
      "cell_type": "markdown",
      "source": [
        "Date frame with atoms $ (x,y,z) $  coordinates and atom type"
      ],
      "metadata": {
        "collapsed": false,
        "pycharm": {
          "name": "#%% md\n"
        },
        "id": "DAfKPPv2CkGt"
      }
    },
    {
      "cell_type": "markdown",
      "source": [
        "### b. **Define position of a neighbor atom $k$ relative to a central atom $i$  is a point within the 3D ball of radius**\n",
        "\n",
        "**Idea :** choose a central atom  $i$ where its coordinate $(x_i,y_i,z_i)$ in the center of a single cell (reference coordinate frame, origin point $O(0,0,0)$ and orthogonal axes $X,Y,Z$). Re-calculate coordinate for all atoms in the cell by shift origin to $(x_i,y_i,z_i)$.\n",
        "\n",
        "Coordinate of neighbor atom with respect to the new system is:\n",
        "\n",
        "$$\n",
        "\\begin{bmatrix}x_k \\\\ y_k \\\\ z_k \\end{bmatrix} = \\begin{bmatrix} x - x_i \\\\ y-y_i \\\\ z-z_i \\end{bmatrix}\n",
        "$$\n",
        "**Estimate list of potentially atoms in the center cell**\n",
        "\n",
        "**Condition:** $\\text{range}_{min} + R_{cut}, \\text{range}_{max}+R_{cut} \\leq$  1\n",
        "\n",
        "**Example:**\n",
        "\n",
        "$$\n",
        "0.5\\leq x,y,z \\leq 0.7\n",
        "$$\n"
      ],
      "metadata": {
        "collapsed": false,
        "pycharm": {
          "name": "#%% md\n"
        },
        "id": "sXS5TXfTCkGt"
      }
    },
    {
      "cell_type": "code",
      "execution_count": null,
      "outputs": [
        {
          "name": "stdout",
          "output_type": "stream",
          "text": [
            "    atom_type         X         Y         Z\n",
            "17         si  0.544332  0.665575  0.559883\n",
            "152        si  0.696335  0.535755  0.620077\n",
            "311        si  0.652860  0.654536  0.608059\n"
          ]
        }
      ],
      "source": [
        "df_atoms = df[(df['X'].between(0.5,0.7,inclusive='both'))\n",
        "                         & (df['Y'].between(0.5,0.7,inclusive='both'))\n",
        "                         & (df['Z'].between(0.5,0.7, inclusive='both'))]\n",
        "print (df_atoms)"
      ],
      "metadata": {
        "pycharm": {
          "name": "#%%\n"
        },
        "id": "BO4NT8H9CkGv",
        "outputId": "458860ec-71dc-419e-8053-ffab3faecd85"
      }
    },
    {
      "cell_type": "markdown",
      "source": [
        "**Note**: Choose atom ID 17 as center atom, in df_atoms its index  row is [0] but in df_new its index row is [17]."
      ],
      "metadata": {
        "collapsed": false,
        "pycharm": {
          "name": "#%% md\n"
        },
        "id": "8TG3kOu9CkGv"
      }
    },
    {
      "cell_type": "code",
      "execution_count": null,
      "outputs": [
        {
          "name": "stdout",
          "output_type": "stream",
          "text": [
            "0.544332 0.665575 0.559883\n"
          ]
        }
      ],
      "source": [
        "atom_i =df.iloc[17]\n",
        "x_i = df['X'].iloc[17]\n",
        "y_i = df['Y'].iloc[17]\n",
        "z_i = df['Z'].iloc[17]\n",
        "print(x_i,y_i,z_i)"
      ],
      "metadata": {
        "pycharm": {
          "name": "#%%\n"
        },
        "id": "K854PXJvCkGw",
        "outputId": "ba59461a-77ca-4673-bc2a-34c7f47c0f43"
      }
    },
    {
      "cell_type": "markdown",
      "source": [
        "Re-calculate coordinate for all atoms (w.r.t new reference of frame  (origin at $(x_i,y_i,z_i)$), and distance $r_{ik}$  from a center atom $i$  to other atom in the cell= np.sqrt(np.square(X_k_array)+np.square(Y_k_array)+np.square(Z_k_array))"
      ],
      "metadata": {
        "collapsed": false,
        "pycharm": {
          "name": "#%% md\n"
        },
        "id": "scEz6ImCCkGw"
      }
    },
    {
      "cell_type": "code",
      "execution_count": null,
      "outputs": [
        {
          "name": "stdout",
          "output_type": "stream",
          "text": [
            "    atom_type         X         Y         Z       X_k       Y_k       Z_k  \\\n",
            "0          si  0.954659  0.013642  0.469779  0.410327 -0.651933 -0.090104   \n",
            "1          si  0.723469  0.727441  0.237191  0.179137  0.061866 -0.322692   \n",
            "2          si  0.911910  0.842907  0.722894  0.367578  0.177332  0.163011   \n",
            "3          si  0.180034  0.242715  0.263001 -0.364298 -0.422860 -0.296882   \n",
            "4          si  0.019245  0.647721  0.350679 -0.525087 -0.017854 -0.209204   \n",
            "..        ...       ...       ...       ...       ...       ...       ...   \n",
            "335        si  0.719519  0.348038  0.504628  0.175187 -0.317537 -0.055255   \n",
            "336        si  0.370296  0.945794  0.229344 -0.174036  0.280219 -0.330539   \n",
            "337        si  0.206532  0.594928  0.133419 -0.337800 -0.070647 -0.426464   \n",
            "338        si  0.743145  0.839250  0.191284  0.198813  0.173675 -0.368599   \n",
            "339        si  0.018592  0.043251  0.767526 -0.525740 -0.622324  0.207643   \n",
            "\n",
            "         r_ik  \n",
            "0    0.775567  \n",
            "1    0.374229  \n",
            "2    0.439469  \n",
            "3    0.632189  \n",
            "4    0.565510  \n",
            "..        ...  \n",
            "335  0.366842  \n",
            "336  0.466977  \n",
            "337  0.548609  \n",
            "338  0.453382  \n",
            "339  0.840717  \n",
            "\n",
            "[340 rows x 8 columns]\n"
          ]
        }
      ],
      "source": [
        "X_array = df['X'].to_numpy()\n",
        "Y_array = df['Y'].to_numpy()\n",
        "Z_array = df['Z'].to_numpy()\n",
        "X_k_array = X_array - x_i\n",
        "Y_k_array = Y_array - y_i\n",
        "Z_k_array = Z_array - z_i\n",
        "r_ik= np.sqrt(np.square(X_k_array)+np.square(Y_k_array)+np.square(Z_k_array))\n",
        "df['X_k'],df['Y_k'], df['Z_k'],df['r_ik']= X_k_array, Y_k_array, Z_k_array, r_ik\n",
        "print(df)"
      ],
      "metadata": {
        "pycharm": {
          "name": "#%%\n"
        },
        "id": "4dD5xq8rCkGx",
        "outputId": "c41769f3-2e28-4716-c96b-43bab12661a1"
      }
    },
    {
      "cell_type": "markdown",
      "source": [
        "Check to see if chosen center atom coordinate sets to (0,0,0)"
      ],
      "metadata": {
        "collapsed": false,
        "pycharm": {
          "name": "#%% md\n"
        },
        "id": "SgQrT47TCkGx"
      }
    },
    {
      "cell_type": "code",
      "execution_count": null,
      "outputs": [
        {
          "name": "stdout",
          "output_type": "stream",
          "text": [
            "atom_type          si\n",
            "X            0.544332\n",
            "Y            0.665575\n",
            "Z            0.559883\n",
            "X_k               0.0\n",
            "Y_k               0.0\n",
            "Z_k               0.0\n",
            "r_ik              0.0\n",
            "Name: 17, dtype: object\n"
          ]
        }
      ],
      "source": [
        "print(df.iloc[17])"
      ],
      "metadata": {
        "pycharm": {
          "name": "#%%\n"
        },
        "id": "qdLasTMjCkGx",
        "outputId": "a61f6581-861b-4a76-e028-b7b3b439b175"
      }
    },
    {
      "cell_type": "markdown",
      "source": [
        "**Compute neighbors list in a chosen cutoff radius $R_{cut}$ with respect to new reference frame where its origin is at center atom $i$  location**\n",
        "\n",
        "$$\n",
        "R_{cut}= some \\ reasonable \\ value\n",
        "$$\n",
        "\n",
        "**Example:** Sillicon atomic radius is $1.46\\text{\\AA}$ , Silicon–silicon π single bond ****$2.853 \\text{\\AA}$**, $R_{cut}= \\frac{1.46+1.46}{cell\\ length}=\\frac{2.92}{18.7337} \\approx 0.16$ but let choose $R_{cut} =0.25$\n",
        "\n",
        "$$\n",
        "r_{ik}= \\sqrt{x_k^2 +y_k^2+z_k^2}\n",
        "$$\n",
        "\n",
        "Assume atom of element $ \\mu $ (in this case it’s Silicon) is a sphere with radius $r_\\mu$. We want to make sure that for the neighbors list only atoms whose entire sphere is in within the bigger sphere with radius $R_{cut}$.\n",
        "\n",
        "$$\n",
        "r_\\mu = \\frac{atomic\\ radius \\ (\\text{\\AA})}{cell \\ length \\ (\\text{\\AA})} = \\frac{1.46}{18.7337} \\approx 0.0779\n",
        "$$\n",
        "\n",
        "**Condition:**\n",
        "\n",
        "$$\n",
        "r_{ik}+r_\\mu\\leq R_{cut}\n",
        "$$"
      ],
      "metadata": {
        "collapsed": false,
        "pycharm": {
          "name": "#%% md\n"
        },
        "id": "-8rR8hWGCkGy"
      }
    },
    {
      "cell_type": "code",
      "execution_count": null,
      "outputs": [
        {
          "name": "stdout",
          "output_type": "stream",
          "text": [
            "          X_k       Y_k       Z_k      r_ik\n",
            "17   0.000000  0.000000  0.000000  0.000000\n",
            "35  -0.103248 -0.005137 -0.122932  0.160620\n",
            "72   0.014310  0.043550 -0.114092  0.122957\n",
            "80  -0.072758  0.086734  0.045996  0.122197\n",
            "128 -0.050784 -0.108715  0.039094  0.126199\n",
            "311  0.108528 -0.011039  0.048176  0.119252\n"
          ]
        }
      ],
      "source": [
        "#INPUT values\n",
        "atomic_radius = 1.46            #silicon atomic radius, unit: angstrom\n",
        "cell_length = df.iloc[4]        #index row start from 0 _cell_length_a at row 5 index [4]\n",
        "\n",
        "r_mu = 0.0779                   #scale atomic radius w.r.t cell length\n",
        "R_cut = 0.25                    #scaled value w.r.t cell length (for Si-Si case)\n",
        "df_ik = df[(df['r_ik'] + r_mu)<= (R_cut)].copy(deep=true)\n",
        "print(df_ik[['X_k', 'Y_k', 'Z_k', 'r_ik']])"
      ],
      "metadata": {
        "pycharm": {
          "name": "#%%\n"
        },
        "id": "cIerF_tbCkGy",
        "outputId": "77a81776-30dd-49ab-cc51-8929a52c9b54"
      }
    },
    {
      "cell_type": "markdown",
      "source": [
        "\n",
        "## c. Map possible neighbor atoms on to the set of points $(\\theta_0, \\theta,\\phi)$\n",
        "\n",
        "Ref.[3], eq.(3), p. 2\n",
        "\n",
        "**Idea:** project the atomic density onto the surface of four- dimensional unit sphere, similarly to how the Riemann sphere is constructed with the transformation\n",
        "\n",
        "$$\n",
        "(\\theta_0, \\theta,\\phi) =[|r|/r_0, cos^{-1}(|z'|/|r|), tan^{-1}(y'/x'))]\n",
        "$$\n",
        "\n",
        "$r_0>R_{cut}/\\pi$ → so that the 4D surface contains all the information from 3D spherical region inside the cutoff, include radial dimension\n",
        "\n",
        "**$\\text{rotation angel}\\ \\omega \\equiv \\theta_0 \\ \\text{about some axis} \\ n(\\Theta \\equiv \\theta, \\Phi \\equiv \\phi)$**\n",
        "\n",
        "**Condition:**\n",
        "\n",
        "Ref.[5] session 1.4.2, p.23\n",
        "\n",
        "(1) $0 \\leq \\theta_0 \\leq \\pi$\n",
        "\n",
        "(2) $0\\leq \\theta \\leq \\pi$\n",
        "\n",
        "(3) $0 \\leq \\phi \\leq 2\\pi$.\n",
        "\n",
        "**Note**:  $ \\phi = tan^{-1}(\\frac{y'}{x'})$, $x', y'$  has negative values → need to convert range of angle from $[-\\pi, \\pi] \\ \\text{to}\\ [0, 2\\pi] $\n",
        "\n",
        "(4) $R_{cut}$ depends on the chemical identities of both the neighbor atom and center atom (at a distance that is less force affected on both of them?)\n",
        "Compute $\\theta_0, \\ \\theta, \\ \\phi$\n",
        "\n",
        "$$\n",
        "\\theta_{0} = \\theta_0^{max}\\frac{|r_{ik}|}{|r_0|}=\\pi\\frac{\\sqrt{x_k^2+y^2_k+z_k^2}}{R_{cut}}\n",
        "$$\n",
        "\n",
        "where $\\theta_0^{max}= \\pi$\n",
        "\n",
        "->excluded points south  of latitude $\\theta_0=r_{frac0}\\pi$"
      ],
      "metadata": {
        "collapsed": false,
        "pycharm": {
          "name": "#%% md\n"
        },
        "id": "FSclIJu3CkGz"
      }
    },
    {
      "cell_type": "code",
      "execution_count": null,
      "outputs": [
        {
          "name": "stdout",
          "output_type": "stream",
          "text": [
            "[0.25 0.25 0.25 0.25 0.25 0.25]\n",
            "[       nan 0.049713   1.25332279 5.41038219 1.13378905 6.18181825]\n",
            "[        nan  0.049713    1.25332279 -0.87280312  1.13378905 -0.10136706]\n"
          ]
        },
        {
          "name": "stderr",
          "output_type": "stream",
          "text": [
            "/var/folders/7_/1phpw0g101sfbhw8vl2jpp5h0000gn/T/ipykernel_98758/3703012928.py:8: RuntimeWarning: invalid value encountered in divide\n",
            "  theta_array = np.arccos(np.divide(Z_k_abs_array,r_ik_array))\n",
            "/var/folders/7_/1phpw0g101sfbhw8vl2jpp5h0000gn/T/ipykernel_98758/3703012928.py:12: RuntimeWarning: invalid value encountered in divide\n",
            "  phi_array = np.arctan(np.divide(Y_k_array, X_k_array))\n"
          ]
        }
      ],
      "source": [
        "#theta_0\n",
        "r_ik_array = df_ik['r_ik'].to_numpy() #r_ik from selected neighbors\n",
        "r_0_array = np.full((r_ik_array.shape),R_cut)\n",
        "theta_0_array = np.pi*(np.divide(r_ik_array,r_0_array))\n",
        "print (r_0_array)\n",
        "#theta\n",
        "Z_k_abs_array = np.abs(df_ik['Z_k'].to_numpy())\n",
        "theta_array = np.arccos(np.divide(Z_k_abs_array,r_ik_array))\n",
        "#phi\n",
        "X_k_array = df_ik['X_k'].to_numpy()\n",
        "Y_k_array = df_ik['Y_k'].to_numpy()\n",
        "phi_array = np.arctan(np.divide(Y_k_array, X_k_array))\n",
        "#convert angle to positive value between [0,2pi]\n",
        "phi_array_convert = np.mod(phi_array, 2*np.pi)\n",
        "for angle in phi_array_convert:\n",
        "    if (angle >=2*np.pi) and (angle < 0):\n",
        "        raise ValueError('phi angle in between 0 and 2pi')\n",
        "print(phi_array_convert)\n",
        "print(phi_array)"
      ],
      "metadata": {
        "pycharm": {
          "name": "#%%\n"
        },
        "id": "xcZe5TZSCkG0",
        "outputId": "42ae625b-c3b8-416f-9562-edbf574d47ea"
      }
    },
    {
      "cell_type": "markdown",
      "source": [
        "Replace NaN with 0: (error for invalid value center atom values since we have 0/0)"
      ],
      "metadata": {
        "collapsed": false,
        "pycharm": {
          "name": "#%% md\n"
        },
        "id": "ojIFKjIYCkG0"
      }
    },
    {
      "cell_type": "code",
      "execution_count": null,
      "outputs": [
        {
          "name": "stdout",
          "output_type": "stream",
          "text": [
            "          X_k       Y_k       Z_k      r_ik   theta_0     theta       phi\n",
            "17   0.000000  0.000000  0.000000  0.000000  0.000000  0.000000  0.000000\n",
            "35  -0.103248 -0.005137 -0.122932  0.160620  2.018412  0.699198  0.049713\n",
            "72   0.014310  0.043550 -0.114092  0.122957  1.545120  0.382047  1.253323\n",
            "80  -0.072758  0.086734  0.045996  0.122197  1.535575  1.184880  5.410382\n",
            "128 -0.050784 -0.108715  0.039094  0.126199  1.585869  1.255835  1.133789\n",
            "311  0.108528 -0.011039  0.048176  0.119252  1.498569  1.154929  6.181818\n"
          ]
        }
      ],
      "source": [
        "#Replace NaN with 0: (code will have error for invalid value center atom values 0/0)\n",
        "df_ik['theta_0'] = theta_0_array\n",
        "df_ik['theta_0'] = df_ik['theta_0'].replace(np.nan,0)\n",
        "df_ik['theta'] = theta_array\n",
        "df_ik['theta'] = df_ik['theta'].replace(np.nan,0)\n",
        "df_ik['phi'] = phi_array_convert\n",
        "df_ik['phi'] = df_ik['phi'].replace(np.nan,0)\n",
        "print(df_ik.drop(['X', 'Y', 'Z', 'atom_type'], axis =1))\n"
      ],
      "metadata": {
        "pycharm": {
          "name": "#%%\n"
        },
        "id": "FqcSErpsCkG1",
        "outputId": "5fdd6cab-f109-4910-ef7a-8d3a5044a17b"
      }
    },
    {
      "cell_type": "markdown",
      "source": [],
      "metadata": {
        "collapsed": false,
        "pycharm": {
          "name": "#%% md\n"
        },
        "id": "q6pJUZekCkG1"
      }
    },
    {
      "cell_type": "markdown",
      "source": [],
      "metadata": {
        "collapsed": false,
        "pycharm": {
          "name": "#%% md\n"
        },
        "id": "dKChD9qwCkG1"
      }
    },
    {
      "cell_type": "code",
      "execution_count": null,
      "outputs": [
        {
          "name": "stdout",
          "output_type": "stream",
          "text": [
            "0\n"
          ]
        }
      ],
      "source": [
        "j1,j2,j,m1,m2,m,m1p,m2p,mp = (3/2,1/2,1,3/2,-1/2,1,3/2,1/2,2)\n",
        "H=getCoeffH(j1,j2,j,m1,m2,m,m1p,m2p,mp)\n",
        "print(H)"
      ],
      "metadata": {
        "pycharm": {
          "name": "#%%\n"
        },
        "id": "QFnANFl4CkG3",
        "outputId": "579ab86f-6350-4e5e-d6c5-a0110d831726"
      }
    },
    {
      "cell_type": "markdown",
      "source": [
        "### c. **Compute expansion coefficients density function $u^j_{m,m'}, \\ u^{j_1}_{m_1,m_2}, \\ u^{j_2}_{m_1,m_2}$**\n",
        "\n",
        "**Expansion coefficient for the partial density of neighbors of element $\\mu$**\n",
        "\n",
        "**Definition**\n",
        "\n",
        "$$\n",
        " u^j_{m,m'} = \\langle U^j_{m'm} | \\rho\\rangle\n",
        "$$\n",
        "\n",
        "$$\n",
        "u_{j,m,m'}^{\\mu} = w^{self}_{\\mu_i \\mu} U_{j,m,m'}(0,0,0) + \\displaystyle\\sum_{r_{ik}<R_{cut}^{\\mu_i\\mu_k}} f_c(r_{ik};R_{cut}^{\\mu_i\\mu_k})w_{{\\mu}_k}U_{m,m'}^{j}(\\theta_{0},\\theta, \\phi) \\delta_{\\mu\\mu_k}\n",
        "$$"
      ],
      "metadata": {
        "collapsed": false,
        "pycharm": {
          "name": "#%% md\n"
        },
        "id": "izvsHEMpCkG4"
      }
    },
    {
      "cell_type": "code",
      "execution_count": null,
      "outputs": [
        {
          "name": "stdout",
          "output_type": "stream",
          "text": [
            "[1 1 1 1 1 1]\n",
            "[1 1 1 1 1 1]\n"
          ]
        }
      ],
      "source": [
        "#EXAMPLE\n",
        "j,m,mp = 3,2,3\n",
        "#array for weight coefficient w.r.t to atom type, since we deal with single type set it equal to 1\n",
        "w_ik_arr = np.full((r_ik_array.shape),1)\n",
        "#delta function delta=1 if i and k has the same element type, if not delta =0\n",
        "delta = np.full((r_ik_array.shape),0)\n",
        "delta_arr = np.where(df_ik['atom_type']==df_ik['atom_type'].iloc[0],1,delta)\n",
        "print (w_ik_arr)\n",
        "print (delta_arr)"
      ],
      "metadata": {
        "pycharm": {
          "name": "#%%\n"
        },
        "id": "ukoHun9eCkG4",
        "outputId": "c79d64e1-e49f-4777-cbaa-97e71858847b"
      }
    },
    {
      "cell_type": "code",
      "execution_count": null,
      "outputs": [],
      "source": [
        "def getDensityFunction_u(j,m,mp,w_ik_array, delta_array,r_ik_array, r_min0, R_cut, theta_0_array, theta_array, phi_array):\n",
        "        '''\n",
        "        Args:\n",
        "            j: angular momentum\n",
        "            m: eigenvalue of angular momentum\n",
        "            mp: eigenvalue of j along rotated axis\n",
        "            w_ik_arr: array for the coefficients that are dimensionless weights that are chosen to distinguish atoms\n",
        "                        of different types, while the central atom is arbitrarily assigned a unit weight, dimensin (1,k)\n",
        "            delta_arr: array for the Dirac delta function, indicates only neighbor atom of element the same as center atom\n",
        "                        contribute to partial density,  dimension (1,k)\n",
        "            r_ik_array: array for distance from center atom to neighbor atom, dimension (1,k+1), k is number of neighbor atoms\n",
        "                        in cutoff radius, array include center atom as well\n",
        "            r_min0: number, parameter in distance to angle conversion (distance units), choose\n",
        "            R_cut: number, cutoff radius\n",
        "            theta_0_array: array for theta_0 angel (fist angle of rotation [0,pi])\n",
        "                        of neighbor atoms in reference frame of center atom, dimension (1, k+1)\n",
        "            theta_array: array for theta angel ( second angle of rotation [0,pi])\n",
        "                        of neighbor atoms in reference frame of center atom, dimension (1, k+1)\n",
        "            phi_array: array for phi angel (third angle of rotation [0,2pi])\n",
        "                        of neighbor atoms in reference frame of center atom, dimension (1, k+1)\n",
        "        Returns: expansion coefficients density function u_jm_mp\n",
        "        '''\n",
        "        R_cut_array = np.full((r_ik_array.shape), R_cut)\n",
        "        f_cut_arr = (1 / 2) * (np.cos(np.pi * (np.divide(r_ik_array - r_min0, R_cut_array - r_min0))) + 1)\n",
        "        U_jmmp = []\n",
        "        for theta_0, theta, phi in zip(theta_0_array, theta_array, phi_array):\n",
        "            mpp_list = np.linspace(-j, j, int(2 * j + 1))\n",
        "            U = 0\n",
        "            for mpp in mpp_list:\n",
        "                rot1 = Rotation.D(j, m, mpp, phi, theta, - phi)\n",
        "                rot2 = Rotation.D(j, mpp, mp, phi, -theta, -phi)\n",
        "                Dj_m_mpp = rot1.doit()\n",
        "                Dj_mpp_mp = rot2.doit()\n",
        "                Um_mp = Dj_m_mpp * (exp(-I * mpp * theta_0)) * Dj_mpp_mp\n",
        "                Um_mp = nsimplify(Um_mp)\n",
        "                U += N(Um_mp)\n",
        "            U_jmmp.append(U)\n",
        "        U_jmmp_array = np.array(U_jmmp, dtype='complex')\n",
        "        U_jmmp_arr = np.where(np.isnan(U_jmmp_array), 0, U_jmmp_array)\n",
        "        u_jmmp = np.dot((f_cut_arr*U_jmmp_arr),(w_ik_arr*delta_arr))\n",
        "        return u_jmmp"
      ],
      "metadata": {
        "pycharm": {
          "name": "#%%\n"
        },
        "id": "iUEIgA_SCkG5"
      }
    },
    {
      "cell_type": "markdown",
      "source": [
        "**Comment:**\n",
        "Because  $U_{j,m,m'}(0,0,0) = 0$  so we ignore self contribution $w_{\\mu_i\\mu}^{self}$.\n",
        "We simplify:\n",
        "$$\n",
        "u_{j,m,m'}^{\\mu} = w^{self}_{\\mu_i \\mu} U_{j,m,m'}(0,0,0) + \\displaystyle\\sum_{r_{ik}<R_{cut}^{\\mu_i\\mu_k}} f_c(r_{ik};R_{cut}^{\\mu_i\\mu_k})w_{{\\mu}_k}U_{m,m'}^{j}(\\theta_{0},\\theta, \\phi) \\delta_{\\mu\\mu_k}\n",
        "$$\n",
        "to\n",
        "$$\n",
        "u_{j,m,m'}^{\\mu} =  \\displaystyle\\sum_{r_{ik}<R_{cut}^{\\mu_i\\mu_k}} f_c(r_{ik};R_{cut}^{\\mu_i\\mu_k})w_{{\\mu}_{ik}}U_{m,m'}^{j}(\\theta_{0},\\theta, \\phi) \\delta_{\\mu\\mu_k}\n",
        "$$"
      ],
      "metadata": {
        "collapsed": false,
        "pycharm": {
          "name": "#%% md\n"
        },
        "id": "N6lExPRZCkG5"
      }
    },
    {
      "cell_type": "markdown",
      "source": [
        "### Compute bispectrum components\n",
        "$$\n",
        "B_(j_1,j_2,j) = \\displaystyle\\sum_{{m,m'= -j}}^j  \\left(u^{\\smash{j}}_{m,m'}\\right)^*\\displaystyle\\sum_{{m_1,m'_1 =-j_1}}^{j_1} \\displaystyle\\sum_{{m_2,m'_2 = -j_2}}^{j_2} H^{jmm'}_{{{j_1}{m_1}{m'_1}} ,{{j_2}{m_2}{m'_2}}}  u^{j_1}_{{m_1},{m_1'}} u^{j_2}_{{m_2},{m_2'}}\n",
        "$$\n",
        "- $C^{jm}_{{j_1}{m_1}{j_2}{m_2}} C^{jm'}_{{j_1}{m'_1}{j_2}{m'_2}} \\equiv H^{jmm'}_{{{j_1}{m_1}{m'_1}} ,{{j_2}{m_2}{m'_2}}}$\n",
        "- $\\displaystyle\\sum_{{m,m'= -j}}^j  \\left(u^{\\smash{j}}_{m,m'}\\right)^*$\n",
        "- $\\displaystyle\\sum_{{m_1,m'_1 =-j_1}}^{j_1} \\displaystyle\\sum_{{m_2,m'_2 = -j_2}}^{j_2} H^{jmm'}_{{{j_1}{m_1}{m'_1}} ,{{j_2}{m_2}{m'_2}}}  u^{j_1}_{{m_1},{m_1'}} u^{j_2}_{{m_2},{m_2'}}$"
      ],
      "metadata": {
        "collapsed": false,
        "pycharm": {
          "name": "#%% md\n"
        },
        "id": "c48bvsU1CkG6"
      }
    },
    {
      "cell_type": "markdown",
      "source": [
        "**Example**: $ j_1=1, j_2=2, j=3 $"
      ],
      "metadata": {
        "collapsed": false,
        "pycharm": {
          "name": "#%% md\n"
        },
        "id": "ULtmjbOgCkG6"
      }
    },
    {
      "cell_type": "code",
      "execution_count": null,
      "outputs": [
        {
          "name": "stdout",
          "output_type": "stream",
          "text": [
            "[-1.0, 0.0, 1.0] [-2.0, -1.0, 0.0, 1.0, 2.0] [-3.0, -2.0, -1.0, 0.0, 1.0, 2.0, 3.0] [-1.0, 0.0, 1.0] [-2.0, -1.0, 0.0, 1.0, 2.0] [-3.0, -2.0, -1.0, 0.0, 1.0, 2.0, 3.0]\n"
          ]
        }
      ],
      "source": [
        "j = 3\n",
        "j1 = 1\n",
        "j2 = 2\n",
        "m = np.linspace(-j, j, int(2 * j + 1)).tolist()\n",
        "mp = np.linspace(-j, j, int(2 * j + 1)).tolist()\n",
        "m1 = np.linspace(-j1, j1, int(2 * j1 + 1)).tolist()\n",
        "m1p = np.linspace(-j1, j1, int(2 * j1 + 1)).tolist()\n",
        "m2 = np.linspace(-j2, j2, int(2 * j2 + 1)).tolist()\n",
        "m2p = np.linspace(-j2, j2, int(2 * j2 + 1)).tolist()\n",
        "print(m1,m2,m,m1p,m2p,mp)"
      ],
      "metadata": {
        "pycharm": {
          "name": "#%%\n"
        },
        "id": "uwauuzhXCkG6",
        "outputId": "892875aa-e674-41e5-c0c6-1ffafc895d87"
      }
    },
    {
      "cell_type": "code",
      "execution_count": null,
      "outputs": [],
      "source": [
        "list_set = itertools.product(m1,m2,m,m1p,m2p,mp)\n",
        "print(np.array(list_set))"
      ],
      "metadata": {
        "pycharm": {
          "name": "#%%\n",
          "is_executing": true
        },
        "id": "uHGcpqOpCkG7"
      }
    },
    {
      "cell_type": "code",
      "execution_count": null,
      "outputs": [],
      "source": [
        "B_sum =[]\n",
        "for i in list_set:\n",
        "    m1, m2, m, m1p, m2p, mp = i\n",
        "    H = getCoeffH(j1,j2,j,m1,m2,m,m1p,m2p,mp)\n",
        "    if H==0:\n",
        "        pass\n",
        "    else:\n",
        "        u_jmmp = getDensityFunction_u(j, m, mp, w_ik_arr, delta_arr, r_ik_array, 0,\n",
        "                                      R_cut, theta_0_array, theta_array,phi_array)\n",
        "        u1_j1m1m1p = getDensityFunction_u(j1, m1, m1p, w_ik_arr, delta_arr, r_ik_array, 0,\n",
        "                                          R_cut, theta_0_array,theta_array, phi_array)\n",
        "        u2_j2m2m2p = getDensityFunction_u(j2, m2, m2p, w_ik_arr, delta_arr, r_ik_array, 0,\n",
        "                                          R_cut, theta_0_array,theta_array, phi_array)\n",
        "        B_each = np.conj(u_jmmp) * H * (u1_j1m1m1p) * (u2_j2m2m2p)\n",
        "        B_sum = N(B_each)\n",
        "print(B_sum)"
      ],
      "metadata": {
        "pycharm": {
          "name": "#%%\n",
          "is_executing": true
        },
        "id": "Bhe5g8JyCkG7"
      }
    },
    {
      "cell_type": "markdown",
      "source": [
        "# References\n",
        "---\n",
        "\n",
        "[1] `Thompson, Swiler, Trott, Foiles, Tucker,` ***Spectral neighbor analysis method for automated generation of quantum-accurate interatomic potentials***  (2015) [https://www.osti.gov/biblio/1426894](https://www.osti.gov/biblio/1426894)\n",
        "\n",
        "[2]  `J. K. Mason,` ***The relationship of the hyperspherical harmonics to SO(3), SO(4) and orientation distribution functions***, Acta Cryst A65, 259 (2009)\n",
        "\n",
        "[https://libraryh3lp.com/file/8j46b06z956ega%40web.libraryh3lp.com/1665598079.pdf?t=6sfhoB1XgCcztCUZBmTEDs](https://libraryh3lp.com/file/8j46b06z956ega%40web.libraryh3lp.com/1665598079.pdf?t=6sfhoB1XgCcztCUZBmTEDs)\n",
        "\n",
        "[3] *`A. Bartok, M. C. Payne, K. Risi, G. Csanyi,`**Gaussian approximation potentials: The accuracy of quantum mechanics, without the electrons*** (2010) [https://arxiv.org/pdf/0910.1019.pdf](https://arxiv.org/pdf/0910.1019.pdf)\n",
        "\n",
        "[4] `A V Meremianin,*`  ***Multipole expansions in four-dimensional hyperspherical harmonics,*** J. Phys. A: Math. Gen. 39 3099 (2006) [https://iopscience.iop.org/article/10.1088/0305-4470/39/12/017/pdf?casa_token=YfzEUY2g4jwAAAAA:bqMuUwTRpQXDQEpCSvvwmlFYX6hi0xis-vCqLThjemvfDObHjP7XZw28oexUMra9FGg7AV1FVKvhtzZJn28g](https://iopscience.iop.org/article/10.1088/0305-4470/39/12/017/pdf?casa_token=YfzEUY2g4jwAAAAA:bqMuUwTRpQXDQEpCSvvwmlFYX6hi0xis-vCqLThjemvfDObHjP7XZw28oexUMra9FGg7AV1FVKvhtzZJn28g)\n",
        "\n",
        "[5] *`D.A. Varshalovich, A.N. Moskalev, V.K Khersonskii,` ***Quantum Theory of Angular Momentum*** (1988) [https://library.oapen.org/handle/20.500.12657/50493](https://library.oapen.org/handle/20.500.12657/50493)\n",
        "\n",
        "[6]  *`M. A. Cusentino,  M. A. Wood, A. P. Thompson,`***Explicit Multi-element Extension of the Spectral Neighbor Analysis Potential for Chemically Complex Systems,*** J. Phys. Chem. A,124, 26, 5456–5464 (2020) [https://doi.org/10.1021/acs.jpca.0c02450](https://doi.org/10.1021/acs.jpca.0c02450)\n",
        "\n",
        "[7] `*LAMMPS,*` ***Compute sna/atom command,*** [https://docs.lammps.org/compute_sna_atom.html](https://docs.lammps.org/compute_sna_atom.html)\n",
        "\n",
        "*[8] `Kyushin, S., Kurosaki, Y., Otsuka, K. et al.` ***Silicon–silicon π single bond*** Nat Commun* **11**, 4009 (2020). https://doi.org/10.1038/s41467-020-17815-z"
      ],
      "metadata": {
        "collapsed": false,
        "pycharm": {
          "name": "#%% md\n"
        },
        "id": "48a9g2ntCkG7"
      }
    }
  ],
  "metadata": {
    "kernelspec": {
      "display_name": "Python 3",
      "language": "python",
      "name": "python3"
    },
    "language_info": {
      "codemirror_mode": {
        "name": "ipython",
        "version": 2
      },
      "file_extension": ".py",
      "mimetype": "text/x-python",
      "name": "python",
      "nbconvert_exporter": "python",
      "pygments_lexer": "ipython2",
      "version": "2.7.6"
    },
    "colab": {
      "provenance": [],
      "include_colab_link": true
    }
  },
  "nbformat": 4,
  "nbformat_minor": 0
}