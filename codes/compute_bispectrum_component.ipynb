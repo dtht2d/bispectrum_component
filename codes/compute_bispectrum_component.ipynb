{
 "cells": [
  {
   "cell_type": "markdown",
   "source": [
    "# Compute Bispectrum Components\n",
    "---\n",
    "## Outline\n",
    "**Computational steps**\n",
    "\n",
    "**1. Data prep and parameter**\n",
    "\n",
    "**a. Data prep**\n",
    "\n",
    "- Read CIF file as data frame\n",
    "\n",
    "**b. Define position of neighbor atoms $k$ relative to a central atom $i$  is a point within the 3D ball of radius**\n",
    "\n",
    "- Estimate list of potentially atoms in the center cell\n",
    "- Choose a center atom $i$  from the list and get its coordinate $(x_i,y_i,z_i)$\n",
    "- Re-calculate coordinate for all atoms in the cell w.r.t new reference of frame  (origin at $(x_i,y_i,z_i)$)\n",
    "- Compute neighbors list in a chosen cutoff radius $R_{cut}$ with respect to new reference frame where its origin is at center atom $i$  location\n",
    "\n",
    "**c. Map possible neighbor atoms on to the set of points $(\\theta_0, \\theta,\\phi)$**\n",
    "\n",
    "Compute $\\theta_0, \\ \\theta, \\ \\phi$\n",
    "\n",
    "**2. Compute bispectrum component for input values $(j_1, j_2, j)$**\n",
    "\n",
    "1. Compute Clebsch- Gordan coefficient\n",
    "\n",
    "    $$\n",
    "    C^{jm}_{{j_1}{m_1}{j_2}{m_2}}, C^{jm'}_{{j_1}{m'_1}{j_2}{m'_2}}\n",
    "    $$\n",
    "\n",
    "2. Compute coupling coefficient\n",
    "\n",
    "    $$\n",
    "     H^{jmm'}_{{{j_1}{m_1}{m'_1}} ,{{j_2}{m_2}{m'_2}}}\n",
    "    $$\n",
    "\n",
    "3. Compute  density coefficient\n",
    "\n",
    "    $$\n",
    "    u^j_{mm'}, \\mu_{m_1m_1'}^{j_1}, \\mu_{m_2,m_2'}^{j_2}\n",
    "    $$\n",
    "---"
   ],
   "metadata": {
    "collapsed": false,
    "pycharm": {
     "name": "#%% md\n"
    }
   }
  },
  {
   "cell_type": "markdown",
   "source": [
    "## Import libraries"
   ],
   "metadata": {
    "collapsed": false,
    "pycharm": {
     "name": "#%% md\n"
    }
   }
  },
  {
   "cell_type": "code",
   "execution_count": 49,
   "outputs": [],
   "source": [
    "import numpy as np\n",
    "import pandas as pd\n",
    "import sympy as sp\n",
    "from sympy.physics.quantum.cg import CG\n",
    "from sympy.physics.wigner import wigner_d\n",
    "from sympy.physics.quantum.spin import Rotation\n",
    "from sympy import *\n",
    "from Bio.PDB.MMCIF2Dict import MMCIF2Dict\n",
    "from methods import *\n",
    "import itertools"
   ],
   "metadata": {
    "collapsed": false,
    "pycharm": {
     "name": "#%%\n"
    }
   }
  },
  {
   "cell_type": "markdown",
   "source": [
    "## 1. Data prep and parameter\n",
    "### a. Data prep\n",
    "\n",
    "**→ set of data, neighbor list, it could be x, y, z coordinate and convert to r, $\\theta_0,\\theta,\\phi$**\n",
    "\n",
    "- read CIF file as data frame\n",
    "\n",
    "    [avgBL-Model.cif](Compute%20Bispectrum%20Components%20fe15e8c590c94d438538084914489ecb/avgBL-Model.cif)\n",
    "\n",
    "- cell length (unit angstrom)\n",
    "- $R_{cut }$ cut off radius\n",
    "\n",
    "    ********Note:******** Chosen $R_{cut}$ needs to divide by the true cell length (i.e: with example dataset we need to divide by 18.7337) since $(x,y,z)$  are fraction with cell dimension (1,1,1), $R_i, R_k$ (center, neighbor): atom radius, measures from center of nucleus to the outermost isolated electron also so need to divide by\n",
    "\n",
    "- $r_\\mu$  atomic radius for all chemical elements\n",
    "- $x, y, z$ coordinate for all atoms\n",
    "- atom type"
   ],
   "metadata": {
    "collapsed": false,
    "pycharm": {
     "name": "#%% md\n"
    }
   }
  },
  {
   "cell_type": "code",
   "execution_count": 10,
   "outputs": [
    {
     "name": "stdout",
     "output_type": "stream",
     "text": [
      "                                                                                0\n",
      "data_                                                                        test\n",
      "_symmetry_cell_setting                                                [triclinic]\n",
      "_symmetry_space_group_name_H-M                                              [P 1]\n",
      "_symmetry_equiv_pos_as_xyz                                                [X,Y,Z]\n",
      "_cell_length_a                                                          [18.7337]\n",
      "_cell_length_b                                                          [18.7337]\n",
      "_cell_length_c                                                          [18.7337]\n",
      "_cell_angle_alpha                                                            [90]\n",
      "_cell_angle_beta                                                             [90]\n",
      "_cell_angle_gamma                                                            [90]\n",
      "_atom_site_label                [si1_1, si1_1, si1_1, si1_1, si1_1, si1_1, si1...\n",
      "_atom_site_type_symbol          [si, si, si, si, si, si, si, si, si, si, si, s...\n",
      "_atom_site_fract_x              [0.954659, 0.723469, 0.911910, 0.180034, 0.019...\n",
      "_atom_site_fract_y              [0.013642, 0.727441, 0.842907, 0.242715, 0.647...\n",
      "_atom_site_fract_z              [0.469779, 0.237191, 0.722894, 0.263001, 0.350...\n"
     ]
    }
   ],
   "source": [
    "path = \"/Users/DuongHoang/UMKC-Grad/UMKC_Research/bispectrump_component/data/avgBL-Model.cif\"\n",
    "dico = MMCIF2Dict(path)\n",
    "df_cif = pd.DataFrame.from_dict(dico, orient='index')\n",
    "print (df_cif)"
   ],
   "metadata": {
    "collapsed": false,
    "pycharm": {
     "name": "#%%\n"
    }
   }
  },
  {
   "cell_type": "markdown",
   "source": [
    "**Comment:**\n",
    "Define index as orientation, column label in CIF file now become row,  index 0 column store all value atom coordinate values that need to unpack and assigned as new numpy array to create new data frame that column name is X, Y, Z coordinates and row are coordinate values for each atom in the cell\n",
    "    **Note:** $x, y, z$  are fraction of cell length to 1. True value needs to multiply with actual cell length"
   ],
   "metadata": {
    "collapsed": false,
    "pycharm": {
     "name": "#%% md\n"
    }
   }
  },
  {
   "cell_type": "code",
   "execution_count": 11,
   "outputs": [
    {
     "name": "stdout",
     "output_type": "stream",
     "text": [
      "    atom_type         X         Y         Z\n",
      "0          si  0.954659  0.013642  0.469779\n",
      "1          si  0.723469  0.727441  0.237191\n",
      "2          si  0.911910  0.842907  0.722894\n",
      "3          si  0.180034  0.242715  0.263001\n",
      "4          si  0.019245  0.647721  0.350679\n",
      "..        ...       ...       ...       ...\n",
      "335        si  0.719519  0.348038  0.504628\n",
      "336        si  0.370296  0.945794  0.229344\n",
      "337        si  0.206532  0.594928  0.133419\n",
      "338        si  0.743145  0.839250  0.191284\n",
      "339        si  0.018592  0.043251  0.767526\n",
      "\n",
      "[340 rows x 4 columns]\n"
     ]
    }
   ],
   "source": [
    "path = \"/Users/DuongHoang/UMKC-Grad/UMKC_Research/bispectrump_component/data/avgBL-Model.cif\"\n",
    "dico = MMCIF2Dict(path)\n",
    "df_cif = pd.DataFrame.from_dict(dico, orient='index')\n",
    "x = df_cif.iloc[-3]\n",
    "y = df_cif.iloc[-2]\n",
    "z = df_cif.iloc[-1]\n",
    "atom_type = df_cif.iloc[-4]\n",
    "x_array = np.array(x[0],dtype=float)\n",
    "y_array = np.array(y[0],dtype=float)\n",
    "z_array = np.array(z[0],dtype=float)\n",
    "atom_type_array = np.array(atom_type[0], dtype=str)\n",
    "df = pd.DataFrame({\"atom_type\":atom_type_array,\"X\" : x_array, \"Y\":y_array, \"Z\": z_array})\n",
    "print(df)"
   ],
   "metadata": {
    "collapsed": false,
    "pycharm": {
     "name": "#%%\n"
    }
   }
  },
  {
   "cell_type": "markdown",
   "source": [
    "Date frame with atoms $ (x,y,z) $  coordinates and atom type"
   ],
   "metadata": {
    "collapsed": false,
    "pycharm": {
     "name": "#%% md\n"
    }
   }
  },
  {
   "cell_type": "markdown",
   "source": [
    "### b. **Define position of a neighbor atom $k$ relative to a central atom $i$  is a point within the 3D ball of radius**\n",
    "\n",
    "**Idea :** choose a central atom  $i$ where its coordinate $(x_i,y_i,z_i)$ in the center of a single cell (reference coordinate frame, origin point $O(0,0,0)$ and orthogonal axes $X,Y,Z$). Re-calculate coordinate for all atoms in the cell by shift origin to $(x_i,y_i,z_i)$.\n",
    "\n",
    "Coordinate of neighbor atom with respect to the new system is:\n",
    "\n",
    "$$\n",
    "\\begin{bmatrix}x_k \\\\ y_k \\\\ z_k \\end{bmatrix} = \\begin{bmatrix} x - x_i \\\\ y-y_i \\\\ z-z_i \\end{bmatrix}\n",
    "$$\n",
    "**Estimate list of potentially atoms in the center cell**\n",
    "\n",
    "**Condition:** $\\text{range}_{min} + R_{cut}, \\text{range}_{max}+R_{cut} \\leq$  1\n",
    "\n",
    "**Example:**\n",
    "\n",
    "$$\n",
    "0.5\\leq x,y,z \\leq 0.7\n",
    "$$\n"
   ],
   "metadata": {
    "collapsed": false,
    "pycharm": {
     "name": "#%% md\n"
    }
   }
  },
  {
   "cell_type": "code",
   "execution_count": 13,
   "outputs": [
    {
     "name": "stdout",
     "output_type": "stream",
     "text": [
      "    atom_type         X         Y         Z\n",
      "17         si  0.544332  0.665575  0.559883\n",
      "152        si  0.696335  0.535755  0.620077\n",
      "311        si  0.652860  0.654536  0.608059\n"
     ]
    }
   ],
   "source": [
    "df_atoms = df[(df['X'].between(0.5,0.7,inclusive='both'))\n",
    "                         & (df['Y'].between(0.5,0.7,inclusive='both'))\n",
    "                         & (df['Z'].between(0.5,0.7, inclusive='both'))]\n",
    "print (df_atoms)"
   ],
   "metadata": {
    "collapsed": false,
    "pycharm": {
     "name": "#%%\n"
    }
   }
  },
  {
   "cell_type": "markdown",
   "source": [
    "**Note**: Choose atom ID 17 as center atom, in df_atoms its index  row is [0] but in df_new its index row is [17]."
   ],
   "metadata": {
    "collapsed": false,
    "pycharm": {
     "name": "#%% md\n"
    }
   }
  },
  {
   "cell_type": "code",
   "execution_count": 14,
   "outputs": [
    {
     "name": "stdout",
     "output_type": "stream",
     "text": [
      "0.544332 0.665575 0.559883\n"
     ]
    }
   ],
   "source": [
    "atom_i =df.iloc[17]\n",
    "x_i = df['X'].iloc[17]\n",
    "y_i = df['Y'].iloc[17]\n",
    "z_i = df['Z'].iloc[17]\n",
    "print(x_i,y_i,z_i)"
   ],
   "metadata": {
    "collapsed": false,
    "pycharm": {
     "name": "#%%\n"
    }
   }
  },
  {
   "cell_type": "markdown",
   "source": [
    "Re-calculate coordinate for all atoms (w.r.t new reference of frame  (origin at $(x_i,y_i,z_i)$), and distance $r_{ik}$  from a center atom $i$  to other atom in the cell= np.sqrt(np.square(X_k_array)+np.square(Y_k_array)+np.square(Z_k_array))"
   ],
   "metadata": {
    "collapsed": false,
    "pycharm": {
     "name": "#%% md\n"
    }
   }
  },
  {
   "cell_type": "code",
   "execution_count": 16,
   "outputs": [
    {
     "name": "stdout",
     "output_type": "stream",
     "text": [
      "    atom_type         X         Y         Z       X_k       Y_k       Z_k  \\\n",
      "0          si  0.954659  0.013642  0.469779  0.410327 -0.651933 -0.090104   \n",
      "1          si  0.723469  0.727441  0.237191  0.179137  0.061866 -0.322692   \n",
      "2          si  0.911910  0.842907  0.722894  0.367578  0.177332  0.163011   \n",
      "3          si  0.180034  0.242715  0.263001 -0.364298 -0.422860 -0.296882   \n",
      "4          si  0.019245  0.647721  0.350679 -0.525087 -0.017854 -0.209204   \n",
      "..        ...       ...       ...       ...       ...       ...       ...   \n",
      "335        si  0.719519  0.348038  0.504628  0.175187 -0.317537 -0.055255   \n",
      "336        si  0.370296  0.945794  0.229344 -0.174036  0.280219 -0.330539   \n",
      "337        si  0.206532  0.594928  0.133419 -0.337800 -0.070647 -0.426464   \n",
      "338        si  0.743145  0.839250  0.191284  0.198813  0.173675 -0.368599   \n",
      "339        si  0.018592  0.043251  0.767526 -0.525740 -0.622324  0.207643   \n",
      "\n",
      "         r_ik  \n",
      "0    0.775567  \n",
      "1    0.374229  \n",
      "2    0.439469  \n",
      "3    0.632189  \n",
      "4    0.565510  \n",
      "..        ...  \n",
      "335  0.366842  \n",
      "336  0.466977  \n",
      "337  0.548609  \n",
      "338  0.453382  \n",
      "339  0.840717  \n",
      "\n",
      "[340 rows x 8 columns]\n"
     ]
    }
   ],
   "source": [
    "X_array = df['X'].to_numpy()\n",
    "Y_array = df['Y'].to_numpy()\n",
    "Z_array = df['Z'].to_numpy()\n",
    "X_k_array = X_array - x_i\n",
    "Y_k_array = Y_array - y_i\n",
    "Z_k_array = Z_array - z_i\n",
    "r_ik= np.sqrt(np.square(X_k_array)+np.square(Y_k_array)+np.square(Z_k_array))\n",
    "df['X_k'],df['Y_k'], df['Z_k'],df['r_ik']= X_k_array, Y_k_array, Z_k_array, r_ik\n",
    "print(df)"
   ],
   "metadata": {
    "collapsed": false,
    "pycharm": {
     "name": "#%%\n"
    }
   }
  },
  {
   "cell_type": "markdown",
   "source": [
    "Check to see if chosen center atom coordinate sets to (0,0,0)"
   ],
   "metadata": {
    "collapsed": false,
    "pycharm": {
     "name": "#%% md\n"
    }
   }
  },
  {
   "cell_type": "code",
   "execution_count": 17,
   "outputs": [
    {
     "name": "stdout",
     "output_type": "stream",
     "text": [
      "atom_type          si\n",
      "X            0.544332\n",
      "Y            0.665575\n",
      "Z            0.559883\n",
      "X_k               0.0\n",
      "Y_k               0.0\n",
      "Z_k               0.0\n",
      "r_ik              0.0\n",
      "Name: 17, dtype: object\n"
     ]
    }
   ],
   "source": [
    "print(df.iloc[17])"
   ],
   "metadata": {
    "collapsed": false,
    "pycharm": {
     "name": "#%%\n"
    }
   }
  },
  {
   "cell_type": "markdown",
   "source": [
    "**Compute neighbors list in a chosen cutoff radius $R_{cut}$ with respect to new reference frame where its origin is at center atom $i$  location**\n",
    "\n",
    "$$\n",
    "R_{cut}= some \\ reasonable \\ value\n",
    "$$\n",
    "\n",
    "**Example:** Sillicon atomic radius is $1.46\\text{\\AA}$ , Silicon–silicon π single bond ****$2.853 \\text{\\AA}$**, $R_{cut}= \\frac{1.46+1.46}{cell\\ length}=\\frac{2.92}{18.7337} \\approx 0.16$ but let choose $R_{cut} =0.25$\n",
    "\n",
    "$$\n",
    "r_{ik}= \\sqrt{x_k^2 +y_k^2+z_k^2}\n",
    "$$\n",
    "\n",
    "Assume atom of element $ \\mu $ (in this case it’s Silicon) is a sphere with radius $r_\\mu$. We want to make sure that for the neighbors list only atoms whose entire sphere is in within the bigger sphere with radius $R_{cut}$.\n",
    "\n",
    "$$\n",
    "r_\\mu = \\frac{atomic\\ radius \\ (\\text{\\AA})}{cell \\ length \\ (\\text{\\AA})} = \\frac{1.46}{18.7337} \\approx 0.0779\n",
    "$$\n",
    "\n",
    "**Condition:**\n",
    "\n",
    "$$\n",
    "r_{ik}+r_\\mu\\leq R_{cut}\n",
    "$$"
   ],
   "metadata": {
    "collapsed": false,
    "pycharm": {
     "name": "#%% md\n"
    }
   }
  },
  {
   "cell_type": "code",
   "execution_count": 20,
   "outputs": [
    {
     "name": "stdout",
     "output_type": "stream",
     "text": [
      "          X_k       Y_k       Z_k      r_ik\n",
      "17   0.000000  0.000000  0.000000  0.000000\n",
      "35  -0.103248 -0.005137 -0.122932  0.160620\n",
      "72   0.014310  0.043550 -0.114092  0.122957\n",
      "80  -0.072758  0.086734  0.045996  0.122197\n",
      "128 -0.050784 -0.108715  0.039094  0.126199\n",
      "311  0.108528 -0.011039  0.048176  0.119252\n"
     ]
    }
   ],
   "source": [
    "#INPUT values\n",
    "atomic_radius = 1.46            #silicon atomic radius, unit: angstrom\n",
    "cell_length = df.iloc[4]        #index row start from 0 _cell_length_a at row 5 index [4]\n",
    "\n",
    "r_mu = 0.0779                   #scale atomic radius w.r.t cell length\n",
    "R_cut = 0.25                    #scaled value w.r.t cell length (for Si-Si case)\n",
    "df_ik = df[(df['r_ik'] + r_mu)<= (R_cut)].copy(deep=true)\n",
    "print(df_ik[['X_k', 'Y_k', 'Z_k', 'r_ik']])"
   ],
   "metadata": {
    "collapsed": false,
    "pycharm": {
     "name": "#%%\n"
    }
   }
  },
  {
   "cell_type": "markdown",
   "source": [
    "\n",
    "## c. Map possible neighbor atoms on to the set of points $(\\theta_0, \\theta,\\phi)$\n",
    "\n",
    "Ref.[3], eq.(3), p. 2\n",
    "\n",
    "**Idea:** project the atomic density onto the surface of four- dimensional unit sphere, similarly to how the Riemann sphere is constructed with the transformation\n",
    "\n",
    "$$\n",
    "(\\theta_0, \\theta,\\phi) =[|r|/r_0, cos^{-1}(|z'|/|r|), tan^{-1}(y'/x'))]\n",
    "$$\n",
    "\n",
    "$r_0>R_{cut}/\\pi$ → so that the 4D surface contains all the information from 3D spherical region inside the cutoff, include radial dimension\n",
    "\n",
    "**$\\text{rotation angel}\\ \\omega \\equiv \\theta_0 \\ \\text{about some axis} \\ n(\\Theta \\equiv \\theta, \\Phi \\equiv \\phi)$**\n",
    "\n",
    "**Condition:**\n",
    "\n",
    "Ref.[5] session 1.4.2, p.23\n",
    "\n",
    "(1) $0 \\leq \\theta_0 \\leq \\pi$\n",
    "\n",
    "(2) $0\\leq \\theta \\leq \\pi$\n",
    "\n",
    "(3) $0 \\leq \\phi \\leq 2\\pi$.\n",
    "\n",
    "**Note**:  $ \\phi = tan^{-1}(\\frac{y'}{x'})$, $x', y'$  has negative values → need to convert range of angle from $[-\\pi, \\pi] \\ \\text{to}\\ [0, 2\\pi] $\n",
    "\n",
    "(4) $R_{cut}$ depends on the chemical identities of both the neighbor atom and center atom (at a distance that is less force affected on both of them?)\n",
    "Compute $\\theta_0, \\ \\theta, \\ \\phi$\n",
    "\n",
    "$$\n",
    "\\theta_{0} = \\theta_0^{max}\\frac{|r_{ik}|}{|r_0|}=\\pi\\frac{\\sqrt{x_k^2+y^2_k+z_k^2}}{R_{cut}}\n",
    "$$\n",
    "\n",
    "where $\\theta_0^{max}= \\pi$\n",
    "\n",
    "->excluded points south  of latitude $\\theta_0=r_{frac0}\\pi$"
   ],
   "metadata": {
    "collapsed": false,
    "pycharm": {
     "name": "#%% md\n"
    }
   }
  },
  {
   "cell_type": "code",
   "execution_count": 24,
   "outputs": [
    {
     "name": "stdout",
     "output_type": "stream",
     "text": [
      "[0.25 0.25 0.25 0.25 0.25 0.25]\n",
      "[       nan 0.049713   1.25332279 5.41038219 1.13378905 6.18181825]\n",
      "[        nan  0.049713    1.25332279 -0.87280312  1.13378905 -0.10136706]\n"
     ]
    },
    {
     "name": "stderr",
     "output_type": "stream",
     "text": [
      "/var/folders/7_/1phpw0g101sfbhw8vl2jpp5h0000gn/T/ipykernel_12769/3703012928.py:8: RuntimeWarning: invalid value encountered in divide\n",
      "  theta_array = np.arccos(np.divide(Z_k_abs_array,r_ik_array))\n",
      "/var/folders/7_/1phpw0g101sfbhw8vl2jpp5h0000gn/T/ipykernel_12769/3703012928.py:12: RuntimeWarning: invalid value encountered in divide\n",
      "  phi_array = np.arctan(np.divide(Y_k_array, X_k_array))\n"
     ]
    }
   ],
   "source": [
    "#theta_0\n",
    "r_ik_array = df_ik['r_ik'].to_numpy() #r_ik from selected neighbors\n",
    "r_0_array = np.full((r_ik_array.shape),R_cut)\n",
    "theta_0_array = np.pi*(np.divide(r_ik_array,r_0_array))\n",
    "print (r_0_array)\n",
    "#theta\n",
    "Z_k_abs_array = np.abs(df_ik['Z_k'].to_numpy())\n",
    "theta_array = np.arccos(np.divide(Z_k_abs_array,r_ik_array))\n",
    "#phi\n",
    "X_k_array = df_ik['X_k'].to_numpy()\n",
    "Y_k_array = df_ik['Y_k'].to_numpy()\n",
    "phi_array = np.arctan(np.divide(Y_k_array, X_k_array))\n",
    "#convert angle to positive value between [0,2pi]\n",
    "phi_array_convert = np.mod(phi_array, 2*np.pi)\n",
    "for angle in phi_array_convert:\n",
    "    if (angle >=2*np.pi) and (angle < 0):\n",
    "        raise ValueError('phi angle in between 0 and 2pi')\n",
    "print(phi_array_convert)\n",
    "print(phi_array)"
   ],
   "metadata": {
    "collapsed": false,
    "pycharm": {
     "name": "#%%\n"
    }
   }
  },
  {
   "cell_type": "markdown",
   "source": [
    "Replace NaN with 0: (error for invalid value center atom values since we have 0/0)"
   ],
   "metadata": {
    "collapsed": false,
    "pycharm": {
     "name": "#%% md\n"
    }
   }
  },
  {
   "cell_type": "code",
   "execution_count": 25,
   "outputs": [
    {
     "name": "stdout",
     "output_type": "stream",
     "text": [
      "          X_k       Y_k       Z_k      r_ik   theta_0     theta       phi\n",
      "17   0.000000  0.000000  0.000000  0.000000  0.000000  0.000000  0.000000\n",
      "35  -0.103248 -0.005137 -0.122932  0.160620  2.018412  0.699198  0.049713\n",
      "72   0.014310  0.043550 -0.114092  0.122957  1.545120  0.382047  1.253323\n",
      "80  -0.072758  0.086734  0.045996  0.122197  1.535575  1.184880  5.410382\n",
      "128 -0.050784 -0.108715  0.039094  0.126199  1.585869  1.255835  1.133789\n",
      "311  0.108528 -0.011039  0.048176  0.119252  1.498569  1.154929  6.181818\n"
     ]
    }
   ],
   "source": [
    "#Replace NaN with 0: (code will have error for invalid value center atom values 0/0)\n",
    "df_ik['theta_0'] = theta_0_array\n",
    "df_ik['theta_0'] = df_ik['theta_0'].replace(np.nan,0)\n",
    "df_ik['theta'] = theta_array\n",
    "df_ik['theta'] = df_ik['theta'].replace(np.nan,0)\n",
    "df_ik['phi'] = phi_array_convert\n",
    "df_ik['phi'] = df_ik['phi'].replace(np.nan,0)\n",
    "print(df_ik.drop(['X', 'Y', 'Z', 'atom_type'], axis =1))\n"
   ],
   "metadata": {
    "collapsed": false,
    "pycharm": {
     "name": "#%%\n"
    }
   }
  },
  {
   "cell_type": "markdown",
   "source": [
    "## 2. Compute **bispectrum component for input values $(j_1, j_2, j)$**\n",
    "### Clebsch- Gordan coefficient\n",
    "\n",
    "Ref.[3], Eq.(5) and Ref.[1], Eq.(5)\n",
    "\n",
    "$$\n",
    "C^{jm}_{{j_1}{m_1}{j_2}{m_2}} C^{jm'}_{{j_1}{m'_1}{j_2}{m'_2}} \\equiv H^{jmm'}_{{{j_1}{m_1}{m'_1}} ,{{j_2}{m_2}{m'_2}}}\n",
    "$$\n",
    "\n",
    "**Definition**\n",
    "\n",
    "Ref.[5] p.235\n",
    "\n",
    "A Clebsch-Gordan coefficients are vector addition coefficients. They play an important role in decomposition of reducible representations of rotational….Let angular momentum $j_1$ and $j_2$ with projections on $m_1$  and $m_2$ on the quantization axis. represents **the probability amplitude that $j_1$ and $j_2$ are coupled into a resultant angular momentum $j$ with projection $m$.**\n",
    "$$\n",
    "(j_1,m_1)\\otimes(j_2,m_2) \\to (jm)\n",
    "$$\n",
    "$$\n",
    "C\\equiv \\langle j_1m_1j_2m_2 | jm \\rangle\n",
    "$$\n",
    "$$\n",
    "\\langle j_1m_1j_2m_2 | jm \\rangle = (-1)^{j_1-j_2+m}\\sqrt{2j+1}\\begin{pmatrix}j_1&j_2&j \\\\ m_1&m_2&{-m}\\end{pmatrix}\n",
    "$$\n",
    "### a. **Compute $C_{j_1m_1j_2m_2}^{jm}, \\ C_{j_1m_1j_2m_2}^{jm'}$ via its relation to Wigner 3-j symbols**\n",
    "\n",
    "Use function from sympy: already implied condition for $j_1,j_2, j, m_1, m_2, m$"
   ],
   "metadata": {
    "collapsed": false,
    "pycharm": {
     "name": "#%% md\n"
    }
   }
  },
  {
   "cell_type": "code",
   "execution_count": null,
   "outputs": [],
   "source": [
    "class sympy.physics.quantum.cg.CG(j1,m1,j2,m2,j3,m3)\n",
    "cg = CG(j1,m1,j2,m2,j,m)\n",
    "cg = cg.doit()\n",
    "cg_p = CG(j1,m1p,j2,m2p,j,mp)\n",
    "cg_p = cg_p.doit()"
   ],
   "metadata": {
    "collapsed": false,
    "pycharm": {
     "name": "#%%\n"
    }
   }
  },
  {
   "cell_type": "markdown",
   "source": [
    "**Condition:**\n",
    "In accordance with vector addition rules $j_1+j_2=j$, unless the triangular conditions (triangular in equalities) are fulfilled\n",
    "(1)$|j_1-j_2|\\ \\le j \\le j_1+j_2$\n",
    "$j= 0, \\frac{1}{2},1,...\\infty$  and $m, m' = -j,-j+1, ...,j-1,j$\n",
    "(2)$m_1+m_2=m \\ \\text{and} \\ j_1 +j_2=j$\n",
    "(3)$|m_1| \\le j_1, \\ |m_2| \\le j_2,\\ |m| \\le j$\n",
    "(4) $j_1,j_2,j$ not exceed a positive integer $J \\ \\text{is}$\n",
    "(5) $j_1+j_2-j$ not half integer\n",
    "(6) $m_1,m_2,m$ are integer or half-integer (positive or negative) numbers\n",
    "(7) $j_1,j_2,j$ are integer or half integer non negative numbers\n",
    "(8) $j_1 +m_1, \\ j_2 +m_2, \\ j +m, \\ j_1+j_2+j$  are integer non-negative numbers\n",
    "**Parameter**:\n",
    "$j_1, j_2$ : Angular momenta of states 1 and 2\n",
    "$j,m\\ :$  Total angular momentum of $(j_1+j_2)$\n",
    "$m_1, \\ m_2, \\ m:$  Eigenvalues w.r.t to anglar momentum $j_1, \\ j_2, \\ j$\n",
    "$m_1', \\ m_2', \\ m':$ Eigenvalues w.r.t $j_1, \\ j_2, \\ j$ along rotated axis\n",
    "### b. **Compute coupling coefficient function $H^{jmm'}_{{{j_1}{m_1}{m'_1}} ,{{j_2}{m_2}{m'_2}}}$**\n",
    "**Example:**"
   ],
   "metadata": {
    "collapsed": false,
    "pycharm": {
     "name": "#%% md\n"
    }
   }
  },
  {
   "cell_type": "code",
   "execution_count": 33,
   "outputs": [
    {
     "name": "stdout",
     "output_type": "stream",
     "text": [
      "0\n"
     ]
    }
   ],
   "source": [
    "j1,j2,j,m1,m2,m,m1p,m2p,mp = (3/2,1/2,1,3/2,-1/2,1,3/2,1/2,2)\n",
    "H=getCoeffH(j1,j2,j,m1,m2,m,m1p,m2p,mp)\n",
    "print(H)"
   ],
   "metadata": {
    "collapsed": false,
    "pycharm": {
     "name": "#%%\n"
    }
   }
  },
  {
   "cell_type": "markdown",
   "source": [
    "### c. **Compute expansion coefficients density function $u^j_{m,m'}, \\ u^{j_1}_{m_1,m_2}, \\ u^{j_2}_{m_1,m_2}$**\n",
    "\n",
    "**Expansion coefficient for the partial density of neighbors of element $\\mu$**\n",
    "\n",
    "**Definition**\n",
    "\n",
    "$$\n",
    " u^j_{m,m'} = \\langle U^j_{m'm} | \\rho\\rangle\n",
    "$$\n",
    "\n",
    "$$\n",
    "\\begin{align*} u_{j,m,m'}^{\\mu} &= w^{self}_{\\mu_i \\mu} U_{j,m,m'}(0,0,0) \\\\ & + \\displaystyle\\sum_{r_{ik}<R_{cut}^{\\mu_i\\mu_k}} f_c(r_{ik};R_{cut}^{\\mu_i\\mu_k})w_{{\\mu}_k}U_{m,m'}^{j}(\\theta_{0},\\theta, \\phi) \\delta_{\\mu\\mu_k} \\end{align*}\n",
    "$$"
   ],
   "metadata": {
    "collapsed": false,
    "pycharm": {
     "name": "#%% md\n"
    }
   }
  },
  {
   "cell_type": "code",
   "execution_count": 35,
   "outputs": [
    {
     "name": "stdout",
     "output_type": "stream",
     "text": [
      "[1 1 1 1 1 1]\n",
      "[1 1 1 1 1 1]\n"
     ]
    }
   ],
   "source": [
    "#EXAMPLE\n",
    "j,m,mp = 3,2,3\n",
    "#array for weight coefficient w.r.t to atom type, since we deal with single type set it equal to 1\n",
    "w_ik_arr = np.full((r_ik_array.shape),1)\n",
    "#delta function delta=1 if i and k has the same element type, if not delta =0\n",
    "delta = np.full((r_ik_array.shape),0)\n",
    "delta_arr = np.where(df_ik['atom_type']==df_ik['atom_type'].iloc[0],1,delta)\n",
    "print (w_ik_arr)\n",
    "print (delta_arr)"
   ],
   "metadata": {
    "collapsed": false,
    "pycharm": {
     "name": "#%%\n"
    }
   }
  },
  {
   "cell_type": "code",
   "execution_count": 36,
   "outputs": [],
   "source": [
    "def getDensityFunction_u(j,m,mp,w_ik_array, delta_array,r_ik_array, r_min0, R_cut, theta_0_array, theta_array, phi_array):\n",
    "        '''\n",
    "        Args:\n",
    "            j: angular momentum\n",
    "            m: eigenvalue of angular momentum\n",
    "            mp: eigenvalue of j along rotated axis\n",
    "            w_ik_arr: array for the coefficients that are dimensionless weights that are chosen to distinguish atoms\n",
    "                        of different types, while the central atom is arbitrarily assigned a unit weight, dimensin (1,k)\n",
    "            delta_arr: array for the Dirac delta function, indicates only neighbor atom of element the same as center atom\n",
    "                        contribute to partial density,  dimension (1,k)\n",
    "            r_ik_array: array for distance from center atom to neighbor atom, dimension (1,k+1), k is number of neighbor atoms\n",
    "                        in cutoff radius, array include center atom as well\n",
    "            r_min0: number, parameter in distance to angle conversion (distance units), choose\n",
    "            R_cut: number, cutoff radius\n",
    "            theta_0_array: array for theta_0 angel (fist angle of rotation [0,pi])\n",
    "                        of neighbor atoms in reference frame of center atom, dimension (1, k+1)\n",
    "            theta_array: array for theta angel ( second angle of rotation [0,pi])\n",
    "                        of neighbor atoms in reference frame of center atom, dimension (1, k+1)\n",
    "            phi_array: array for phi angel (third angle of rotation [0,2pi])\n",
    "                        of neighbor atoms in reference frame of center atom, dimension (1, k+1)\n",
    "        Returns: expansion coefficients density function u_jm_mp\n",
    "        '''\n",
    "        R_cut_array = np.full((r_ik_array.shape), R_cut)\n",
    "        f_cut_arr = (1 / 2) * (np.cos(np.pi * (np.divide(r_ik_array - r_min0, R_cut_array - r_min0))) + 1)\n",
    "        U_jmmp = []\n",
    "        for theta_0, theta, phi in zip(theta_0_array, theta_array, phi_array):\n",
    "            mpp_list = np.linspace(-j, j, int(2 * j + 1))\n",
    "            U = 0\n",
    "            for mpp in mpp_list:\n",
    "                rot1 = Rotation.D(j, m, mpp, phi, theta, - phi)\n",
    "                rot2 = Rotation.D(j, mpp, mp, phi, -theta, -phi)\n",
    "                Dj_m_mpp = rot1.doit()\n",
    "                Dj_mpp_mp = rot2.doit()\n",
    "                Um_mp = Dj_m_mpp * (exp(-I * mpp * theta_0)) * Dj_mpp_mp\n",
    "                Um_mp = nsimplify(Um_mp)\n",
    "                U += N(Um_mp)\n",
    "            U_jmmp.append(U)\n",
    "        U_jmmp_array = np.array(U_jmmp, dtype='complex')\n",
    "        U_jmmp_arr = np.where(np.isnan(U_jmmp_array), 0, U_jmmp_array)\n",
    "        u_jmmp = np.dot((f_cut_arr*U_jmmp_arr),(w_ik_arr*delta_arr))\n",
    "        return u_jmmp"
   ],
   "metadata": {
    "collapsed": false,
    "pycharm": {
     "name": "#%%\n"
    }
   }
  },
  {
   "cell_type": "markdown",
   "source": [
    "**Comment:**\n",
    "Because  $U_{j,m,m'}(0,0,0) = 0$  so we ignore self contribution $w_{\\mu_i\\mu}^{self}$.\n",
    "We simplify:\n",
    "$$\n",
    "\\begin{align*} u_{j,m,m'}^{\\mu} &= w^{self}_{\\mu_i \\mu} U_{j,m,m'}(0,0,0) \\\\ & + \\displaystyle\\sum_{r_{ik}<R_{cut}^{\\mu_i\\mu_k}} f_c(r_{ik};R_{cut}^{\\mu_i\\mu_k})w_{{\\mu}_k}U_{m,m'}^{j}(\\theta_{0},\\theta, \\phi) \\delta_{\\mu\\mu_k} \\end{align*}\n",
    "$$\n",
    "to\n",
    "$$\n",
    "u_{j,m,m'}^{\\mu} =  \\displaystyle\\sum_{r_{ik}<R_{cut}^{\\mu_i\\mu_k}} f_c(r_{ik};R_{cut}^{\\mu_i\\mu_k})w_{{\\mu}_{ik}}U_{m,m'}^{j}(\\theta_{0},\\theta, \\phi) \\delta_{\\mu\\mu_k}\n",
    "$$"
   ],
   "metadata": {
    "collapsed": false,
    "pycharm": {
     "name": "#%% md\n"
    }
   }
  },
  {
   "cell_type": "markdown",
   "source": [
    "### Compute bispectrum components\n",
    "$$\n",
    "B_(j_1,j_2,j) = \\displaystyle\\sum_{{m,m'= -j}}^j  \\left(u^{\\smash{j}}_{m,m'}\\right)^*\\displaystyle\\sum_{{m_1,m'_1 =-j_1}}^{j_1} \\displaystyle\\sum_{{m_2,m'_2 = -j_2}}^{j_2} H^{jmm'}_{{{j_1}{m_1}{m'_1}} ,{{j_2}{m_2}{m'_2}}}  u^{j_1}_{{m_1},{m_1'}} u^{j_2}_{{m_2},{m_2'}}\n",
    "$$\n",
    "- $C^{jm}_{{j_1}{m_1}{j_2}{m_2}} C^{jm'}_{{j_1}{m'_1}{j_2}{m'_2}} \\equiv H^{jmm'}_{{{j_1}{m_1}{m'_1}} ,{{j_2}{m_2}{m'_2}}}$\n",
    "- $\\displaystyle\\sum_{{m,m'= -j}}^j  \\left(u^{\\smash{j}}_{m,m'}\\right)^*$\n",
    "- $\\displaystyle\\sum_{{m_1,m'_1 =-j_1}}^{j_1} \\displaystyle\\sum_{{m_2,m'_2 = -j_2}}^{j_2} H^{jmm'}_{{{j_1}{m_1}{m'_1}} ,{{j_2}{m_2}{m'_2}}}  u^{j_1}_{{m_1},{m_1'}} u^{j_2}_{{m_2},{m_2'}}$"
   ],
   "metadata": {
    "collapsed": false,
    "pycharm": {
     "name": "#%% md\n"
    }
   }
  },
  {
   "cell_type": "markdown",
   "source": [
    "**Example**: $ j_1=1, j_2=2, j=3 $"
   ],
   "metadata": {
    "collapsed": false,
    "pycharm": {
     "name": "#%% md\n"
    }
   }
  },
  {
   "cell_type": "code",
   "execution_count": 55,
   "outputs": [
    {
     "name": "stdout",
     "output_type": "stream",
     "text": [
      "[-1.0, 0.0, 1.0] [-2.0, -1.0, 0.0, 1.0, 2.0] [-3.0, -2.0, -1.0, 0.0, 1.0, 2.0, 3.0] [-1.0, 0.0, 1.0] [-2.0, -1.0, 0.0, 1.0, 2.0] [-3.0, -2.0, -1.0, 0.0, 1.0, 2.0, 3.0]\n"
     ]
    }
   ],
   "source": [
    "j = 3\n",
    "j1 = 1\n",
    "j2 = 2\n",
    "m = np.linspace(-j, j, int(2 * j + 1)).tolist()\n",
    "mp = np.linspace(-j, j, int(2 * j + 1)).tolist()\n",
    "m1 = np.linspace(-j1, j1, int(2 * j1 + 1)).tolist()\n",
    "m1p = np.linspace(-j1, j1, int(2 * j1 + 1)).tolist()\n",
    "m2 = np.linspace(-j2, j2, int(2 * j2 + 1)).tolist()\n",
    "m2p = np.linspace(-j2, j2, int(2 * j2 + 1)).tolist()\n",
    "print(m1,m2,m,m1p,m2p,mp)"
   ],
   "metadata": {
    "collapsed": false,
    "pycharm": {
     "name": "#%%\n"
    }
   }
  },
  {
   "cell_type": "code",
   "execution_count": 57,
   "outputs": [
    {
     "name": "stdout",
     "output_type": "stream",
     "text": [
      "<itertools.product object at 0x116d80780>\n"
     ]
    }
   ],
   "source": [
    "list_set = itertools.product(m1,m2,m,m1p,m2p,mp)\n",
    "print(list_set)"
   ],
   "metadata": {
    "collapsed": false,
    "pycharm": {
     "name": "#%%\n"
    }
   }
  },
  {
   "cell_type": "markdown",
   "source": [
    "for i in list_set:\n",
    "    m1, m2, m, m1p, m2p, mp = i\n",
    "    j,j1,j2=3,1,2\n",
    "    H = getCoeffH(j1,j2,j,m1,m2,m,m1p,m2p,mp)\n",
    "    if H==0:\n",
    "        pass\n",
    "    else:\n",
    "        u_jmmp = getDensityFunction_u(j, m, mp, w_ik_arr, delta_arr, r_ik_array, 0,\n",
    "                                      R_cut, theta_0_array, theta_array,phi_array)\n",
    "        u1_j1m1m1p = getDensityFunction_u(j1, m1, m1p, w_ik_arr, delta_arr, r_ik_array, 0,\n",
    "                                          R_cut, theta_0_array,theta_array, phi_array)\n",
    "        u2_j2m2m2p = getDensityFunction_u(j2, m2, m2p, w_ik_arr, delta_arr, r_ik_array, 0,\n",
    "                                          R_cut, theta_0_array,theta_array, phi_array)\n",
    "        B_each = np.conj(u_jmmp) * H * (u1_j1m1m1p) * (u2_j2m2m2p)\n",
    "        B = N(B_each)\n",
    "        print(B)"
   ],
   "metadata": {
    "collapsed": false,
    "pycharm": {
     "name": "#%% md\n"
    }
   }
  },
  {
   "cell_type": "markdown",
   "source": [
    "# References\n",
    "---\n",
    "\n",
    "[1] `Thompson, Swiler, Trott, Foiles, Tucker,` ***Spectral neighbor analysis method for automated generation of quantum-accurate interatomic potentials***  (2015) [https://www.osti.gov/biblio/1426894](https://www.osti.gov/biblio/1426894)\n",
    "\n",
    "[2]  `J. K. Mason,` ***The relationship of the hyperspherical harmonics to SO(3), SO(4) and orientation distribution functions***, Acta Cryst A65, 259 (2009)\n",
    "\n",
    "[https://libraryh3lp.com/file/8j46b06z956ega%40web.libraryh3lp.com/1665598079.pdf?t=6sfhoB1XgCcztCUZBmTEDs](https://libraryh3lp.com/file/8j46b06z956ega%40web.libraryh3lp.com/1665598079.pdf?t=6sfhoB1XgCcztCUZBmTEDs)\n",
    "\n",
    "[3] *`A. Bartok, M. C. Payne, K. Risi, G. Csanyi,`**Gaussian approximation potentials: The accuracy of quantum mechanics, without the electrons*** (2010) [https://arxiv.org/pdf/0910.1019.pdf](https://arxiv.org/pdf/0910.1019.pdf)\n",
    "\n",
    "[4] `A V Meremianin,*`  ***Multipole expansions in four-dimensional hyperspherical harmonics,*** J. Phys. A: Math. Gen. 39 3099 (2006) [https://iopscience.iop.org/article/10.1088/0305-4470/39/12/017/pdf?casa_token=YfzEUY2g4jwAAAAA:bqMuUwTRpQXDQEpCSvvwmlFYX6hi0xis-vCqLThjemvfDObHjP7XZw28oexUMra9FGg7AV1FVKvhtzZJn28g](https://iopscience.iop.org/article/10.1088/0305-4470/39/12/017/pdf?casa_token=YfzEUY2g4jwAAAAA:bqMuUwTRpQXDQEpCSvvwmlFYX6hi0xis-vCqLThjemvfDObHjP7XZw28oexUMra9FGg7AV1FVKvhtzZJn28g)\n",
    "\n",
    "[5] *`D.A. Varshalovich, A.N. Moskalev, V.K Khersonskii,` ***Quantum Theory of Angular Momentum*** (1988) [https://library.oapen.org/handle/20.500.12657/50493](https://library.oapen.org/handle/20.500.12657/50493)\n",
    "\n",
    "[6]  *`M. A. Cusentino,  M. A. Wood, A. P. Thompson,`***Explicit Multi-element Extension of the Spectral Neighbor Analysis Potential for Chemically Complex Systems,*** J. Phys. Chem. A,**[](https://pubs.acs.org/action/showCitFormats?doi=10.1021%2Facs.jpca.0c02450&href=/doi/10.1021%2Facs.jpca.0c02450)** 124, 26, 5456–5464 (2020) [https://doi.org/10.1021/acs.jpca.0c02450](https://doi.org/10.1021/acs.jpca.0c02450)\n",
    "\n",
    "[7] `*LAMMPS,*` ***Compute sna/atom command,*** [https://docs.lammps.org/compute_sna_atom.html](https://docs.lammps.org/compute_sna_atom.html)\n",
    "\n",
    "*[8] `Kyushin, S., Kurosaki, Y., Otsuka, K. et al.` ***Silicon–silicon π single bond*** Nat Commun* **11**, 4009 (2020). https://doi.org/10.1038/s41467-020-17815-z"
   ],
   "metadata": {
    "collapsed": false,
    "pycharm": {
     "name": "#%% md\n"
    }
   }
  },
  {
   "cell_type": "code",
   "execution_count": null,
   "outputs": [],
   "source": [],
   "metadata": {
    "collapsed": false,
    "pycharm": {
     "name": "#%%\n"
    }
   }
  }
 ],
 "metadata": {
  "kernelspec": {
   "display_name": "Python 3",
   "language": "python",
   "name": "python3"
  },
  "language_info": {
   "codemirror_mode": {
    "name": "ipython",
    "version": 2
   },
   "file_extension": ".py",
   "mimetype": "text/x-python",
   "name": "python",
   "nbconvert_exporter": "python",
   "pygments_lexer": "ipython2",
   "version": "2.7.6"
  }
 },
 "nbformat": 4,
 "nbformat_minor": 0
}